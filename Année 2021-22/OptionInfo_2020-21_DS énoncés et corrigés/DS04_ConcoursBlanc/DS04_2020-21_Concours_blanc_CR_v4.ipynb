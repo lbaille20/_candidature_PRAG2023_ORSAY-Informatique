{
 "cells": [
  {
   "cell_type": "markdown",
   "metadata": {},
   "source": [
    "## CCINP 2018 - Informatique MP option - Partie I"
   ]
  },
  {
   "cell_type": "markdown",
   "metadata": {},
   "source": [
    "* Lien vers l'énoncé :  http://www.concours-commun-inp.fr/_resources/annales%2520%25C3%25A9crits/MP/2015/MP-Info.pdf?download=true\n",
    "* Lien vers le rapport du jury : http://www.concours-commun-inp.fr/_resources/annales%2520%25C3%25A9crits/MP/2015/mp_rapport_ecrit_info.pdf?download=true"
   ]
  },
  {
   "cell_type": "markdown",
   "metadata": {},
   "source": [
    "### Partie I - Logique et calcul des propositions"
   ]
  },
  {
   "cell_type": "markdown",
   "metadata": {},
   "source": [
    "#### I.1 - Première épreuve"
   ]
  },
  {
   "cell_type": "markdown",
   "metadata": {},
   "source": [
    "Jean-Pierre Pendule, le célèbre animateur, vous accueille pour la première épreuve. Il vous explique\n",
    "la règle du jeu. Devant vous, deux boîtes et sur chacune d’entre elles une inscription. Chacune des\n",
    "boîtes contient soit une clé verte, soit une clé rouge. Vous devez choisir l’une des boîtes : si le résultat\n",
    "est une clé rouge, alors vous quittez le jeu, si c’est une clé verte vous êtes qualifié(e) pour l’épreuve\n",
    "suivante.<br/>\n",
    "Jean-Pierre Pendule dévoile les inscriptions sur chacune des boîtes et vous affirme qu’elles sont soit\n",
    "vraies toutes les deux, soit fausses toutes les deux :  \n",
    "\n",
    "— sur la boîte 1, il est écrit : \"Une au moins des deux boîtes contient une clé verte\" ;  \n",
    "— sur la boîte 2, il est écrit : \"Il y a une clé rouge dans l’autre boîte\".  \n",
    "\n",
    "Dans toute cette partie, on note $P_i$ la proposition affirmant qu’il y a une clé <b>verte</b> dans la boîte $i$."
   ]
  },
  {
   "cell_type": "markdown",
   "metadata": {},
   "source": [
    "Pour faire le lien avec le cours, il y a deux variables propositionnelles dans ce problème : $v_1$ et $v_2$, correspondant respectivement au fait qu'il y ait, ou non, une clé verte dans la boîte $1$ ou la boîte $2$."
   ]
  },
  {
   "cell_type": "markdown",
   "metadata": {},
   "source": [
    "$P_i$ désignant la proposition affirmant qu'il y a une clé verte dans  la boîte $i$, on a :   \n",
    "$$P_1=v_1 \\text{ et } P_2 = v_2.$$"
   ]
  },
  {
   "cell_type": "markdown",
   "metadata": {},
   "source": [
    "**On notera que toutes les distributions de vérités sur l'ensemble de variables $\\mathcal V=\\{v_1, v_2\\}$ ne sont pas permises**.  Si l'énoncé n'exclut pas formellement que les deux boîtes contiennent une clé verte, pour que le jeu ne soit pas truqué, il faut en revanche exclure que les deux boîtes contiennent toutes deux une clé rouge.  \n",
    "Les distributions de vérité envisageables, ***compatibles avec un jeu non truqué***, sont donc, pour le couple $(v_1, v_2)$ : $\\quad (0;1), (1;0) \\text{ et } (1;1)$.  \n",
    "Ceci étant dit, pour aborder la partie **I.1**, on imaginera que la distribution selon laquelle $v_1$ et $v_2$ sont toutes deux fausses reste envisageable, car sinon l'inscription sur la boîte 1, pourrait être d'emblée tenu pour fausse."
   ]
  },
  {
   "cell_type": "markdown",
   "metadata": {},
   "source": [
    "**Q1.** Donner une formule de la logique des propositions représentant la phrase écrite sur la boîte $1$."
   ]
  },
  {
   "cell_type": "markdown",
   "metadata": {},
   "source": [
    "On note $\\phi_1$ la formule de la logique des propositions représentant la phrase écrite sur la boîte $1$, selon laquelle &laquo;au moins une des deux boîtes contient une clé verte&raquo; *i.e.* selon laquelle $P_1$ ou $P_2$ est vraie.  \n",
    "On a donc :\n",
    "$$\\phi_1=P_1\\vee P_2.$$"
   ]
  },
  {
   "cell_type": "markdown",
   "metadata": {},
   "source": [
    "**Q2.** Donner de même une formule de la logique des propositions pour l’inscription de la boîte $2$."
   ]
  },
  {
   "cell_type": "markdown",
   "metadata": {},
   "source": [
    "On note $\\phi_2$ la formule propositionnelle représentant la phrase écrite sur la boîte $2$, selon laquelle &laquo;il y a une clé rouge dans l'autre boîte&raquo; *i.e.* selon laquelle $\\neg P_1$ est vraie.  \n",
    "On a donc :\n",
    "$$\\phi_2=\\neg P_1.$$"
   ]
  },
  {
   "cell_type": "markdown",
   "metadata": {},
   "source": [
    "**Q3.** Donner une formule représentant l’affirmation de l’animateur. Simplifier cette formule de sorte\n",
    "à n’obtenir qu’une seule occurrence de chaque $P_i$."
   ]
  },
  {
   "cell_type": "markdown",
   "metadata": {},
   "source": [
    "* L'animateur affirme que les formules $\\phi_1$ et $\\phi_2$ sont, soit &laquo;vraies toutes les deux&raquo;, soit &laquo;fausses toutes les deux&raquo;.  \n",
    "En conséquence, une formule réprésentant cette affirmation est :\n",
    "$$\\phi_a=\\left(\\phi_1\\wedge \\phi_2\\right)\\vee\\left(\\neg \\phi_1\\wedge \\neg \\phi_2\\right)\n",
    "$$"
   ]
  },
  {
   "cell_type": "markdown",
   "metadata": {},
   "source": [
    "<i><u>Note</u> :</i> &ensp; en appliquant la double distributivité de $\\vee$ par rapport à $\\wedge$, on obtient la réécriture suivante  \n",
    "$$\n",
    "\\left(\\phi_1\\wedge \\phi_2\\right)\\vee\\left(\\neg \\phi_1\\wedge \\neg \\phi_2\\right)\n",
    "\\equiv\n",
    "\\left(\\phi_1\\vee \\neg \\phi_1\\right)\n",
    "\\wedge\n",
    "\\left(\\phi_1\\vee \\neg \\phi_2\\right)\n",
    "\\wedge\n",
    "\\left(\\phi_2\\vee \\neg \\phi_1\\right)\n",
    "\\wedge\n",
    "\\left(\\phi_2\\vee \\neg \\phi_2\\right)\n",
    "$$\n",
    "ce qui donne, utilisant que $\\phi_1\\vee \\neg \\phi_1\\equiv \\top$ et  $\\phi_2\\vee \\neg \\phi_2\\equiv \\top$ :  \n",
    "$$\\phi_a\\equiv\n",
    "\\left(\\phi_1\\wedge \\phi_2\\right)\\vee\\left(\\neg \\phi_1\\wedge \\neg \\phi_2\\right)\n",
    "=\n",
    "\\left(\\phi_1\\vee \\neg \\phi_2\\right)\n",
    "\\wedge\n",
    "\\left(\\phi_2\\vee \\neg \\phi_1\\right)\n",
    "$$\n",
    "\n",
    "*On remarquera que la formule $\\left(\\phi_1\\wedge \\phi_2\\right)\\vee\\left(\\neg \\phi_1\\wedge \\neg \\phi_2\\right)$ traduit que $\\phi_1$ et $\\phi_2$ ne peuvent qu'être vraies ou fausses toutes deux ensemble, ce qui correspond bien au résultat du calcul selon lequel $\\phi_a$ est sémantiquement équivalente à\n",
    "$\\left(\\phi_1\\vee \\neg \\phi_2\\right)\n",
    "\\wedge\n",
    "\\left(\\phi_2\\vee \\neg \\phi_1\\right)$, c'est-à-dire à\n",
    "$\n",
    "\\left(\\phi_2\\Rightarrow  \\phi_1\\right)\n",
    "\\wedge\n",
    "\\left(\\phi_1\\Rightarrow  \\phi_2\\right)$\n",
    "<i>i.e.</i> à\n",
    "$\\phi_1 \\Leftrightarrow \\phi_2$*."
   ]
  },
  {
   "cell_type": "markdown",
   "metadata": {},
   "source": [
    "Reprenons néanmoins à partir de l'égalité $(4)$, et de $\\phi_1=P_1\\vee P_2$, et $\\phi_2=\\neg P_1$."
   ]
  },
  {
   "cell_type": "markdown",
   "metadata": {},
   "source": [
    "On a d'une part, en distribuant $\\neg P_1$, et sachant que $P_1 \\wedge \\neg P_1=\\bot$ :  \n",
    "$$\n",
    "\\phi_1\\wedge \\phi_2 = \\left(P_1 \\vee P_2\\right) \\wedge \\left(\\neg P_1\\right)\\equiv\n",
    "\\left(P_1 \\wedge \\neg P_1\\right)\\vee\\left(P_2 \\wedge \\neg P_1\\right)\n",
    "\\equiv\n",
    "\\bot \\vee\\left(P_2 \\wedge \\neg P_1\\right)\n",
    "\\equiv\n",
    "P_2 \\wedge \\neg P_1.\n",
    "$$"
   ]
  },
  {
   "cell_type": "markdown",
   "metadata": {},
   "source": [
    "et d'autre part $\\neg \\phi_1\\wedge \\neg \\phi_2 = \\neg \\left(P_1 \\vee P_2\\right) \\wedge \\neg \\left(\\neg P_1\\right)$,\n",
    "et donc, en appliquant les lois de De Morgan et $\\neg \\left(\\neg P_1\\right)=P_1$ :  \n",
    "$$\n",
    "\\neg \\phi_1\\wedge \\neg \\phi_2 \\equiv\n",
    "\\neg \\left(P_1 \\vee P_2\\right) \\wedge \\neg \\left(\\neg P_1\\right)\n",
    "\\equiv\n",
    "\\left(\\neg P_1 \\wedge \\neg P_2\\right) \\wedge P_1\n",
    "\\equiv\n",
    "\\neg P_1 \\wedge \\neg P_2 \\wedge P_1\n",
    "\\equiv\n",
    "\\neg P_1 \\wedge P_1 \\wedge \\neg P_2\n",
    "\\equiv\n",
    "\\left(\\neg P_1 \\wedge P_1\\right) \\wedge \\neg P_2\n",
    "\\equiv\n",
    "\\bot \\wedge \\neg P_2\n",
    "\\equiv\n",
    "\\bot.\n",
    "$$"
   ]
  },
  {
   "cell_type": "markdown",
   "metadata": {},
   "source": [
    "On en conclut que $(4)$, en vertu de $(7)$ et $(8)$ :  \n",
    "$$\n",
    "\\phi_a=\\left(\\phi_1\\wedge \\phi_2\\right)\\vee\\left(\\neg \\phi_1\\wedge \\neg \\phi_2\\right)\n",
    "\\equiv\n",
    "\\left( P_2 \\wedge \\neg P_1 \\right) \\vee \\bot \n",
    "\\equiv\n",
    "P_2 \\wedge \\neg P_1\n",
    "\\equiv\n",
    "\\neg P_1 \\wedge P_2\n",
    "$$"
   ]
  },
  {
   "cell_type": "markdown",
   "metadata": {},
   "source": [
    "**Q4.**"
   ]
  },
  {
   "cell_type": "markdown",
   "metadata": {},
   "source": [
    "Pour continuer le jeu à coup sûr, il faut absolument désigner la boîte qui contient la clé verte.  \n",
    "En supposant (hypothèse de l'exercice, non explicitée) que l'animateur ne ment pas, il s'agit d'examiner toutes les distributions de vérités possibles sur l'ensemble de variables $\\{v_1, v_2\\}$ afin de savoir s'il n'en existe qu'une pour laquelle l'affirmation de l'animateur est évaluée à \"VRAI\"."
   ]
  },
  {
   "cell_type": "markdown",
   "metadata": {},
   "source": [
    "<table style=\"border:2px solid black;border:border-collapse:collapse\">\n",
    "<tbody>\n",
    "<tr style=\"border:2px solid black;background-color:lightgrey;\">\n",
    "<td style=\"border:2px solid black;width:50px;text-align:center;\">$v_1$</td>\n",
    "<td style=\"border:2px solid black;width:50px;text-align:center;\">$v_2$</td>\n",
    "<td style=\"border:2px solid black;width:50px;text-align:center;\">$\\neg P_1$</td>\n",
    "<td style=\"border:2px solid black;width:50px;text-align:center;\">$P_2$</td>\n",
    "<td style=\"border:2px solid black;width:150px;text-align:center;\">$\\phi_a\\equiv\\neg P_1 \\wedge P_2$</td>\n",
    "</tr>\n",
    "<tr style=\"border:2px solid black;background-color:white;\">\n",
    "<td style=\"border:2px solid black;text-align:center;\">1</td>\n",
    "<td style=\"border:2px solid black;text-align:center;\">1</td>\n",
    "<td style=\"border:2px solid black;text-align:center;\">0</td>\n",
    "<td style=\"border:2px solid black;text-align:center;\">1</td>\n",
    "<td style=\"border:2px solid black;text-align:center;\">0</td>\n",
    "</tr>\n",
    "<tr style=\"border:2px solid black;background-color:white;\">\n",
    "<td style=\"border:2px solid black;text-align:center;\">1</td>\n",
    "<td style=\"border:2px solid black;text-align:center;\">0</td>\n",
    "<td style=\"border:2px solid black;text-align:center;\">0</td>\n",
    "<td style=\"border:2px solid black;text-align:center;\">1</td>\n",
    "<td style=\"border:2px solid black;text-align:center;\">0</td>\n",
    "</tr>\n",
    "<tr style=\"border:2px solid black;background-color:#fce501;color:red;font-weight:bold\">\n",
    "<td style=\"border:2px solid black;text-align:center;\">0</td>\n",
    "<td style=\"border:2px solid black;text-align:center;\">1</td>\n",
    "<td style=\"border:2px solid black;text-align:center;\">1</td>\n",
    "<td style=\"border:2px solid black;text-align:center;\">1</td>\n",
    "<td style=\"border:2px solid black;text-align:center;\">1</td>\n",
    "</tr>\n",
    "<tr style=\"border:2px solid black;background-color:white;\">\n",
    "<td style=\"border:2px solid black;text-align:center;\">0</td>\n",
    "<td style=\"border:2px solid black;text-align:center;\">0</td>\n",
    "<td style=\"border:2px solid black;text-align:center;\">1</td>\n",
    "<td style=\"border:2px solid black;text-align:center;\">0</td>\n",
    "<td style=\"border:2px solid black;text-align:center;\">0</td>\n",
    "</tr>\n",
    "</tbody>\n",
    "</table>"
   ]
  },
  {
   "cell_type": "markdown",
   "metadata": {},
   "source": [
    "On constate qu'effectivement il n'existe qu'une et une seule distribution de vérité pour laquelle l'affirmation de l'animateur est vraie, et il s'agit de la distribution suivante :  \n",
    "$$(v_1, v_2)=(0, 1)$$\n",
    "qui traduit le fait que **la boîte $1$ contient une clé rouge et la boîte $2$ une clé verte**.  \n",
    "  \n",
    "On doit **choisir la boîte $2$ pour continuer le jeur à coup sûr**."
   ]
  },
  {
   "cell_type": "markdown",
   "metadata": {},
   "source": [
    "*Note :* la construction de la table de vérité est superflue dans la mesure où il est connu qu'une conjonction n'est évaluée à 1 que si ses deux termes valent 1. $\\phi_a\n",
    "\\equiv\n",
    "\\neg P_1 \\wedge P_2$ est donc évaluée à 1 si et et seulement si $P_1$ est évaluée à 0 et $P_2$ à 1.  "
   ]
  },
  {
   "cell_type": "markdown",
   "metadata": {},
   "source": [
    "**Remarque :** il est explicitement demandé de mettre en œuvre le calcul propositionnel pour répondre à la question, cependant, à titre de vérification, on pourra tenir le raisonnement suivant.  \n",
    "On sait, supposant que l'animateur dit vrai, que soit les deux inscriptions sont vraies toutes deux, soit fausses toutes deux.  \n",
    "* si les inscriptions sont toutes deux vraies :  \n",
    "    - alors l'inscription sur la boîte 2, &laquo;Il y a une clé rouge dans l’autre boîte&raquo;, indique qu'il y a une clé rouge dans la boîte 1 ;  \n",
    "    - et selon l'inscription sur la boîte 1, &laquo;Une au moins des deux boîtes contient une clé verte&raquo;, on en déduit que la boîte 2 contient une clé verte.  \n",
    "* si les inscriptions sont toutes deux fausses :  \n",
    "    - alors l'inscription sur la boîte 2, &laquo;Il y a une clé rouge dans l’autre boîte&raquo; dont on sait qu'elle est fausse, indique qu'il y a une clé verte dans la boîte 1 ;  \n",
    "    - par ailleurs, l'inscription sur la boîte 1, &laquo;Une au moins des deux boîtes contient une clé verte&raquo; étant fausse, indique qu'&laquo;auncune des deux boîtes ne contient de clé verte&raquo;, on en déduit que la seconde hypothèse n'est pas vérifiée puisqu'elle aboutit à une contradiction (il y a et il n'y a pas de clé verte dans la boîte 1).  \n",
    "  \n",
    "En conclusion, étant exclu que les inscriptions sont fausses toutes deux, elles sont vraies toutes deux et il en découle que la boîte 1 renferme une clé rouge et la boîte 2 une clé verte.  \n",
    "Le candidat doit donc choisir la boîte 2 pour poursuivre le jeu."
   ]
  },
  {
   "cell_type": "markdown",
   "metadata": {},
   "source": [
    "**Q5.**"
   ]
  },
  {
   "cell_type": "markdown",
   "metadata": {},
   "source": [
    "**Rappelons préliminairement que les mots &laquo; ou bien &raquo; dénotent un &laquo; OU exclusif &raquo;** (ce qui est à prendre comme une convention de la langue française)."
   ]
  },
  {
   "cell_type": "markdown",
   "metadata": {},
   "source": [
    "***Note :*** *il y a une solution à l'exercice si l'on comprend ce &laquo; ou bien &raquo; comme un &laquo; OU &raquo; inclusif, mais elle est différente et conduit à déduire que les deux boîtes contiennent une clé verte.*"
   ]
  },
  {
   "cell_type": "markdown",
   "metadata": {},
   "source": [
    "On rappelle (*cf.* cours) que l'opérateur logique &laquo; OU exclusif &raquo;, noté ici $\\oplus$, admet les deux écritures suivantes en fonction des opérateurs usuels :\n",
    "$$\n",
    "a \\oplus b = \\left( a \\vee b \\right) \\wedge \\neg \\left( a \\wedge b \\right)\n",
    "\\; \\text{  ou  }  \\;\n",
    "a \\oplus b = \\left( a \\wedge \\neg b \\right) \\vee \\left( \\neg a \\wedge b \\right)\n",
    "$$"
   ]
  },
  {
   "cell_type": "markdown",
   "metadata": {},
   "source": [
    "* L'inscription sur la boîte 1, &laquo;Il y a une clé rouge dans cette boîte, ou bien il y a une clé verte\n",
    "dans la boîte 2&raquo; se traduit, en utilisant la seconde expression (plus immédiate à appliquer compte tenu de la forme de ses opérandes sur l'exemple), par la formule logique suivante :\n",
    "$$\n",
    "\\phi_1' = \\neg v_1 \\oplus v_2\\equiv \\neg P_1 \\oplus P_2\n",
    "\\equiv\n",
    "\\left( \\left(\\neg P_1\\right) \\wedge \\neg \\left(P_2\\right) \\right)\n",
    "\\vee\n",
    "\\left( \\neg \\left(\\neg P_1\\right) \\wedge \\left(P_2\\right) \\right),\n",
    "$$\n",
    "et finalement par :\n",
    "$$\n",
    "\\phi_1'\\equiv\n",
    "\\left( \\neg P_1 \\wedge \\neg P_2 \\right)\n",
    "\\vee\n",
    "\\left( P_1 \\wedge P_2 \\right).\n",
    "$$"
   ]
  },
  {
   "cell_type": "markdown",
   "metadata": {},
   "source": [
    "* L'inscription sur la boîte 2, &laquo;Il y a une clé verte dans la boîte 1&raquo; se traduit par la formule :\n",
    "$$\n",
    "\\phi_2' = v_1\\equiv P_1.\n",
    "$$"
   ]
  },
  {
   "cell_type": "markdown",
   "metadata": {},
   "source": [
    "**Q6.**"
   ]
  },
  {
   "cell_type": "markdown",
   "metadata": {},
   "source": [
    "La démarche est la même que pour l'analyse de la première épreuve, puisque l'affirmation de l'animateur, par rapport aux inscriptions sur les boîtes est la même.   \n",
    "On la note ici $\\phi_a'=\\left(\\phi'_1\\wedge \\phi'_2\\right)\\vee\\left(\\neg \\phi'_1\\wedge \\neg \\phi'_2\\right)$,"
   ]
  },
  {
   "cell_type": "markdown",
   "metadata": {},
   "source": [
    "Il vient, en substituant $\\phi'_1$ et $\\phi'_2$ à l'aide de $(13)$ et $(14)$ :  \n",
    "$$\n",
    "\\phi_a'\\equiv\n",
    "\\Big(\n",
    "    \\big(\\left( \\neg P_1 \\wedge \\neg P_2 \\right)\n",
    "        \\vee\n",
    "        \\left( P_1 \\wedge P_2 \\right)\\big)\n",
    "\\wedge\n",
    "    P_1\n",
    "\\Big)\n",
    "\\vee\n",
    "\\Big(\\neg\n",
    "    \\big(\\left( \\neg P_1 \\wedge \\neg P_2 \\right)\n",
    "        \\vee\n",
    "        \\left( P_1 \\wedge P_2 \\right)\\big)\n",
    "\\wedge\n",
    "    \\neg P_1\n",
    "\\Big)\n",
    "$$"
   ]
  },
  {
   "cell_type": "markdown",
   "metadata": {},
   "source": [
    "* on traite la première parenthèse en distribuant le facteur $P_1$ :\n",
    "$$\n",
    "\\big(\\left( \\neg P_1 \\wedge \\neg P_2 \\right)\n",
    "        \\vee\n",
    "        \\left( P_1 \\wedge P_2 \\right)\\big) \\wedge P_1\n",
    "\\equiv\n",
    "\\left( \\neg P_1 \\wedge \\neg P_2 \\wedge P_1\\right)\n",
    "        \\vee\n",
    "        \\left( P_1 \\wedge P_2 \\wedge P_1\\right)\n",
    "$$\n",
    "soit encore :\n",
    "$$\n",
    "\\big(\\left( \\neg P_1 \\wedge \\neg P_2 \\right)\n",
    "        \\vee\n",
    "        \\left( P_1 \\wedge P_2 \\right)\\big) \\wedge P_1\n",
    "\\equiv\n",
    "\\big( \\left(\\neg P_1 \\wedge P_1\\right)\\wedge \\neg P_2 \\big)\n",
    "        \\vee\n",
    "        \\big( \\left(P_1 \\wedge P_1\\right)\\wedge P_2 \\big)\n",
    "\\equiv\n",
    "\\left(\\bot\\wedge \\neg P_2 \\right)\n",
    "        \\vee\n",
    "        \\left(P_1 \\wedge P_2 \\right)\n",
    "\\equiv\n",
    "\\bot\n",
    "        \\vee\n",
    "        \\left(P_1 \\wedge P_2 \\right)\n",
    "$$\n",
    "et donc enfin :\n",
    "$$\n",
    "\\big(\\left( \\neg P_1 \\wedge \\neg P_2 \\right)\n",
    "        \\vee\n",
    "        \\left( P_1 \\wedge P_2 \\right)\\big) \\wedge P_1\n",
    "\\equiv\n",
    "        P_1 \\wedge P_2\n",
    "$$"
   ]
  },
  {
   "cell_type": "markdown",
   "metadata": {},
   "source": [
    "* on traite la seconde parenthèse en appliquant les lois de De Morgan :\n",
    "$$\n",
    "\\neg\n",
    "    \\big(\\left( \\neg P_1 \\wedge \\neg P_2 \\right)\n",
    "        \\vee\n",
    "        \\left( P_1 \\wedge P_2 \\right)\\big)\n",
    "\\wedge\n",
    "    \\neg P_1\n",
    "\\equiv\n",
    "\\big(\\neg \\left( \\neg P_1 \\wedge \\neg P_2 \\right)\n",
    "        \\wedge\n",
    "        \\neg \\left( P_1 \\wedge P_2 \\right)\\big)\n",
    "\\wedge\n",
    "    \\neg P_1\n",
    "\\equiv\n",
    "\\big(\\left( P_1 \\vee P_2 \\right)\n",
    "        \\wedge\n",
    "        \\left(\\neg  P_1 \\vee \\neg P_2 \\right)\\big)\n",
    "\\wedge\n",
    "    \\neg P_1\n",
    "$$\n",
    "puis en distribuant le facteur $\\neg P_1$ dans la première parenthèse :\n",
    "$$\n",
    "\\neg\n",
    "    \\big(\\left( \\neg P_1 \\wedge \\neg P_2 \\right)\n",
    "        \\vee\n",
    "        \\left( P_1 \\wedge P_2 \\right)\\big)\n",
    "\\wedge\n",
    "    \\neg P_1\n",
    "\\equiv\n",
    "\\big(\\left( P_1 \\vee P_2 \\right)\\wedge \\neg P_1\\big)\n",
    "        \\wedge\n",
    "        \\left(\\neg  P_1 \\vee \\neg P_2 \\right)\n",
    "\\equiv\n",
    "\\big(\\left( P_1 \\wedge \\neg P_1\\right) \\vee \\left( P_2\\wedge \\neg P_1 \\right)\\big)\n",
    "        \\wedge\n",
    "        \\left(\\neg  P_1 \\vee \\neg P_2 \\right)\n",
    "$$\n",
    "on a alors les simplifications suivantes :\n",
    "$$\n",
    "\\neg\n",
    "    \\big(\\left( \\neg P_1 \\wedge \\neg P_2 \\right)\n",
    "        \\vee\n",
    "        \\left( P_1 \\wedge P_2 \\right)\\big)\n",
    "\\wedge\n",
    "    \\neg P_1\n",
    "\\equiv\n",
    "\\big(\\bot \\vee \\left( P_2\\wedge \\neg P_1 \\right)\\big)\n",
    "        \\wedge\n",
    "        \\left(\\neg  P_1 \\vee \\neg P_2 \\right)\n",
    "\\equiv\n",
    "\\left( P_2\\wedge \\neg P_1 \\right)\n",
    "        \\wedge\n",
    "        \\left(\\neg  P_1 \\vee \\neg P_2 \\right)\n",
    "$$\n",
    "et l'on peut poursuivre en distribuant le facteur $P_2\\wedge \\neg P_1$ :\n",
    "$$\n",
    "\\neg\n",
    "    \\big(\\left( \\neg P_1 \\wedge \\neg P_2 \\right)\n",
    "        \\vee\n",
    "        \\left( P_1 \\wedge P_2 \\right)\\big)\n",
    "\\wedge\n",
    "    \\neg P_1\n",
    "\\equiv\n",
    "\\left(P_2\\wedge \\neg P_1\\wedge  \\neg  P_1 \\right)\\vee \\left(P_2\\wedge \\neg P_1\\wedge  \\neg P_2 \\right)\n",
    "\\equiv\n",
    "\\big(P_2\\wedge \\left(\\neg P_1 \\wedge  \\neg  P_1\\right)\\big)\\vee \\big(\\left(P_2\\wedge \\neg P_2\\right)\\wedge  \\neg P_1 \\big)\n",
    "\\equiv\n",
    "\\big(P_2\\wedge \\left(\\neg P_1 \\right)\\big)\\vee \\big(\\left(\\bot\\right)\\wedge  \\neg P_1 \\big)\n",
    "\\equiv\n",
    "\\left(P_2\\wedge \\neg P_1 \\right) \\vee \\bot\n",
    "$$\n",
    "d'où l'expression finale de la parenthèse de droite :\n",
    "$$\n",
    "\\neg\n",
    "    \\big(\\left( \\neg P_1 \\wedge \\neg P_2 \\right)\n",
    "        \\vee\n",
    "        \\left( P_1 \\wedge P_2 \\right)\\big)\n",
    "\\wedge\n",
    "    \\neg P_1\n",
    "    \\equiv\n",
    "P_2\\wedge \\neg P_1.\n",
    "$$"
   ]
  },
  {
   "cell_type": "markdown",
   "metadata": {},
   "source": [
    "En reprenant $(18)$ et $(23)$, on a :\n",
    "$$\n",
    "\\phi'_a\n",
    "\\equiv\n",
    "\\left(P_1 \\wedge P_2\\right)\n",
    "\\vee\n",
    "\\left( P_2\\wedge \\neg P_1 \\right)\n",
    "$$\n",
    "et en factorisant par $P_2$ :\n",
    "$$\n",
    "\\phi'_a\n",
    "\\equiv\n",
    "P_2 \\wedge \\left( P_1 \\vee \\neg P_1 \\right)\n",
    "\\equiv\n",
    "P_2 \\wedge \\top\n",
    "\\equiv\n",
    "P_2\n",
    "$$"
   ]
  },
  {
   "cell_type": "markdown",
   "metadata": {},
   "source": [
    "On en conclut, sachant que pour la distribution de vérité sur l'ensemble de variable $(v_1, v_2)$ - correspondant au contenu réel des deux boîtes, $\\phi'_a$ doit être évaluée à 1 (l'animateur ne ment pas), que $P_2$ est vraie.  \n",
    "Le candidat doit donc choisir la boîte 2 pour remporter la deuxième clé verte."
   ]
  },
  {
   "cell_type": "markdown",
   "metadata": {},
   "source": [
    "**Il est aussi envisageable de répondre à la question par la production, d'emblée, d'une table de vérité de $\\phi'_a$**, en effet l'énoncé ne demande pas cette fois explicitement de mettre en œuvre le calcul propositionnel."
   ]
  },
  {
   "cell_type": "markdown",
   "metadata": {},
   "source": [
    "Pour cela on utilisera l'expression $(13)$, $\n",
    "\\phi_1'\\equiv \\left( \\neg P_1 \\wedge \\neg P_2 \\right) \\vee \\left( P_1 \\wedge P_2 \\right).\n",
    "$ selon laquelle $\\phi'_1$ est évaluée à 1 si et seulement si $P_1$ et $P_2$ ont la même valeur de vérité, et le fait que $\\phi'_2\\equiv P_1$.  \n",
    "Par ailleurs, puisqu'aussi $\\phi_a'=\\left(\\phi'_1\\wedge \\phi'_2\\right)\\vee\\left(\\neg \\phi'_1\\wedge \\neg \\phi'_2\\right)$, on pourra utiliser de même que $\\phi_a'$ est évaluée à 1 si et seulement si $\\phi'_1$ et $\\phi'_2$ ont la même valeur de vérité. "
   ]
  },
  {
   "cell_type": "markdown",
   "metadata": {},
   "source": [
    "D'où la table de vérité suivante :"
   ]
  },
  {
   "cell_type": "markdown",
   "metadata": {},
   "source": [
    "<table style=\"border:2px solid black;border:border-collapse:collapse\">\n",
    "<tbody>\n",
    "<tr style=\"border:2px solid black;background-color:lightgrey;\">\n",
    "<td style=\"border:2px solid black;width:50px;text-align:center;\">$v_1$</td>\n",
    "<td style=\"border:2px solid black;width:50px;text-align:center;\">$v_2$</td>\n",
    "<td style=\"border:2px solid black;width:200px;text-align:center;\">$\\phi_1'\\equiv \\left( \\neg P_1 \\wedge \\neg P_2 \\right) \\vee \\left( P_1 \\wedge P_2 \\right)$</td>\n",
    "<td style=\"border:2px solid black;width:110px;text-align:center;\">$\\phi'_2=P_1$</td>\n",
    "<td style=\"border:2px solid black;width:210px;text-align:center;\">$\\phi'_a=\\left(\n",
    "                                                                               \\phi'_1 \\wedge \\phi'_2\n",
    "                                                                           \\right)\n",
    "                                                                           \\vee\n",
    "                                                                           \\left(\n",
    "                                                                               \\neg \\phi'_1 \\wedge \\neg \\phi'_2\n",
    "                                                                           \\right)\n",
    "                                                                           $</td>\n",
    "</tr>\n",
    "<tr style=\"border:2px solid black;background-color:#fce501;color:red;font-weight:bold\">\n",
    "<td style=\"border:2px solid black;text-align:center;\">1</td>\n",
    "<td style=\"border:2px solid black;text-align:center;\">1</td>\n",
    "<td style=\"border:2px solid black;text-align:center;\">1</td>\n",
    "<td style=\"border:2px solid black;text-align:center;\">1</td>\n",
    "<td style=\"border:2px solid black;text-align:center;\">1</td>\n",
    "</tr>\n",
    "<tr style=\"border:2px solid black;background-color:white;\">\n",
    "<td style=\"border:2px solid black;text-align:center;\">1</td>\n",
    "<td style=\"border:2px solid black;text-align:center;\">0</td>\n",
    "<td style=\"border:2px solid black;text-align:center;\">0</td>\n",
    "<td style=\"border:2px solid black;text-align:center;\">1</td>\n",
    "<td style=\"border:2px solid black;text-align:center;\">0</td>\n",
    "</tr>\n",
    "<tr style=\"border:2px solid black;background-color:#fce501;color:red;font-weight:bold\">\n",
    "<td style=\"border:2px solid black;text-align:center;\">0</td>\n",
    "<td style=\"border:2px solid black;text-align:center;\">1</td>\n",
    "<td style=\"border:2px solid black;text-align:center;\">0</td>\n",
    "<td style=\"border:2px solid black;text-align:center;\">0</td>\n",
    "<td style=\"border:2px solid black;text-align:center;\">1</td>\n",
    "</tr>\n",
    "<tr style=\"border:2px solid black;background-color:white;text-decoration:line-through\">\n",
    "<td style=\"border:2px solid black;text-align:center;\">  0  </td>\n",
    "<td style=\"border:2px solid black;text-align:center;\">  0  </td>\n",
    "<td style=\"border:2px solid black;text-align:center;\">  1  </td>\n",
    "<td style=\"border:2px solid black;text-align:center;\">  0  </td>\n",
    "<td style=\"border:2px solid black;text-align:center;\">  0  </td>\n",
    "</tr>\n",
    "</tbody>\n",
    "</table>\n",
    "<i><b>Note :</b> les valeurs en dernière ligne ont été barrées car cette dernière distribution de vérité est incompatible avec la règle pour un jeu équitable (il n'y a de clé verte dans aucune des deux boîtes).</i>"
   ]
  },
  {
   "cell_type": "markdown",
   "metadata": {},
   "source": [
    "Cette table de vérité indique que deux distributions de vérité seulement (surlignées en jaune) sont compatibles avec le fait que $\\phi'_a$ doit être évaluée à 1 (l'animateur ne ment pas), il s'agit des distributions dans lesquelle le couple $(v_1,v_2)$ prend les valeurs $(1;1)$ ou $(0;1)$.  \n",
    "Dans les deux cas, il est assuré que $v_2$ prend la valeur 1, aussi est-on assuré que la boîte 2 contient une clé verte (sans que l'on puisse savoir la couleur de la clé dans la boîte 1)."
   ]
  },
  {
   "cell_type": "markdown",
   "metadata": {},
   "source": [
    "**Remarque :** on attend bien sûr que le candidat montre sa capacité à mettre en œuvre le calcul propositionnel, mais, on aura avantage, à titre de vérification, à tenir en parallèle le raisonnement \"usuel\" suivant.  \n",
    "Examinons l'hypothèse selon laquelle les inscriptions sont vraies toutes deux :\n",
    "* alors l'inscription sur la boîte 2, indique qu'il y a une clé verte dans la boîte 1 ;  \n",
    "* l'inscription sur la première boîte, &laquo;Il y a une clé rouge dans cette boîte, ou bien il y a une clé verte\n",
    "dans la boîte 2&raquo; étant vraie, on en déduit qu'il y a une clé verte aussi dans la boîte 2.  \n",
    "\n",
    "Examinons l'hypothèse selon laquelle les inscriptions sont fausses toutes deux :\n",
    "* alors l'inscription sur la boîte 2, &laquo;il y a une clé verte dans la boîte 1&raquo;, étant fausse, indique qu'il y a une clé rouge dans la boîte 1 ;  \n",
    "* l'inscription sur la première boîte étant fausse également, et son contraire$^{(*)}$ indiquant qu'&laquo;il y a une clé verte dans la boîte 1 et une clé rouge dans la boîte 2&raquo; ou qu'&laquo;il y a une clé rouge dans la boîte 1 et une clé verte dans la boîte 2&raquo;, on en déduit que, puisqu'il y a une clé rouge dans la boîte 1, qu'il y a une clé verte dans la boîte 2.\n",
    "  \n",
    "En conclusion, il n'est pas possible de savoir si les deux inscriptions sont toutes deux vraies ou toutes deux fausses, mais dans les deux cas il est assuré qu'il y a une clé verte dans la boîte 2. \n",
    "Le candidat doit donc choisir la boîte 2 pour être sûr de poursuivre l'aventure.  \n",
    "  \n",
    "*Note :* on a utilisé que le contraire d'un OU exclusif est donné par la formule suivante :\n",
    "$$\n",
    "\\neg \\left(a \\oplus b\\right) \\equiv \\neg \\big(\\left( a \\vee b \\right) \\wedge \\neg \\left( a \\wedge b \\right)\\big)\n",
    "\\equiv\n",
    "\\big(\\neg \\left( a \\vee b \\right)\\big)\n",
    "\\vee\n",
    "\\neg \\big(\\neg\\left( a \\wedge b \\right)\\big)\n",
    "\\equiv\n",
    "\\neg \\left( a \\vee b \\right)\n",
    "\\vee\n",
    "\\neg \\big(\\neg\\left( a \\wedge b \\right)\\big)\n",
    "\\equiv\n",
    "\\left( \\neg a \\wedge \\neg b \\right)\n",
    "\\vee\n",
    "\\left( a \\wedge b \\right).\n",
    "$$"
   ]
  },
  {
   "cell_type": "markdown",
   "metadata": {},
   "source": [
    "### Solution si le \"OU\" de la première affirmation est compris comme non exclusif :"
   ]
  },
  {
   "cell_type": "markdown",
   "metadata": {},
   "source": [
    "**Q5.bis** <b><i>[OU non exclusif dans l'affirmation sur la boîte 1]</i></b>"
   ]
  },
  {
   "cell_type": "markdown",
   "metadata": {},
   "source": [
    "L'inscription sur la boîte 1, &laquo;Il y a une clé rouge dans cette boîte, ou bien il y a une clé verte\n",
    "dans la boîte 2&raquo; se traduit par la formule :\n",
    "$$\n",
    "\\phi_1' = \\neg v_1 \\vee v_2\\equiv \\neg P_1 \\vee P_2.\n",
    "$$"
   ]
  },
  {
   "cell_type": "markdown",
   "metadata": {},
   "source": [
    "L'inscription sur la boîte 2, &laquo;Il y a une clé verte dans la boîte 1&raquo; se traduit par la formule :\n",
    "$$\n",
    "\\phi_2' = v_1\\equiv P_1.\n",
    "$$"
   ]
  },
  {
   "cell_type": "markdown",
   "metadata": {},
   "source": [
    "**Q6.bis** <b><i>[OU non exclusif dans l'affirmation sur la boîte 1]</i></b>"
   ]
  },
  {
   "cell_type": "markdown",
   "metadata": {},
   "source": [
    "La démarche est la même, puisque l'affirmation de l'animateur, par rapport aux inscriptions sur les boîte est la même.   \n",
    "On la note ici $\\phi_a'=\\left(\\phi'_1\\wedge \\phi'_2\\right)\\vee\\left(\\neg \\phi'_1\\wedge \\neg \\phi'_2\\right)$."
   ]
  },
  {
   "cell_type": "markdown",
   "metadata": {},
   "source": [
    "En reprenant l'expression de l'affirmation de l'animateur obtenu en $(6)$ :\n",
    "$$\\phi_a'\\equiv\n",
    "\\left(\\phi'_1\\vee \\neg \\phi'_2\\right)\n",
    "\\wedge\n",
    "\\left(\\neg \\phi'_1 \\vee \\phi'_2 \\right),\n",
    "$$\n",
    "il vient, substituant :\n",
    "$$\\phi'_a\\equiv\n",
    "\\left(\n",
    "\\left( \\neg P_1 \\vee P_2 \\right) \\vee \\neg P_1\n",
    "\\right)\n",
    "\\wedge\n",
    "\\left(\n",
    "\\neg \\left( \\neg P_1 \\vee P_2 \\right) \\vee P_1\n",
    "\\right).\n",
    "$$"
   ]
  },
  {
   "cell_type": "markdown",
   "metadata": {},
   "source": [
    "En utilisant l'associativité de $\\vee$ et en simplifiant, dans la parenthèse à gauche, et en appliquant les lois de De Morgan dans la parenthèse à droite :\n",
    "$$\\phi'_a\\equiv\n",
    "\\left(\n",
    "\\neg P_1 \\vee P_2\n",
    "\\right)\n",
    "\\wedge\n",
    "\\left(\n",
    "\\left( P_1 \\wedge \\neg P_2 \\right) \\vee P_1\n",
    "\\right).\n",
    "$$"
   ]
  },
  {
   "cell_type": "markdown",
   "metadata": {},
   "source": [
    "Comme $\\left( P_1 \\wedge \\neg P_2 \\right) \\vee P_1\\equiv P_1$ :\n",
    "$$\n",
    "\\phi'_a\\equiv\n",
    "\\left(\n",
    "\\neg P_1 \\vee P_2\n",
    "\\right)\n",
    "\\wedge\n",
    "P_1\n",
    "\\equiv\n",
    "P_1 \\wedge P_2.\n",
    "$$"
   ]
  },
  {
   "cell_type": "markdown",
   "metadata": {},
   "source": [
    "On en conclut, sachant que pour la distribution de vérité sur l'ensemble de variable $(v_1, v_2)$ - correspondant au contenu réel des deux boîtes, $\\phi'_a$ doit être évaluée à 1 (l'animateur ne ment pas), que $P_1$ et $P_2$ sont vraies.  \n",
    "Les deux boîtes contiennent donc une clé verte, et on peut choisir indifféremment l'une ou l'autre boîte pour remporter la deuxième clé verte."
   ]
  },
  {
   "cell_type": "markdown",
   "metadata": {},
   "source": [
    "**Il est aussi envisageable de répondre à la question par la production, d'emblée, d'une table de vérité de $\\phi'_a$**, en effet l'énoncé ne demande pas cette fois explicitement de mettre en œuvre le calcul propositionnel."
   ]
  },
  {
   "cell_type": "markdown",
   "metadata": {},
   "source": [
    "Sachant que $\\neg P_1 \\vee P_2$ est faux si et seulement si $P_1$ est vrai et $P_2$ est faux, on remplit aisément la troisième colonne."
   ]
  },
  {
   "cell_type": "markdown",
   "metadata": {},
   "source": [
    "<table style=\"border:2px solid black;border:border-collapse:collapse\">\n",
    "<tbody>\n",
    "<tr style=\"border:2px solid black;background-color:lightgrey;\">\n",
    "<td style=\"border:2px solid black;width:50px;text-align:center;\">$v_1$</td>\n",
    "<td style=\"border:2px solid black;width:50px;text-align:center;\">$v_2$</td>\n",
    "<td style=\"border:2px solid black;width:110px;text-align:center;\">$\\phi'_1=\\neg P_1 \\vee P_2$</td>\n",
    "<td style=\"border:2px solid black;width:110px;text-align:center;\">$\\phi'_2=P_1$</td>\n",
    "<td style=\"border:2px solid black;width:90px;text-align:center;\">$\\phi'_1 \\wedge \\phi'_2$</td>\n",
    "<td style=\"border:2px solid black;width:90px;text-align:center;\">$\\neg \\phi'_1 \\wedge \\neg \\phi'_2$</td>\n",
    "<td style=\"border:2px solid black;width:210px;text-align:center;\">$\\phi'_a=\\left(\n",
    "                                                                               \\phi'_1 \\wedge \\phi'_2\n",
    "                                                                           \\right)\n",
    "                                                                           \\vee\n",
    "                                                                           \\left(\n",
    "                                                                               \\neg \\phi'_1 \\wedge \\neg \\phi'_2\n",
    "                                                                           \\right)\n",
    "                                                                           $</td>\n",
    "</tr>\n",
    "<tr style=\"border:2px solid black;background-color:#fce501;color:red;font-weight:bold\">\n",
    "<td style=\"border:2px solid black;text-align:center;\">1</td>\n",
    "<td style=\"border:2px solid black;text-align:center;\">1</td>\n",
    "<td style=\"border:2px solid black;text-align:center;\">1</td>\n",
    "<td style=\"border:2px solid black;text-align:center;\">1</td>\n",
    "<td style=\"border:2px solid black;text-align:center;\">1</td>\n",
    "<td style=\"border:2px solid black;text-align:center;\">0</td>\n",
    "<td style=\"border:2px solid black;text-align:center;\">1</td>\n",
    "</tr>\n",
    "<tr style=\"border:2px solid black;background-color:white;\">\n",
    "<td style=\"border:2px solid black;text-align:center;\">1</td>\n",
    "<td style=\"border:2px solid black;text-align:center;\">0</td>\n",
    "<td style=\"border:2px solid black;text-align:center;\">0</td>\n",
    "<td style=\"border:2px solid black;text-align:center;\">1</td>\n",
    "<td style=\"border:2px solid black;text-align:center;\">0</td>\n",
    "<td style=\"border:2px solid black;text-align:center;\">0</td>\n",
    "<td style=\"border:2px solid black;text-align:center;\">0</td>\n",
    "</tr>\n",
    "<tr style=\"border:2px solid black;background-color:white;\">\n",
    "<td style=\"border:2px solid black;text-align:center;\">0</td>\n",
    "<td style=\"border:2px solid black;text-align:center;\">1</td>\n",
    "<td style=\"border:2px solid black;text-align:center;\">1</td>\n",
    "<td style=\"border:2px solid black;text-align:center;\">0</td>\n",
    "<td style=\"border:2px solid black;text-align:center;\">0</td>\n",
    "<td style=\"border:2px solid black;text-align:center;\">0</td>\n",
    "<td style=\"border:2px solid black;text-align:center;\">0</td>\n",
    "</tr>\n",
    "<tr style=\"border:2px solid black;background-color:white;\">\n",
    "<td style=\"border:2px solid black;text-align:center;\">0</td>\n",
    "<td style=\"border:2px solid black;text-align:center;\">0</td>\n",
    "<td style=\"border:2px solid black;text-align:center;\">1</td>\n",
    "<td style=\"border:2px solid black;text-align:center;\">0</td>\n",
    "<td style=\"border:2px solid black;text-align:center;\">0</td>\n",
    "<td style=\"border:2px solid black;text-align:center;\">0</td>\n",
    "<td style=\"border:2px solid black;text-align:center;\">0</td>\n",
    "</tr>\n",
    "</tbody>\n",
    "</table>"
   ]
  },
  {
   "cell_type": "markdown",
   "metadata": {},
   "source": [
    "**Remarque :** on attend bien sûr que le candidat montre sa capacité à mettre en œuvre le calcul propositionnel, mais, on aura avantage, à titre de vérification, à tenir en parallèle le raisonnement \"usuel\" suivant.  \n",
    "Examinons l'hypothèse selon laquelle les inscriptions sont vraies toutes deux :\n",
    "* alors l'inscription sur la boîte 2, indique qu'il y a une clé verte dans la boîte 1 ;  \n",
    "* l'inscription sur la première boîte, &laquo;Il y a une clé rouge dans cette boîte, ou bien il y a une clé verte\n",
    "dans la boîte 2&raquo; étant vraie, on en déduit qu'il y a une clé verte aussi dans la boîte 2.  \n",
    "\n",
    "Examinons l'hypothèse selon laquelle les inscriptions sont fausses toutes deux :\n",
    "* alors l'inscription sur la boîte 2, &laquo;il y a une clé verte dans la boîte 1&raquo;, étant fausse, indique qu'il y a une clé rouge dans la boîte 1 ;  \n",
    "* l'inscription sur la première boîte étant fausse également, et son contraire indiquant qu'&laquo;il y a une clé verte dans la boîte 1 et une clé rouge dans la boîte 2&raquo;, on en déduit que l'hypothèse conduit à une contradiction (il y a à la fois une clé rouge et une clé verte dans la boîte 1).  \n",
    "\n",
    "En conclusion, la seule possibilité est que les deux inscriptions sont vraies et laissent la place à une seule possibilité selon laquelle les deux boîtes contiennent une clé verte.  \n",
    "On en déduit comme précédemment que l'on peut choisir indiféremment l'une ou l'autre boîte.  "
   ]
  },
  {
   "cell_type": "markdown",
   "metadata": {},
   "source": [
    "**Q7.**"
   ]
  },
  {
   "cell_type": "markdown",
   "metadata": {},
   "source": [
    "Il ne s'agit pas cette fois de travailler avec un univers de trois variables, $v_1$, $v_2$ et $v_3$, dont la valeur de vérité indiquerait si la boîte $i$ contient ou non la clé verte, cette seule information ne suffisant pas à décrire la situation.  "
   ]
  },
  {
   "cell_type": "markdown",
   "metadata": {},
   "source": [
    "On peut en revanche définir six variables, $(v_i)_{1\\leqslant i\\leqslant 3}$ et $(r_i)_{1\\leqslant i\\leqslant 3}$, dont la valeur de vérité indique, respectivement, si la boîte $i$ contient une clé verte ou une clé rouge.  "
   ]
  },
  {
   "cell_type": "markdown",
   "metadata": {},
   "source": [
    "Avec ces définitions, les inscriptions sur les trois boîtes peuvent être traduites par les formules suivantes :  \n",
    "* pour la boîte 1 : $\\psi_1 = \\neg v_3 \\wedge \\neg r_3$ ;  \n",
    "* pour la boîte 2 : $\\psi_2 = r_1$ ;  \n",
    "* pour le boîte 3 : $\\psi_3 = \\neg v_3 \\wedge \\neg r_3$."
   ]
  },
  {
   "cell_type": "markdown",
   "metadata": {},
   "source": [
    "**Notons que,** comme lors des deux premières épreuves où l'ont devait exclure la possibilité que les deux boîtes contiennent toutes deux une clé rouge, **toutes les distributions de vérités sur cet ensemble de variables ne sont pas compatibles avec la règle du jeu.**  \n",
    "En effet, il ne doit y avoir qu'une boîte contenant une clé rouge, une contenant une clé verte, la troisième étant vide."
   ]
  },
  {
   "cell_type": "markdown",
   "metadata": {},
   "source": [
    "Précédemment, il a été inutile de rajouter cette condition (qui se serait exprimée par le fait que $\\neg P1 \\wedge \\neg P_2$ devait être évaluée à 1) pour résoudre le problème.  \n",
    "Nous verrons ici ce qu'il en est, c'est-à-dire s'il faudra ajouter, en plus de la condition selon laquelle l'affirmation de l'animateur doit être évaluée à 1, qu'une formule logique traduisant la condition précédente soit aussi évaluée à 1.  \n",
    "Cette condition limiterait le nombre de distribution de vérité acceptables, égal à $2^6=64$, à $3!=6$."
   ]
  },
  {
   "cell_type": "markdown",
   "metadata": {},
   "source": [
    "**Q8.**"
   ]
  },
  {
   "cell_type": "markdown",
   "metadata": {},
   "source": [
    "Les informations apportées par l'animateur, selon lesquelles &laquo;l’inscription portée sur la boîte contenant la clé verte est vraie, celle portée\n",
    "par la boîte contenant la clé rouge est fausse&raquo; peuvent chacune être traduite par une implication ce qui donne un ensemble de neuf implications, toutes vraies :\n",
    "$$\n",
    "\\forall \\; i \\in [\\![1 ; 3]\\!], \\;\\;\\;\\;\n",
    "v_i \\Rightarrow \\psi_i \\, ; \\; r_i \\Rightarrow \\neg \\psi_i \\, ; \\; \\neg v_i \\wedge \\neg r_i\\Rightarrow \\psi_i.\n",
    "$$"
   ]
  },
  {
   "cell_type": "markdown",
   "metadata": {},
   "source": [
    "La synthèse des ces neuf informations résulte en le fait que la formule :\n",
    "$$\n",
    "\\left(\\bigwedge_{i=1}^3 \\left( v_i \\Rightarrow \\psi_i \\right)\\right)\n",
    "\\wedge\n",
    "\\left(\\bigwedge_{i=1}^3 \\left( r_i \\Rightarrow \\neg \\psi_i \\right)\\right)\n",
    "\\wedge\n",
    "\\left(\\bigwedge_{i=1}^3 \\left( \\left(\\neg v_i \\wedge \\neg r_i\\right) \\Rightarrow \\psi_i \\right)\\right)\n",
    "$$\n",
    "doit être évaluée à 1."
   ]
  },
  {
   "cell_type": "markdown",
   "metadata": {},
   "source": [
    "**Q9.**"
   ]
  },
  {
   "cell_type": "markdown",
   "metadata": {},
   "source": [
    "Si l'on suppose que $v_2$ est vraie (***la boîte 2 contient la clé verte***), alors, parce que $v_2\\Rightarrow \\psi_2$,  \n",
    "on en déduit que $\\psi_2=r_1$ est évaluée à 1 (***la boîte 1 contient la clé rouge***).    \n",
    "Alors, comme $r_1\\Rightarrow \\neg \\psi_1$, il s'ensuit que $\\psi_1$ est évaluée à zéro et donc aussi $\\psi_3$, qui est égale à $\\psi_1$.  \n",
    "Or, le fait que $\\psi_3$ soit fausse (évaluée à zéro) traduit que la boîte 3 n'est pas vide, ce qui est exclu car il a été établi que les boîtes 1 et 2 contenaient les deux seules clés, respectivement rouge et verte, en circulation.  \n",
    "  \n",
    "On conclut donc, par ce raisonnement par l'absurde, que **la clé verte n'est pas dans la boîte 2**."
   ]
  },
  {
   "cell_type": "markdown",
   "metadata": {},
   "source": [
    "**Q10.**"
   ]
  },
  {
   "cell_type": "markdown",
   "metadata": {},
   "source": [
    "Sans écrire la formule logique évoquée en introduction des questions **Q8** et **Q9**, on peut énumérer de façon exhaustive les distributions de vérités sur l'ensemble de variables $\\mathcal V=\\{v_1, r_1, v_2, r_2, v_3, r_3\\}$, qui sont acceptables compte-tenu des règles du jeu (les règles du jeu les réduisent à six), et compte-tenu de qu'il est assuré que la clé verte n'est pas dans la boîte 2 (*cf.* **Q9**), ce qui les réduit désormais à quatre."
   ]
  },
  {
   "cell_type": "markdown",
   "metadata": {},
   "source": [
    "Voici le tableau des évaluations des formules $\\psi_1, \\psi_2$ et $\\psi_3$ pour ces distributions de vérité :"
   ]
  },
  {
   "cell_type": "markdown",
   "metadata": {},
   "source": [
    "<table style=\"border:2px solid black;border:border-collapse:collapse\">\n",
    "<tbody>\n",
    "<tr style=\"border:2px solid black;background-color:lightgrey;\">\n",
    "<td style=\"border:2px solid black;width:50px;text-align:center;\">$v_1$</td>\n",
    "<td style=\"border:2px solid black;width:50px;text-align:center;\">$r_1$</td>\n",
    "<td style=\"border:2px solid black;width:50px;text-align:center;\">$v_2$</td>\n",
    "<td style=\"border:2px solid black;width:50px;text-align:center;\">$r_2$</td>\n",
    "<td style=\"border:2px solid black;width:50px;text-align:center;\">$v_3$</td>\n",
    "<td style=\"border:2px solid black;width:50px;text-align:center;\">$r_3$</td>\n",
    "<td style=\"border:2px solid black;width:170px;text-align:center;\">$\\psi_1\\equiv \\left( \\neg v_3 \\wedge \\neg r_3 \\right)$</td>\n",
    "<td style=\"border:2px solid black;width:170px;text-align:center;\">$\\psi_2\\equiv r_1$</td>\n",
    "<td style=\"border:2px solid black;width:170px;text-align:center;\">$\\psi_3\\equiv \\left( \\neg v_3 \\wedge \\neg r_3\\right)\\equiv\\psi_1$</td>\n",
    "</tr>\n",
    "<tr style=\"border:2px solid black;background-color:white;font-weight:bold;\">\n",
    "<td style=\"border:2px solid black;text-align:center;color:green;\">1</td>\n",
    "<td style=\"border:2px solid black;text-align:center;color:green;\">0</td>\n",
    "<td style=\"border:2px solid black;text-align:center;color:red;\">0</td>\n",
    "<td style=\"border:2px solid black;text-align:center;color:red;\">1</td>\n",
    "<td style=\"border:2px solid black;text-align:center;color:blue;\">0</td>\n",
    "<td style=\"border:2px solid black;text-align:center;color:blue;\">0</td>\n",
    "<td style=\"border:2px solid black;text-align:center;color:green;\">1</td>\n",
    "<td style=\"border:2px solid black;text-align:center;color:red\">0</td>\n",
    "<td style=\"border:2px solid black;text-align:center;color:blue;\">1</td>\n",
    "</tr>\n",
    "<tr style=\"border:2px solid black;background-color:white;font-weight:bold;\">\n",
    "<td style=\"border:2px solid black;text-align:center;color:green;\">1</td>\n",
    "<td style=\"border:2px solid black;text-align:center;color:green;\">0</td>\n",
    "<td style=\"border:2px solid black;text-align:center;color:blue;\">0</td>\n",
    "<td style=\"border:2px solid black;text-align:center;color:blue;\">0</td>\n",
    "<td style=\"border:2px solid black;text-align:center;color:red;\">0</td>\n",
    "<td style=\"border:2px solid black;text-align:center;color:red;\">1</td>\n",
    "<td style=\"border:2px solid black;text-align:center;color:green;\">0</td>\n",
    "<td style=\"border:2px solid black;text-align:center;color:blue;\">0</td>\n",
    "<td style=\"border:2px solid black;text-align:center;color:red\">0</td>\n",
    "</tr>\n",
    "<tr style=\"border:2px solid black;background-color:white;font-weight:bold;\">\n",
    "<td style=\"border:2px solid black;text-align:center;color:red;\">0</td>\n",
    "<td style=\"border:2px solid black;text-align:center;color:red;\">1</td>\n",
    "<td style=\"border:2px solid black;text-align:center;color:blue;\">0</td>\n",
    "<td style=\"border:2px solid black;text-align:center;color:blue;\">0</td>\n",
    "<td style=\"border:2px solid black;text-align:center;color:green;\">1</td>\n",
    "<td style=\"border:2px solid black;text-align:center;color:green;\">0</td>\n",
    "<td style=\"border:2px solid black;text-align:center;color:red;\">0</td>\n",
    "<td style=\"border:2px solid black;text-align:center;color:blue\">1</td>\n",
    "<td style=\"border:2px solid black;text-align:center;color:green;\">0</td>\n",
    "</tr>\n",
    "<tr style=\"border:2px solid black;background-color:white;font-weight:bold;\">\n",
    "<td style=\"border:2px solid black;text-align:center;color:blue;\">0</td>\n",
    "<td style=\"border:2px solid black;text-align:center;color:blue;\">0</td>\n",
    "<td style=\"border:2px solid black;text-align:center;color:red;\">0</td>\n",
    "<td style=\"border:2px solid black;text-align:center;color:red;\">1</td>\n",
    "<td style=\"border:2px solid black;text-align:center;color:green;\">1</td>\n",
    "<td style=\"border:2px solid black;text-align:center;color:green;\">0</td>\n",
    "<td style=\"border:2px solid black;text-align:center;color:blue;\">0</td>\n",
    "<td style=\"border:2px solid black;text-align:center;color:red;\">0</td>\n",
    "<td style=\"border:2px solid black;text-align:center;color:green\">0</td>\n",
    "</tr>\n",
    "</tbody>\n",
    "</table>"
   ]
  },
  {
   "cell_type": "markdown",
   "metadata": {},
   "source": [
    "<i><b>Note :</b> on a coloré les valeurs de vérité des variables selon la couleur de la clé présente dans la boîte ou en bleu lorsque la boîte est vide.  \n",
    "On a également coloré les valeurs de vérité des inscriptions portés sur les boîtes selon les mêmes règles.</i>"
   ]
  },
  {
   "cell_type": "markdown",
   "metadata": {},
   "source": [
    "Si l'on considère maintenant les affirmations de l'animateur. indiquant que les incriptions portés par les boîtes contenant la clé verte ou vides sont vraies, et l'inscription portée par la boîte contenant la clé rouge est fausse, il s'agit de vérifier que les valeurs de vérités pour les inscriptions sont à 1 lorsqu'elles sont colorées en vert ou bleu, et à zéro lorsqu'elles sont colorées en rouge.  \n",
    "On a surligné en jaune ci-dessous, les distributions de vérité satisfaisant ces derniers critères."
   ]
  },
  {
   "cell_type": "markdown",
   "metadata": {},
   "source": [
    "<table style=\"border:2px solid black;border:border-collapse:collapse\">\n",
    "<tbody>\n",
    "<tr style=\"border:2px solid black;background-color:lightgrey;\">\n",
    "<td style=\"border:2px solid black;width:50px;text-align:center;\">$v_1$</td>\n",
    "<td style=\"border:2px solid black;width:50px;text-align:center;\">$r_1$</td>\n",
    "<td style=\"border:2px solid black;width:50px;text-align:center;\">$v_2$</td>\n",
    "<td style=\"border:2px solid black;width:50px;text-align:center;\">$r_2$</td>\n",
    "<td style=\"border:2px solid black;width:50px;text-align:center;\">$v_3$</td>\n",
    "<td style=\"border:2px solid black;width:50px;text-align:center;\">$r_3$</td>\n",
    "<td style=\"border:2px solid black;width:170px;text-align:center;\">$\\psi_1\\equiv \\left( \\neg v_3 \\wedge \\neg r_3 \\right)$</td>\n",
    "<td style=\"border:2px solid black;width:170px;text-align:center;\">$\\psi_2\\equiv r_1$</td>\n",
    "<td style=\"border:2px solid black;width:170px;text-align:center;\">$\\psi_3\\equiv \\left( \\neg v_3 \\wedge \\neg r_3\\right)\\equiv\\psi_1$</td>\n",
    "</tr>\n",
    "<tr style=\"border:2px solid black;background-color:#fce501;font-weight:bold;\">\n",
    "<td style=\"border:2px solid black;text-align:center;color:green;\">1</td>\n",
    "<td style=\"border:2px solid black;text-align:center;color:green;\">0</td>\n",
    "<td style=\"border:2px solid black;text-align:center;color:red;\">0</td>\n",
    "<td style=\"border:2px solid black;text-align:center;color:red;\">1</td>\n",
    "<td style=\"border:2px solid black;text-align:center;color:blue;\">0</td>\n",
    "<td style=\"border:2px solid black;text-align:center;color:blue;\">0</td>\n",
    "<td style=\"border:2px solid black;text-align:center;color:green;\">1</td>\n",
    "<td style=\"border:2px solid black;text-align:center;color:red\">0</td>\n",
    "<td style=\"border:2px solid black;text-align:center;color:blue;\">1</td>\n",
    "</tr>\n",
    "<tr style=\"border:2px solid black;background-color:white;font-weight:bold;\">\n",
    "<td style=\"border:2px solid black;text-align:center;color:green;\">1</td>\n",
    "<td style=\"border:2px solid black;text-align:center;color:green;\">0</td>\n",
    "<td style=\"border:2px solid black;text-align:center;color:blue;\">0</td>\n",
    "<td style=\"border:2px solid black;text-align:center;color:blue;\">0</td>\n",
    "<td style=\"border:2px solid black;text-align:center;color:red;\">0</td>\n",
    "<td style=\"border:2px solid black;text-align:center;color:red;\">1</td>\n",
    "<td style=\"border:2px solid black;text-align:center;color:green;\">0</td>\n",
    "<td style=\"border:2px solid black;text-align:center;color:blue;\">0</td>\n",
    "<td style=\"border:2px solid black;text-align:center;color:red\">0</td>\n",
    "</tr>\n",
    "<tr style=\"border:2px solid black;background-color:white;font-weight:bold;\">\n",
    "<td style=\"border:2px solid black;text-align:center;color:red;\">0</td>\n",
    "<td style=\"border:2px solid black;text-align:center;color:red;\">1</td>\n",
    "<td style=\"border:2px solid black;text-align:center;color:blue;\">0</td>\n",
    "<td style=\"border:2px solid black;text-align:center;color:blue;\">0</td>\n",
    "<td style=\"border:2px solid black;text-align:center;color:green;\">1</td>\n",
    "<td style=\"border:2px solid black;text-align:center;color:green;\">0</td>\n",
    "<td style=\"border:2px solid black;text-align:center;color:red;\">0</td>\n",
    "<td style=\"border:2px solid black;text-align:center;color:blue\">1</td>\n",
    "<td style=\"border:2px solid black;text-align:center;color:green;\">0</td>\n",
    "</tr>\n",
    "<tr style=\"border:2px solid black;background-color:white;font-weight:bold;\">\n",
    "<td style=\"border:2px solid black;text-align:center;color:blue;\">0</td>\n",
    "<td style=\"border:2px solid black;text-align:center;color:blue;\">0</td>\n",
    "<td style=\"border:2px solid black;text-align:center;color:red;\">0</td>\n",
    "<td style=\"border:2px solid black;text-align:center;color:red;\">1</td>\n",
    "<td style=\"border:2px solid black;text-align:center;color:green;\">1</td>\n",
    "<td style=\"border:2px solid black;text-align:center;color:green;\">0</td>\n",
    "<td style=\"border:2px solid black;text-align:center;color:blue;\">0</td>\n",
    "<td style=\"border:2px solid black;text-align:center;color:red;\">0</td>\n",
    "<td style=\"border:2px solid black;text-align:center;color:green\">0</td>\n",
    "</tr>\n",
    "</tbody>\n",
    "</table>"
   ]
  },
  {
   "cell_type": "markdown",
   "metadata": {},
   "source": [
    "Cette table de vérité indique qu'une seule distribution de vérité seulement (surlignée en jaune) est compatible avec le fait que $\\phi'_a$ doit être évaluée à 1 (l'animateur ne ment pas), il s'agit de la distribution dans laquelle le 6-uplet $(v_1,r_1,v_2,r_2, v_3, r_3)$ prend la valeur $(1, 0, 0, 1, 0, 0)$.  \n",
    "Ainsi, si les règles du jeu sont respectées et si l'animateur ne ment pas, il n'y a qu'**une seule possibilité pour le remplissage des boîtes**, dans laquelle **la clé verte est dans la boîte 1, la rouge dans la boîte 2, tandis que la boîte 3 est vide**.  "
   ]
  },
  {
   "cell_type": "markdown",
   "metadata": {},
   "source": [
    "## CCMP 2018 - concours blanc -  PARTIE II"
   ]
  },
  {
   "cell_type": "markdown",
   "metadata": {},
   "source": [
    "* Lien vers l'énoncé :  http://www.concours-commun-inp.fr/_resources/annales%2520%25C3%25A9crits/MP/2015/MP-Info.pdf?download=true\n",
    "* Lien vers le rapport du jury : http://www.concours-commun-inp.fr/_resources/annales%2520%25C3%25A9crits/MP/2015/mp_rapport_ecrit_info.pdf?download=true"
   ]
  },
  {
   "cell_type": "markdown",
   "metadata": {},
   "source": [
    "On fixe un *alphabet* $\\Sigma$ (ensemble fini), dont les éléments sont appelés *symboles*.  \n",
    "On note $\\lambda>0$ le nombre d'éléments de cet alphabet.  \n",
    "***On suppose que*** cette taille $\\lambda$ est **disponible**, pour les fonctions à implémenter, **sous la forme d'une constante globale `lambda`**.  \n",
    "Par exemple, par le biais de l'instruction suivante :\n",
    "<code>\n",
    "    let lambda = 5;;\n",
    "</code>\n",
    "***On suppose que*** **les éléments de $\\Sigma$ sont ordonnés**, par exemple par ordre alphabétique.  \n",
    "Ils sont notés, dans l'ordre, $\\alpha_0 <\\cdots<\\alpha_{\\lambda -1}$.  \n",
    "***On dit que***, le **code d'un symbole $\\alpha$ de l'alphabet** est l'entier $i$ tel que $\\alpha=\\alpha_i \\; (i\\leqslant i\\leqslant n - 1)$.  "
   ]
  },
  {
   "cell_type": "markdown",
   "metadata": {},
   "source": [
    "Une *chaîne de caractères* $s$ est une suite finie ***non vide*** $u_1, \\dots, u_k$ de symboles de $\\Sigma$.  \n",
    "La *longueur* de $s$ est son nombre de symboles, c'est-à-dire, ici, $k$.  \n",
    "***On représentera en Caml*** les chaînes de caractères pra des liste d'entiers (<code>int list</code>), chaque entier étant le code d'un symbole.  \n",
    "Ainsi, si l'aphabet est $\\Sigma = \\{a, b, c\\}$, dans cet ordre, la chaîne de caractères &laquo;abac&raquo;\n",
    "sera représentée par la liste <code>[0; 1; 0; 2]</code>.  \n",
    "En particulier, **on n'utilisera jamais le type <code>string</code> de Caml**."
   ]
  },
  {
   "cell_type": "markdown",
   "metadata": {},
   "source": [
    "### 1 Recherche naïve d'un motif"
   ]
  },
  {
   "cell_type": "markdown",
   "metadata": {},
   "source": [
    "$\\quad$ Une *occurrence* d’une chaîne de caractères $s = \\alpha_1\\dots \\alpha_k$ (aussi appelée un *motif*) dans\n",
    "une autre chaîne de caractères $t = \\beta_1\\dots \\beta_n$ est un entier naturel $y$ avec $1\\leqslant y\\leqslant n$ tel que,\n",
    "pour tout entier $i$ tel que $0\\leqslant i\\leqslant k-1$, $\\alpha_{k-i}=\\beta_{y-i}$.   \n",
    "En d’autres termes, l’**occurrence**\n",
    "indique la **position du <u>dernier</u> caractère du motif** $s$ **au sein de** la chaîne de caractères $t$\n",
    "(les positions commençant à 1)."
   ]
  },
  {
   "cell_type": "markdown",
   "metadata": {},
   "source": [
    "Par exemple, si $\\Sigma=\\{a, b, c, d, e\\}$, $s$ est le motif &laquo; $abc$ &raquo; et $t$ la chaîne de caractères &laquo; $abcabcdababcdabcdabde$ &raquo;, il y a quatre occurrences de $s$ dans $t$, à savoir :  \n",
    "<ul style=\"list-style-type: none;margin-left:-10px;\">\n",
    "    <li>&mdash; 3</li>\n",
    "    <li>&mdash; 6</li>\n",
    "    <li>&mdash; 12</li>\n",
    "    <li>&mdash; 16</li>\n",
    "</ul>"
   ]
  },
  {
   "cell_type": "markdown",
   "metadata": {},
   "source": [
    "**Remarque :** on notera bien que la définition même d'une occurrence d'un motif $s$ dans une chaîne $t$, impose que le motif et la chaîne soient de longueurs respectives supérieures ou égales à 1 ($y\\geqslant 1$ et $k\\geqslant 1$), *ie.* ne soient pas vides.  "
   ]
  },
  {
   "cell_type": "markdown",
   "metadata": {},
   "source": [
    "<span style=\"font-size:30px\">&#9888;</span> **On prêtera attention au fait que les positions sont numérotées ici à partir de $1$.**"
   ]
  },
  {
   "cell_type": "markdown",
   "metadata": {},
   "source": [
    "<span style=\"font-size:20px;font-family:'Times New Roman', Times, serif;\">&#10066; 1 &ndash;</span>\n",
    "$s$ et $t$ désignent ici deux chaînes de caractères, et $y$ et $y'$, $y<y'$, sont deux occurrences de $s$ dans $t$.  \n",
    "  \n",
    "On peut noter préliminairement le premier caractère du motif $s$, relativement à son occurrence $y'$ au sein de la chaîne $t$, est à la position $y'-k+1$ dans $t$.  \n",
    "En effet, le dernier caractère de cette occurrence est en position $y'$ dans $t$, et, si on note $x'$ la position du premier caractère de cette occurrence dans $t$, on doit avoir que le nombre de caractères entre les positions $x'$ et $y'$, incluses, est égal à $k$ ce qui s'écrit :\n",
    "$$\n",
    "y' -x' +1 = k, \\;\\;  \\text{d'où } \\; x' = y' -k +1 \n",
    ".$$"
   ]
  },
  {
   "cell_type": "markdown",
   "metadata": {},
   "source": [
    "On peut ainsi donner la représentation schématique suivante de la situation recherchée :"
   ]
  },
  {
   "cell_type": "markdown",
   "metadata": {},
   "source": [
    "<img src=\"https://github.com/lbaille20/OptionInfo2A_2020-21/raw/be5cb9d4213951f89c4cca556231ae314c54427b/DS04_concours_blanc/DS04_fig01-2021_04_15%2017_09%20Office%20Lens.jpg\"\n",
    "width=\"40%\"     \n",
    "alt=\"DS04-fig010\">"
   ]
  },
  {
   "cell_type": "markdown",
   "metadata": {},
   "source": [
    "*Note :* on a noté, au-dessus des deux représentations de la chaîne $t$ :\n",
    "* à gauche des traits de séparation, en noir, l'indice, dans $t$, du dernier caractère à gauche du trait ;\n",
    "* à droite, en rouge, l'indice, dans $t$, du premier caractère à droite du trait."
   ]
  },
  {
   "cell_type": "markdown",
   "metadata": {},
   "source": [
    "On constate que la situation recherchée, selon laquelle le premier caractère de la seconde occurrence est situé au même niveau ou avant le dernier caractère de la première occurrence ($y'-k+1\\leqslant y$), peut être rencontrée, à condition qu'il existe un préfixe de longueur non nulle de $s$ qui soit aussi un suffixe de $s$.  \n",
    "La situation peut être rencontrée. Il est en effet possible de produire l'exemple suivant :  \n",
    "* $s=\"aaabbaaa\"$ de longueur $k=8$ ;\n",
    "* $t=\"ccccaaabbaaabbaaacc\"$.  \n",
    "\n",
    "On a ici deux occurrences dans $t$ en $y=12$ et $y'=17$, avec $y'-k+1=17-8+1=10$ (position du premier caractère de la seconde occurrence du motif."
   ]
  },
  {
   "cell_type": "markdown",
   "metadata": {},
   "source": [
    "DRAFT\n",
    "On constate qu'il est possible d'avoir deux telles occurrences de la chaîne $s$ dans $t$, mais ceci à deux conditions :  \n",
    "* si les occurrences sont disjointes *i.e.* si $y\\leqslant y'-k$ :   \n",
    "les conditions nécessaires portent sur la longueur des deux chaînes et s'expriment par la chaîne d'inégalités suivante\n",
    "$$0\\leqslant y-k + 1\\leqslant y \\leqslant y'-k+1\\leqslant y'< n.$$ \n",
    "* si les occurrences ne sont pas disjointes (cas illustré par la figure ci-dessus) *i.e.* si $y'-k+1\\leqslant y$) :  \n",
    "les caractères dont la position dans $t$ est comprise dans l'intervalle $[\\![y'-k+1;y]\\!]$ forment à la fois un préfixe de $s$ et un suffixe de $s$, dont la longueur est $y-(y'-k+1)+1=k-(y'-y)$, et on doit avoir :  \n",
    "$$\n",
    "\\forall \\, i\\in [\\![0;k-(y'-y)-1]\\!], \\quad \\beta_{y-i} = \\alpha_{k-i} = \\alpha{k-(y'-y)-i}\n",
    "$$"
   ]
  },
  {
   "cell_type": "markdown",
   "metadata": {},
   "source": [
    "<span style=\"font-size:20px;font-family:'Times New Roman', Times, serif;\">&#10066;\n",
    "2 &ndash;</span>\n",
    "Les occcurences possibles pour un motif $s$ de longueur $k$ dans une chaîne $t$ sont des entiers $y\\in [\\![1;n]\\!]$ (positions possibles du dernier caractère du motif dans $t$), qui doivent vérifier que $y-k +1$ (position du premier caractère du motif $s$ pour une occurrence $y$ du motif dans $t$) est bien supérieur ou égal à 1.  \n",
    "Ainsi une condition nécessaire sur la valeur d'une occurrence $y$ de $s$ de longueur $k$ dans $t$ est :  \n",
    "$$\n",
    "\\big(1\\leqslant y-k+1 \\: \\text{et} \\: y\\leqslant n\\big) \\Longleftrightarrow \\big(k \\leqslant y \\leqslant n\\big).\n",
    "$$\n",
    "Le nombre maximal d'occurrences d'un motif de longueur $k$ est donc égal au nombre d'entiers dans l'intervalle $[\\![k;n]\\!]$ *i.e.* égal à $n-k+1$.  \n",
    "  \n",
    "Comme il est admis que des occurrences distinctes d'un motif dans une chaîne peuvent se superposer (*cf.* question 1), cette borne peut être atteinte, comme dans l'exemple suivant :  \n",
    "* $s=\"aaa\"$ ;\n",
    "* $t=\"aaaaaa\"$.  \n",
    "\n",
    "Dans cet exemple, on a $n=6$, $k=3$, et $n-k+1=6-3+1=4$ occurrences de $s$ dans $t$ au positions $y=3, 4, 5$ et $6$."
   ]
  },
  {
   "cell_type": "markdown",
   "metadata": {},
   "source": [
    "<span style=\"font-size:20px;font-family:'Times New Roman', Times, serif;\">&#10066;\n",
    "3\n",
    "&ndash;</span>\n",
    "La question est un classique (on ne peut plus classique)."
   ]
  },
  {
   "cell_type": "code",
   "execution_count": 1,
   "metadata": {},
   "outputs": [
    {
     "data": {
      "text/plain": [
       "val longueur : 'a list -> int = <fun>\n"
      ]
     },
     "execution_count": 1,
     "metadata": {},
     "output_type": "execute_result"
    },
    {
     "data": {
      "text/plain": [
       "- : int * int = (0, 3)\n"
      ]
     },
     "execution_count": 1,
     "metadata": {},
     "output_type": "execute_result"
    }
   ],
   "source": [
    "let rec longueur = function\n",
    "    | [] -> 0\n",
    "    | h::t -> 1 + longueur t;;\n",
    "(* tests *)\n",
    "longueur [], longueur [1; 2; 3];;"
   ]
  },
  {
   "cell_type": "code",
   "execution_count": 2,
   "metadata": {},
   "outputs": [
    {
     "data": {
      "text/plain": [
       "val longueur : 'a list -> int = <fun>\n"
      ]
     },
     "execution_count": 2,
     "metadata": {},
     "output_type": "execute_result"
    },
    {
     "data": {
      "text/plain": [
       "- : int * int = (0, 3)\n"
      ]
     },
     "execution_count": 2,
     "metadata": {},
     "output_type": "execute_result"
    }
   ],
   "source": [
    "let rec longueur lst = match lst with\n",
    "    | [] -> 0\n",
    "    | h::t -> 1 + longueur t;;\n",
    "(* tests *)\n",
    "longueur [], longueur [1; 2; 3];;"
   ]
  },
  {
   "cell_type": "markdown",
   "metadata": {},
   "source": [
    "Le temps d'exécution de la fonction est conditionné par le nombre d'additions et le nombre d'appels récursifs  effectués pour obtenir la longueur d'une liste à $n$ élément, qui sont égaux à $n-1$ et $n$, respectivement.  \n",
    "La complexité de la fonction est donc en $O(n)$ (complexité linéaire en $n$)."
   ]
  },
  {
   "cell_type": "markdown",
   "metadata": {},
   "source": [
    "<span style=\"font-size:20px;font-family:'Times New Roman', Times, serif;\">&#10066;\n",
    "4\n",
    "&ndash;</span>\n",
    "Pour tester si $s$ de longueur $k$ est un préfixe de $t$ de longueur $n$, il s'agit de comparer les caractères de $s$ aux $k$ premiers caractères de $t$.  \n",
    "Il s'agit donc d'effectuer entre $1$ (dans le meilleur cas, où les premiers caractères de $s$ et $t$ diffèrent) et $k$ comparaisons (dans le pire cas, où $s$ est de fait un préfixe de $t$).  \n",
    "La complexité de la fonction à écrire est donc en $O(k)$ (pire cas).  \n",
    "  \n",
    "On pourrait ajouter une comparaison préliminaire des longueurs de $s$ et $t$ afin de vérifier que $k\\leqslant n$ (condition nécessaire pour que $s$ puisse être un préfixe de $t$), mais la complexité de cette vérification, si on calcule pour cela prélimairement les longueurs, ajoute une complexité en $O(max(k,n))$ que l'on peut éviter, en testant plus, par filtrage, si à un moment donné, la liste $t$, second argument de `prefixe` est vide, tandis que la liste $s$, premier argument ne l'est pas, ce qui ne modifie pas la complexité annoncée (en $O(k)$).  \n",
    "\n",
    "\n",
    "Voici une implémentation possible, dont la complexité est telle que décrite ci-dessus :"
   ]
  },
  {
   "cell_type": "code",
   "execution_count": 3,
   "metadata": {},
   "outputs": [
    {
     "data": {
      "text/plain": [
       "val prefixe : 'a list -> 'a list -> bool = <fun>\n"
      ]
     },
     "execution_count": 3,
     "metadata": {},
     "output_type": "execute_result"
    },
    {
     "data": {
      "text/plain": [
       "val s : 'a list = []\n",
       "val t : int list = [2; 1; 0; 0; 1; 2]\n"
      ]
     },
     "execution_count": 3,
     "metadata": {},
     "output_type": "execute_result"
    },
    {
     "data": {
      "text/plain": [
       "- : bool = true\n"
      ]
     },
     "execution_count": 3,
     "metadata": {},
     "output_type": "execute_result"
    },
    {
     "data": {
      "text/plain": [
       "val s : int list = [0; 1; 2]\n",
       "val t : int list = [0; 1; 2; 2; 1; 0]\n"
      ]
     },
     "execution_count": 3,
     "metadata": {},
     "output_type": "execute_result"
    },
    {
     "data": {
      "text/plain": [
       "- : bool = true\n"
      ]
     },
     "execution_count": 3,
     "metadata": {},
     "output_type": "execute_result"
    },
    {
     "data": {
      "text/plain": [
       "val s : int list = [0; 1; 2; 2]\n",
       "val t : int list = [0; 1; 2]\n"
      ]
     },
     "execution_count": 3,
     "metadata": {},
     "output_type": "execute_result"
    },
    {
     "data": {
      "text/plain": [
       "- : bool = false\n"
      ]
     },
     "execution_count": 3,
     "metadata": {},
     "output_type": "execute_result"
    }
   ],
   "source": [
    "let rec prefixe s t = match s, t with\n",
    "    | [], _ -> true\n",
    "    | _, [] -> false\n",
    "    | hs::ts, ht::tt -> if hs <> ht then false else prefixe ts tt;;\n",
    "(* tests *)\n",
    "let s, t = [], [2; 1; 0; 0; 1; 2];;\n",
    "prefixe s t;;\n",
    "let s, t = [0; 1; 2], [0; 1; 2; 2; 1; 0];;\n",
    "prefixe s t;;\n",
    "let s, t = [0; 1; 2; 2], [0; 1; 2];;\n",
    "prefixe s t;;"
   ]
  },
  {
   "cell_type": "markdown",
   "metadata": {},
   "source": [
    "<span style=\"font-size:20px;font-family:'Times New Roman', Times, serif;\">&#10066;\n",
    "5\n",
    "&ndash;</span>\n",
    "La fonction `recherche_naive`, la plus directe (immédiate) imaginable, consiste à parcourir la chaîne $t$, caractère après caractère, et à vérifier si $s$ est un préfixe de $t$ à partir du caractère atteint dans $t$.  \n",
    "Le cas terminal pour la fonction recursive correspondante correspond au cas où le motif $s$ est de même longueur que la chaîne $t$.  \n",
    "Cependant, si l'on veut détecter le cas terminal, il faut un calcul préliminaire des longueurs, du motif, et de la chaîne.  \n",
    "Le cas général, dans lequel on se ramène à un appel récursif, se traite en examinant si $s$ est un préfixe de $t$, auquel cas on ajoute une occurrence du motif à la liste des occurrences, et en poursuivant par un appel récursif avec en paramètre le motif $s$ et la fin de la chaîne $t$.  \n",
    "Bien sûr, afin de pouvoir suivre la position dans laquelle on se trouve au moment d'un appel récursif donné, il faudra introduire un paramètre de position, $i$, initialisé à $1$, que l'on incrémentera au fil des appels récursifs, aussi introduira-t-on une fonction auxiliaire (dans laquelle on omettra de passer le motif $s$ en argument - il sera accessible en tant que variable globale).  \n",
    "On introduira aussi en argument de la fonction auxiliaire une variable donnant la longueur de la chaîne $t$ en argument, afin de ne pas recalculer inutilement celle-ci à chaque appel récursif.  La longueur $k$ du motif $s$ sera quant à elle accessible en tant que variable globale.  \n",
    "Enfin, afin d'obtenir en sortie la liste des occurrences dans l'ordre croissant, on ne cherchera pas à donner une implementation récursive terminale utilisant une liste servant d'accumulateur.  \n",
    "\n",
    "Voici une implémentation suivant cet algorithme élémentaire."
   ]
  },
  {
   "cell_type": "code",
   "execution_count": 4,
   "metadata": {},
   "outputs": [
    {
     "data": {
      "text/plain": [
       "val recherche_naive : 'a list -> 'a list -> int list = <fun>\n"
      ]
     },
     "execution_count": 4,
     "metadata": {},
     "output_type": "execute_result"
    },
    {
     "data": {
      "text/plain": [
       "val s : int list = [0; 1; 2]\n",
       "val t : int list = [0; 1; 2; 3; 3; 0; 1; 2]\n"
      ]
     },
     "execution_count": 4,
     "metadata": {},
     "output_type": "execute_result"
    },
    {
     "data": {
      "text/plain": [
       "- : int list = [3; 8]\n"
      ]
     },
     "execution_count": 4,
     "metadata": {},
     "output_type": "execute_result"
    },
    {
     "data": {
      "text/plain": [
       "val s : int list = [0; 0; 1; 1; 0; 0]\n",
       "val t : int list = [2; 2; 2; 0; 0; 1; 1; 0; 0; 1; 1; 0; 0; 2; 2; 2]\n"
      ]
     },
     "execution_count": 4,
     "metadata": {},
     "output_type": "execute_result"
    },
    {
     "data": {
      "text/plain": [
       "- : int list = [9; 13]\n"
      ]
     },
     "execution_count": 4,
     "metadata": {},
     "output_type": "execute_result"
    },
    {
     "data": {
      "text/plain": [
       "val s : int list = [0; 0; 0; 0]\n",
       "val t : int list = [0; 0; 0; 0; 0; 0; 0]\n"
      ]
     },
     "execution_count": 4,
     "metadata": {},
     "output_type": "execute_result"
    },
    {
     "data": {
      "text/plain": [
       "- : int list = [4; 5; 6; 7]\n"
      ]
     },
     "execution_count": 4,
     "metadata": {},
     "output_type": "execute_result"
    }
   ],
   "source": [
    "let recherche_naive s t = \n",
    "    let k, n = longueur s, longueur t\n",
    "    in\n",
    "    let rec aux t n i = match n, t with\n",
    "        | _, [] -> [] (* ajouté pour un filtrage exhaustif *)\n",
    "        | _, _ when n = k -> if prefixe s t then [i] else []\n",
    "        | _, ht::tt -> if prefixe s t then i::aux tt (n - 1) (i + 1) else aux tt (n - 1) (i + 1)\n",
    "    in\n",
    "    aux t n k;;\n",
    "(* tests *)\n",
    "let s, t = [0; 1; 2], [0; 1; 2; 3; 3; 0; 1; 2];;\n",
    "recherche_naive s t;;\n",
    "let s, t = [0; 0; 1; 1; 0; 0], [2; 2; 2; 0; 0; 1; 1; 0; 0; 1; 1; 0; 0; 2; 2; 2];;\n",
    "recherche_naive s t;;\n",
    "let s, t = [0; 0; 0; 0], [0; 0; 0; 0; 0; 0; 0];;\n",
    "recherche_naive s t;;"
   ]
  },
  {
   "cell_type": "markdown",
   "metadata": {},
   "source": [
    "L'implémentation précédente peut être épurée en prenant comme cas terminal le cas où la longueur de la chaîne $t$ est inférieure strictement à la longueur du motif, ce qui donne :"
   ]
  },
  {
   "cell_type": "code",
   "execution_count": 5,
   "metadata": {},
   "outputs": [
    {
     "data": {
      "text/plain": [
       "val recherche_naive : 'a list -> 'a list -> int list = <fun>\n"
      ]
     },
     "execution_count": 5,
     "metadata": {},
     "output_type": "execute_result"
    },
    {
     "data": {
      "text/plain": [
       "val s : int list = [0; 1; 2]\n",
       "val t : int list = [0; 1; 2; 3; 3; 0; 1; 2]\n"
      ]
     },
     "execution_count": 5,
     "metadata": {},
     "output_type": "execute_result"
    },
    {
     "data": {
      "text/plain": [
       "- : int list = [3; 8]\n"
      ]
     },
     "execution_count": 5,
     "metadata": {},
     "output_type": "execute_result"
    },
    {
     "data": {
      "text/plain": [
       "val s : int list = [0; 0; 1; 1; 0; 0]\n",
       "val t : int list = [2; 2; 2; 0; 0; 1; 1; 0; 0; 1; 1; 0; 0; 2; 2; 2]\n"
      ]
     },
     "execution_count": 5,
     "metadata": {},
     "output_type": "execute_result"
    },
    {
     "data": {
      "text/plain": [
       "- : int list = [9; 13]\n"
      ]
     },
     "execution_count": 5,
     "metadata": {},
     "output_type": "execute_result"
    },
    {
     "data": {
      "text/plain": [
       "val s : int list = [0; 0; 0; 0]\n",
       "val t : int list = [0; 0; 0; 0; 0; 0; 0]\n"
      ]
     },
     "execution_count": 5,
     "metadata": {},
     "output_type": "execute_result"
    },
    {
     "data": {
      "text/plain": [
       "- : int list = [4; 5; 6; 7]\n"
      ]
     },
     "execution_count": 5,
     "metadata": {},
     "output_type": "execute_result"
    }
   ],
   "source": [
    "let recherche_naive s t = \n",
    "    let k, n = longueur s, longueur t\n",
    "    in\n",
    "    let rec aux t n i = match n, t with\n",
    "        | _, [] -> [] (* ajouté pour un filtrage exhaustif *)\n",
    "        | _, _ when n < k -> []\n",
    "        | _, ht::tt -> if prefixe s t then i::aux tt (n - 1) (i + 1) else aux tt (n - 1) (i + 1)\n",
    "    in\n",
    "    aux t n k;;\n",
    "(* tests *)\n",
    "let s, t = [0; 1; 2], [0; 1; 2; 3; 3; 0; 1; 2];;\n",
    "recherche_naive s t;;\n",
    "let s, t = [0; 0; 1; 1; 0; 0], [2; 2; 2; 0; 0; 1; 1; 0; 0; 1; 1; 0; 0; 2; 2; 2];;\n",
    "recherche_naive s t;;\n",
    "let s, t = [0; 0; 0; 0], [0; 0; 0; 0; 0; 0; 0];;\n",
    "recherche_naive s t;;"
   ]
  },
  {
   "cell_type": "markdown",
   "metadata": {},
   "source": [
    "<span style=\"font-size:20px;font-family:'Times New Roman', Times, serif;\">&#10066;\n",
    "6&ndash;</span>\n",
    "L'algorithme mis en place inclut le calcul préliminaire des longeurs du motif $s$ et de la chaîne $t$, donc une complexité en $O(max(, k, n))$.  \n",
    "Par ailleurs, l'appel à la fonction engendre autant d'appels à la fonction `prefixe` de complexité $O(k)$ dans le pire cas qu'il y a d'occurrences possibles pour le motif dans la chaîne, soit $n-k+1$ (*cf.* question 2), aussi - les autres opérations effectuées étant de complexité constante (indépendante de $k$ et de $n$), la complexité de la fonction `recherche_naive` est en $O\\left(k\\cdot(n-k+1) \\right)=O\\left(k\\cdot(n-k ) \\right)$."
   ]
  },
  {
   "cell_type": "markdown",
   "metadata": {},
   "source": [
    "### 2 Automates ﬁnis déterministes à repli"
   ]
  },
  {
   "cell_type": "markdown",
   "metadata": {},
   "source": [
    "Un *automate ﬁni déterministe à repli* (ou *AFDR*) sur l’alphabet $\\Sigma$ est un quadruplet\n",
    "$\\mathcal{A}=\\left(k, F, \\delta, \\rho\\right)$ tel que :  \n",
    "&emsp; &mdash; $k\\in\\mathbb N$ est un entier strictement positif représentant le *nombre d'états* de $\\mathcal A$ ;\n",
    "l'ensemble des *états* de $\\mathcal A$ est $\\mathcal{Q_A}=\\left\\{0, 1, \\dots, k-1\\right}$\n",
    "et $0$ est appelé l'*état initial*.  "
   ]
  },
  {
   "cell_type": "markdown",
   "metadata": {},
   "source": [
    "<span style=\"font-size:20px;font-family:'Times New Roman', Times, serif;\">&#10066;\n",
    "7\n",
    "&ndash;</span>\n",
    "La fonction $\\rho$ est une **fonction totale** (une application) de $\\mathcal Q_A=\\left\\{0, 1, \\dots, k-1\\right}$ dans lui-même, telle que, pour tout $q\\in \\mathcal Q_A$ tel que $q>0$, on a $\\rho(q) < q$, et $\\rho(0)=0$.  \n",
    "Des propriétés de la fonction $\\rho$, on déduit que pour tout $q\\in\\mathcal Q_A\\setminus \\{0\\}$, la suite $\\left(\\rho^j\\left(q\\right)\\right)_{j\\geqslant 0}$ est une suite strictement décroissante d'entiers, jusqu'à un rang $j_{q,0}$, pour lequel on a $\\rho^{j_{q,0}}\\left(q\\right)=0$, et stationnaire au delà.  \n",
    "\n",
    "Pour le démontrer, il suffit, pour tout $q\\neq 0$ de $\\mathcal Q_A$, de supposer qu'il n'existe aucun entier $j\\in\\mathbb N$ tel que $\\rho^j\\left(q\\right)=0$. Dans ces conditions, la propriété selon laquelle $\\forall \\: q \\in \\mathcal Q_A\\setminus \\{0\\}, \\; \n",
    "\\rho(q)< q$ impose que la suite $\\left(\\rho^j\\left(q\\right)\\right)_{j\\geqslant 0}$ est une suite strictement décroissante d'entiers. On en  déduit que, pour tout $p\\in\\mathbb N$, $\\rho^p(q)\\leqslant \\rho(q) - p \\leqslant k-1-p$, et donc que $\\rho^k(q)<0$, ce qui contredit que $\\rho$ est à valeurs dans $\\mathcal Q_A\\subset\\mathbb N$.  \n",
    "Ainsi, étant établi qu'il existe un entier $j\\geqslant 0$ tel que $\\rho^j(q)=0$, on peut noter $j_{q,0}$ le plus petit des ces entiers, et alors, pour tout $1\\leqslant j\\leqslant j_{q,0}$, on a $\\rho^j(q)=\\rho\\left(\\rho^{j-1}(q)\\right)<\\rho^{j-1}(q)$, et pour tout $j\\geqslant j_{q,0}$, par récurrence, $\\rho^j(q)=0$."
   ]
  },
  {
   "cell_type": "markdown",
   "metadata": {},
   "source": [
    "Comme il est imposé que $\\delta(0, \\alpha)$ soit défini pour tout $\\alpha$ de $\\Sigma$, et qu'il est assuré, pour tout $q\\in\\mathcal Q_A$ qu'il existe $j_{q,0}\\geqslant 0$ tel que $\\rho^{j_{q,0}}(q)=0$, on a, pour $j=j_{q,0}$, $\\delta\\left(\\rho^{j_{q,0}}(q), \\alpha\\right)=\\delta\\left(0, \\alpha\\right)$ défini.  \n",
    "Ce qui établit le résultat demandé."
   ]
  },
  {
   "cell_type": "markdown",
   "metadata": {},
   "source": [
    "### Préliminaire à la question 8 (et à la suite du problème)"
   ]
  },
  {
   "cell_type": "markdown",
   "metadata": {},
   "source": [
    "Un mot $u_1\\dots u_p$ est reconnu par un AFDR $\\mathcal A=\\left(k, F, \\delta,\\rho\\right)$ si, et seulement si, il existe une suite finie $q_0,q'_1,q_1,\\dots,q'_{p-1},q_{p-1},q_p$ d'états de $\\mathcal A$ où la suite d'états est définie comme indiqué dans l'énoncé.     \n",
    "Or cette suite est définie de façon unique dès lors que l'ADFR est défini et le mot connu, et cette suite d'états est la suite d'états que l'on obtient si l'on définit un AFDC avec les mêmes états que $\\mathcal A$ et la fonction de transition :  \n",
    "$$\n",
    "\\delta'(q,\\alpha) = \\delta(\\rho^j(q), \\alpha) \\; \\text{où $j$ est le plus petit entier tel que $\\delta\\left(\\rho^j(q_{i-1}), u_i\\right)$.} \n",
    "$$\n",
    "L'examen du mot $u_1\\dots u_p$ par l'AFDC conduit alors exactement à la même suite de $p$ état que l'examen de ce mot par l'ADFR, aussi en déduit-on que l'ADFC ainsi construit reconnaît exactement le même langage que l'AFDR (en conséquence de la définition de l'ADFC et de la définition de l'acceptation d'un mot par l'ADFR)."
   ]
  },
  {
   "cell_type": "markdown",
   "metadata": {},
   "source": [
    "<span style=\"font-size:20px;font-family:'Times New Roman', Times, serif;\">&#10066;\n",
    "8\n",
    "    &ndash;</span>\n",
    "On construit l'AFDC demandé, que l'on notera $\\mathcal A_2$, en considérant toutes les transitions non définies pour $\\mathcal A_1$.  \n",
    "Pour chaque état $q$ et chaque symbole $\\alpha$, si la transition $\\delta(q, \\alpha)$ n'est pas définie, on itère la fonction de repli $\\rho$, jusqu'à atteindre le plus petit entier $j_{q,\\alpha}\\geqslant 0$ tel que $\\delta(\\rho^{j_{q,\\alpha}}(q), \\alpha)$ soit défini.  \n",
    "L'ADFC $\\mathcal A_2$, a le même nombre et le même ensemble d'états que $\\mathcal A_1$, les mêmes états finaux (ou 'finals') et pour fonction de transition $\\delta'$, la fonction totale définie par :\n",
    "\\begin{itemize}\n",
    "\\item $\\delta'(q, \\alpha= \\delta(q, \\alpha)$, si $\\delta(q, \\alpha)$ est définie pour $\\mathcal A_1$ ;\n",
    "\\item $\\delta'(q, \\alpha= \\delta(\\rho^{j_{q,\\alpha}}(q), \\alpha)$ sinon.\n",
    "\\end{itemize}\n",
    "*Note :* le premier cas distingué ci-dessus peut être vu comme un cas particulier du second, où l'on aurait $j_{q,\\alpha}=0$."
   ]
  },
  {
   "cell_type": "markdown",
   "metadata": {},
   "source": [
    "Pour l'automate $\\mathcal A_1$, examinons une à une les transitions non définies :  \n",
    "\\begin{itemize}\n",
    "\\item $\\delta(1, a)$ : $\\rho(1) = 0$, et $\\delta(0, a) = 1$, donc $\\delta'(1, a) =1$ ;\n",
    "\\item $\\delta(2, b)$ : $\\rho(2) = 0$, et $\\delta(0, b) = 0$, donc $\\delta'(2, b) =0$ ;\n",
    "\\item $\\delta(3, a)$ : $\\rho(3) = 1$, et $\\delta(1, a)$ n'est pas défini, mais $\\delta'(1, a) =1$,\n",
    "donc $\\delta'(3, a) =1$ (ou bien dire : \\rho^2(3) = 0 et $\\delta(0, a) = 1$, donc $\\delta'(3, a) =1$) ;\n",
    "\\item $\\delta(3, b)$ : $\\rho(3) = 1$, et $\\delta(1, b) = 2$, donc $\\delta'(3, b) =2$ ;\n",
    "\\end{itemize}\n"
   ]
  },
  {
   "cell_type": "markdown",
   "metadata": {},
   "source": [
    "On obtient ainsi l'AFDC suivant :  \n",
    "<img src=\"https://github.com/lbaille20/OptionInfo2A_2020-21/raw/main/DS04_concours_blanc/DS04-fig02.jpg\"\n",
    "     width=\"40%\"/>"
   ]
  },
  {
   "cell_type": "markdown",
   "metadata": {},
   "source": [
    "<span style=\"font-size:20px;font-family:'Times New Roman', Times, serif;\">&#10066;\n",
    "9\n",
    "&ndash;</span> **On notera bien qu'il n'est demandé au candidat que de décrire le langage accepté par l'automate, sans qu'aucune démonstration ne soit exigée**. On pourra donc se contenter de donner cette description : les mots reconnus par $\\mathcal A_1$ sont les mots terminant par \"aba\".\n",
    "\n",
    "On observe qu'il n'est pas possible d'atteindre l'état final, \"3\", à partir de l'état zéro, avec un mot de moins de trois lettres.  \n",
    "Aussi les mots reconnus par l'automate sont de longueur au moins $3$.  \n",
    "\n",
    "Pour un mot de longueur $3$, on constate que seul le mot \"aba\" permet d'atteindre l'état \"3\".  \n",
    "Par ailleurs, à partir de tous les états, \"0\", \"1\", \"2\" et \"3\", la séquence \"aba\" amène en l'état final \"3\".  \n",
    "En conséquence, pour tout mot de longueur $n\\geqslant 3$, quelque soit l'état atteint suite à la lecture des $n-3$ premières lettres du mot, si le mot termine par la séquence \"aba\", il est accepté par l'automate.  \n",
    "\n",
    "Considérant maintenant les mots ne terminant pas par \"aba\".\n",
    "\n",
    "On peut observer, comme on l'a déjà constaté pour l'état \"0\", que, pour tous les états \"1\", \"2\" et \"3\", seule la séquence \"aba\" permet d'atteindre l'état \"3\", mais il est plus rapide (plutôt que de tester pour ces trois étas, les $2^3-1=7$ séquences de trois lettres autres que $\"aba\"$) de faire les observations suivantes :  \n",
    "\\begin{itemize}\n",
    "\\item le seul état pouvant précéder l'état \"3\", est l'état \"2\" ; et on passe de \"2\" à \"3\" par une transition étiquétée par \"a\" : donc les mots reconnus par l'automate terminent nécessairement par \"a\" ;\n",
    "\\item les seuls états pouvant précéder l'état \"2\" sont les états \"1\" et \"3\" ; et on passe de ces deux états à l'état \"2\" par une transition étiquetée \"b\" : donc les mots reconnus par l'automate terminent nécessairement par la séquence \"ba\" ;\n",
    "\\item enfin, on ne peut accéder aux états \"1\" et \"3\" que par des transitions étiquetées \"a\" : donc les mots reconnus par l'automate terminent nécessairement par la séquence \"aba\" ;\n",
    "\\end{itemize}\n",
    "On en conclut que la condition suffisante selon laquelle un mot terminant par la séquence \"aba\" est reconnue par l'automate, et aussi une condition nécessaire de reconnaissance par l'automate.  \n",
    "\n",
    "La conclusion générale est donc que **le langage accepté par l'automate est l'ensemble des mots sur l'alphabet $\\Sigma=\\left{a, b\\right}$ qui terminent par la séquence \"aba\"**."
   ]
  },
  {
   "cell_type": "markdown",
   "metadata": {},
   "source": [
    "<span style=\"font-size:20px;font-family:'Times New Roman', Times, serif;\">&#10066;\n",
    "10\n",
    "&ndash;</span>\n",
    "Un ADFR est représenté par un enregistrement du type suivant"
   ]
  },
  {
   "cell_type": "code",
   "execution_count": 6,
   "metadata": {},
   "outputs": [
    {
     "data": {
      "text/plain": [
       "type afdr = {\n",
       "  final : bool array;\n",
       "  transition : int array array;\n",
       "  repli : int array;\n",
       "}\n"
      ]
     },
     "execution_count": 6,
     "metadata": {},
     "output_type": "execute_result"
    }
   ],
   "source": [
    "type afdr = {\n",
    "    final : bool array;\n",
    "    transition : int array array;\n",
    "    repli: int array;\n",
    "};;"
   ]
  },
  {
   "cell_type": "markdown",
   "metadata": {},
   "source": [
    "Sur l'exemple :"
   ]
  },
  {
   "cell_type": "code",
   "execution_count": 7,
   "metadata": {},
   "outputs": [
    {
     "data": {
      "text/plain": [
       "val automate_A1 : afdr =\n",
       "  {final = [|false; false; false; true|];\n",
       "   transition = [|[|1; 0|]; [|-1; 2|]; [|3; -1|]; [|-1; -1|]|];\n",
       "   repli = [|0; 0; 0; 1|]}\n"
      ]
     },
     "execution_count": 7,
     "metadata": {},
     "output_type": "execute_result"
    }
   ],
   "source": [
    "let automate_A1 = {\n",
    "    final = [|false; false; false; true|];\n",
    "    transition = [| [| 1;  0|]; (* transitions pour l'état 0 *)\n",
    "                    [|-1;  2|]; (* transitions pour l'état 1 *)\n",
    "                    [| 3; -1|]; (* transitions pour l'état 2 *) \n",
    "                    [|-1; -1|]; (* transitions pour l'état 3 *)\n",
    "                    |];\n",
    "    repli = [|    0;     0;     0;     1|]\n",
    "}"
   ]
  },
  {
   "cell_type": "markdown",
   "metadata": {},
   "source": [
    "Pour programmer la fonction demandée, on utilise, comme proposé, la fonction `copy` du module `Array`, qui créé un nouveau tableau dont les éléments sont une copie des éléments du tableau en entrée.  \n",
    "Cette fonction convient pour copier les tableaux `final` et `repli`, dont les valeurs sont de types non mutables (*immuable* ou *immutables*), à savoir `bool` ou `int`. En revanche, pour le tableau `transition`, un simple appel à la fonction `copy` créera un tableau dont les valeurs sont des copies des références aux tableaux qui sont les éléments du tableau en entrée, ce qui ne convient pas (une modification des valeurs d'un tableau `transition.(q)` se reportera sur la copie du tableau `transition`).  \n",
    "Par exemple :"
   ]
  },
  {
   "cell_type": "code",
   "execution_count": 8,
   "metadata": {},
   "outputs": [
    {
     "data": {
      "text/plain": [
       "val transition_test : int array array =\n",
       "  [|[|1; 0|]; [|-1; 2|]; [|3; -1|]; [|-1; -1|]|]\n"
      ]
     },
     "execution_count": 8,
     "metadata": {},
     "output_type": "execute_result"
    },
    {
     "data": {
      "text/plain": [
       "val copie_transition_test : int array array =\n",
       "  [|[|1; 0|]; [|-1; 2|]; [|3; -1|]; [|-1; -1|]|]\n"
      ]
     },
     "execution_count": 8,
     "metadata": {},
     "output_type": "execute_result"
    },
    {
     "name": "stdout",
     "output_type": "stream",
     "text": [
      "test 1\n"
     ]
    },
    {
     "data": {
      "text/plain": [
       "- : unit = ()\n"
      ]
     },
     "execution_count": 8,
     "metadata": {},
     "output_type": "execute_result"
    },
    {
     "data": {
      "text/plain": [
       "- : unit = ()\n"
      ]
     },
     "execution_count": 8,
     "metadata": {},
     "output_type": "execute_result"
    },
    {
     "data": {
      "text/plain": [
       "- : int array array * int array array =\n",
       "([|[|1; 2|]; [|-1; 2|]; [|3; -1|]; [|-1; -1|]|],\n",
       " [|[|1; 0|]; [|-1; 2|]; [|3; -1|]; [|-1; -1|]|])\n"
      ]
     },
     "execution_count": 8,
     "metadata": {},
     "output_type": "execute_result"
    },
    {
     "data": {
      "text/plain": [
       "val copie_transition_test : int array array =\n",
       "  [|[|1; 2|]; [|-1; 2|]; [|3; -1|]; [|-1; -1|]|]\n"
      ]
     },
     "execution_count": 8,
     "metadata": {},
     "output_type": "execute_result"
    },
    {
     "name": "stdout",
     "output_type": "stream",
     "text": [
      "test 2\n"
     ]
    },
    {
     "data": {
      "text/plain": [
       "- : unit = ()\n"
      ]
     },
     "execution_count": 8,
     "metadata": {},
     "output_type": "execute_result"
    },
    {
     "data": {
      "text/plain": [
       "- : unit = ()\n"
      ]
     },
     "execution_count": 8,
     "metadata": {},
     "output_type": "execute_result"
    },
    {
     "data": {
      "text/plain": [
       "- : int array array * int array array =\n",
       "([|[|2; 2|]; [|-1; 2|]; [|3; -1|]; [|-1; -1|]|],\n",
       " [|[|2; 2|]; [|-1; 2|]; [|3; -1|]; [|-1; -1|]|])\n"
      ]
     },
     "execution_count": 8,
     "metadata": {},
     "output_type": "execute_result"
    }
   ],
   "source": [
    "let transition_test = [| [| 1;  0|]; (* transitions pour l'état 0 *)\n",
    "                         [|-1;  2|]; (* transitions pour l'état 1 *)\n",
    "                         [| 3; -1|]; (* transitions pour l'état 2 *) \n",
    "                         [|-1; -1|]; (* transitions pour l'état 3 *)\n",
    "                         |];;\n",
    "                         \n",
    "let copie_transition_test = Array.copy transition_test;;\n",
    "(* modification de transition_test SANS conséquence sur la copie : *)\n",
    "print_string \"test 1\";print_newline ();;\n",
    "transition_test.(0) <- [| 1; 2|];;\n",
    "transition_test, copie_transition_test;;\n",
    "\n",
    "let copie_transition_test = Array.copy transition_test;;\n",
    "(* modification de transition_test AVEC conséquence sur la copie : *)\n",
    "print_string \"test 2\";print_newline ();;\n",
    "transition_test.(0).(0) <- 2;;\n",
    "transition_test, copie_transition_test;;"
   ]
  },
  {
   "cell_type": "markdown",
   "metadata": {},
   "source": [
    "En conséquence, **il convient de remplir le nouveau tableau des transitions avec des copies des** ***lignes*** **du tableau de transition en entrée.**  \n",
    "D'où l'implémentation suivante :"
   ]
  },
  {
   "cell_type": "code",
   "execution_count": 9,
   "metadata": {},
   "outputs": [
    {
     "data": {
      "text/plain": [
       "val copie_afdr : afdr -> afdr = <fun>\n"
      ]
     },
     "execution_count": 9,
     "metadata": {},
     "output_type": "execute_result"
    }
   ],
   "source": [
    "let copie_afdr a = \n",
    "    let a' = {final = Array.copy a.final;\n",
    "              transition = Array.copy a.transition;\n",
    "              repli = Array.copy a.repli}\n",
    "    in\n",
    "    for i=0 to Array.length a'.final - 1 do\n",
    "        a'.transition.(i) <- Array.copy a'.transition.(i) (* on remplace chaque ligne par une copie *)\n",
    "    done;\n",
    "    a';;"
   ]
  },
  {
   "cell_type": "code",
   "execution_count": 10,
   "metadata": {},
   "outputs": [
    {
     "data": {
      "text/plain": [
       "val automate_A1 : afdr =\n",
       "  {final = [|false; false; false; true|];\n",
       "   transition = [|[|1; 0|]; [|-1; 2|]; [|3; -1|]; [|-1; -1|]|];\n",
       "   repli = [|0; 0; 0; 1|]}\n"
      ]
     },
     "execution_count": 10,
     "metadata": {},
     "output_type": "execute_result"
    },
    {
     "data": {
      "text/plain": [
       "val automate_A1_copie : afdr =\n",
       "  {final = [|false; false; false; true|];\n",
       "   transition = [|[|1; 0|]; [|-1; 2|]; [|3; -1|]; [|-1; -1|]|];\n",
       "   repli = [|0; 0; 0; 1|]}\n"
      ]
     },
     "execution_count": 10,
     "metadata": {},
     "output_type": "execute_result"
    },
    {
     "data": {
      "text/plain": [
       "- : unit = ()\n"
      ]
     },
     "execution_count": 10,
     "metadata": {},
     "output_type": "execute_result"
    },
    {
     "data": {
      "text/plain": [
       "- : afdr * afdr =\n",
       "({final = [|false; false; false; true|];\n",
       "  transition = [|[|2; 0|]; [|-1; 2|]; [|3; -1|]; [|-1; -1|]|];\n",
       "  repli = [|0; 0; 0; 1|]},\n",
       " {final = [|false; false; false; true|];\n",
       "  transition = [|[|1; 0|]; [|-1; 2|]; [|3; -1|]; [|-1; -1|]|];\n",
       "  repli = [|0; 0; 0; 1|]})\n"
      ]
     },
     "execution_count": 10,
     "metadata": {},
     "output_type": "execute_result"
    }
   ],
   "source": [
    "(* Vérification du non-partage de données entre l'original et la copie *)\n",
    "let automate_A1 = {\n",
    "    final = [|false; false; false; true|];\n",
    "    transition = [| [| 1;  0|]; (* transitions pour l'état 0 *)\n",
    "                    [|-1;  2|]; (* transitions pour l'état 1 *)\n",
    "                    [| 3; -1|]; (* transitions pour l'état 2 *) \n",
    "                    [|-1; -1|]; (* transitions pour l'état 3 *)\n",
    "                    |];\n",
    "    repli = [|    0;     0;     0;     1|]\n",
    "};;\n",
    "let automate_A1_copie = copie_afdr automate_A1;;\n",
    "\n",
    "automate_A1.transition.(0).(0) <- 2;;\n",
    "automate_A1, automate_A1_copie;;"
   ]
  },
  {
   "cell_type": "markdown",
   "metadata": {},
   "source": [
    "Pour préparer la réponse à la question **11** sur la complexité, notons que les copies des tableaux `final` et `repli` ont ici une complexité en $O(k)$ ($k$ le nombre d'états de l'automate), la copie initiale du tableau `transition` une complexité $O\\left(k\\right)$ (copie de $k$ références aux lignes du tableau `transition`).  \n",
    "À ces complexités s'ajoutent $k$ copies des *lignes* du tableau `transition` de l'ADFR en entrée, chaque copie ayant une complexité en $O(\\lambda)$, d'où une complexité additionnelle en $O\\left(k\\times\\lambda\\right)$.  \n",
    "D'où une complexité totale de la fonction `copie_afdr`\n",
    "en $O(k) + O(k) + O(k) + O\\left(k\\times\\lambda\\right) = O\\left(k\\times\\lambda\\right)$."
   ]
  },
  {
   "cell_type": "markdown",
   "metadata": {},
   "source": [
    "*Note :* une version alternative de la fonction `copie_afdr` (de même complexité) pourrait être la suivante (mais cette version nécessite le même re-traitement des *lignes* du tableau `transition`) :"
   ]
  },
  {
   "cell_type": "code",
   "execution_count": 11,
   "metadata": {},
   "outputs": [
    {
     "data": {
      "text/plain": [
       "val copie2_afdr : afdr -> afdr = <fun>\n"
      ]
     },
     "execution_count": 11,
     "metadata": {},
     "output_type": "execute_result"
    }
   ],
   "source": [
    "let copie2_afdr a = \n",
    "    let a' = {final = Array.copy a.final;\n",
    "              transition = Array.make (Array.length a.transition)                   (* <- ici la modification *)\n",
    "                                      (Array.make (Array.length a.transition.(0)) 0);\n",
    "              repli = Array.copy a.repli}\n",
    "    in\n",
    "    for i=0 to Array.length a'.final - 1 do\n",
    "        a'.transition.(i) <- Array.copy a'.transition.(i) (* on remplace chaque ligne par une copie *)\n",
    "    done;\n",
    "    a';;"
   ]
  },
  {
   "cell_type": "markdown",
   "metadata": {},
   "source": [
    "*Note :* le moyen rapide de ne pas avoir à re-créer les lignes de la matrice `transition` sera de faire appel à la fonction <a href=\"https://www.ocaml.org/api/Array.html\">`make_matrix`</a> du module `Array`, mais celle-ci n'est pas *autorisée* par l'énoncé."
   ]
  },
  {
   "cell_type": "markdown",
   "metadata": {},
   "source": [
    "<span style=\"font-size:20px;font-family:'Times New Roman', Times, serif;\">&#10066;\n",
    "11\n",
    "&ndash;</span>\n",
    "Il s'agit de produire un nouvel automate, de type `afdr` mais dont la fonction de transition est une fonction totale (chaque couple $(q, \\alpha)$ a une transition définie dans la matrice des `transitions`).  \n",
    "Il s'agit de remplacer chaque valeur $-1$ dans le tableau des transitions par la transition $\\delta(\\rho^{j_{q,\\alpha}}(q), \\alpha)$ (définie en **question 8**), dont la valeur est obtenue par itération de la fonction de repli.  \n",
    "On fera préliminairement appel à la fonction `copie_afdr`, et on opérera sur cette copie pour effectuer ces modifications, sans altérer l'implémentation de l'AFDR en entrée.  \n",
    "On pourra définir une fonction auxiliaire `iter_repli` afin de déterminer la valeur de $\\delta(\\rho^{j_{q,\\alpha}}(q), \\alpha)$ pour les transitions non définies pour l'AFDR en entrée.  \n",
    "Comme le type `afdr` est utilisé aussi pour l'AFDC construit, mais que le tableau `repli` n'y est d'aucune utilité, on définira ce tableau de sorte que, pour chaque état $q$, `repli.(q)`$=q$, afin de garder une cohérence à la définition du tableau `repli`."
   ]
  },
  {
   "cell_type": "code",
   "execution_count": 12,
   "metadata": {},
   "outputs": [
    {
     "data": {
      "text/plain": [
       "val enleve_repli_v0 : afdr -> afdr = <fun>\n"
      ]
     },
     "execution_count": 12,
     "metadata": {},
     "output_type": "execute_result"
    }
   ],
   "source": [
    "let enleve_repli_v0 a =\n",
    "    let rec iter_repli q alpha =\n",
    "        let etat_suivant = a.transition.(q).(alpha) in\n",
    "            if etat_suivant <> -1 then etat_suivant else iter_repli a.repli.(q) alpha\n",
    "    in\n",
    "    let a' = copie_afdr a\n",
    "    in\n",
    "    (* mise à jour de la matrice de transition pour a' *)\n",
    "    for q = 0 to Array.length a.final - 1 do\n",
    "        for alpha = 0 to Array.length a.transition.(0) - 1 do\n",
    "            a'.transition.(q).(alpha) <- iter_repli q alpha\n",
    "        done;\n",
    "    done;\n",
    "    (* adaptation du tableau repli pour a' (non nécessaire) *)\n",
    "    for q = 0 to Array.length a'.repli - 1 do\n",
    "        a'.repli.(q) <- q\n",
    "    done;\n",
    "    a';;"
   ]
  },
  {
   "cell_type": "code",
   "execution_count": 13,
   "metadata": {},
   "outputs": [
    {
     "data": {
      "text/plain": [
       "val automate_A1 : afdr =\n",
       "  {final = [|false; false; false; true|];\n",
       "   transition = [|[|1; 0|]; [|-1; 2|]; [|3; -1|]; [|-1; -1|]|];\n",
       "   repli = [|0; 0; 0; 1|]}\n"
      ]
     },
     "execution_count": 13,
     "metadata": {},
     "output_type": "execute_result"
    },
    {
     "data": {
      "text/plain": [
       "- : afdr =\n",
       "{final = [|false; false; false; true|];\n",
       " transition = [|[|1; 0|]; [|1; 2|]; [|3; 0|]; [|1; 2|]|];\n",
       " repli = [|0; 1; 2; 3|]}\n"
      ]
     },
     "execution_count": 13,
     "metadata": {},
     "output_type": "execute_result"
    }
   ],
   "source": [
    "(* test *)\n",
    "let automate_A1 = {\n",
    "    final = [|false; false; false; true|];\n",
    "    transition = [| [| 1;  0|]; (* transitions pour l'état 0 *)\n",
    "                    [|-1;  2|]; (* transitions pour l'état 1 *)\n",
    "                    [| 3; -1|]; (* transitions pour l'état 2 *) \n",
    "                    [|-1; -1|]; (* transitions pour l'état 3 *)\n",
    "                    |];\n",
    "    repli = [|    0;     0;     0;     1|]\n",
    "};;\n",
    "enleve_repli_v0 automate_A1;;"
   ]
  },
  {
   "cell_type": "markdown",
   "metadata": {},
   "source": [
    "**Analyse de complexité :**  \n",
    "\\begin{itemize}\n",
    "\\item un appel à la fonction auxiliaire `iter_repli` a un complexité au plus $k-1$ (au plus $q$ appels récursifs pour atteindre l'état $0$ à partir d'un état $q\\in[\\![1; k-1]\\!]$, pour lequel toutes les transitions sont, par hypothèse, définies, ce qui advient si pour tout $q$ $\\rho(q)=q-1$) ;\n",
    "\\item l'appel à la fonction `copie_afdr` a une complexité $O\\left(k\\times\\lambda\\right)$ (pire cas) ;\n",
    "\\item les deux boucles imbriquées d'indices `q` et `alpha` ont une complexité dans le pire cas \n",
    "$k\\times \\lambda \\times (k-1)$ ($k\\times \\lambda$ appels à la fonction `iter_repli`\n",
    "\\item la boucle terminale d'indice $q$ a une complexité $O(k)$ (mise à jour des $k$ valeurs du tableau).\n",
    "\\end{itemize}\n",
    "En l'état, la fonction `enleve_repli` a une complexité, dans le pire cas, \n",
    "$O\\left(k\\times\\lambda\\right) + O\\left(k\\times \\lambda \\times (k-1)\\right) + O(k)\n",
    "= O\\left(k^2\\times \\lambda\\right)$. **Ce qui ne respecte pas la consigne.**"
   ]
  },
  {
   "cell_type": "markdown",
   "metadata": {},
   "source": [
    "On note que la complexité excédentaire est due à l'appel répété à la fonction `iter_repli`.  \n",
    "C'est donc cette étape qu'il faut optimiser.  \n",
    "On ne peut échapper à la nécessité de mettre à jour chaque coefficient de la matrice de transition le nécessitant, soit, dans le pire cas, $k\\times \\lambda$ mises à jour, donc le seul levier est une optimisation de la recherche de la première transition définie pour un état et un symbole donné.  "
   ]
  },
  {
   "cell_type": "markdown",
   "metadata": {},
   "source": [
    "Pour cela, on va rechercher, pour chaque $\\alpha\\in\\Sigma$, et $\\alpha$ étant fixé,\n",
    "pour chaque état $q$, de $q=0$ à $q=k-1$,\n",
    "le premier état $q'\\leqslant q$, pour lequel la transition $\\delta(q', \\alpha)$ est définie.  "
   ]
  },
  {
   "cell_type": "code",
   "execution_count": 14,
   "metadata": {},
   "outputs": [
    {
     "data": {
      "text/plain": [
       "val enleve_repli : afdr -> afdr = <fun>\n"
      ]
     },
     "execution_count": 14,
     "metadata": {},
     "output_type": "execute_result"
    },
    {
     "data": {
      "text/plain": [
       "- : afdr =\n",
       "{final = [|false; false; false; true|];\n",
       " transition = [|[|1; 0|]; [|1; 2|]; [|3; 0|]; [|1; 2|]|];\n",
       " repli = [|0; 0; 0; 1|]}\n"
      ]
     },
     "execution_count": 14,
     "metadata": {},
     "output_type": "execute_result"
    }
   ],
   "source": [
    "let enleve_repli a =\n",
    "    let a' = copie_afdr a\n",
    "    in\n",
    "    (* mise à jour de la matrice de transition pour a' *)\n",
    "    for alpha = 0 to Array.length a.transition.(0) - 1 do\n",
    "        for q = 0 to Array.length a.final - 1 do\n",
    "            if a'.transition.(q).(alpha) = -1 then \n",
    "                a'.transition.(q).(alpha) <- a'.transition.(a.repli.(q)).(alpha) \n",
    "        done;\n",
    "    done;\n",
    "    a';;\n",
    "\n",
    "(* test *)\n",
    "let automate_A1 = {\n",
    "    final = [|false; false; false; true|];\n",
    "    transition = [| [| 1;  0|]; (* transitions pour l'état 0 *)\n",
    "                    [|-1;  2|]; (* transitions pour l'état 1 *)\n",
    "                    [| 3; -1|]; (* transitions pour l'état 2 *) \n",
    "                    [|-1; -1|]; (* transitions pour l'état 3 *)\n",
    "                    |];\n",
    "    repli = [|    0;     0;     0;     1|]}\n",
    "in\n",
    "enleve_repli automate_A1;;"
   ]
  },
  {
   "cell_type": "markdown",
   "metadata": {},
   "source": [
    "**Analyse de complexité :**  \n",
    "On a ainsi remplacé dans les boucles imbriquées l'appel à `iter_repli` par une composition d'opérations de complexité constante, ce qui permet d'atteindre l'objectif de complexité fixé par la consigne."
   ]
  },
  {
   "cell_type": "markdown",
   "metadata": {},
   "source": [
    "<span style=\"font-size:20px;font-family:'Times New Roman', Times, serif;\">&#10066;\n",
    "12\n",
    "&ndash;</span>\n",
    "Si on connaît l'état, $q$, atteint après lecture des $i$ premiers caractères d'un mot $u$ de longueur $n$ ($1\\leqslant i< n$), alors la connaissance de l'état atteint après lecture du ${i+1}^{\\textit ème}$ se fait par une opération de complexité constante (accès à la valeur de `a.transition.(q).(j)` où $j$ est la position du caractère $u_{i+1}$ dans l'alphabet $\\Sigma$.  \n",
    "Ainsi, pourvu que l'on maintienne à jour une variable `etat`, donnant l'état atteint par l'automate, un parcours du mot en entrée permet de calculer les différents états de l'automate et d'ajouter à une liste initialisée à une liste vide, les indices $i$ pour lesquels c'est un état final qui est atteint après lecture du préfixe $u_1\\dots u_n$.  \n",
    "Ce qui donne, mis en forme, l'algorithme suivant, pour l'analyse d'un mot $u$ de longueur $n\\geqslant 1$ :\n",
    "\\begin{enumerate}\n",
    "\\item Initialiser un tableau `mot` avec les codes des symboles du mot à analyser (mot[i] donne le code de $u_i$) ;\n",
    "\\item Initialiser une variable entière `etat_courant` à zéro (zéro est l'état initial) ;\n",
    "\\item Initialiser une liste `acceptes` à la liste vide (on enregistrera dans cette liste les indices $i$, $0\\leqslant i\\leqslant n$) tels que $u_1\\dots u_i$ est accepté par l'automate ;\n",
    "\\item Pour $i$ variant de $1$ à $n$ faire {\\begin{itemize}\n",
    "\\item affecter à `etat_courant` la valeur de l'état atteint par l'automate à partir de l'état `etat_courant` suite à la lecture du symbole $u_i$ (comme l'automate est supposé être un AFDC cette valeur est toujours définie) ; \n",
    "\\item si `etat_courant` est un état final, alors ajouter $i$ à la liste `acceptes` \n",
    "\\end{itemize}\n",
    "} fin faire\n",
    "\\end{enumerate}\n",
    "La construction du tableau `mot` a une complexité $O(n)$, les deux autres initialisations sont de coût $O(1)$.  \n",
    "La boucle d'indice $i$ est la répétition, $n$ fois, d'opérations de coût constant $O(1)$ en nombre fini borné, donc sa complexité est en $O(n)$.  \n",
    "L'algorithme complet est donc de complexité $O(n)$.  "
   ]
  },
  {
   "cell_type": "markdown",
   "metadata": {},
   "source": [
    "<span style=\"font-size:20px;font-family:'Times New Roman', Times, serif;\">&#10066;\n",
    "13\n",
    "&ndash;</span>\n",
    "La fonction `occurrences` implémente l'algorithme décrit à la question précédente (hormis le codage initial du mot à analyser)."
   ]
  },
  {
   "cell_type": "code",
   "execution_count": 15,
   "metadata": {},
   "outputs": [
    {
     "data": {
      "text/plain": [
       "val occurrences_v0 : afdr -> int list -> int list = <fun>\n"
      ]
     },
     "execution_count": 15,
     "metadata": {},
     "output_type": "execute_result"
    },
    {
     "data": {
      "text/plain": [
       "- : int list = [5; 3]\n"
      ]
     },
     "execution_count": 15,
     "metadata": {},
     "output_type": "execute_result"
    }
   ],
   "source": [
    "let occurrences_v0 a mot =\n",
    "    let mot = Array.of_list mot in\n",
    "    let etat_courant, acceptes = ref 0, ref []\n",
    "    in\n",
    "    for i = 1 to Array.length mot do\n",
    "        etat_courant := a.transition.(!etat_courant).(mot.(i - 1));\n",
    "        if a.final.(!etat_courant) then acceptes := i::!acceptes\n",
    "    done;\n",
    "    !acceptes (* ou bien :  List.rev !acceptes *);; \n",
    "\n",
    "(* test *)\n",
    "let mot = [0; 1; 0; 1; 0] (* codage du mot \"ababa\" sur l'alphabet {a, b} *)\n",
    "in\n",
    "occurrences_v0 (enleve_repli automate_A1) mot;;"
   ]
  },
  {
   "cell_type": "markdown",
   "metadata": {},
   "source": [
    "**Dans l'implémentation proposée ci-dessus**, on obtient la liste demandée, mais triée dans l'ordre décroissant.  \n",
    "Ce que l'on peut corriger en renversant la liste avant de la renvoyer, par un appel à la fonction `List.reverse`, de complexité $O(n)$ dans le pire cas (celui où tous les préfixes sont acceptés).  \n",
    "**On peut encore proposer une implémentation à l'aide d'une fonction auxiliaire récursive (se substituant à la boucle\n",
    "d'indice $i$), dans laquelle la liste se construit d'emblée comme un liste croissante d'entiers :**"
   ]
  },
  {
   "cell_type": "code",
   "execution_count": 16,
   "metadata": {},
   "outputs": [
    {
     "data": {
      "text/plain": [
       "val occurrences_v1 : afdr -> int list -> int list = <fun>\n"
      ]
     },
     "execution_count": 16,
     "metadata": {},
     "output_type": "execute_result"
    },
    {
     "data": {
      "text/plain": [
       "- : int list = [3; 5]\n"
      ]
     },
     "execution_count": 16,
     "metadata": {},
     "output_type": "execute_result"
    }
   ],
   "source": [
    "let occurrences_v1 a mot =\n",
    "    let mot = Array.of_list mot in\n",
    "    let n = Array.length mot in\n",
    "    let rec aux i etat_courant = match i with\n",
    "        | i when i = n -> []\n",
    "        | _ -> let etat_suivant =  a.transition.(etat_courant).(mot.(i))\n",
    "               in\n",
    "               if a.final.(etat_suivant) then (i + 1)::(aux (i + 1) etat_suivant)\n",
    "               else aux (i + 1) etat_suivant\n",
    "    in\n",
    "    aux 0 0;;\n",
    "\n",
    "(* test *)\n",
    "let mot = [0; 1; 0; 1; 0] (* codage du mot \"ababa\" sur l'alphabet {a, b} *)\n",
    "in\n",
    "occurrences_v1 (enleve_repli automate_A1) mot;;"
   ]
  },
  {
   "cell_type": "markdown",
   "metadata": {},
   "source": [
    "La complexité de la fonction est en $O(n)$ (d'après l'analyse de la **question 12** et indépendante du nombre d'états de l'automate et du nombre de caractères de l'alphabet (parce que l'AFDC et le mot ont été codés en amont de l'appel à la fonction)."
   ]
  },
  {
   "cell_type": "markdown",
   "metadata": {},
   "source": [
    "**On peut également (et cela sera sans doute préféré) proposer une implémentation dans laquelle la liste `mot` n'est pas transformée en tableau :**"
   ]
  },
  {
   "cell_type": "code",
   "execution_count": 17,
   "metadata": {},
   "outputs": [
    {
     "data": {
      "text/plain": [
       "val occurrences : afdr -> int list -> int list = <fun>\n"
      ]
     },
     "execution_count": 17,
     "metadata": {},
     "output_type": "execute_result"
    },
    {
     "data": {
      "text/plain": [
       "- : int list = [3; 5]\n"
      ]
     },
     "execution_count": 17,
     "metadata": {},
     "output_type": "execute_result"
    }
   ],
   "source": [
    "let occurrences a mot =\n",
    "    let rec aux etat_courant i lstmot = match lstmot with\n",
    "        | [] -> []\n",
    "        | u::t -> let etat_suivant =  a.transition.(etat_courant).(u)\n",
    "                  in\n",
    "                  if a.final.(etat_suivant) then i::(aux etat_suivant (i + 1) t)\n",
    "                  else aux etat_suivant (i + 1) t\n",
    "    in\n",
    "    aux 0 1 mot;;\n",
    "\n",
    "(* test *)\n",
    "let mot = [0; 1; 0; 1; 0] (* codage du mot \"ababa\" sur l'alphabet {a, b} *)\n",
    "in\n",
    "occurrences (enleve_repli automate_A1) mot;;"
   ]
  },
  {
   "cell_type": "markdown",
   "metadata": {},
   "source": [
    "<span style=\"font-size:20px;font-family:'Times New Roman', Times, serif;\">&#10066;\n",
    "14\n",
    "&ndash;</span>\n",
    "On effectue ici, d'abord, la vérification (non demandée) de ce que l'automate $\\mathcal A_1$ est bien l'automate KMP du motif \"aba\" sur l'alphabet $\\Sigma = \\{a, b\\}$."
   ]
  },
  {
   "cell_type": "markdown",
   "metadata": {},
   "source": [
    "Pour le motif $s=aba$, on a $k=3$ et donc $k'=k+1=4$ (l'automate $\\mathcal A_1$ a bien quatre états).  \n",
    "L'automate $\\mathcal A_1$ présente bien un seul état final qui est l'état $k=3$.  \n",
    "Pour tout $1\\leqslant i\\leqslant k$, *i.e.* $1\\leqslant i\\leqslant 3$, on vérifie que :\n",
    "\\begin{itemize}\n",
    "\\item pour $i=1$ : $\\; \\delta(i-1, u_i) = \\delta(0, u_1) = \\delta(0, 0) = 1 = i$ ;\n",
    "\\item pour $i=2$ : $\\; \\delta(i-1, u_i) = \\delta(1, u_2) = \\delta(1, 1) = 2 = i$ ;\n",
    "\\item pour $i=3$ : $\\; \\delta(i-1, u_i) = \\delta(2, u_3) = \\delta(2, 0) = 3 = i$.\n",
    "\\end{itemize}\n",
    "Et, pour tout $\\alpha\\in\\Sigma\\setminus\\left{u_1\\right}$, *i.e.* pour $\\alpha = 1$ :\n",
    "$\\quad\\delta(0, \\alpha) = \\delta(0, 1) = 0$.  \n",
    "\n",
    "Quant à la fonction de repli, $\\rho$, on peut examiner pour tout $1\\leqslant i\\leqslant k$, *i.e.* pour tout\n",
    "$1\\leqslant i\\leqslant 3$, le plus grand entier naturel $0\\leqslant j< i$ tel que $u_1\\dots u_j$ est un ***suffixe*** de $u_1\\dots u_i$ :  \n",
    "\\begin{itemize}\n",
    "\\item pour $i=1$ : on cherche le plus grand $0\\leqslant j< i$ tel que $u_1\\dots u_j$ est un suffixe de\n",
    "$u_1\\dots u_i=\"a\"$ ; c'est la valeur $j=0$ qui convient, donc $\\rho(1)=0$ ;\n",
    "\\item pour $i=2$ : on cherche le plus grand $0\\leqslant j< i$ tel que $u_1\\dots u_j$ est un suffixe de\n",
    "$u_1\\dots u_i=\"ab\"$ ; c'est la valeur $j=0$ qui convient, donc $\\rho(2)=0$ ;\n",
    "\\item pour $i=3$ : on cherche le plus grand $0\\leqslant j< i$ tel que $u_1\\dots u_j$ est un suffixe de\n",
    "$u_1\\dots u_i=\"aba\"$ ; c'est la valeur $j=1$ \n",
    "qui convient (le préfixe $\"a\"$ est le plus long préfixe du motif $s$\n",
    "qui soit un suffixe du préfixe \"aba\" du motif $s$), donc $\\rho(3)=1$.\n",
    "\\end{itemize}"
   ]
  },
  {
   "cell_type": "markdown",
   "metadata": {},
   "source": [
    "**Déterminons maintenant l'automate KMP, noté ici $\\mathcal A'_1$, associé au motif $s'=\"ababc\"$ sur l'alphabet $\\Sigma'=\\left{a,b,c\\right}$**.  \n",
    "\n",
    "Pour le motif $s'=u'_1\\dots u'_{k'}=\"ababc\"$, on a $k'=5$ : l'automate $\\mathcal A'_1$\n",
    "devra donc présenter $5+1=6$ états, numérotés de $0$ à $5$.  \n",
    "L'automate $\\mathcal A'_1$ présentera un seul état final, l'état numéroté $k'=5$.  \n",
    "\n",
    "Pour tout $1\\leqslant i\\leqslant k'$, *i.e.* $1\\leqslant i\\leqslant 5$, on devra avoir $\\delta'(i-1, u_i)=i$, soit \n",
    "$$\n",
    "\\delta'(0, u_1)=\\delta'(0, 0)=1 ; \\;\n",
    "\\delta'(1, u_2)=\\delta'(1, 1)=2 ; \\;\n",
    "\\delta'(2, u_3)=\\delta'(2, 0)=3 ; \\;\n",
    "\\delta'(3, u_4)=\\delta'(3, 1)=4 ; \\;\n",
    "\\delta'(4, u_5)=\\delta'(4, 2)=5.\n",
    "$$\n",
    "  \n",
    "Et, pour tout $\\alpha\\in\\Sigma\\setminus\\left{u_1\\right}$, *i.e.* pour $\\alpha\\in\\left{1, 2\\right}$ :\n",
    "$\\quad\\delta(0, \\alpha) = 0$, soit, explicitement :\n",
    "$$\n",
    "\\delta'(0, 1)=0; \\;\n",
    "\\delta'(0, 2)=0.\n",
    "$$\n",
    "  \n",
    "Les autres transitions ne seront pas définies.  \n",
    "  \n",
    "Pour la fonction de repli, $\\rho'$, on peut examiner pour tout $1\\leqslant i\\leqslant k'$, *i.e.* pour tout\n",
    "$1\\leqslant i\\leqslant 5$, le plus grand entier naturel $0\\leqslant j< i$ tel que $u_1\\dots u_j$ est un ***suffixe*** de $u_1\\dots u_i$, ce qui revient à chercher le plus grand préfixe ***strict*** de $u_1\\dots u_i$\n",
    "qui soit aussi un suffixe de $u_1\\dots u_i$ :  \n",
    "\\begin{itemize}\n",
    "\\item pour $i=1$ : $u_1\\dots u_i=\"a\"$, qui admet, pour plus long préfixe strict, uniquement le mot vide,\n",
    "donc $j=0$ convient, et $\\rho(1)=0$ (il ne pouvait en être autrement) ; \n",
    "\\item pour $i=2$ : $u_1\\dots u_i=\"ab\"$ admet un seul préfixe strict non réduit au mot vide, qui est $\"a\"$ qui n'est pas un suffixe $\"ab\"$, donc $j=0$ et $\\rho(2)=0$ ;   \n",
    "\\item pour $i=3$ : $u_1\\dots u_i=\"aba\"$ admet deux préfixes non vides, $\"a\"$ et $\"ab\"$, parmi lesquels seul\n",
    "$\"a\"$ est un suffixe de $\"aba\"$, donc $j=1$ et $\\rho(3)=1$ ;  \n",
    "\\item pour $i=4$ : $u_1\\dots u_i=\"abab\"$ admet trois préfixes non vides, $\"a\"$, $\"ab\"$ et $\"aba\"$, parmi lesquels seul\n",
    "$\"ab\"$ est un suffixe de $\"abab\"$, donc $j=2$ et $\\rho(4)=2$ ;  \n",
    "\\item pour $i=5$ : $u_1\\dots u_i=\"ababc\"$ admet quatre préfixes non vides, $\"a\"$, $\"ab\"$, $\"aba\"$ et $\"abab\"$, parmi lesquels aucun n'est un suffixe de $\"ababc\"$, donc $j=0$ et $\\rho(5)=0$.\n",
    "\\end{itemize}\n"
   ]
  },
  {
   "cell_type": "markdown",
   "metadata": {},
   "source": [
    "<img src =\"https://github.com/lbaille20/OptionInfo2A_2020-21/raw/main/DS04_concours_blanc/DS04-fig04-1_KMP_pour_ababc.jpg\" width=\"50%\"\n",
    "/>"
   ]
  },
  {
   "cell_type": "markdown",
   "metadata": {},
   "source": [
    "<img src =\"https://github.com/lbaille20/OptionInfo2A_2020-21/raw/main/DS04_concours_blanc/DS04-fig04-2_AFDC_associ%C3%A9_%C3%A0_KMP_pour_ababc.jpg\"\n",
    "width=\"50%\"/>"
   ]
  },
  {
   "cell_type": "markdown",
   "metadata": {},
   "source": [
    "### Prélimaire à la question 15 (et à la suite du problème)"
   ]
  },
  {
   "cell_type": "markdown",
   "metadata": {},
   "source": [
    "Commençons par une remarque générale sur le passage d'un AFDR $\\mathcal A$ à l'AFDC $\\mathcal A'$ qui lui est associé, en l'appliquant à un ADFR KMP.  \n",
    "On note $\\delta$ la fonction de transition de $\\mathcal A$ et $\\delta'$ celle de $\\mathcal A'$.  \n",
    "\n",
    "Si l'automate $\\mathcal A$ (AFDR) se trouve dans un état $q$ et que l'on lit un caractère $\\alpha$, alors :\n",
    "\\begin{itemize}\n",
    "\\item si la transition $\\delta(q, \\alpha)$ est définie, alors l'automate passe à l'état indiqué par la transition, ce qui signifie, pour un automate KMP, si $q<k$, que $\\alpha=u_{q+1}$ et que l'on passe à l'état $q+1$ (on rappelle que si $q=k$, alors aucune transition n'est définie).\n",
    "\\item si la transition n'est pas définie (ce qui signifie, pour un automate KMP, que $q=k$ ou, si $q<k$, que $\\alpha\\neq u_{q+1}$), alors l'automate passe à l'état $q'$ tel que $q'=\\delta(\\rho^j(q), \\alpha)$ où $j\\geqslant 1$ est le plus petit entier $j$ tel que la transition $\\delta(\\rho^j(q), \\alpha)$ soit définie.  \n",
    "\\end{itemize}\n",
    "On peut noter que le premier cas se ramène au second si l'on note $\\rho^0$ l'identité sur $[\\![0, k]\\!]$ (ce que fait l'énoncé).  "
   ]
  },
  {
   "cell_type": "markdown",
   "metadata": {},
   "source": [
    "On rappelle que pour $i=0$, $\\rho(i)=0$, et que pour tout $1\\leqslant i\\leqslant k$, $\\rho(i)$ est le plus grand entier $0\\leqslant j <i$ tel que $u_1\\dots u_j$ soit un suffixe de $u_1\\dots u_i$.  \n",
    "On peut dire encore que, pour tout $1\\leqslant i\\leqslant k$,\n",
    "$$\n",
    "u_1\\dots u_{\\rho(i)} \\; \\text{est le plus long préfixe strict de } u_1\\dots u_i \\text{ qui soit aussi un \n",
    "suffixe de } u_1\\dots u_i.\n",
    "$$\n",
    "$\\rho(i)$ étant la longueur de $u_1\\dots u_{\\rho(i)}$, il est encore équivalent de dire que, pour tout $1\\leqslant i\\leqslant k$,\n",
    "$$\n",
    "\\rho(i)\\text{ est le plus grand entier inférieur strictement à $i$ tel que } u_1\\dots u_{\\rho(i)} \\text{ soit  un \n",
    "suffixe de } u_1\\dots u_i.\n",
    "$$"
   ]
  },
  {
   "cell_type": "markdown",
   "metadata": {},
   "source": [
    "Il s'ensuit que, de même, pour $\\rho^2(i)=\\rho(\\rho(i))$, si $\\rho(i)>0$ :\n",
    "$$\n",
    "\\rho^2(i)\\text{ est le plus grand entier inférieur strictement à $\\rho(i)$ tel que } u_1\\dots u_{\\rho^2(i)} \\text{ soit  un \n",
    "suffixe de } u_1\\dots u_{\\rho(i)}.\n",
    "$$"
   ]
  },
  {
   "cell_type": "markdown",
   "metadata": {},
   "source": [
    "Comme $u_1\\dots u_{\\rho(i)}$ est lui-même un suffixe de $u_1\\dots u_i$,\n",
    "il est équivalent de dire que :\n",
    "$$\n",
    "\\rho^2(i)\\text{ est le plus grand entier inférieur strictement à $\\rho(i)$ tel que } u_1\\dots u_{\\rho^2(i)} \\text{ soit  un \n",
    "suffixe de } u_1\\dots u_i.\n",
    "$$"
   ]
  },
  {
   "cell_type": "markdown",
   "metadata": {},
   "source": [
    "Par récurrence, il vient alors que, tant que $\\rho^{j-1}(i)>0$ :\n",
    "$$\n",
    "\\rho^j(i)\\text{ est le plus grand entier inférieur strictement à $\\rho^{j-1}(i)$ tel que } u_1\\dots u_{\\rho^j(i)} \\text{ soit  un \n",
    "suffixe de } u_1\\dots u_i.\n",
    "$$"
   ]
  },
  {
   "cell_type": "markdown",
   "metadata": {},
   "source": [
    "Ainsi, si on note $j_i$ le plus petit $j$ tel que $\\rho^{j_i}(i)=0$, \n",
    "<div>\n",
    "la suite d'états $i, \\rho(i),\\dots, \\rho^{j_i}(i)$ est la suite d'entiers telle que la suite \n",
    "$\\left(u_1\\dots u_{\\rho^k(i)}\\right)_{0\\leqslant k\\leqslant j^i}$ soit la suite, ordonnée par longueur décroissante, de tous les préfixes de $u_1\\dots u_i$ qui sont aussi des suffixes de $u_1\\dots u_i$, depuis le préfixe égal à $u_1\\dots u_i$ (pour $k=0$), jusqu'au préfixe égal au mot vide (pour $k=j_i$).</div>"
   ]
  },
  {
   "cell_type": "markdown",
   "metadata": {},
   "source": [
    "Si l'on revient sur la fonction de transition de l'AFDC $\\mathcal A'$, associé à un AFDR KMP $\\mathcal A$ pour un motif $s$ de longueur $k$, pour tout état $q\\in[\\![0, k]\\!]$ et tout caractère $\\alpha$ de l'alphabet :\n",
    "\\begin{itemize}\n",
    "\\item si $q\\geqslant 1$ : la transition $\\delta'(q, \\alpha)$ fait passer à l'état donné par\n",
    "la transition $\\delta(\\rho^j(q), \\alpha)$ pour le plus petit $j$ tel que $\\delta(\\rho^j(q), \\alpha)$ soit  définie, ce qui, dans le cas d'un automate KMP, équivaut au fait que $j$ est le plus petit entier tel que\n",
    "$\\alpha = u_{\\rho^j(q)+1}$, auquel cas l'état suivant de l'automate est l'état\n",
    "$\\rho^j(q)+1$. <div>\n",
    "Compte-tenu de la caractérisation précédente de la suite d'états $i, \\rho(i),\\dots, \\rho^{j_i}(i)$ :\n",
    "    <div style=\"text-align:center\">\n",
    "la transition $\\delta'(q, \\alpha)$ fait passer à l'état donné par\n",
    "la transition $\\delta(\\rho^{j_{q,\\alpha}}(q), \\alpha)$\n",
    "        telle que $\\rho^{j_{q,\\alpha}}(q)$ est le plus grand entier, inférieur ou égal à $q$, tel que</div>\n",
    "    <div style=\"text-align:center\">\n",
    "    $u_1\\dots u_{\\rho^{j_{q,\\alpha}}(q)} $ est un suffixe de $u_1\\dots u_q$ et $\\alpha = u_{\\rho^{j_{q,\\alpha}}(q)+1}$, l'état suivant étant alors l'état $\\rho^{j_{q,\\alpha}}(q)+1$.\n",
    "    </div></div>\n",
    "    En conclusion, l'état suivant de l'automate est l'état $q'\\leqslant q + 1$ tel que $q'-1$ est le plus grand entier tel que :\n",
    "<div style=\"text-align:center\">\n",
    "$u_1\\dots u_{q'-1} $ est un suffixe de $u_1\\dots u_q$  et $\\alpha =u_{q'}$.\n",
    "</div>\n",
    "Si un tel état n'existe pas, l'automate passe à l'état 0.\n",
    "\\item si $q=0$, par définition d'un automate KMP, l'automate passe à l'état 1 si $\\alpha=u_1$ et à l'état 0 sinon.\n",
    "\\end{itemize}"
   ]
  },
  {
   "cell_type": "markdown",
   "metadata": {},
   "source": [
    "On s'intéresse maintenant à la reconnaissance d'un mot, $m$ de longueur $n$, par l'automate KMP associé à un motif $s$.  \n",
    "Pour tout $i$, $0\\leqslant i\\leqslant n$, on note $m_i$ la séquence des $i$ premiers caractères de $m$,\n",
    "et $q_i$ l'éat de l'automate après lecture des $i$ premiers caractères de $m$, *i.e.* après lecture de $m_i$.  \n",
    "On note $i_0$ le plus grand entier $i$ tel que $m_{i_0}$ soit un préfixe du motif $s$. "
   ]
  },
  {
   "cell_type": "markdown",
   "metadata": {},
   "source": [
    "Par définition des transitions de l'automate, et l'état initial étant nécessairement l'état 0, la lecture des $i_0$ premiers caractères de $m$ fait passer l'automate en l'état $i_0$, et, plus généralement, pour tout $i$, $0\\leqslant i\\leqslant i_0$, après lecture des $i$ premiers caractères du mot $m$, l'automate est en l'état $i$.  \n",
    "\n",
    "Ainsi, on peut dire que, pour tout $i$, $0\\leqslant i\\leqslant i_0$ :<div style=\"text-align:center\">\n",
    "$\\left({\\mathcal P}_i\\right)$ l'automate est dans l'état $q_i$ tel que $q_i$ est la longueur du plus grand suffixe de $m_i$ (éventuellement vide) qui soit préfixe de $s$.</div>\n",
    "\n",
    "On va montrer par récurrence que la propriété $\\left({\\mathcal P}_i\\right)$ est vraie pour tout $0\\leqslant i\\leqslant n$. "
   ]
  },
  {
   "cell_type": "markdown",
   "metadata": {},
   "source": [
    "La propriété a déjà été établie au rang 0.  \n",
    "\n",
    "On suppose maintenant qu'elle est vraie pour un rang $i<n$.  \n",
    "\n",
    "En vertu de l'hypothèse de récurrence, l'automate est, après lecture de $m_i$ dans un état $q_i$ tel que \n",
    "$u_1\\dots u_{q_i}$ est le plus long préfixe de $s$ qui soit suffixe de $m_i$.  \n",
    "La lecture du $(i+1)^{\\rm ème}$ caractère de $m$ \n",
    "amène l'automate en un état - si un tel état existe, $q'\\leqslant q_i+1$ tel que $q'-1$ est le plus grand entier tel que :\n",
    "<div style=\"text-align:center\">\n",
    "$u_1\\dots u_{q'-1} $ est un suffixe (éventuellement vide) de $u_1\\dots u_{q_i}$  et $\\alpha =u_{q'}$.\n",
    "</div>\n",
    "Si un tel état n'existe pas, l'automate passe à l'état 0."
   ]
  },
  {
   "cell_type": "markdown",
   "metadata": {},
   "source": [
    "* Si un tel état existe, alors $u_1\\dots u_{q'}$ est encore un préfixe de $s$ (on a ajouté à un préfixe de $s$ son caractère suivant dans $s$), et c'est un suffixe de $m_{i+1}$, puisque l'on a rajouté à un suffixe de $m_i$ le $(i+1)^{\\rm ème}$ caractère de $m$.  \n",
    "S'il existait un préfixe plus long de $s$ qui soit suffixe de $m_{i+1}$, alors ce préfixe, privé de son dernier caractère, serait encore un préfixe de $s$, suffixe de $m_i$, strictement plus long que $u_1\\dots u_{q_i}$, ce qui va à l'encontre de l'hypothèse de récurrence.   \n",
    "On a donc établi que dans ce cas, la propriété ${\\mathcal P}_{i+1}$ est vraie."
   ]
  },
  {
   "cell_type": "markdown",
   "metadata": {},
   "source": [
    "* Si un tel état n'existe pas, c'est qu'il n'existe aucun préfixe strict de $u_1\\dots u_{q_i}$ - fût-il vide, suivi de $\\alpha$ dans $s$, qui soit suffixe de $u_1\\dots u_{q_i}$.  \n",
    "Dans ce cas, l'automate passe à l'état 0.  \n",
    "La propriété ${\\mathcal P}_{i+1}$ est alors bien vérifiée si le plus grand suffixe de $m_{i+1}$ qui soit préfixe de $s$ est le préfixe vide.  \n",
    "Si tel n'était pas le cas, alors il existerait un suffixe de $m_{i+1}$, terminant par $\\alpha$, donc non vide, qui soit préfixe de $s$, et donc un préfixe de $s$, suffixe de $m_i$, éventuellement vide, qui, suivi de $\\alpha$ serait préfixe de $s$, ce qui aurait, en vertu du point précédent, amené l'automate dans un état $q'>0$.  \n",
    "On a donc établi que dans ce cas aussi, la propriété ${\\mathcal P}_{i+1}$ est vraie."
   ]
  },
  {
   "cell_type": "markdown",
   "metadata": {},
   "source": [
    "En conclusion, en vertu du principe de récurrence, il est démontré que <div style=\"text-align:center\">\n",
    "la propriété $\\left({\\mathcal P}_i\\right)$ est vraie pour tout $0\\leqslant i\\leqslant n$. \n",
    "</div>"
   ]
  },
  {
   "cell_type": "markdown",
   "metadata": {},
   "source": [
    "<span style=\"font-size:20px;font-family:'Times New Roman', Times, serif;\">&#10066;\n",
    "15\n",
    "&ndash;</span>\n",
    "Le langage reconnu par l'AFDR $\\mathcal A_s^{\\rm KMP}$ pour un motif $s$ arbitraire est l'ensemble des mots sur l'alphabet $\\Sigma$ qui terminent par le motif $s$."
   ]
  },
  {
   "cell_type": "markdown",
   "metadata": {},
   "source": [
    "La réponse est demandée *sans justification*, une justification, de fait, amène à tenir le raisonnement donné en préliminaire à la question 15.  \n",
    "\n",
    "La propriété ${\\mathcal P}_i$ assure qu'après lecture des $i$ premiers caractères d'un mot $m$, l'automate se trouve dans un état $q_i$ tel que $q_i$ est la longueur du plus grand suffixe de $m_i$ (éventuellement vide) qui soit préfixe de $s$.  \n",
    "Ainsi, l'automate se trouve, après lecture d'un mot $m$ dans l'unique état final $k$ si, et seulement si, la longueur du plus grand prefixe de $s$ qui soit suffixe de $m$ est $k$, *i.e.* si le mot termine par $s$."
   ]
  },
  {
   "cell_type": "markdown",
   "metadata": {},
   "source": [
    "<span style=\"font-size:20px;font-family:'Times New Roman', Times, serif;\">&#10066;\n",
    "16\n",
    "&ndash;</span>\n",
    "On suppose que $s=u_1\\dots u_k$ est un motif et ${\\rm \\mathcal A}=\\left(k+1, F, \\delta, \\rho\\right)$ est l'automate KMP associé à $s$.  \n",
    "On considère un entier $1\\leqslant i\\leqslant k$ et $j\\geqslant 0$ le plus petit entier tel que \n",
    "$\\delta\\left(\\rho^j\\left(\\rho\\left(i-1\\right)\\right), u_i\\right)$ est défini.  \n"
   ]
  },
  {
   "cell_type": "markdown",
   "metadata": {},
   "source": [
    "Par définition d'un automate KMP :\n",
    "\\begin{itemize}\n",
    "\\item une seule transition est définie à partir d'un état $q$, $0\\leqslant q<k$, et il s'agit de la transition étiquétée $u_{q+1}$, qui a pour valeur $q+1$ ;\n",
    "\\item hormis ces transitions, les seules transitions définies sont toutes les autres transitions depuis l'état zéro, étiquetées par les valeurs $u_2, \\dots, u_k$, qui ont pour valeur zéro ;\n",
    "\\item en particulier, il n'existe aucune transition définie à partir de l'état $k$.\n",
    "\\end{itemize}\n",
    "Par ailleurs, pour la fonction de repli :\n",
    "\\begin{itemize}\n",
    "\\item pour tout $1\\leqslant i\\leqslant k$, $\\rho(i)$ est le plus grand entier $j$, $0\\leqslant j<i$, tel que \n",
    "$u_1\\dots u_j$ est un suffixe de $u_1\\dots u_i$, *i.e.*<div style=text-align:center>\n",
    "    $\\rho(i)$ est le plus grand entier tel que \n",
    "$u_1\\dots u_{\\rho(i)}$ est un suffixe strict de $u_1\\dots u_i$ ;</div>\n",
    "\\item pour $i=0$, $\\rho(0)=0$.\n",
    "\\end{itemize}\n",
    "On déduit de cette définition, par récurrence, que (*cf.* prélimaire à la question 15), $j_i$ désignant le plus petit entier tel que $\\rho^j\\left(\\rho(i)\\right)=0$ :\n",
    "<div style=text-align:center>\n",
    "    la suite $\\rho(i), \\rho^2(i), \\dots, \\rho^{j_i}\\left(\\rho(i)\\right)$ est la suite d'entiers telle que \n",
    "    $u_1\\dots u_{\\rho(i)}, u_1\\dots u_{\\rho^2(i)},\\dots u_1\\dots u_{\\rho^{j_i}\\left(\\rho(i)\\right)}$\n",
    "    est la suite, ordonnée par longueur décroissante, de tous les préfixes stricts de $u_1\\dots u_i$, qui sont aussi des suffixes de $u_1\\dots u_i$, le dernier des ces préfixes étant le préfixe vide.\n",
    "    </div>\n",
    "Pour un indice $i$, \\underline{$\\mathbf 2$}$\\leqslant i\\leqslant k$, parmi les états dont les valeurs sont dans la suite finie $\\rho(i-1), \\rho^2(i-1), \\dots, \\rho^{j_{i-1}}\\left(\\rho(i-1)\\right)$ - qui est une suite strictement décroissante dont la première valeur est inférieure strictement à $i-1$, et qui peut se noter\n",
    "$\\left(\\rho^h\\left(\\rho(i-1)\\right)\\right)_{0\\leqslant h\\leqslant j_i-1}$,\n",
    "une transition est définie, étiquetée $u_i$, si, et seulement si, $u_{\\rho^h\\left(\\rho(i-1)\\right)+1}=u_i$.<div>"
   ]
  },
  {
   "cell_type": "markdown",
   "metadata": {},
   "source": [
    "Pour chacune de ces transitions définies :\n",
    "\\begin{itemize}\n",
    "\\item comme $u_1\\dots u_{\\rho^h\\left(\\rho(i-1)\\right)}$ est un préfixe de \n",
    "$u_1\\dots u_{i-1}$ et aussi $u_{\\rho^h\\left(\\rho(i-1)\\right)+1}=u_i$,\n",
    "$u_1\\dots u_{\\rho^h\\left(\\rho(i-1)\\right)}u_{\\rho^h\\left(\\rho(i-1)\\right)+1}$ est aussi un préfixe de $u_1\\dots u_{i}$ ;\n",
    "\\item comme $u_1\\dots u_{\\rho^h\\left(\\rho(i-1)\\right)}$ est un suffixe de $u_1\\dots u_{i-1}$ et aussi \n",
    "$u_{\\rho^h\\left(\\rho(i-1)\\right)+1}=u_i$, $u_1\\dots u_{\\rho^h\\left(\\rho(i-1)\\right)}u_{\\rho^h\\left(\\rho(i-1)\\right)+1}$ est aussi un suffixe de $u_1\\dots u_{i}$.\n",
    "\\end{itemize}"
   ]
  },
  {
   "cell_type": "markdown",
   "metadata": {},
   "source": [
    "La valeur de l'une de ces transitions $\\delta\\left(\\rho^h\\left(\\rho(i-1)\\right), u_i\\right)$ est donc un état,\n",
    "$q=\\rho^h\\left(\\rho(i-1)\\right)+1$,\n",
    "ayant les mêmes propriétés que l'état $\\rho(i)$, à savoir que $u_1\\dots u_q$ est un préfixe de $u_1\\dots u_i$ qui est aussi un suffixe de $u_1\\dots u_i$.  \n",
    "$\\rho(i)$ étant le plus grand entier ayant ces propriétés, \n",
    "on en déduit que l'état $q$ est tel que $q\\leqslant \\rho(i)$."
   ]
  },
  {
   "cell_type": "markdown",
   "metadata": {},
   "source": [
    "Si l'on considère maintenant parmi ces transitions, celle de plus petit indice $h$, en notant $j$ cet indice, et que l'on suppose que \n",
    "$q=\\rho^j\\left(\\rho(i-1)\\right)+1$ est inférieur strictement à $\\rho(i)$, alors, inversement :\n",
    "\\begin{itemize}\n",
    "\\item l'état $\\rho(i)$ étant un état tel que \n",
    "$u_1\\dots u_{\\rho(i)}$ est un préfixe de $u_1\\dots u_i$ de longueur supérieure strictement à $q$, \n",
    "$u_1\\dots u_{\\rho(i)-1}$ serait un préfixe de $u_1\\dots u_{i-1}$ de longueur supérieure strictement \n",
    "à $\\rho^j\\left(\\rho(i-1)\\right)$ ;\n",
    "\\item tandis que $u_1\\dots u_{\\rho(i)}$ est un suffixe de $u_1\\dots u_i$ et donc\n",
    "$u_1\\dots u_{\\rho(i)-1}$ serait un suffixe de $u_1\\dots u_{i-1}$ de longueur supérieure strictement \n",
    "à $\\rho^j\\left(\\rho(i-1)\\right)$.\n",
    "\\end{itemize}\n",
    "Ainsi l'état $\\rho(i)-1$ serait un état ayant les mêmes propriétés que l'état $q=\\rho^j\\left(\\rho(i-1)\\right)$ mais de valeur strictement plus grande que $\\rho^j\\left(\\rho(i-1)\\right)$, ce qui contredirait la définition\n",
    "de l'entier $j$.  \n",
    " \n",
    "En conclusion, on en déduit que :\n",
    "$$\\forall \\: 2\\leqslant i\\leqslant k, \\quad \\delta\\left(\\rho^j\\left(\\rho(i-1)\\right), u_i\\right)=\\rho(i).$$"
   ]
  },
  {
   "cell_type": "markdown",
   "metadata": {},
   "source": [
    "Quant à $i=1$, $\\rho(i)$ étant le plus grand entier inférieur strictement à $1$ tel que $u_1\\dots u_{\\rho(i)}$ est un suffixe de $u_1$, $\\rho(i)$ est nécessairement nul. \n",
    "Quant à $i=0$, par définition, $\\rho(0)=0$.  \n",
    "  \n",
    "*Note :* comme $\\rho(0)=0$, on peut remarquer que la formule $(41)$ n'est pas valable pour $i=1$, car alors \n",
    "$\\rho(i-1)=\\rho(0)=0$, donc, pour tout $h\\geqslant 0$, $\\rho^h\\left(\\rho(i-1)\\right)=\\rho^h\\left(0\\right)=0$, \n",
    "tandis que $\\delta(0, u_1)= 1$, donc, pour $i=1$, $\\rho^h\\left(\\rho(i-1)\\right)=1\\neq \\rho(i)=0$."
   ]
  },
  {
   "cell_type": "markdown",
   "metadata": {},
   "source": [
    "<span style=\"font-size:20px;font-family:'Times New Roman', Times, serif;\">&#10066;\n",
    "17\n",
    "&ndash;</span>  \n",
    "Notons préliminairement que la taille de l'alphabet $\\Sigma$ doit être connue pour construire la matrice de transition de l'ADFR.  Il est dit au début de l'énoncé qu'on la notera $\\lambda$, et sa valeur sera définie dans le programme comme une constante (globale) `lambda`.\n",
    "\n",
    "La construction de l'AFDR $\\mathcal A_s^{\\rm KMP}$ associé à un motif $s$ de longueur $k$ sur un alphabet $\\Sigma$, décrit par une liste d'entiers `s`, nécessite de construire :\n",
    "\\begin{itemize}\n",
    "\\item un tableau de booléens, $\\texttt{final}$, de taille que $k+1$, dont seule la dernière cellule contient la valeur $\\texttt{true}$ ;\n",
    "\\item une matrice $\\texttt{transition}$ (un tableau de $k+1$ tableaux d'entiers de taille $\\lambda$), dont les seules valeurs différentes de $-1$ sont dans les cellules \n",
    "$\\texttt{transition.(i-1).(j)}$ où $i$ est tel que $1\\leqslant i\\leqslant k$ et $j=u_j$ (indice dans l'alphabet du caractère d'indice $i$ de $s=u_1\\dots u_k$, la cellule prenant alors la valeur $i$ ;\n",
    "\\item un tableau $\\texttt{repli}$, de taille $k+1$, tel que, pour tout $1\\leqslant i\\leqslant k$, $\\texttt{repli.(i)}$ soit - en vertu de la caractérisation de la question 16 - égal à la valeur de la transition $\\delta\\left(\\rho^j\\left(\\rho(i-1)\\right), u_i\\right)$\n",
    "pour le plus petit $j$ tel que cette transition soit définie.\n",
    "\\end{itemize}"
   ]
  },
  {
   "cell_type": "markdown",
   "metadata": {},
   "source": [
    "Dans cette construction, il importe de déterminer préliminairement la longueur $k$ du motif $s$ - afin de définir le nombre d'états de l'automate, puis de définir la matrice de transition (à l'aide d'un nouveau parcours de la liste\n",
    "$\\texttt{s}$ pour renseigner les $k$ valeurs différentes de $-1$) avant de définir le tableau $\\texttt{repli}$.  \n",
    "Pour le remplissage du tableau $\\texttt{repli}$, compte-tenu de la forme de la relation obtenue en question 16, qui est une relation de récurrence, on se rappelera que, par définition, $\\rho(0)=0$, puis on cherchera, dans l'ordre de $i$ croissants, les valeurs $\\rho(i)$, en parcourant, pour chaque $i$, le tableau $\\texttt{repli}$, à partir de l'indice $i-1$, pour déterminer l'état $\\rho^j\\left(\\rho(i-1)\\right)$ pour le plus petit $j$ tel que\n",
    "$\\delta\\left(\\rho^j\\left(\\rho(i-1)\\right), u_i\\right)$ soit défini."
   ]
  },
  {
   "cell_type": "code",
   "execution_count": 18,
   "metadata": {},
   "outputs": [
    {
     "data": {
      "text/plain": [
       "val lambda : int = 5\n"
      ]
     },
     "execution_count": 18,
     "metadata": {},
     "output_type": "execute_result"
    },
    {
     "data": {
      "text/plain": [
       "val automate_kmp : int list -> afdr = <fun>\n"
      ]
     },
     "execution_count": 18,
     "metadata": {},
     "output_type": "execute_result"
    },
    {
     "data": {
      "text/plain": [
       "- : afdr =\n",
       "{final = [|false; false; false; true|];\n",
       " transition =\n",
       "  [|[|1; 0; 0; 0; 0|]; [|-1; 2; -1; -1; -1|]; [|3; -1; -1; -1; -1|];\n",
       "    [|-1; -1; -1; -1; -1|]|];\n",
       " repli = [|0; 0; 0; 1|]}\n"
      ]
     },
     "execution_count": 18,
     "metadata": {},
     "output_type": "execute_result"
    },
    {
     "data": {
      "text/plain": [
       "- : afdr =\n",
       "{final = [|false; false; false; false; false; true|];\n",
       " transition =\n",
       "  [|[|1; 0; 0; 0; 0|]; [|-1; 2; -1; -1; -1|]; [|3; -1; -1; -1; -1|];\n",
       "    [|-1; 4; -1; -1; -1|]; [|-1; -1; 5; -1; -1|]; [|-1; -1; -1; -1; -1|]|];\n",
       " repli = [|0; 0; 0; 1; 2; 0|]}\n"
      ]
     },
     "execution_count": 18,
     "metadata": {},
     "output_type": "execute_result"
    }
   ],
   "source": [
    "let lambda = 5;;\n",
    "\n",
    "let automate_kmp s = \n",
    "    let k = longueur s\n",
    "    in\n",
    "    let final = Array.make (k + 1) false in\n",
    "    final.(k) <- true;\n",
    "    let transition = Array.make (k + 1) (Array.make lambda (-1))\n",
    "                            (* à ce stade, les lignes sont toutes la copie d'une même ligne de -1 *)\n",
    "    in\n",
    "    transition.(0) <- (Array.make lambda 0); (* première initialisation des transitions depuis l'état 0 *)\n",
    "    for i = 1 to k do (* on remplace chaque ligne par une copie indépendante de l'originale *)\n",
    "        transition.(i) <- Array.copy transition.(i)\n",
    "                            (* à ce stade, les lignes sont désormais des lignes de -1, indépendantes *)\n",
    "    done;\n",
    "    let rec aux1 lst i =(* fonction pour parcourir la liste s et inscrire\n",
    "                                                     la valeur des k transitions définies *)\n",
    "        match lst with\n",
    "            | [] -> ()\n",
    "            | h::t -> begin\n",
    "                          transition.(i - 1).(h) <- i;\n",
    "                          aux1 t (i + 1)\n",
    "                      end;\n",
    "    in\n",
    "    aux1 s 1; (* mise à jour de la matrice des transitions *)\n",
    "    let repli = Array.make (k + 1) 0\n",
    "    in\n",
    "    let rec aux2 lst i = match lst with\n",
    "        | [] -> ()\n",
    "        | u_i::t -> begin\n",
    "                        let q = ref repli.(i - 1) in\n",
    "                        while transition.(!q).(u_i) = - 1 do (* recherche du plus petit j tel que\n",
    "                                                                   delta(rho^j(rho(i-1)), u_i) défini *)\n",
    "                            q := repli.(!q)\n",
    "                        done;\n",
    "                        repli.(i) <- transition.(!q).(u_i);\n",
    "                        aux2 t (i + 1)\n",
    "                    end\n",
    "    in\n",
    "    aux2 (List.tl s) 2; (* la fonction repli reste à définir seulement pour les i >= 2 *)\n",
    "    {final= final; transition= transition; repli= repli};;\n",
    "    \n",
    "(* tests *)\n",
    "automate_kmp [0; 1; 0];;\n",
    "automate_kmp [0; 1; 0; 1; 2];;"
   ]
  },
  {
   "cell_type": "markdown",
   "metadata": {},
   "source": [
    "Le fait que la valeur de $\\lambda$ soit définie au travers d'une variable globale empêche de changer sa valeur posterieurement à la lecture de la définition de la fonction `automate_kmp`, aussi pour les tests, on utilisera une version de la fonction dans laquelle la valeur de $\\lambda$ est donnée au travers de la valeur prise par un paramètre de la fonction.}"
   ]
  },
  {
   "cell_type": "code",
   "execution_count": 19,
   "metadata": {},
   "outputs": [
    {
     "data": {
      "text/plain": [
       "val automate_kmp_tests : int -> int list -> afdr = <fun>\n"
      ]
     },
     "execution_count": 19,
     "metadata": {},
     "output_type": "execute_result"
    },
    {
     "data": {
      "text/plain": [
       "- : afdr =\n",
       "{final = [|false; false; false; true|];\n",
       " transition = [|[|1; 0|]; [|-1; 2|]; [|3; -1|]; [|-1; -1|]|];\n",
       " repli = [|0; 0; 0; 1|]}\n"
      ]
     },
     "execution_count": 19,
     "metadata": {},
     "output_type": "execute_result"
    },
    {
     "data": {
      "text/plain": [
       "- : afdr =\n",
       "{final = [|false; false; false; false; false; true|];\n",
       " transition =\n",
       "  [|[|1; 0; 0|]; [|-1; 2; -1|]; [|3; -1; -1|]; [|-1; 4; -1|]; [|-1; -1; 5|];\n",
       "    [|-1; -1; -1|]|];\n",
       " repli = [|0; 0; 0; 1; 2; 0|]}\n"
      ]
     },
     "execution_count": 19,
     "metadata": {},
     "output_type": "execute_result"
    }
   ],
   "source": [
    "let automate_kmp_tests lambda s = \n",
    "    let k = longueur s\n",
    "    in\n",
    "    let final = Array.make (k + 1) false in\n",
    "    final.(k) <- true;\n",
    "    let transition = Array.make (k + 1) (Array.make lambda (-1))\n",
    "                            (* à ce stade, les lignes sont toutes la copie d'une même ligne de -1 *)\n",
    "    in\n",
    "    transition.(0) <- (Array.make lambda 0); (* première initialisation des transitions depuis l'état 0 *)\n",
    "    for i = 1 to k do (* on remplace chaque ligne par une copie indépendante de l'originale *)\n",
    "        transition.(i) <- Array.copy transition.(i)\n",
    "                            (* à ce stade, les lignes sont désormais des lignes de -1, indépendantes *)\n",
    "    done;\n",
    "    let rec aux1 lst i =(* fonction pour parcourir la liste s et inscrire\n",
    "                                                     la valeur des k transitions définies *)\n",
    "        match lst with\n",
    "            | [] -> ()\n",
    "            | h::t -> begin\n",
    "                          transition.(i - 1).(h) <- i;\n",
    "                          aux1 t (i + 1)\n",
    "                      end;\n",
    "    in\n",
    "    aux1 s 1; (* mise à jour de la matrice des transitions *)\n",
    "    let repli = Array.make (k + 1) 0\n",
    "    in\n",
    "    let rec aux2 lst i = match lst with\n",
    "        | [] -> ()\n",
    "        | u_i::t -> begin\n",
    "                        let q = ref repli.(i - 1) in\n",
    "                        while transition.(!q).(u_i) = - 1 do (* recherche du plus petit j tel que\n",
    "                                                                   delta(rho^j(rho(i-1)), u_i) défini *)\n",
    "                            q := repli.(!q)\n",
    "                        done;\n",
    "                        repli.(i) <- transition.(!q).(u_i);\n",
    "                        aux2 t (i + 1)\n",
    "                    end\n",
    "    in\n",
    "    aux2 (List.tl s) 2; (* la fonction repli reste à définir seulement pour les i >= 2 *)\n",
    "    {final= final; transition= transition; repli= repli};;\n",
    "    \n",
    "(* tests *)\n",
    "automate_kmp_tests 2 [0; 1; 0];;\n",
    "automate_kmp_tests 3 [0; 1; 0; 1; 2];;"
   ]
  },
  {
   "cell_type": "code",
   "execution_count": 20,
   "metadata": {},
   "outputs": [
    {
     "data": {
      "text/plain": [
       "val final : bool array = [|false; false; false|]\n"
      ]
     },
     "execution_count": 20,
     "metadata": {},
     "output_type": "execute_result"
    },
    {
     "data": {
      "text/plain": [
       "- : unit = ()\n"
      ]
     },
     "execution_count": 20,
     "metadata": {},
     "output_type": "execute_result"
    },
    {
     "data": {
      "text/plain": [
       "- : bool array = [|false; false; true|]\n"
      ]
     },
     "execution_count": 20,
     "metadata": {},
     "output_type": "execute_result"
    }
   ],
   "source": [
    "(* tests annexes *)\n",
    "let final = Array.make (2 + 1) false;;\n",
    "final.(2) <- true;;\n",
    "final"
   ]
  },
  {
   "cell_type": "code",
   "execution_count": 21,
   "metadata": {},
   "outputs": [
    {
     "data": {
      "text/plain": [
       "- : int array array =\n",
       "[|[|-1; -1; -1; -1; -1|]; [|-1; -1; -1; -1; -1|]; [|-1; -1; -1; -1; -1|];\n",
       "  [|-1; -1; -1; -1; -1|]|]\n"
      ]
     },
     "execution_count": 21,
     "metadata": {},
     "output_type": "execute_result"
    }
   ],
   "source": [
    "(* tests annexes *)\n",
    "let k, n = 3, 5 in\n",
    "let transition = Array.make (k + 1) (Array.make n (-1))\n",
    "in\n",
    "transition;;"
   ]
  },
  {
   "cell_type": "markdown",
   "metadata": {},
   "source": [
    "<span style=\"font-size:20px;font-family:'Times New Roman', Times, serif;\">&#10066;\n",
    "18\n",
    "&ndash;</span>\n",
    "Pour un motif $s=u_1\\dots u_k$, on note, pour tout $i$, $2\\leqslant i\\leqslant k$, $j_i$ le plus petit entier tel que \n",
    "$\\delta\\left(\\rho^{j_i}\\left(\\rho(i-1)\\right)\\right)=\\rho(i).$   \n",
    "Comme vu en fin de question 16, $j_1$ n'est pas défini (contrairement à ce qui est écrit dans l'énoncé)."
   ]
  },
  {
   "cell_type": "markdown",
   "metadata": {},
   "source": [
    "Comme vu précédemment (question 16), l'état $\\rho(i)-1$ est le dernier état de la séquence strictement décroissante d'états\n",
    "$$\\left(\\rho(i-1), \\rho^2(i-1), \\dots, \\rho^{j_i}\\left(\\rho(i-1)\\right)\\right)\n",
    "=\\left(\\rho^{0}\\left(\\rho(i-1)\\right), \\rho^{1}\\left(\\rho(i-1)\\right), \\dots, \\right).\n",
    "$$\n",
    "Comme la séquence est une séquence $j_i+1$ entiers, strictement décroissante, son terme de rang $j_i$ diffère de son terme de rang $0$, d'au moins $j_i$, *i.e.* :\n",
    "$$\n",
    "\\rho(i)-1=\\rho^{j_i}\\left(\\rho(i-1)\\right)\\leqslant \\rho(i-1) - j_i,\n",
    "$$\n",
    "ce qui équivaut à avoir, pour tout $2\\leqslant i\\leqslant k$ :\n",
    "$$\n",
    "\\rho(i)\\leqslant \\rho(i-1) - j_i +1, \\text{ où encore } \\rho(i-1)-\\rho(i)\\leqslant j_i -1.\n",
    "$$\n",
    "On en déduit, par sommation (télescopique), que :\n",
    "$$\n",
    "\\rho(k)-\\rho(1) = \\sum_{i=2}^{k}\\rho(i-1)-\\rho(i) = \\sum_{i=2}^{k}j_i -1 = \\left(\\sum_{i=2}^{k}j_i\\right) - (k-1).\n",
    "$$\n",
    "et enfin, comme $\\rho(1)=0$ :\n",
    "$$\n",
    "\\sum_{i=2}^{k}j_i = \\rho(k) + k -1.\n",
    "$$"
   ]
  },
  {
   "cell_type": "markdown",
   "metadata": {},
   "source": [
    "$\\rho(k)$ étant, par définition de $\\rho$, (strictement) inférieur à $k$, oet les $j_i$ étant positifs, on a donc :\n",
    "$$\n",
    "0\\leqslant \\sum_{i=2}^{k}j_i \\leqslant 2k, \\text{ et donc bien :} \\quad  \\sum_{i=2}^{k}j_i=O(k).\n",
    "$$"
   ]
  },
  {
   "cell_type": "markdown",
   "metadata": {},
   "source": [
    "<span style=\"font-size:20px;font-family:'Times New Roman', Times, serif;\">&#10066;\n",
    "19\n",
    "&ndash;</span>\n",
    "Lors d'un appel à la fonction `automate_kmp` :\n",
    "\\begin{itemize}\n",
    "\\item on construit deux tableaux de booléens et d'entiers, de taille $k+1$ et un tableau d'entiers de taille \n",
    "$(k+1)\\times \\lambda$, pour une complexité totale $O(k)+O(k)+O(k\\times \\lambda)=O(k\\times \\lambda)$ ;\n",
    "\\item on met à jour la matrice des transitions par appel à une fonction récursive, \\texttt{aux1}  itérant $k$ fois des opérations de complexité bornées (indépendantes des paramètres). La complexité de cet appel est donc\n",
    "en $O(k)$;\n",
    "\\item enfin on met à jour le tableau $\\texttt{repli}$ par appel à une fonction récursive, $\\texttt{aux2}$,  itérant, pour tout $i$ compris entre $2$ et $k$ des opérations élémentaires en nombre au plus proportionnel\n",
    "à $j_i$ (il y a $j_i$ itérations de la boucle $\\texttt{while})$, donc la complexité de l'appel à \n",
    "$\\texttt{aux2}$ est de complexité $O\\left(\\sum_{i=2}^{k}j_i\\right)=O(k)$.\n",
    "\\end{itemize}\n",
    "Les autres opérations sont des opérations élémentaires.  \n",
    "Ainsi <div style=\"text-align:center\">\n",
    "    la fonction $\\texttt{automate_kmp}$ a une complexité en $O(k\\times \\lambda) + O(k) + O(k)=O(k\\times \\lambda)$.\n",
    "    </div>"
   ]
  },
  {
   "cell_type": "markdown",
   "metadata": {},
   "source": [
    "<span style=\"font-size:20px;font-family:'Times New Roman', Times, serif;\">&#10066;\n",
    "20\n",
    "&ndash;</span>\n",
    "La fonction `recherche_kmp` va :\n",
    "\\begin{itemize}\n",
    "\\item construire l'automate $\\mathcal A_s^{\\rm KMP}$, ce pour une complexité en $O(k\\times \\lambda)$, en faisant appel à la fonction précédente ;\n",
    "\\item transformer cet automate AFDR en automate AFDC par appel à la fonction $\\texttt{enleve_repli}$ avec une complexité en $O(k\\times \\lambda)$ (*cf.* question 11) ;\n",
    "\\item faire appel à la fonction $\\texttt{occurrences}$ pour obtenir la liste croissante des occurrences du motif $s$ dans la chaîne $t$, avec une complexité en $O(n)$.\n",
    "}}\n",
    "\\end{itemize}\n",
    "En conclusion, la complexité de la fonction `recherche_kmp` ainsi implémentée sera en :\n",
    "$$\n",
    "O(k\\times \\lambda) + O(k\\times \\lambda) + O(n) = O(k\\times \\lambda + n).\n",
    "$$\n",
    "bien meilleure que la complexité en $O\\left(k\\times n\\right)$ obtenue en question 6 pour la fonction `recherche_naive` si $k$ et $n$ croissent.  \n",
    "En particulier, si on cherche le même motif dans de multiples chaînes, la part en $O(k\\times \\lambda)$ étant due à la construction de l'automate, on gagne un facteur $k$ sur la recherche du motif dans une chaîne de longueur $n$."
   ]
  },
  {
   "cell_type": "code",
   "execution_count": 22,
   "metadata": {},
   "outputs": [
    {
     "data": {
      "text/plain": [
       "val recherche_kmp : int list -> int list -> int list = <fun>\n"
      ]
     },
     "execution_count": 22,
     "metadata": {},
     "output_type": "execute_result"
    }
   ],
   "source": [
    "let recherche_kmp s t = occurrences (enleve_repli (automate_kmp s)) t;;"
   ]
  },
  {
   "cell_type": "markdown",
   "metadata": {},
   "source": [
    "Pour les tests, on passe la taille de l'alphabet en argument :"
   ]
  },
  {
   "cell_type": "code",
   "execution_count": 23,
   "metadata": {},
   "outputs": [
    {
     "data": {
      "text/plain": [
       "val recherche_kmp_tests : int -> int list -> int list -> int list = <fun>\n"
      ]
     },
     "execution_count": 23,
     "metadata": {},
     "output_type": "execute_result"
    }
   ],
   "source": [
    "let recherche_kmp_tests lambda s t = occurrences (enleve_repli (automate_kmp_tests lambda s)) t;;"
   ]
  },
  {
   "cell_type": "code",
   "execution_count": 24,
   "metadata": {},
   "outputs": [
    {
     "data": {
      "text/plain": [
       "- : int list = [3; 5]\n"
      ]
     },
     "execution_count": 24,
     "metadata": {},
     "output_type": "execute_result"
    }
   ],
   "source": [
    "(* test *)\n",
    "recherche_kmp_tests 2 [0; 1; 0] [0; 1; 0; 1; 0] (* recherche de aba dans ababa *)"
   ]
  },
  {
   "cell_type": "code",
   "execution_count": 25,
   "metadata": {},
   "outputs": [
    {
     "data": {
      "text/plain": [
       "- : int list = [5; 10]\n"
      ]
     },
     "execution_count": 25,
     "metadata": {},
     "output_type": "execute_result"
    }
   ],
   "source": [
    "(* test *)\n",
    "recherche_kmp_tests 3 [0; 1; 0; 1; 2] [0; 1; 0; 1; 2; 0; 1; 0; 1; 2] (* recherche de ababc dans ababcababc *)"
   ]
  },
  {
   "cell_type": "markdown",
   "metadata": {},
   "source": [
    "<span style=\"font-size:20px;font-family:'Times New Roman', Times, serif;\">&#10066;\n",
    "21\n",
    "&ndash;</span>\n",
    "Le langage reconnu par $\\mathcal A_2$ est l'ensemble des mots terminant par $\"aa\"$, $\"ab\"$ ou $\"ba\"$.  \n",
    "Aucune justification n'est demandée, mais on pourrait en donner une (sur le même modèle qu'à la question 9) en deux temps."
   ]
  },
  {
   "cell_type": "markdown",
   "metadata": {},
   "source": [
    "Tout d'abord, on peut constater que :  \n",
    "\\begin{itemize}\n",
    "\\item un mot doit comporter au moins deux lettres pour atteindre un état final ;\n",
    "\\item parmi les mots de deux lettres, seuls les mots terminant par $\"aa\"$, $\"ab\"$ ou $\"ba\"$ sont reconnus ;\n",
    "\\item à partir de chacun des cinq autres états, $1, 2, \\dots 5$, la lecture de l'une des séquences de lettres $\"aa\"$, $\"ab\"$ ou $\"ba\"$ amène à un état final (respectivement l'état 3, 4 ou 5).\n",
    "\\end{itemize}  "
   ]
  },
  {
   "cell_type": "markdown",
   "metadata": {},
   "source": [
    "Par exemple, à partir de l'état 2 :\n",
    "* la lecture de la lettre \"a\" amène en 5, puis la lecture de \"a\" à 1 par la fonction de repli, et de là en 3 ;  \n",
    "* la lecture de la lettre \"a\" amène en 5, puis la lecture de \"b\" à 1 par la fonction de repli, et de là en 4 ;  \n",
    "* la lecture de la lettre \"b\" amène en 0 par la fonction de repli, puis de là en 2, d'où la lecture de \"b\" amène en 5.  \n",
    "\n",
    "En conséquence, à partir de l'état 2, la lecture de des séquences $\"aa\"$, $\"ab\"$ ou $\"ba\"$ amène à un état final (respectivement l'état 3, 4 ou 5).  "
   ]
  },
  {
   "cell_type": "markdown",
   "metadata": {},
   "source": [
    "Ainsi, se dégage la condition suffisante selon laquelle les mots terminant par $\"aa\"$, $\"ab\"$ ou $\"ba\"$ sont reconnus par l'automate. "
   ]
  },
  {
   "cell_type": "markdown",
   "metadata": {},
   "source": [
    "Réciproquement, on peut dégager les conditions nécessaires suivantes pour atteindre chacun des états finaux 3, 4 ou 5 :  \n",
    "\\begin{itemize}\n",
    "\\item il n'est possible d'atteindre l'état 3, que si le mot termine par $\"aa\"$ ;\n",
    "\\item il n'est possible d'atteindre l'état 4, que si le mot termine par $\"ab\"$ ;\n",
    "\\item il n'est possible d'atteindre l'état 5, que si le mot termine par $\"ba\"$.\n",
    "\\end{itemize}"
   ]
  },
  {
   "cell_type": "markdown",
   "metadata": {},
   "source": [
    "Par exemple, pour l'état 4 :  \n",
    "* seul l'état 1 permet d'atteindre l'état 4, et ce par une transition étiquetée \"b\" ;  \n",
    "* on atteint l'état 1,\n",
    "- soit à partir de l'état 0 par une transition étiquetée \"a\",\n",
    "- soit, par application de la fonction de repli, à partir de l'état 3, auquel on accède uniquement par une transition étiquetée \"a\".  \n",
    " \n",
    "En conséquence, il n'est possible d'atteindre l'état 4, que par lecture de la séquence \"ab\"."
   ]
  },
  {
   "cell_type": "markdown",
   "metadata": {},
   "source": [
    "D'où la conclusion générale selon laquelle un mot est reconnu par l'automate si, et seulement si, il termine par $\"aa\"$, $\"ab\"$ ou $\"ba\"$.  "
   ]
  },
  {
   "cell_type": "markdown",
   "metadata": {},
   "source": [
    "<span style=\"font-size:20px;font-family:'Times New Roman', Times, serif;\">&#10066;\n",
    "22\n",
    "&ndash;</span>\n",
    "On construit l'AFDR reconnaissant l'ensemble des mots sur $\\Sigma=\\left{a, b, c\\right}$ qui terminent \n",
    "par \"baa\", \"bab\" ou \"bc\", en construisant déjà un arbre de racine l'état initial zéro, et permettant à partir de cet état de reconnaître les mots \"baa\", \"bab\" et \"bc\".  Un unique chemin permet de reconnaître le préfixe commun \"b\" en arrivant sur un état 1, puis une branche permet de reconnaître le préfixe \"ba\" commun à deux des motifs, en faisant arriver à un état 2, tandis que l'autre branche permet de reconnaître la lettre \"c\" et d'amener à un état final 3. Enfin, à partir de l'état 2, deux branches permettent de reconnaître, soit la lettre \"a\" en arrivant à un état final 4, soit la lettre \"b\" en arrivant à un état final 5.  \n",
    "Ainsi, on arrive à partir de l'état zéro, en les états finaux 3, 4 ou 5, après lecture, respectivement, des séquences \"bc\", \"baa\" ou \"bab\".  \n",
    "  \n",
    "On ajoute ensuite une fonction de repli (flèches en pointillés rouge) :"
   ]
  },
  {
   "cell_type": "markdown",
   "metadata": {},
   "source": [
    "<img src =\"https://github.com/lbaille20/OptionInfo2A_2020-21/raw/main/DS04_concours_blanc/DS04-fig05-1.jpg\"\n",
    "     width=\"30%\"/>"
   ]
  },
  {
   "cell_type": "markdown",
   "metadata": {},
   "source": [
    "À partir d'un état $i$, la fonction de repli ramène, le long de l'unique chemin dans l'arbre allant de l'état zéro à l'éat $i$, à l'état $i'$, le plus éloigné de la racine, pour lequel le chemin de zéro à $i'$\n",
    "est un suffixe de la séquence menant de zéro à $i$ (*i.e.* la séquence reconnue par le chemin menant de zéro à $i'$ correspond au plus long préfixe de la séquence reconnue par le chemin menant de zéro à $i$ qui soit aussi\n",
    "un suffixe de la séquence reconnue par le chemin menant de zéro à $i$)."
   ]
  },
  {
   "cell_type": "markdown",
   "metadata": {},
   "source": [
    "<span style=\"font-size:20px;font-family:'Times New Roman', Times, serif;\">&#10066;\n",
    "23\n",
    "&ndash;</span>\n",
    "La question incite à une implémentation la plus élémentaire possible de la fonction `recherche_dictionnaire_kmp`.  \n",
    "Aussi propose-t-on de faire appel, pour chaque motif, à la fonction `recherche_kmp` en ajoutant à une liste vide, pour chaque motif $s$ (de longueur au plus $k$) de $S$, la liste des occurrences de $s$ dans la chaîne $t$ de longueur $n$.  \n",
    "En conséquence, la fonction aura une complexité en\n",
    "$O\\left(\\left|S\\right|\\times (k\\times \\lambda + n)\\right)$."
   ]
  },
  {
   "cell_type": "code",
   "execution_count": 26,
   "metadata": {},
   "outputs": [
    {
     "data": {
      "text/plain": [
       "val recherche_dictionnaire_kmp : int list list -> int list -> int list =\n",
       "  <fun>\n"
      ]
     },
     "execution_count": 26,
     "metadata": {},
     "output_type": "execute_result"
    }
   ],
   "source": [
    "let recherche_dictionnaire_kmp liste_motifs t =\n",
    "    let rec aux acc lst_motifs = match lst_motifs with\n",
    "        | [] -> acc\n",
    "        | s::tmotifs -> aux ((recherche_kmp s t)@acc) tmotifs\n",
    "    in\n",
    "    aux [] liste_motifs;;"
   ]
  },
  {
   "cell_type": "markdown",
   "metadata": {},
   "source": [
    "Comme précédemment, pour les tests, on passera la taille de l'alphabet en argument, afin que cette taille ne soit pas figée au moment de la compilation de la définition de la fonction `recherche_kmp`.  "
   ]
  },
  {
   "cell_type": "code",
   "execution_count": 27,
   "metadata": {},
   "outputs": [
    {
     "data": {
      "text/plain": [
       "val recherche_dictionnaire_kmp_tests :\n",
       "  int -> int list list -> int list -> int list = <fun>\n"
      ]
     },
     "execution_count": 27,
     "metadata": {},
     "output_type": "execute_result"
    },
    {
     "data": {
      "text/plain": [
       "val lambda : int = 2\n"
      ]
     },
     "execution_count": 27,
     "metadata": {},
     "output_type": "execute_result"
    },
    {
     "data": {
      "text/plain": [
       "val liste_motifs : int list list = [[0; 0]; [0; 1]; [1; 0]]\n"
      ]
     },
     "execution_count": 27,
     "metadata": {},
     "output_type": "execute_result"
    },
    {
     "data": {
      "text/plain": [
       "val t : int list = [0; 1; 1; 1; 0; 0; 1; 0; 1; 0; 0; 1]\n"
      ]
     },
     "execution_count": 27,
     "metadata": {},
     "output_type": "execute_result"
    },
    {
     "data": {
      "text/plain": [
       "- : int list = [5; 8; 10; 2; 7; 9; 12; 6; 11]\n"
      ]
     },
     "execution_count": 27,
     "metadata": {},
     "output_type": "execute_result"
    }
   ],
   "source": [
    "(* fonction pour les tests *)\n",
    "let recherche_dictionnaire_kmp_tests lambda liste_motifs t =\n",
    "    let rec aux acc lst_motifs = match lst_motifs with\n",
    "        | [] -> acc\n",
    "        | s::tmotifs -> aux ((recherche_kmp_tests lambda s t)@acc) tmotifs\n",
    "    in\n",
    "    aux [] liste_motifs;;\n",
    "\n",
    "(* tests *)\n",
    "let lambda = 2;;\n",
    "let liste_motifs = [[0; 0]; [0; 1]; [1; 0]];; (* aa, ab, ba *)\n",
    "let t = [0; 1; 1; 1; 0; 0; 1; 0; 1; 0; 0; 1];; (* abbbaababaab, de longueur 12, avec les occurrences suivantes\n",
    "                                                aa en 6 et 11, ab en 2, 7, 9 et 12, ba en 5, 8 et 10 *)\n",
    "recherche_dictionnaire_kmp_tests lambda liste_motifs t;;"
   ]
  },
  {
   "cell_type": "markdown",
   "metadata": {},
   "source": [
    "<img src=\"https://github.com/lbaille20/OptionInfo2A_2020-21/raw/main/DS04_concours_blanc/DS04-fig06-1.jpg\"\n",
    "     width=\"30%\"\n",
    "     />"
   ]
  },
  {
   "cell_type": "code",
   "execution_count": 28,
   "metadata": {},
   "outputs": [
    {
     "data": {
      "text/plain": [
       "val lambda : int = 3\n"
      ]
     },
     "execution_count": 28,
     "metadata": {},
     "output_type": "execute_result"
    },
    {
     "data": {
      "text/plain": [
       "val liste_motifs : int list list = [[1; 0; 0]; [1; 0; 1]; [1; 2]]\n"
      ]
     },
     "execution_count": 28,
     "metadata": {},
     "output_type": "execute_result"
    },
    {
     "data": {
      "text/plain": [
       "val t : int list = [0; 1; 0; 0; 1; 0; 2; 1; 2; 2; 2; 1; 0; 1; 0; 1; 0; 2]\n"
      ]
     },
     "execution_count": 28,
     "metadata": {},
     "output_type": "execute_result"
    },
    {
     "data": {
      "text/plain": [
       "- : int list = [9; 14; 16; 4]\n"
      ]
     },
     "execution_count": 28,
     "metadata": {},
     "output_type": "execute_result"
    }
   ],
   "source": [
    "(* tests *)\n",
    "let lambda = 3;;\n",
    "let liste_motifs = [[1; 0; 0]; [1; 0; 1]; [1; 2]];; (* baa, bab, bc *)\n",
    "let t = [0; 1; 0; 0; 1; 0; 2; 1; 2; 2; 2; 1; 0; 1; 0; 1; 0; 2];; (* abaabacbcccbababac, de longueur 18,\n",
    "                                                avec les occurrences suivantes\n",
    "                                                baa en 4, bab en 14 et 16, bac en 9 *)\n",
    "recherche_dictionnaire_kmp_tests lambda liste_motifs t;;"
   ]
  },
  {
   "cell_type": "markdown",
   "metadata": {},
   "source": [
    "<img src=\"https://github.com/lbaille20/OptionInfo2A_2020-21/raw/main/DS04_concours_blanc/DS04-fig06-2.jpg\"\n",
    "     width=\"30%\"\n",
    "     />"
   ]
  },
  {
   "cell_type": "markdown",
   "metadata": {},
   "source": [
    "<span style=\"font-size:20px;font-family:'Times New Roman', Times, serif;\">&#10066;\n",
    "24\n",
    "&ndash;</span>\n",
    "En s'inspirant de ce qui précède, et en supposant que parmi les motifs à rechercher, aucun motif n'est un préfixe d'un autre, on peut imaginer de :\n",
    "\\begin{itemize}\n",
    "\\item construire la liste des motifs ordonnée selon l'ordre lexicographique (étape facultative) ;\n",
    "\\item construire un arbre dont les feuilles sont les états finaux de l'automate, et sont reliés à la racine par un chemin dont les arêtes sont étiquetées par les lettres des motifs (chaque préfixe commun à plusieurs motifs n'est représenté qu'une fois, chaque état final est associé à un et un seul des motifs de $S$) ;\n",
    "\\item étiqueter les nœuds de l'arbre par un parcours en largeur (*numérotation hiérarchique*) ;\n",
    "\\item construire l'ensemble des états de l'automate AFDR, avec un nombre d'états égal au nombre de nœuds plus un ; \n",
    "\\item construire la matrice de transition de l'AFDR motif à partir de cette liste triée de motifs sur le modèle d'un arbre \n",
    "\\item définir la fonction de repli sous la forme d'un tableau de taille égale aux nombre de nœuds de l'arbre (à chaque état $q$, on fait correspondre l'état $q'$, le plus proche, le long du chemin menant de la racine de l'arbre (état $0$) à $q$, tel que le chemin de la racine à $q'$ corrresponde au plus long préfixe du motif qui soit suffixe  du chemin de la racine à $q$ ;  \n",
    "\\item mettre à jour la matrice de transition de sorte à ce que l'AFDR soit transformé en AFDC ;\n",
    "\\item parcourir la chaîne à analyser et construire la liste des occurrences pour tous les motifs de $S$.\n",
    "\\end{itemize}"
   ]
  },
  {
   "cell_type": "markdown",
   "metadata": {},
   "source": [
    "### Analyse de complexité :\n",
    "On note $a$ la taille de l'arbre construit.  \n",
    "La taille de cet arbre est, au pire égale à $1$ (la racine) plus $s \\times k$ (cas où les motifs ont tous des premiers caractères sont distincts et où chacun de longueur $k$, auquel cas l'arbre est la réunion de $s$ branches distinctes, chacune de longueur $k$).  \n",
    "Si l'arbre est binaire complet, alors on a la relation $s=2^{k}$ (la longueur maximale d'un motif parmi les $s$ motifs donne toujours la hauteur de l'arbre, et $s$ son nombre de feuilles), et sa taille est $a=2^{k+1}-1$, égale aussi à $2s-1$.  \n",
    "\\begin{itemize}\n",
    "\\item la construction de l'arbre nécessite de parcourir chacun des motifs de $S$ et de construire l'arbre au fil de ces parcours : la complexité est en $O(s\\times k)$ ($k$ la longueur maximale d'un motif) ;  \n",
    "*Note :* si l'on a préliminaire trié la liste des motifs, on peut optimiser la construction de l'arbre en ne revenant pas à la racine pour chaque nouveau motif, mais le coût du tri est, au pire, en $O(s\\log s)$ auquel il faut rajouter, pour chaque comparaison, un coût proportionnel à la longueur du plus petit des deux motifs, donc, multiplier ce coût, au pire, par $k$, de sorte que le gain par rapport à la première approche n'est pas là.\n",
    "\\item l'étiquetage des nœuds de l'arbre a un coût proportionnel à la taille de l'arbre, en $O(a)$ ;\n",
    "\\item la matrice de transition comporte un nombre de lignes égal au nombre de nœuds de l'arbre et un nombre de colonnes égal au nombre de caractères dans l'alphabet : sa construction a, donc un coût en $O(a\\times \\lambda)$ ;\n",
    "\\item la valeur de la fonction de repli est à calculer pour tous les états de l'automate (la contruction du tableau correspondant à un coût en $O(a)$ :\n",
    "\\begin{itemize}\n",
    "\\item elle vaut zéro pour l'état zéro et pour tous les états fils de cet état (de même que l'on a vu dans le problème que $\\rho(0)=\\rho(1)=0$) ;\n",
    "\\item par ailleurs, on peut calculer sa valeur à l'aide d'un parcours en profondeur de l'arbre : pour chaque nœud rencontré, on parcourt la matrice de transition pour rechercher l'état le plus proche, parmi les ascendants du nœud (on maintiendra à jour une liste (une pile) des ascendants), pour lequel une transition est définie. La complexité est proportionnelle à la taille de l'arbre (analogie avec l'analyse de complexité de la question 19) donc au pire en $O(a)$ ;\n",
    "\\end{itemize}\n",
    "\\item on termine en transformant l'automate en AFDC, opération de complexité $O(a\\times \\lambda)$ ;\n",
    "\\item on analyse enfin la chaîne à l'aide de l'automate : opération en $O(n)$.\n",
    "\\end{itemize}\n",
    "La complexité de tout le processus est ainsi en :\n",
    "$$\n",
    "O(s\\times k) + O(a) + O(a\\times \\lambda) + O(a) +  O(a\\times \\lambda) + O(n) = \n",
    "O(s\\times k) + O(a\\times \\lambda) + O(n).\n",
    "$$"
   ]
  },
  {
   "cell_type": "markdown",
   "metadata": {},
   "source": [
    "Dans le pire cas, $a=O(k\\times \\lambda)$, et la complexité est en $O(s\\times k \\times \\lambda) + O(n)$ (où $s=\\left|S\\right|$), ce qui est déjà meilleur que la complexité obtenue en question 23 en \n",
    "$O\\left(s\\times (k\\times \\lambda + n)\\right)= O\\left(s\\times k\\times \\lambda + s\\times n)\\right)$ (on gagne un facteur $s$ au moment de la recherche des motifs, du fait d'avoir fusionné les $s$ AFDC en un seul).  \n",
    "Sinon, le gain de complexité est tributaire de la *compacité* de l'arbre, *i.e.* de l'ensemble de motfs considérés qui réduit la taille de l'arbre, du pire cas, où $a=O(s\\times k)$ (motifs dont les préfixes sont tous distincts), à de meilleurs cas, par exemple celui où l'arbre construit est un arbre binaire complet, auquel cas $a=O(2s)=O(s)$."
   ]
  },
  {
   "cell_type": "markdown",
   "metadata": {},
   "source": [
    "* définition d'un type `arbre` adapté"
   ]
  },
  {
   "cell_type": "code",
   "execution_count": 29,
   "metadata": {},
   "outputs": [
    {
     "data": {
      "text/plain": [
       "type arbre = Feuille of int | Noeud of int * (int * arbre) list\n"
      ]
     },
     "execution_count": 29,
     "metadata": {},
     "output_type": "execute_result"
    }
   ],
   "source": [
    "type arbre =  Feuille of int | Noeud of int * (int * arbre) list"
   ]
  },
  {
   "cell_type": "markdown",
   "metadata": {},
   "source": [
    "Si l'on veut un type plus contraignant, on peut définir un type entier pour les numéros des états, et un pour les étiquettes des transitions :"
   ]
  },
  {
   "cell_type": "code",
   "execution_count": 30,
   "metadata": {},
   "outputs": [
    {
     "data": {
      "text/plain": [
       "type etat = Etat of int\n",
       "and transition = Transition of int\n"
      ]
     },
     "execution_count": 30,
     "metadata": {},
     "output_type": "execute_result"
    }
   ],
   "source": [
    "type etat = Etat of int and transition = Transition of int;;"
   ]
  },
  {
   "cell_type": "markdown",
   "metadata": {},
   "source": [
    "Le type arbre deviendrait alors :"
   ]
  },
  {
   "cell_type": "code",
   "execution_count": 31,
   "metadata": {},
   "outputs": [
    {
     "data": {
      "text/plain": [
       "type arbre_motif =\n",
       "    Feuille of etat\n",
       "  | Noeud of etat * (transition * arbre_motif) list\n"
      ]
     },
     "execution_count": 31,
     "metadata": {},
     "output_type": "execute_result"
    }
   ],
   "source": [
    "type arbre_motif = Feuille of etat | Noeud of etat * (transition * arbre_motif) list;;"
   ]
  },
  {
   "cell_type": "markdown",
   "metadata": {},
   "source": [
    "L'arbre correspondant à la figure de la partie 4 et à l'ensemble de motifs $\\{aa, ab, ba\\}$ est le suivant :"
   ]
  },
  {
   "cell_type": "code",
   "execution_count": 32,
   "metadata": {},
   "outputs": [
    {
     "data": {
      "text/plain": [
       "val arbre1 : arbre_motif =\n",
       "  Noeud (Etat 0,\n",
       "   [(Transition 0,\n",
       "     Noeud (Etat 1,\n",
       "      [(Transition 0, Feuille (Etat 3)); (Transition 1, Feuille (Etat 4))]));\n",
       "    (Transition 1, Noeud (Etat 2, [(Transition 0, Feuille (Etat 5))]))])\n"
      ]
     },
     "execution_count": 32,
     "metadata": {},
     "output_type": "execute_result"
    }
   ],
   "source": [
    "let arbre1 = Noeud (Etat 0, [(Transition 0, Noeud (Etat 1, [(Transition 0, Feuille (Etat 3));\n",
    "                                                            (Transition 1, Feuille (Etat 4))]));\n",
    "                             (Transition 1, Noeud (Etat 2, [(Transition 0, Feuille (Etat 5))]))]);;"
   ]
  },
  {
   "cell_type": "markdown",
   "metadata": {},
   "source": [
    "* construction de l'arbre à partir d'une liste de motifs"
   ]
  },
  {
   "cell_type": "code",
   "execution_count": 33,
   "metadata": {},
   "outputs": [
    {
     "ename": "error",
     "evalue": "compile_error",
     "output_type": "error",
     "traceback": [
      "\u001b[32mFile \"[33]\", line 6, characters 8-9:\n\u001b[31mError: Syntax error\n\u001b[36m   5: \u001b[30m        | [x]-> \n\u001b[36m   6: \u001b[30m        \u001b[4m|\u001b[0m\u001b[30m x::t -> \n\u001b[36m   7: \u001b[30m    let parcours liste_motifs =\u001b[0m\n"
     ]
    }
   ],
   "source": [
    "let construit_arbre liste_motifs =\n",
    "    let arbre_s = Noeud (0, []) in\n",
    "    let construit_arbre arbre motif = match motif with\n",
    "        | [] -> arbre\n",
    "        | [x]-> \n",
    "        | x::t -> \n",
    "    let parcours liste_motifs =\n",
    "        "
   ]
  }
 ],
 "metadata": {
  "kernelspec": {
   "display_name": "OCaml 4.05.0",
   "language": "OCaml",
   "name": "ocaml-jupyter"
  },
  "language_info": {
   "codemirror_mode": "text/x-ocaml",
   "file_extension": ".ml",
   "mimetype": "text/x-ocaml",
   "name": "OCaml",
   "nbconverter_exporter": null,
   "pygments_lexer": "OCaml",
   "version": "4.05.0"
  },
  "latex_envs": {
   "LaTeX_envs_menu_present": true,
   "autoclose": false,
   "autocomplete": true,
   "bibliofile": "biblio.bib",
   "cite_by": "apalike",
   "current_citInitial": 1,
   "eqLabelWithNumbers": true,
   "eqNumInitial": 1,
   "hotkeys": {
    "equation": "Ctrl-E",
    "itemize": "Ctrl-I"
   },
   "labels_anchors": false,
   "latex_user_defs": false,
   "report_style_numbering": false,
   "user_envs_cfg": false
  }
 },
 "nbformat": 4,
 "nbformat_minor": 4
}
