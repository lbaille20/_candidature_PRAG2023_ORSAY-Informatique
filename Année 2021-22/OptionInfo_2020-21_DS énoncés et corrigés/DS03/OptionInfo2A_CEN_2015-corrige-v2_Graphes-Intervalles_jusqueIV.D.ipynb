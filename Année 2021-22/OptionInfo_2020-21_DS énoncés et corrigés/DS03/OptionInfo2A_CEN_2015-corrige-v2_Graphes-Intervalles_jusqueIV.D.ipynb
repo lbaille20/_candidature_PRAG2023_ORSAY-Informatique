{
 "cells": [
  {
   "cell_type": "markdown",
   "metadata": {},
   "source": [
    "<div style='font-family: \"Helvetiva\"; font-size:20 px'>\n",
    "    <h2 style='text-align: left; font-size: 30 px;'> CENTRALE 2015</h2>\n",
    "    </div>"
   ]
  },
  {
   "cell_type": "markdown",
   "metadata": {},
   "source": [
    "* lien vers l'énoncé : http://www.concours-centrale-supelec.fr/CentraleSupelec/2015/Multi/sujets/2014-030.pdf"
   ]
  },
  {
   "cell_type": "markdown",
   "metadata": {},
   "source": [
    "* lien vers le rapport : http://www.concours-centrale-supelec.fr/CentraleSupelec/2015/MP/rapCS2015MP.pdf"
   ]
  },
  {
   "cell_type": "markdown",
   "metadata": {},
   "source": [
    "<div style='font-family: \"Times New Roman\" , Times, serif; font-size:20 px'>\n",
    "    <h2 style='text-align: left; font-size: 30 px;'> I Graphes d'intervalles</h2>\n",
    "    </div>"
   ]
  },
  {
   "cell_type": "markdown",
   "metadata": {},
   "source": [
    "<div style='font-family: \"Times New Roman\" , Times, serif; font-size:20 px'>\n",
    "    <h3 style='text-align: left; font-size: 15 px;'><i> I.A - Représentation du problème</i></h3>\n",
    "</div>"
   ]
  },
  {
   "cell_type": "markdown",
   "metadata": {},
   "source": [
    "<div style='font-family: \"Times New Roman\" , Times, serif; font-size:20 px'>\n",
    "    Les problèmes a et b sont représentés respectivement par les deux tableaux suivants.\n",
    "</div>"
   ]
  },
  {
   "cell_type": "code",
   "execution_count": 1,
   "metadata": {},
   "outputs": [
    {
     "data": {
      "text/plain": [
       "val tab_a : (int * int) array =\n",
       "  [|(0, 3); (1, 3); (2, 5); (4, 7); (6, 10); (8, 9); (11, 12)|]\n"
      ]
     },
     "execution_count": 1,
     "metadata": {},
     "output_type": "execute_result"
    }
   ],
   "source": [
    "let tab_a =[| (0, 3); (1, 3); (2, 5); (4, 7); (6, 10); (8, 9); (11, 12) |];;"
   ]
  },
  {
   "cell_type": "code",
   "execution_count": 2,
   "metadata": {},
   "outputs": [
    {
     "data": {
      "text/plain": [
       "val tab_b : (int * int) array =\n",
       "  [|(0, 2); (1, 4); (1, 5); (3, 7); (6, 9); (8, 11); (8, 13); (10, 14);\n",
       "    (12, 15)|]\n"
      ]
     },
     "execution_count": 2,
     "metadata": {},
     "output_type": "execute_result"
    }
   ],
   "source": [
    "let tab_b = [| (0, 2); (1, 4); (1, 5); (3, 7); (6, 9); (8, 11); (8, 13); (10, 14); (12, 15) |];;"
   ]
  },
  {
   "cell_type": "markdown",
   "metadata": {},
   "source": [
    "<div style='font-family: \"Times New Roman\" , Times, serif; font-size:20 px'>\n",
    "    <b>I.A.1)</b>\n",
    "    Écrire une fonction ayant pour signature<br>\n",
    "    <span style='font-family: \"Courier New\", Courier, monospace; font-size: 40 px;'>\n",
    "        conflit : int * int -> int * int -> bool\n",
    "        </span><br>\n",
    "        telle que <span style='font-family: \"Courier New\", Courier, monospace; font-size: 40 px;'>\n",
    "        conflit I J\n",
    "        </span> renvoie <span style='font-family: \"Courier New\", Courier, monospace; font-size: 40 px;'>\n",
    "        true\n",
    "        </span> si et seulement si $I$ et $J$ sont en conflit.\n",
    "</div>"
   ]
  },
  {
   "cell_type": "markdown",
   "metadata": {},
   "source": [
    "Deux intervalles sont en conflit si, et seulement si, les deux intervalles se chevauchent, *i.e.*  \n",
    "s'il ne sont pas disjoints, *i.e.*  \n",
    "si l'extrémité droite la plus petite n'est pas inférieure strictement à l'extrémité gauche la plus grande."
   ]
  },
  {
   "cell_type": "code",
   "execution_count": 3,
   "metadata": {},
   "outputs": [
    {
     "data": {
      "text/plain": [
       "val conflit : 'a * 'a -> 'a * 'a -> bool = <fun>\n"
      ]
     },
     "execution_count": 3,
     "metadata": {},
     "output_type": "execute_result"
    },
    {
     "data": {
      "text/plain": [
       "- : bool = true\n"
      ]
     },
     "execution_count": 3,
     "metadata": {},
     "output_type": "execute_result"
    },
    {
     "data": {
      "text/plain": [
       "- : bool = false\n"
      ]
     },
     "execution_count": 3,
     "metadata": {},
     "output_type": "execute_result"
    },
    {
     "data": {
      "text/plain": [
       "- : bool = true\n"
      ]
     },
     "execution_count": 3,
     "metadata": {},
     "output_type": "execute_result"
    }
   ],
   "source": [
    "let conflit (a,b) (c,d) = not (min b d < max a c);;\n",
    "\n",
    "(* tests *)\n",
    "conflit (2,5) (4,7);;\n",
    "conflit (4,7) (1,3);;\n",
    "conflit (2,5) (2,5);;"
   ]
  },
  {
   "cell_type": "markdown",
   "metadata": {},
   "source": [
    "ou encore, *a contrario*, si $b< c$ ou $a< d$."
   ]
  },
  {
   "cell_type": "code",
   "execution_count": 4,
   "metadata": {},
   "outputs": [
    {
     "data": {
      "text/plain": [
       "val conflit_alt : 'a * 'b -> 'b * 'a -> bool = <fun>\n"
      ]
     },
     "execution_count": 4,
     "metadata": {},
     "output_type": "execute_result"
    },
    {
     "data": {
      "text/plain": [
       "- : bool = true\n"
      ]
     },
     "execution_count": 4,
     "metadata": {},
     "output_type": "execute_result"
    },
    {
     "data": {
      "text/plain": [
       "- : bool = false\n"
      ]
     },
     "execution_count": 4,
     "metadata": {},
     "output_type": "execute_result"
    },
    {
     "data": {
      "text/plain": [
       "- : bool = true\n"
      ]
     },
     "execution_count": 4,
     "metadata": {},
     "output_type": "execute_result"
    }
   ],
   "source": [
    "let conflit_alt (a,b) (c,d) = not (b < c || d < a);;\n",
    "\n",
    "(* tests *)\n",
    "conflit_alt (2,5) (4,7);;\n",
    "conflit_alt (4,7) (1,3);;\n",
    "conflit_alt (2,5) (2,5);;"
   ]
  },
  {
   "cell_type": "markdown",
   "metadata": {},
   "source": [
    "et, en appliquant les lois de De Morgan :"
   ]
  },
  {
   "cell_type": "code",
   "execution_count": 5,
   "metadata": {},
   "outputs": [
    {
     "data": {
      "text/plain": [
       "val conflit_alt2 : 'a * 'b -> 'b * 'a -> bool = <fun>\n"
      ]
     },
     "execution_count": 5,
     "metadata": {},
     "output_type": "execute_result"
    },
    {
     "data": {
      "text/plain": [
       "- : bool = true\n"
      ]
     },
     "execution_count": 5,
     "metadata": {},
     "output_type": "execute_result"
    },
    {
     "data": {
      "text/plain": [
       "- : bool = false\n"
      ]
     },
     "execution_count": 5,
     "metadata": {},
     "output_type": "execute_result"
    },
    {
     "data": {
      "text/plain": [
       "- : bool = true\n"
      ]
     },
     "execution_count": 5,
     "metadata": {},
     "output_type": "execute_result"
    }
   ],
   "source": [
    "let conflit_alt2 (a,b) (c,d) = c <= b && a <= d;;\n",
    "\n",
    "(* tests *)\n",
    "conflit_alt2 (2,5) (4,7);;\n",
    "conflit_alt2 (4,7) (1,3);;\n",
    "conflit_alt2 (2,5) (2,5);;"
   ]
  },
  {
   "cell_type": "markdown",
   "metadata": {},
   "source": [
    "<div style='font-family: \"Times New Roman\" , Times, serif; font-size:20 px'>\n",
    "    <h3 style='text-align: left; font-size: 15 px;'><i>\n",
    "        I.B - Graphe simple non orienté</i></h3>\n",
    "</div>"
   ]
  },
  {
   "cell_type": "code",
   "execution_count": 6,
   "metadata": {},
   "outputs": [
    {
     "data": {
      "text/plain": [
       "val tab2 : int list array =\n",
       "  [|[1; 2; 3]; [0; 2; 3]; [0; 1; 3; 4]; [0; 1; 2]; [2]|]\n"
      ]
     },
     "execution_count": 6,
     "metadata": {},
     "output_type": "execute_result"
    }
   ],
   "source": [
    "(* figure *)\n",
    "let tab2 = [| [1; 2; 3]; [0; 2; 3]; [0; 1; 3; 4]; [0; 1; 2]; [2] |];;"
   ]
  },
  {
   "cell_type": "markdown",
   "metadata": {},
   "source": [
    "<div style='font-family: \"Times New Roman\" , Times, serif; font-size:20 px'>\n",
    "    <h3 style='text-align: left; font-size: 15 px;'><i>\n",
    "        I.C - Graphe d'intervalles</i></h3>\n",
    "</div>"
   ]
  },
  {
   "cell_type": "markdown",
   "metadata": {},
   "source": [
    "<div style='font-family: \"Times New Roman\" , Times, serif; font-size:20 px'>\n",
    "    <b>I.C.1)</b>\n",
    "    Donner une représentation graphique du graphe d’intervalles associé au problème b de la figure 1.\n",
    "</div>"
   ]
  },
  {
   "cell_type": "markdown",
   "metadata": {},
   "source": [
    "<div style='font-family: \"Times New Roman\" , Times, serif; font-size:20 px'>\n",
    "    $\\bullet$ <b>Correction</b><br>\n",
    "</div>"
   ]
  },
  {
   "cell_type": "markdown",
   "metadata": {},
   "source": [
    "<div style='font-family: \"Times New Roman\" , Times, serif; font-size:20 px'>\n",
    "    <b>I.C.1)</b>\n",
    "    Écrire une fonction ayant pour signature\n",
    "construit_graphe : (int * int) vect -> int list vect\n",
    "qui étant donné le tableau des segments ${\\bar I} = \\left(I_0, \\dots, I_{n-1}\\right)$, énumérés dans cet ordre, renvoie la représentation\n",
    "des arêtes de $G(\\bar I)$.\n",
    "</div>"
   ]
  },
  {
   "cell_type": "markdown",
   "metadata": {},
   "source": [
    "<div style='font-family: \"Times New Roman\" , Times, serif; font-size:20 px'>\n",
    "    $\\bullet$ <b>Correction</b><br>\n",
    "    Il s'agit de construire une représentation du graphe sous forme d'un tableau des listes d'adjacences pour chaque sommet.<br>\n",
    "    Les sommets sont étiquetés par le nom du segment qu'ils représentent, et indexés par la position du segment au sein de la liste des segments définissant le problème à résoudre.<br>\n",
    "    Le tableau contenant les listes d'adjacences a donc la même longueur que le tableau des segments et dans ce tableau, la cellule d'indice $i$ contient la liste d'adjacence du segment d'indice $i$, c'est-à-dire la liste des indices $j$ des segments avec lesquels le segment d'indice $i$ est en conflit.\n",
    "</div>"
   ]
  },
  {
   "cell_type": "code",
   "execution_count": 7,
   "metadata": {},
   "outputs": [
    {
     "data": {
      "text/plain": [
       "val construit_graphe : ('a * 'a) array -> int list array = <fun>\n"
      ]
     },
     "execution_count": 7,
     "metadata": {},
     "output_type": "execute_result"
    }
   ],
   "source": [
    "let construit_graphe t =\n",
    "    let n = Array.length t in\n",
    "    let g = Array.make n [] in\n",
    "    for i = 0 to n - 1 do\n",
    "        for j = 0 to n - 1 do\n",
    "            if i <> j && conflit t.(i) t.(j) then\n",
    "                g.(i) <- j::g.(i)\n",
    "        done;\n",
    "    done;\n",
    "    g;;"
   ]
  },
  {
   "cell_type": "markdown",
   "metadata": {},
   "source": [
    "ou bien (pour limiter le nombre d'itérations, la matrice étant symétrique) :"
   ]
  },
  {
   "cell_type": "code",
   "execution_count": 8,
   "metadata": {},
   "outputs": [
    {
     "data": {
      "text/plain": [
       "val construit_graphe : ('a * 'a) array -> int list array = <fun>\n"
      ]
     },
     "execution_count": 8,
     "metadata": {},
     "output_type": "execute_result"
    }
   ],
   "source": [
    "let construit_graphe t =\n",
    "    let n = Array.length t in\n",
    "    let g = Array.make n [] in\n",
    "    for i = 0 to n - 2 do\n",
    "        for j = i + 1 to n - 1 do\n",
    "            if i <> j && conflit t.(i) t.(j) then\n",
    "                begin\n",
    "                    g.(i) <- j::g.(i);\n",
    "                    g.(j) <- i::g.(j);\n",
    "                end\n",
    "        done;\n",
    "    done;\n",
    "    g;;"
   ]
  },
  {
   "cell_type": "markdown",
   "metadata": {},
   "source": [
    "<div style='font-family: \"Times New Roman\" , Times, serif; font-size:20 px'>\n",
    "    $\\bullet$ <i>\n",
    "    Application aux exemples :</i><br>\n",
    "</div>"
   ]
  },
  {
   "cell_type": "code",
   "execution_count": 9,
   "metadata": {},
   "outputs": [
    {
     "data": {
      "text/plain": [
       "val aretes_a : int list array =\n",
       "  [|[2; 1]; [2; 0]; [3; 1; 0]; [4; 2]; [5; 3]; [4]; []|]\n"
      ]
     },
     "execution_count": 9,
     "metadata": {},
     "output_type": "execute_result"
    }
   ],
   "source": [
    "let aretes_a = construit_graphe tab_a;;"
   ]
  },
  {
   "cell_type": "code",
   "execution_count": 10,
   "metadata": {
    "scrolled": true
   },
   "outputs": [
    {
     "data": {
      "text/plain": [
       "val aretes_b : int list array =\n",
       "  [|[2; 1]; [3; 2; 0]; [3; 1; 0]; [4; 2; 1]; [6; 5; 3]; [7; 6; 4];\n",
       "    [8; 7; 5; 4]; [8; 6; 5]; [7; 6]|]\n"
      ]
     },
     "execution_count": 10,
     "metadata": {},
     "output_type": "execute_result"
    }
   ],
   "source": [
    "let aretes_b = construit_graphe tab_b;;"
   ]
  },
  {
   "cell_type": "markdown",
   "metadata": {},
   "source": [
    "<div style='font-family: \"Times New Roman\" , Times, serif; font-size:20 px'>\n",
    "    <h3 style='text-align: left; font-size: 15 px;'><i>\n",
    "        I.D - Coloration</i></h3>\n",
    "</div>"
   ]
  },
  {
   "cell_type": "markdown",
   "metadata": {},
   "source": [
    "<div style='font-family: \"Times New Roman\" , Times, serif; font-size:20 px'>\n",
    "    <b>I.D.1)</b>\n",
    "    Déterminer des colorations optimales pour les graphes d’intervalles associés aux deux problèmes de la\n",
    "figure 1. On attribuera à chaque fois la couleur 0 à l’intervalle $I_0$.\n",
    "</div>"
   ]
  },
  {
   "cell_type": "markdown",
   "metadata": {},
   "source": [
    "<div style='font-family: \"Times New Roman\" , Times, serif; font-size:20 px'>\n",
    "    $\\bullet$ <b>Correction</b><br>\n",
    "    Une coloration d'un graphe à $n$ sommets, est une liste de couleurs,$\\left(c_0, \\dots, c_{n-1}\\right)$, décrivant les couleurs affectées à chaque sommet, et telle que deux sommets adajacents n'aient pas la même couleur.<br>\n",
    "    Une coloration optimale d'un graphe est une coloration utilisant un nombre minimal de couleurs.<br>\n",
    "    Pour le problème a, une coloration optimale possible est $(0, 1, 2, 0, 1, 0, 0)$. Ce n'est pas la seule possible, mais la contrainte selon laquelle les intervalles $I_0, I_1, I_2$ doivent être de couleurs différentes car ils sont tous reliés deux à deux (segments en conflit), impose que la coloration du graphe comporte au moins trois couleurs. La coloration proposée, valide, est donc optimale. Le graphe $G_a$ associé au problème a, a donc pour nombre chromatique $\\chi(G)=3$.<br>\n",
    "    Pour le problème b, cette fois encore, les intervalles $I_0, I_1, I_2$ sont en conflit deux à deux, ce qui impose pour le graphe $G_b$ associé, que $\\chi \\left( G_b\\right)\\geqslant 3$. Une coloration optimale possible est $(0, 1, 2, 0, 1, 0, 2, 1, 0)$. On a donc $\\chi\\left( G_b\\right)=3$.<br>\n",
    "</div>"
   ]
  },
  {
   "cell_type": "markdown",
   "metadata": {},
   "source": [
    "<div style='font-family: \"Times New Roman\" , Times, serif; font-size:20 px'>\n",
    "    <b>I.D.2)</b> $\\quad$ <b>Couleur disponible</b><br>\n",
    "    <i>a)</i> \n",
    "    Écrire une fonction de signature\n",
    "    <span style='font-family: \"Courier New\", Courier, monospace; font-size: 40 px;'>\n",
    "        appartient : int list -> int -> bool\n",
    "        </span>\n",
    "telle que l’appel <span style='font-family: \"Courier New\", Courier, monospace; font-size: 40 px;'>\n",
    "        appartient l x\n",
    "        </span>\n",
    "        renvoie <span style='font-family: \"Courier New\", Courier, monospace; font-size: 40 px;'>\n",
    "        true\n",
    "        </span>\n",
    "        si et seulement si l’entier $x$ est présent dans la liste $l$.\n",
    "</div>"
   ]
  },
  {
   "cell_type": "markdown",
   "metadata": {},
   "source": [
    "<div style='font-family: \"Times New Roman\" , Times, serif; font-size:20 px'>\n",
    "    $\\bullet$ <b>Correction</b><br>\n",
    "</div>"
   ]
  },
  {
   "cell_type": "code",
   "execution_count": 11,
   "metadata": {},
   "outputs": [
    {
     "data": {
      "text/plain": [
       "val appartient : 'a list -> 'a -> bool = <fun>\n"
      ]
     },
     "execution_count": 11,
     "metadata": {},
     "output_type": "execute_result"
    },
    {
     "data": {
      "text/plain": [
       "- : bool = false\n"
      ]
     },
     "execution_count": 11,
     "metadata": {},
     "output_type": "execute_result"
    },
    {
     "data": {
      "text/plain": [
       "- : bool = true\n"
      ]
     },
     "execution_count": 11,
     "metadata": {},
     "output_type": "execute_result"
    }
   ],
   "source": [
    "let rec appartient l x = match l with\n",
    "    | [] -> false\n",
    "    | h::t -> if h = x then true else appartient t x;;\n",
    "\n",
    "(* tests *)\n",
    "appartient [2; 4; 5] 0;;\n",
    "appartient [2; 4; 5] 4;;"
   ]
  },
  {
   "cell_type": "markdown",
   "metadata": {},
   "source": [
    "ou bien (évaluation paresseuse des booléens): "
   ]
  },
  {
   "cell_type": "code",
   "execution_count": 12,
   "metadata": {},
   "outputs": [
    {
     "data": {
      "text/plain": [
       "val appartient : 'a list -> 'a -> bool = <fun>\n"
      ]
     },
     "execution_count": 12,
     "metadata": {},
     "output_type": "execute_result"
    },
    {
     "data": {
      "text/plain": [
       "- : bool = false\n"
      ]
     },
     "execution_count": 12,
     "metadata": {},
     "output_type": "execute_result"
    },
    {
     "data": {
      "text/plain": [
       "- : bool = true\n"
      ]
     },
     "execution_count": 12,
     "metadata": {},
     "output_type": "execute_result"
    }
   ],
   "source": [
    "let rec appartient l x = match l with\n",
    "    | [] -> false\n",
    "    | h::t -> h = x || appartient t x;;\n",
    "\n",
    "(* tests *)\n",
    "appartient [2; 4; 5] 0;;\n",
    "appartient [2; 4; 5] 4;;"
   ]
  },
  {
   "cell_type": "markdown",
   "metadata": {},
   "source": [
    "<div style='font-family: \"Times New Roman\" , Times, serif; font-size:20 px'>\n",
    "    <b><u>Analyse de complexité</u> :</b>\n",
    "    Le nombre de tests effectués lors d'un appel\n",
    "    <span style='font-family: \"Courier New\", Courier, monospace; font-size: 40 px;'>\n",
    "        appartient l x\n",
    "        </span>, est au minimum égal à 1 (lorsque <span style='font-family: \"Courier New\", Courier, monospace; font-size: 40 px;'>x</span>\n",
    "    est le premier élément de\n",
    "    <span style='font-family: \"Courier New\", Courier, monospace; font-size: 40 px;'>l</span>),\n",
    "    et au plus égal au nombre d'éléments de\n",
    "    <span style='font-family: \"Courier New\", Courier, monospace; font-size: 40 px;'>l</span>,\n",
    "    dans le pire cas, c'est-à-dire lorsque\n",
    "    <span style='font-family: \"Courier New\", Courier, monospace; font-size: 40 px;'>x</span>\n",
    "    $\\notin$\n",
    "    <span style='font-family: \"Courier New\", Courier, monospace; font-size: 40 px;'>l</span>.<br/>\n",
    "    Plus précisément le nombre de tests effectués est égal à la position dans la liste de la première occurrence de la valeur $x$ dans $l$ lorsque $x\\in l$.<br/>\n",
    "    La complexité de la fonction est donc en $O(n)$ dans le pire cas.\n",
    "</div>"
   ]
  },
  {
   "cell_type": "markdown",
   "metadata": {},
   "source": [
    "<div style='font-family: \"Times New Roman\" , Times, serif; font-size:20 px'>\n",
    "    <i>b)</i> \n",
    "    Écrire une fonction de signature\n",
    "    <span style='font-family: \"Courier New\", Courier, monospace; font-size: 40 px;'>\n",
    "        plus_petit_absent : int list -> int\n",
    "        </span>\n",
    "telle que l’appel <span style='font-family: \"Courier New\", Courier, monospace; font-size: 40 px;'>\n",
    "        plus_petit_absent l\n",
    "        </span>\n",
    "        renvoie le plus petit entier naturel non présent dans\n",
    "        <span style='font-family: \"Courier New\", Courier, monospace; font-size: 40 px;'>\n",
    "        l\n",
    "        </span>.\n",
    "</div>"
   ]
  },
  {
   "cell_type": "markdown",
   "metadata": {},
   "source": [
    "<div style='font-family: \"Times New Roman\" , Times, serif; font-size:20 px'>\n",
    "    $\\bullet$ <b>Correction</b><br>\n",
    "    La fonction proposée teste tous les entiers naturels à partir de $0$, par incrément de $1$, jusqu'à trouver un entier absent de la liste en entrée. L'entier renvoyé est donc le plus petit entier\n",
    "    naturel non présent dans la liste.\n",
    "</div>"
   ]
  },
  {
   "cell_type": "code",
   "execution_count": 13,
   "metadata": {},
   "outputs": [
    {
     "data": {
      "text/plain": [
       "val plus_petit_absent : int list -> int = <fun>\n"
      ]
     },
     "execution_count": 13,
     "metadata": {},
     "output_type": "execute_result"
    },
    {
     "data": {
      "text/plain": [
       "- : int = 0\n"
      ]
     },
     "execution_count": 13,
     "metadata": {},
     "output_type": "execute_result"
    },
    {
     "data": {
      "text/plain": [
       "- : int = 3\n"
      ]
     },
     "execution_count": 13,
     "metadata": {},
     "output_type": "execute_result"
    }
   ],
   "source": [
    "let plus_petit_absent l =\n",
    "    let rec aux i = match appartient l i with\n",
    "        | false -> i\n",
    "        | true  -> aux (i + 1)\n",
    "    in (aux 0);;\n",
    "\n",
    "(* tests *)\n",
    "plus_petit_absent [2; 4; 5];;\n",
    "plus_petit_absent [2; 0; 1; 4; 5];;"
   ]
  },
  {
   "cell_type": "code",
   "execution_count": 42,
   "metadata": {},
   "outputs": [
    {
     "data": {
      "text/plain": [
       "val plus_petit_absent : int list -> int = <fun>\n"
      ]
     },
     "execution_count": 42,
     "metadata": {},
     "output_type": "execute_result"
    },
    {
     "data": {
      "text/plain": [
       "- : int = 2\n"
      ]
     },
     "execution_count": 42,
     "metadata": {},
     "output_type": "execute_result"
    },
    {
     "data": {
      "text/plain": [
       "- : int = 0\n"
      ]
     },
     "execution_count": 42,
     "metadata": {},
     "output_type": "execute_result"
    },
    {
     "data": {
      "text/plain": [
       "- : int = 3\n"
      ]
     },
     "execution_count": 42,
     "metadata": {},
     "output_type": "execute_result"
    }
   ],
   "source": [
    "let plus_petit_absent l =\n",
    "    let rec aux l i lst =\n",
    "        match l with\n",
    "            | [] -> i\n",
    "            |h::t -> if h = i then aux lst (i+1) lst\n",
    "                     else aux t i lst\n",
    "    in aux l 0 l;;\n",
    "\n",
    "(* tests *)\n",
    "plus_petit_absent [1; 0];;\n",
    "plus_petit_absent [2; 4; 5];;\n",
    "plus_petit_absent [2; 0; 1; 4; 5];;"
   ]
  },
  {
   "cell_type": "markdown",
   "metadata": {},
   "source": [
    "ou encore "
   ]
  },
  {
   "cell_type": "code",
   "execution_count": 14,
   "metadata": {},
   "outputs": [
    {
     "data": {
      "text/plain": [
       "val plus_petit_absent : int list -> int = <fun>\n"
      ]
     },
     "execution_count": 14,
     "metadata": {},
     "output_type": "execute_result"
    },
    {
     "data": {
      "text/plain": [
       "- : int = 2\n"
      ]
     },
     "execution_count": 14,
     "metadata": {},
     "output_type": "execute_result"
    },
    {
     "data": {
      "text/plain": [
       "- : int = 0\n"
      ]
     },
     "execution_count": 14,
     "metadata": {},
     "output_type": "execute_result"
    }
   ],
   "source": [
    "let plus_petit_absent l =\n",
    "    let plus_petit = ref 0 in\n",
    "    while not (appartient l !plus_petit) do\n",
    "        incr plus_petit\n",
    "    done;\n",
    "    !plus_petit;;\n",
    "\n",
    "(* tests *)\n",
    "plus_petit_absent [2; 4; 5];;\n",
    "plus_petit_absent [2; 0; 1; 4; 5];;"
   ]
  },
  {
   "cell_type": "markdown",
   "metadata": {},
   "source": [
    "<div style='font-family: \"Times New Roman\" , Times, serif; font-size:20 px'>\n",
    "    <i><u>Note</u> :</i> la fonction est de complexité médiocre car si le plus petit entier absent dans $l$ est $m$, alors on doit effectuer $m+1$ parcours de la liste $l$ pour le trouver. La complexité de la fonction est donc dans le pire cas en $O\\left(n(m+1)\\right)$, où $m$ est le plus petit entier absent de la liste et $n$ la longueur de la liste.<br>\n",
    "    On peut préciser le pire cas : si la liste est de longueur $n$ et se compose uniquement d'entiers naturels, le plus petit entier absent de $l$, dans le pire cas est le plus grand possible, donc égal à $n$. Le complexité dans le pire cas est donc en $O\\left(n(n+1)\\right)=O\\left(n^2\\right)$.<br>\n",
    "    <i><u>Note</u> :</i> dans ce cas, plus précisément, le liste $l$ comprend les $n$ entiers distincts de l'intervalle\n",
    "    $[\\![0, n-1]\\!]$ et donc pour chacun d'eux l'appartenance à la liste est obtenue avec un nombre de tests égal à la position de l'entier dans la liste plus 1, cette position étant différente pour chacun d'eux, tandis que la vérification de la non-appartenance de $n$ à la liste nécessite $n$ tests. La recherche du plus petit entier dans la iste necessite donc d'effectuer un nombre de tests égal à \n",
    "    $n+\\sum_{k=1}^n k=n + \\frac{n(n+1)}{2}$. La complexité de la fonction <span style='font-family: \"Courier New\", Courier, monospace; font-size: 40 px;'>plus_petit_absent\n",
    "        </span>est donc bien en $O\\left(n^2\\right)$ dans le pire cas. \n",
    "</div>"
   ]
  },
  {
   "cell_type": "markdown",
   "metadata": {},
   "source": [
    "<div style='font-family: \"Times New Roman\" , Times, serif; font-size:20 px'>\n",
    "    <b>Il est possible d'écrire une fonction <span style='font-family: \"Courier New\", Courier, monospace; font-size: 40 px;'>plus_petit_absent</span> de complexité $O\\left(n\\right)$.</b><br>\n",
    "    Comme il a été vu précédemment, le plus petit entier absent d'une liste d'entiers naturels de longueur $n$, est parmi les\n",
    "    entiers de l'intervalle $[\\![0, n]\\!]$. si l'on construit un tableau de longueur $n$, initialisé à zéro, et que l'on parcourt la liste $l$ en inscrivant la valeur $1$ dans la cellule d'indice $i$ pour chaque entier $i$\n",
    "    présent dans la liste, si $i\\in[\\![0, n-1]\\!]$, alors, en fin de parcours, soit le tableau ne contient que des 1, auquel cas le plus petit entier absent de la liste est l'entier $n$ (la liste était dans ce cas composé des $n$ entiers distincts de\n",
    "    l'intervalle $[\\![0, n-1]\\!]$, soit le tableau contient au moins un un 1, auquel cas le plus petit entier absent de \n",
    "    la liste est le plus petit indice $i\\in[\\![0, n-1]\\!]$ tel que la cellule $i$ du tableau contient un 0.<br>\n",
    "    La complexité de la fonction est dans ce cas en $O(n)$, correspondant au parcours de la liste $l$ pour déterminer la longueur $n$ de la liste, puis à la construction d'un tableau de même longueur initialisé à zéro, suivie d'un parcours\n",
    "    de la liste pour mettre à jour le tableau, et enfin d'un parcours pour déterminer la valeur du plus petit entier absent de la liste, chacune de ces opérations ayant une complexité en $O(n)$.<br>\n",
    "    On propose ci-dessous une implémentation de la fonction <span style='font-family: \"Courier New\", Courier, monospace; font-size: 40 px;'>plus_petit_absent</span> correspondant à cet algorithme.\n",
    "</div>"
   ]
  },
  {
   "cell_type": "code",
   "execution_count": 15,
   "metadata": {},
   "outputs": [
    {
     "data": {
      "text/plain": [
       "val plus_petit_absent : int list -> int = <fun>\n"
      ]
     },
     "execution_count": 15,
     "metadata": {},
     "output_type": "execute_result"
    },
    {
     "data": {
      "text/plain": [
       "- : int = 0\n"
      ]
     },
     "execution_count": 15,
     "metadata": {},
     "output_type": "execute_result"
    },
    {
     "data": {
      "text/plain": [
       "- : int = 3\n"
      ]
     },
     "execution_count": 15,
     "metadata": {},
     "output_type": "execute_result"
    },
    {
     "data": {
      "text/plain": [
       "- : int = 3\n"
      ]
     },
     "execution_count": 15,
     "metadata": {},
     "output_type": "execute_result"
    }
   ],
   "source": [
    "let plus_petit_absent l =\n",
    "    let n = List.length l in\n",
    "    let tab = Array.make n 0\n",
    "    in\n",
    "    let rec aux li = match li with\n",
    "        | [] -> ()\n",
    "        | h::t  -> if h < n then tab.(h) <- 1;\n",
    "                   aux t\n",
    "    in\n",
    "    aux l;\n",
    "    let i = ref 0 in\n",
    "    while !i < n && tab.(!i) > 0 do\n",
    "        incr i\n",
    "    done;\n",
    "    !i;;\n",
    "\n",
    "(* tests *)\n",
    "plus_petit_absent [2; 4; 5];;\n",
    "plus_petit_absent [2; 0; 1; 4; 5];;\n",
    "plus_petit_absent [2; 0; 1];;"
   ]
  },
  {
   "cell_type": "markdown",
   "metadata": {},
   "source": [
    "<div style='font-family: \"Times New Roman\" , Times, serif; font-size:20 px'>\n",
    "    <i>c)</i> \n",
    "    On considère ici une coloration progressive des sommets d’un graphe. Pour cela, une coloration partielle est\n",
    "un tableau\n",
    "    <span style='font-family: \"Courier New\", Courier, monospace; font-size: 40 px;'>\n",
    "        couleurs: int vect\n",
    "        </span>\n",
    "    tel que\n",
    "    <span style='font-family: \"Courier New\", Courier, monospace; font-size: 40 px;'>\n",
    "        couleurs.(i)\n",
    "        </span>\n",
    "     contient la couleur de $i$ s’il est coloré et $−1$ sinon, ce\n",
    "qui ne pose pas de problème car les couleurs sont toujours positives.<br>\n",
    "Écrire une fonction de signature<br>\n",
    "<span style='font-family: \"Courier New\", Courier, monospace; font-size: 40 px;'>\n",
    "        couleurs_voisins : int list vect -> int vect -> int -> int list\n",
    "        </span><br>\n",
    "telle que l’appel à\n",
    "<span style='font-family: \"Courier New\", Courier, monospace; font-size: 40 px;'>\n",
    "        couleurs_voisins aretes couleurs i\n",
    "        </span>\n",
    "renvoie la liste des couleurs des voisins colorés du\n",
    "sommet d’indice $i$ dans le graphe décrit par\n",
    "<span style='font-family: \"Courier New\", Courier, monospace; font-size: 40 px;'>\n",
    "        aretes\n",
    "        </span>\n",
    "où le tableau\n",
    "    <span style='font-family: \"Courier New\", Courier, monospace; font-size: 40 px;'>\n",
    "        couleurs\n",
    "        </span> décrit une coloration partielle.\n",
    "</div>"
   ]
  },
  {
   "cell_type": "markdown",
   "metadata": {},
   "source": [
    "<div style='font-family: \"Times New Roman\" , Times, serif; font-size:20 px'>\n",
    "    $\\bullet$ <b>Correction</b><br>\n",
    "    La fonction <span style='font-family: \"Courier New\", Courier, monospace; font-size: 40 px;'>\n",
    "        couleurs_voisins\n",
    "        </span>\n",
    "    proposée, parcourt la liste d'adjacence du sommet $i$,\n",
    "    <span style='font-family: \"Courier New\", Courier, monospace; font-size: 40 px;'>\n",
    "        aretes.(i)\n",
    "        </span>,\n",
    "    et accumule les couleurs de ses voisins, lue dans le tableau\n",
    "    <span style='font-family: \"Courier New\", Courier, monospace; font-size: 40 px;'>\n",
    "        couleurs\n",
    "        </span>\n",
    "    dans la liste <span style='font-family: \"Courier New\", Courier, monospace; font-size: 40 px;'>\n",
    "        acc\n",
    "        </span>, lorsque ces voisins sont colorés.\n",
    "</div>"
   ]
  },
  {
   "cell_type": "code",
   "execution_count": 16,
   "metadata": {},
   "outputs": [
    {
     "data": {
      "text/plain": [
       "val couleurs_voisins : int list array -> int array -> int -> int list = <fun>\n"
      ]
     },
     "execution_count": 16,
     "metadata": {},
     "output_type": "execute_result"
    },
    {
     "data": {
      "text/plain": [
       "val aretes_a : int list array =\n",
       "  [|[2; 1]; [2; 0]; [3; 1; 0]; [4; 2]; [5; 3]; [4]; []|]\n"
      ]
     },
     "execution_count": 16,
     "metadata": {},
     "output_type": "execute_result"
    },
    {
     "data": {
      "text/plain": [
       "val couleurs_opt : int array = [|0; 1; 2; 3; 2; 3; 3|]\n"
      ]
     },
     "execution_count": 16,
     "metadata": {},
     "output_type": "execute_result"
    },
    {
     "data": {
      "text/plain": [
       "val couleurs_part : int array = [|0; -1; 2; 3; 7; 3; 3|]\n"
      ]
     },
     "execution_count": 16,
     "metadata": {},
     "output_type": "execute_result"
    },
    {
     "data": {
      "text/plain": [
       "- : int list = [2]\n"
      ]
     },
     "execution_count": 16,
     "metadata": {},
     "output_type": "execute_result"
    },
    {
     "data": {
      "text/plain": [
       "- : int list = [3; 0]\n"
      ]
     },
     "execution_count": 16,
     "metadata": {},
     "output_type": "execute_result"
    },
    {
     "data": {
      "text/plain": [
       "- : int list = [7]\n"
      ]
     },
     "execution_count": 16,
     "metadata": {},
     "output_type": "execute_result"
    },
    {
     "data": {
      "text/plain": [
       "- : int list = []\n"
      ]
     },
     "execution_count": 16,
     "metadata": {},
     "output_type": "execute_result"
    }
   ],
   "source": [
    "let couleurs_voisins aretes couleurs i =\n",
    "    (* construit une des couleurs des voisins - déjà colorés - de i \n",
    "       à partir de la liste des voisins de i, aretes.(i)\n",
    "       et du tableau couleurs donnant la couleur de chaque sommet déjà coloré à ce stade *)\n",
    "    let rec aux li acc = match li with\n",
    "        | [] -> acc\n",
    "        | h::t -> if couleurs.(h) < 0 then (aux t acc)\n",
    "                                      else couleurs.(h)::(aux t acc)\n",
    "    in aux aretes.(i) [];;\n",
    "\n",
    "(* tests *)\n",
    "let aretes_a = [|[2; 1]; [2; 0]; [3; 1; 0]; [4; 2]; [5; 3]; [4]; []|];;\n",
    "let couleurs_opt = [| 0; 1; 2; 3; 2; 3; 3 |];;\n",
    "let couleurs_part = [| 0; -1; 2; 3; 7; 3; 3 |];;\n",
    "couleurs_voisins aretes_a couleurs_part 0;;\n",
    "couleurs_voisins aretes_a couleurs_part 2;;\n",
    "couleurs_voisins aretes_a couleurs_part 5;;\n",
    "couleurs_voisins aretes_a couleurs_part 6;;"
   ]
  },
  {
   "cell_type": "markdown",
   "metadata": {},
   "source": [
    "<div style='font-family: \"Times New Roman\" , Times, serif; font-size:20 px'>\n",
    "    <i>d)</i> \n",
    "    En déduire, une fonction de signature\n",
    "<span style='font-family: \"Courier New\", Courier, monospace; font-size: 40 px;'>\n",
    "        couleur_disponible : int list vect -> int vect -> int -> int\n",
    "        </span>\n",
    "telle que l’appel à\n",
    "    <span style='font-family: \"Courier New\", Courier, monospace; font-size: 40 px;'>\n",
    "        couleur_disponible aretes couleurs i\n",
    "        </span>\n",
    "     renvoie la plus petite couleur pouvant être attribuée au sommet <span style='font-family: \"Courier New\", Courier, monospace; font-size: 40 px;'>\n",
    "        i</span>\n",
    "      afin qu’il n’ait la couleur d’aucun de ses voisins dans le graphe décrit par<span style='font-family: \"Courier New\", Courier, monospace; font-size: 40 px;'>\n",
    "        aretes</span>.\n",
    "</div>"
   ]
  },
  {
   "cell_type": "markdown",
   "metadata": {},
   "source": [
    "<div style='font-family: \"Times New Roman\" , Times, serif; font-size:20 px'>\n",
    "    $\\bullet$ <b>Correction</b><br>\n",
    "    La fonction <span style='font-family: \"Courier New\", Courier, monospace; font-size: 40 px;'>\n",
    "        couleur_disponible</span>\n",
    "    proposée, cherche le plus petit entier absent de la liste des couleurs des voisins d'un sommet $i$.\n",
    "</div>"
   ]
  },
  {
   "cell_type": "code",
   "execution_count": 17,
   "metadata": {},
   "outputs": [
    {
     "data": {
      "text/plain": [
       "val couleur_disponible : int list array -> int array -> int -> int = <fun>\n"
      ]
     },
     "execution_count": 17,
     "metadata": {},
     "output_type": "execute_result"
    },
    {
     "data": {
      "text/plain": [
       "val aretes_a : int list array =\n",
       "  [|[2; 1]; [2; 0]; [3; 1; 0]; [4; 2]; [5; 3]; [4]; []|]\n"
      ]
     },
     "execution_count": 17,
     "metadata": {},
     "output_type": "execute_result"
    },
    {
     "data": {
      "text/plain": [
       "val couleurs_opt : int array = [|0; 1; 2; 3; 2; 3; 3|]\n"
      ]
     },
     "execution_count": 17,
     "metadata": {},
     "output_type": "execute_result"
    },
    {
     "data": {
      "text/plain": [
       "val couleurs_part : int array = [|0; -1; 2; 3; 2; 3; 3|]\n"
      ]
     },
     "execution_count": 17,
     "metadata": {},
     "output_type": "execute_result"
    },
    {
     "data": {
      "text/plain": [
       "- : int = 0\n"
      ]
     },
     "execution_count": 17,
     "metadata": {},
     "output_type": "execute_result"
    },
    {
     "data": {
      "text/plain": [
       "- : int = 1\n"
      ]
     },
     "execution_count": 17,
     "metadata": {},
     "output_type": "execute_result"
    },
    {
     "data": {
      "text/plain": [
       "- : int = 0\n"
      ]
     },
     "execution_count": 17,
     "metadata": {},
     "output_type": "execute_result"
    }
   ],
   "source": [
    "let couleur_disponible aretes couleurs i =\n",
    "  plus_petit_absent (couleurs_voisins aretes couleurs i);;\n",
    "\n",
    "(* tests *)\n",
    "let aretes_a = [|[2; 1]; [2; 0]; [3; 1; 0]; [4; 2]; [5; 3]; [4]; []|];;\n",
    "let couleurs_opt = [| 0; 1; 2; 3; 2; 3; 3 |];;\n",
    "let couleurs_part = [| 0; -1; 2; 3; 2; 3; 3 |];;\n",
    "couleur_disponible aretes_a couleurs_part 0;;\n",
    "couleur_disponible aretes_a couleurs_part 2;;\n",
    "couleur_disponible aretes_a couleurs_part 6;;"
   ]
  },
  {
   "cell_type": "code",
   "execution_count": 18,
   "metadata": {},
   "outputs": [
    {
     "data": {
      "text/plain": [
       "val aretes_a : int list array =\n",
       "  [|[2; 1]; [2; 0]; [3; 1; 0]; [4; 2]; [5; 3]; [4]; []|]\n"
      ]
     },
     "execution_count": 18,
     "metadata": {},
     "output_type": "execute_result"
    },
    {
     "data": {
      "text/plain": [
       "val couleurs_opt : int array = [|-1; -1; -1; -1; -1; -1; -1|]\n"
      ]
     },
     "execution_count": 18,
     "metadata": {},
     "output_type": "execute_result"
    },
    {
     "data": {
      "text/plain": [
       "val couleurs_opt : int array = [|0; -1; -1; -1; -1; -1; -1|]\n"
      ]
     },
     "execution_count": 18,
     "metadata": {},
     "output_type": "execute_result"
    },
    {
     "data": {
      "text/plain": [
       "- : int = 1\n"
      ]
     },
     "execution_count": 18,
     "metadata": {},
     "output_type": "execute_result"
    },
    {
     "data": {
      "text/plain": [
       "val couleurs_opt : int array = [|0; 1; -1; -1; -1; -1; -1|]\n"
      ]
     },
     "execution_count": 18,
     "metadata": {},
     "output_type": "execute_result"
    },
    {
     "data": {
      "text/plain": [
       "- : int = 2\n"
      ]
     },
     "execution_count": 18,
     "metadata": {},
     "output_type": "execute_result"
    },
    {
     "data": {
      "text/plain": [
       "val couleurs_opt : int array = [|0; 1; 2; -1; -1; -1; -1|]\n"
      ]
     },
     "execution_count": 18,
     "metadata": {},
     "output_type": "execute_result"
    },
    {
     "data": {
      "text/plain": [
       "- : int = 0\n"
      ]
     },
     "execution_count": 18,
     "metadata": {},
     "output_type": "execute_result"
    },
    {
     "data": {
      "text/plain": [
       "val couleurs_opt : int array = [|0; 1; 2; 0; -1; -1; -1|]\n"
      ]
     },
     "execution_count": 18,
     "metadata": {},
     "output_type": "execute_result"
    },
    {
     "data": {
      "text/plain": [
       "- : int = 1\n"
      ]
     },
     "execution_count": 18,
     "metadata": {},
     "output_type": "execute_result"
    }
   ],
   "source": [
    "let aretes_a = [|[2; 1]; [2; 0]; [3; 1; 0]; [4; 2]; [5; 3]; [4]; []|];;\n",
    "let couleurs_opt = [| -1; -1; -1; -1; -1; -1; -1 |];;\n",
    "\n",
    "let couleurs_opt = [| 0; -1; -1; -1; -1; -1; -1 |];;\n",
    "couleur_disponible aretes_a couleurs_opt 1;;\n",
    "let couleurs_opt = [| 0; 1; -1; -1; -1; -1; -1 |];;\n",
    "couleur_disponible aretes_a couleurs_opt 2;;\n",
    "let couleurs_opt = [| 0; 1; 2; -1; -1; -1; -1 |];;\n",
    "couleur_disponible aretes_a couleurs_opt 3;;\n",
    "let couleurs_opt = [| 0; 1; 2; 0; -1; -1; -1 |];;\n",
    "couleur_disponible aretes_a couleurs_opt 4;;"
   ]
  },
  {
   "cell_type": "code",
   "execution_count": 19,
   "metadata": {},
   "outputs": [
    {
     "data": {
      "text/plain": [
       "val aretes_a : int list array =\n",
       "  [|[2; 1]; [2; 0]; [3; 1; 0]; [4; 2]; [5; 3]; [4]; []|]\n"
      ]
     },
     "execution_count": 19,
     "metadata": {},
     "output_type": "execute_result"
    },
    {
     "data": {
      "text/plain": [
       "val couleurs_opt : int array = [|-1; -1; -1; -1; -1; -1; -1|]\n"
      ]
     },
     "execution_count": 19,
     "metadata": {},
     "output_type": "execute_result"
    },
    {
     "data": {
      "text/plain": [
       "val i : int = 0\n"
      ]
     },
     "execution_count": 19,
     "metadata": {},
     "output_type": "execute_result"
    },
    {
     "name": "stdout",
     "output_type": "stream",
     "text": [
      "i=0\n"
     ]
    },
    {
     "data": {
      "text/plain": [
       "- : unit = ()\n"
      ]
     },
     "execution_count": 19,
     "metadata": {},
     "output_type": "execute_result"
    },
    {
     "data": {
      "text/plain": [
       "- : int list = []\n"
      ]
     },
     "execution_count": 19,
     "metadata": {},
     "output_type": "execute_result"
    },
    {
     "data": {
      "text/plain": [
       "- : int = 0\n"
      ]
     },
     "execution_count": 19,
     "metadata": {},
     "output_type": "execute_result"
    },
    {
     "data": {
      "text/plain": [
       "- : unit = ()\n"
      ]
     },
     "execution_count": 19,
     "metadata": {},
     "output_type": "execute_result"
    },
    {
     "data": {
      "text/plain": [
       "- : int array = [|0; -1; -1; -1; -1; -1; -1|]\n"
      ]
     },
     "execution_count": 19,
     "metadata": {},
     "output_type": "execute_result"
    }
   ],
   "source": [
    "let aretes_a = [|[2; 1]; [2; 0]; [3; 1; 0]; [4; 2]; [5; 3]; [4]; []|];;\n",
    "let couleurs_opt = [| -1; -1; -1; -1; -1; -1; -1 |];;\n",
    "let i = 0;;\n",
    "print_string \"i=\"; print_int i;print_newline ();;\n",
    "couleurs_voisins aretes_a couleurs_opt i;;\n",
    "couleur_disponible aretes_a couleurs_opt i;;\n",
    "couleurs_opt.(i) <- couleur_disponible aretes_a couleurs_opt i;;\n",
    "couleurs_opt;;"
   ]
  },
  {
   "cell_type": "code",
   "execution_count": 20,
   "metadata": {},
   "outputs": [
    {
     "data": {
      "text/plain": [
       "val i : int = 1\n"
      ]
     },
     "execution_count": 20,
     "metadata": {},
     "output_type": "execute_result"
    },
    {
     "name": "stdout",
     "output_type": "stream",
     "text": [
      "i=1\n"
     ]
    },
    {
     "data": {
      "text/plain": [
       "- : unit = ()\n"
      ]
     },
     "execution_count": 20,
     "metadata": {},
     "output_type": "execute_result"
    },
    {
     "data": {
      "text/plain": [
       "- : int list = [0]\n"
      ]
     },
     "execution_count": 20,
     "metadata": {},
     "output_type": "execute_result"
    },
    {
     "data": {
      "text/plain": [
       "- : int = 1\n"
      ]
     },
     "execution_count": 20,
     "metadata": {},
     "output_type": "execute_result"
    },
    {
     "data": {
      "text/plain": [
       "- : unit = ()\n"
      ]
     },
     "execution_count": 20,
     "metadata": {},
     "output_type": "execute_result"
    },
    {
     "data": {
      "text/plain": [
       "- : int array = [|0; 1; -1; -1; -1; -1; -1|]\n"
      ]
     },
     "execution_count": 20,
     "metadata": {},
     "output_type": "execute_result"
    }
   ],
   "source": [
    "let i = 1;;\n",
    "print_string \"i=\"; print_int i;print_newline ();;\n",
    "couleurs_voisins aretes_a couleurs_opt i;;\n",
    "couleur_disponible aretes_a couleurs_opt i;;\n",
    "couleurs_opt.(i) <- couleur_disponible aretes_a couleurs_opt i;;\n",
    "couleurs_opt;;"
   ]
  },
  {
   "cell_type": "code",
   "execution_count": 21,
   "metadata": {},
   "outputs": [
    {
     "data": {
      "text/plain": [
       "val i : int = 2\n"
      ]
     },
     "execution_count": 21,
     "metadata": {},
     "output_type": "execute_result"
    },
    {
     "name": "stdout",
     "output_type": "stream",
     "text": [
      "i=2\n"
     ]
    },
    {
     "data": {
      "text/plain": [
       "- : unit = ()\n"
      ]
     },
     "execution_count": 21,
     "metadata": {},
     "output_type": "execute_result"
    },
    {
     "data": {
      "text/plain": [
       "- : int list = [1; 0]\n"
      ]
     },
     "execution_count": 21,
     "metadata": {},
     "output_type": "execute_result"
    },
    {
     "data": {
      "text/plain": [
       "- : int = 2\n"
      ]
     },
     "execution_count": 21,
     "metadata": {},
     "output_type": "execute_result"
    },
    {
     "data": {
      "text/plain": [
       "- : unit = ()\n"
      ]
     },
     "execution_count": 21,
     "metadata": {},
     "output_type": "execute_result"
    },
    {
     "data": {
      "text/plain": [
       "- : int array = [|0; 1; 2; -1; -1; -1; -1|]\n"
      ]
     },
     "execution_count": 21,
     "metadata": {},
     "output_type": "execute_result"
    }
   ],
   "source": [
    "let i = 2;;\n",
    "print_string \"i=\"; print_int i;print_newline ();;\n",
    "couleurs_voisins aretes_a couleurs_opt i;;\n",
    "couleur_disponible aretes_a couleurs_opt i;;\n",
    "couleurs_opt.(i) <- couleur_disponible aretes_a couleurs_opt i;;\n",
    "couleurs_opt;;"
   ]
  },
  {
   "cell_type": "code",
   "execution_count": 22,
   "metadata": {},
   "outputs": [
    {
     "data": {
      "text/plain": [
       "val i : int = 3\n"
      ]
     },
     "execution_count": 22,
     "metadata": {},
     "output_type": "execute_result"
    },
    {
     "name": "stdout",
     "output_type": "stream",
     "text": [
      "i=3\n"
     ]
    },
    {
     "data": {
      "text/plain": [
       "- : unit = ()\n"
      ]
     },
     "execution_count": 22,
     "metadata": {},
     "output_type": "execute_result"
    },
    {
     "data": {
      "text/plain": [
       "- : int list = [2]\n"
      ]
     },
     "execution_count": 22,
     "metadata": {},
     "output_type": "execute_result"
    },
    {
     "data": {
      "text/plain": [
       "- : int = 0\n"
      ]
     },
     "execution_count": 22,
     "metadata": {},
     "output_type": "execute_result"
    },
    {
     "data": {
      "text/plain": [
       "- : unit = ()\n"
      ]
     },
     "execution_count": 22,
     "metadata": {},
     "output_type": "execute_result"
    },
    {
     "data": {
      "text/plain": [
       "- : int array = [|0; 1; 2; 0; -1; -1; -1|]\n"
      ]
     },
     "execution_count": 22,
     "metadata": {},
     "output_type": "execute_result"
    }
   ],
   "source": [
    "let i = 3;;\n",
    "print_string \"i=\"; print_int i;print_newline ();;\n",
    "couleurs_voisins aretes_a couleurs_opt i;;\n",
    "couleur_disponible aretes_a couleurs_opt i;;\n",
    "couleurs_opt.(i) <- couleur_disponible aretes_a couleurs_opt i;;\n",
    "couleurs_opt;;"
   ]
  },
  {
   "cell_type": "code",
   "execution_count": 23,
   "metadata": {},
   "outputs": [
    {
     "data": {
      "text/plain": [
       "val i : int = 4\n"
      ]
     },
     "execution_count": 23,
     "metadata": {},
     "output_type": "execute_result"
    },
    {
     "name": "stdout",
     "output_type": "stream",
     "text": [
      "i=4\n"
     ]
    },
    {
     "data": {
      "text/plain": [
       "- : unit = ()\n"
      ]
     },
     "execution_count": 23,
     "metadata": {},
     "output_type": "execute_result"
    },
    {
     "data": {
      "text/plain": [
       "- : int list = [0]\n"
      ]
     },
     "execution_count": 23,
     "metadata": {},
     "output_type": "execute_result"
    },
    {
     "data": {
      "text/plain": [
       "- : int = 1\n"
      ]
     },
     "execution_count": 23,
     "metadata": {},
     "output_type": "execute_result"
    },
    {
     "data": {
      "text/plain": [
       "- : unit = ()\n"
      ]
     },
     "execution_count": 23,
     "metadata": {},
     "output_type": "execute_result"
    },
    {
     "data": {
      "text/plain": [
       "- : int array = [|0; 1; 2; 0; 1; -1; -1|]\n"
      ]
     },
     "execution_count": 23,
     "metadata": {},
     "output_type": "execute_result"
    }
   ],
   "source": [
    "let i = 4;;\n",
    "print_string \"i=\"; print_int i;print_newline ();;\n",
    "couleurs_voisins aretes_a couleurs_opt i;;\n",
    "couleur_disponible aretes_a couleurs_opt i;;\n",
    "couleurs_opt.(i) <- couleur_disponible aretes_a couleurs_opt i;;\n",
    "couleurs_opt;;"
   ]
  },
  {
   "cell_type": "code",
   "execution_count": 24,
   "metadata": {},
   "outputs": [
    {
     "data": {
      "text/plain": [
       "- : int list = [0]\n"
      ]
     },
     "execution_count": 24,
     "metadata": {},
     "output_type": "execute_result"
    }
   ],
   "source": [
    "couleurs_voisins aretes_a couleurs_opt 4;;"
   ]
  },
  {
   "cell_type": "code",
   "execution_count": 25,
   "metadata": {},
   "outputs": [
    {
     "data": {
      "text/plain": [
       "- : int array = [|0; 1; 2; 0; 1; -1; -1|]\n"
      ]
     },
     "execution_count": 25,
     "metadata": {},
     "output_type": "execute_result"
    }
   ],
   "source": [
    "couleurs_opt;;"
   ]
  },
  {
   "cell_type": "markdown",
   "metadata": {},
   "source": [
    "<div style='font-family: \"Times New Roman\" , Times, serif; font-size:20 px'>\n",
    "    <h3 style='text-align: left; font-size: 15 px;'><i>\n",
    "        I.E - Cliques</i></h3>\n",
    "</div>"
   ]
  },
  {
   "cell_type": "markdown",
   "metadata": {},
   "source": [
    "<div style='font-family: \"Times New Roman\" , Times, serif; font-size:20 px'>\n",
    "    <b>I.E.1)</b>\n",
    "    Déterminer $\\chi\\left( G\\right)$ et $\\omega\\left( G\\right)$ lorsque\n",
    "</div>"
   ]
  },
  {
   "cell_type": "markdown",
   "metadata": {},
   "source": [
    "<div style='font-family: \"Times New Roman\" , Times, serif; font-size:20 px'>\n",
    "    <i>a)</i>\n",
    "    $G$ ne possède pas d’arête (c’est à dire $A=\\emptyset$).\n",
    "</div>"
   ]
  },
  {
   "cell_type": "markdown",
   "metadata": {},
   "source": [
    "<div style='font-family: \"Times New Roman\" , Times, serif; font-size:20 px'>\n",
    "    $\\bullet$ <b>Correction</b><br>\n",
    "    Si $G$ ne comporte pas d'arêtes, alors, une seule couleur est nécessaire pour colorer le graphe, car chaque sommet n'est relié à aucun autre (il n'y a aucune contrainte sur la coloration) donc\n",
    "    $\\chi(G)=1$.  \n",
    "    Par ailleurs, aucun sous-ensemble de sommets autre que les singletons, n'est contitué de sommets tous reliés entre eux, donc $\\omega(G)=1$.\n",
    "</div>"
   ]
  },
  {
   "cell_type": "markdown",
   "metadata": {},
   "source": [
    "<div style='font-family: \"Times New Roman\" , Times, serif; font-size:20 px'>\n",
    "    <i>b)</i>\n",
    "    $G$ est un graphe complet à $n$ sommets, c’est à dire $\\left | S\\right| = n$ et pour tous\n",
    "    $u, v \\in S$ distincts, $\\{u, v\\}\\in A$.\n",
    "</div>"
   ]
  },
  {
   "cell_type": "markdown",
   "metadata": {},
   "source": [
    "<div style='font-family: \"Times New Roman\" , Times, serif; font-size:20 px'>\n",
    "    $\\bullet$ <b>Correction</b><br>\n",
    "    Si $G$ est un graphe complet à $n$ sommets, alors chacun des sommets de $G$ a pour voisins tous les autres sommets, et donc tous les sommets ont le même nombre de voisins, égal à $n-1$, qui doivent chacun avoir une couleur différente de tous les autres. Il faut donc attribuer à chaque sommet une couleur différente. Par conséquent, $\\chi \\left( G\\right)\n",
    "    =n$.<br>\n",
    "    Ce résultat se démontre par récurrence sur le nombre de sommets d'un graphe complet $G$.  \n",
    "    Par ailleurs, $G$ lui-même est un ensemble de sommets tous reliés entre eux deux à deux, donc $\\omega(G)=n$.\n",
    "</div>"
   ]
  },
  {
   "cell_type": "markdown",
   "metadata": {},
   "source": [
    "<div style='font-family: \"Times New Roman\" , Times, serif; font-size:20 px'>\n",
    "    <b>I.E.2)</b>\n",
    "    Comparer $\\chi\\left( G\\right)$ et $\\omega\\left( G\\right)$ pour un graphe $G$ quelconque.\n",
    "</div>"
   ]
  },
  {
   "cell_type": "markdown",
   "metadata": {},
   "source": [
    "<div style='font-family: \"Times New Roman\" , Times, serif; font-size:20 px'>\n",
    "    $\\bullet$ <b>Correction</b><br>\n",
    "    $\\omega \\left( G\\right)$ est la taille de la plus grande clique dans $G$.\n",
    "    Au sein de la plus grande clique de $G$ (<i>cf.</i> question précédente),\n",
    "    $\\omega \\left( G\\right)$ couleurs sont nécessaires pour colorer les sommets.\n",
    "    On a donc, de façon immédiate, $\\omega \\left( G\\right)\\leqslant \\chi \\left( G\\right)$.\n",
    "</div>"
   ]
  },
  {
   "cell_type": "markdown",
   "metadata": {},
   "source": [
    "<div style='font-family: \"Times New Roman\" , Times, serif; font-size:20 px'>\n",
    "    On peut (doit) compléter par un exemple pour établir que l'inégalité peut être stricte :\n",
    "</div>"
   ]
  },
  {
   "cell_type": "markdown",
   "metadata": {},
   "source": []
  },
  {
   "cell_type": "markdown",
   "metadata": {},
   "source": [
    "<div style='font-family: \"Times New Roman\" , Times, serif; font-size:20 px'>\n",
    "    Sur l'exemple, $\\omega(G)= 3$ tandis que $\\chi(G)= 4$.\n",
    "</div>"
   ]
  },
  {
   "cell_type": "markdown",
   "metadata": {},
   "source": [
    "<div style='font-family: \"Times New Roman\" , Times, serif; font-size:20 px'>\n",
    "    <b>I.E.3)</b>\n",
    "    Écrire une fonction de signature\n",
    "<span style='font-family: \"Courier New\", Courier, monospace; font-size: 40 px;'>\n",
    "        est_clique : int list vect -> int list -> bool</span>\n",
    "telle que <span style='font-family: \"Courier New\", Courier, monospace; font-size: 40 px;'>\n",
    "        est_clique aretes xs</span> renvoie <span style='font-family: \"Courier New\", Courier, monospace; font-size: 40 px;'>\n",
    "        true</span> si et seulement si la liste <span style='font-family: \"Courier New\", Courier, monospace; font-size: 40 px;'>\n",
    "        xs</span> est une liste d’indices de sommets\n",
    "formant une clique dans le graphe décrit par <span style='font-family: \"Courier New\", Courier, monospace; font-size: 40 px;'>\n",
    "        aretes</span>.\n",
    "</div>"
   ]
  },
  {
   "cell_type": "markdown",
   "metadata": {},
   "source": [
    "<div style='font-family: \"Times New Roman\" , Times, serif; font-size:20 px'>\n",
    "    $\\bullet$ <b>Correction</b><br>\n",
    "    Il s'agit de vérifier que tout sommet présent dans la liste <span style='font-family: \"Courier New\", Courier, monospace; font-size: 40 px;'>\n",
    "        xs</span> a pour voisins tous les autres sommets présents dans <span style='font-family: \"Courier New\", Courier, monospace; font-size: 40 px;'>\n",
    "        xs</span>.<br>\n",
    "    Si on numérote $\\left(x_0, x_1, \\dots, x_{r-1}\\right)$ les sommets composant la liste <span style='font-family: \"Courier New\", Courier, monospace; font-size: 40 px;'>xs</span>,\n",
    "    les sommets de\n",
    "    <span style='font-family: \"Courier New\", Courier, monospace; font-size: 40 px;'>xs</span>\n",
    "    forment une clique si et seulement si\n",
    "    <ul>\n",
    "        <li>$x_0$ est connecté à tous les sommets de la suite $\\left(x_1, \\dots, x_{r-1}\\right)$ ;</li>\n",
    "    </ul>\n",
    "et que\n",
    "    <ul><li>ces sommets, $\\left(x_1, \\dots, x_{r-1}\\right)$, forment, entre eux, une clique.</li>\n",
    "    </ul>\n",
    "    <b>Le premier point</b> peut se vérifier en examinant si la liste d'adjacence de $x_0$ contient tous les sommets\n",
    "    de la liste $\\left(x_1, \\dots, x_{r-1}\\right)$.<br>\n",
    "    On propose ci-dessous une implémentation pour une fonction\n",
    "    <span style='font-family: \"Courier New\", Courier, monospace; font-size: 40 px;'>\n",
    "        contient</span>,\n",
    "    de signature\n",
    "    <span style='font-family: \"Courier New\", Courier, monospace; font-size: 40 px;'>\n",
    "        contient : int list -> int list -> bool</span>,\n",
    "    telle que l'appel \n",
    "    <span style='font-family: \"Courier New\", Courier, monospace; font-size: 40 px;'>\n",
    "        sous_ensemble li1 li2</span>\n",
    "    renvoie <span style='font-family: \"Courier New\", Courier, monospace; font-size: 40 px;'>\n",
    "        true</span>\n",
    "    si les éléments de la liste <span style='font-family: \"Courier New\", Courier, monospace; font-size: 40 px;'>\n",
    "        li2</span>\n",
    "    sont tous éléments de la liste <span style='font-family: \"Courier New\", Courier, monospace; font-size: 40 px;'>\n",
    "        li1</span>.<br>\n",
    "    Cette implémentation fait appel à la fonction <span style='font-family: \"Courier New\", Courier, monospace; font-size: 40 px;'>\n",
    "        appartient</span>\n",
    "    définie à la question <b>I.D.2)</b>.\n",
    "</div>"
   ]
  },
  {
   "cell_type": "code",
   "execution_count": 26,
   "metadata": {},
   "outputs": [
    {
     "data": {
      "text/plain": [
       "val contient : 'a list -> 'a list -> bool = <fun>\n"
      ]
     },
     "execution_count": 26,
     "metadata": {},
     "output_type": "execute_result"
    },
    {
     "data": {
      "text/plain": [
       "- : bool = true\n"
      ]
     },
     "execution_count": 26,
     "metadata": {},
     "output_type": "execute_result"
    },
    {
     "data": {
      "text/plain": [
       "- : bool = true\n"
      ]
     },
     "execution_count": 26,
     "metadata": {},
     "output_type": "execute_result"
    },
    {
     "data": {
      "text/plain": [
       "- : bool = true\n"
      ]
     },
     "execution_count": 26,
     "metadata": {},
     "output_type": "execute_result"
    },
    {
     "data": {
      "text/plain": [
       "- : bool = false\n"
      ]
     },
     "execution_count": 26,
     "metadata": {},
     "output_type": "execute_result"
    }
   ],
   "source": [
    "(* la fonction contient renvoie true si la liste li2 est une sous-liste de li1 et false sinon *)\n",
    "let rec contient li1 li2 = match li2 with\n",
    "                           | [] -> true\n",
    "                           | h::t -> if not (appartient li1 h) then false\n",
    "                                     else contient li1 t;;\n",
    "(* tests *)\n",
    "contient [1; 2; 3] [];;\n",
    "contient [1; 2; 3] [1; 2; 3];;\n",
    "contient [1; 2; 3] [2; 3];;\n",
    "contient [1; 2; 3] [1; 4; 3];;"
   ]
  },
  {
   "cell_type": "code",
   "execution_count": 27,
   "metadata": {},
   "outputs": [
    {
     "data": {
      "text/plain": [
       "val contient : 'a list -> 'a list -> bool = <fun>\n"
      ]
     },
     "execution_count": 27,
     "metadata": {},
     "output_type": "execute_result"
    },
    {
     "data": {
      "text/plain": [
       "- : bool = true\n"
      ]
     },
     "execution_count": 27,
     "metadata": {},
     "output_type": "execute_result"
    },
    {
     "data": {
      "text/plain": [
       "- : bool = true\n"
      ]
     },
     "execution_count": 27,
     "metadata": {},
     "output_type": "execute_result"
    },
    {
     "data": {
      "text/plain": [
       "- : bool = true\n"
      ]
     },
     "execution_count": 27,
     "metadata": {},
     "output_type": "execute_result"
    },
    {
     "data": {
      "text/plain": [
       "- : bool = false\n"
      ]
     },
     "execution_count": 27,
     "metadata": {},
     "output_type": "execute_result"
    }
   ],
   "source": [
    "(* la fonction contient renvoie true si la liste li2 est une sous-liste de li1 et false sinon *)\n",
    "let rec contient li1 li2 = match li2 with\n",
    "                           | [] -> true\n",
    "                           | h::t -> appartient li1 h && contient li1 t;;\n",
    "(* tests *)\n",
    "contient [1; 2; 3] [];;\n",
    "contient [1; 2; 3] [1; 2; 3];;\n",
    "contient [1; 2; 3] [2; 3];;\n",
    "contient [1; 2; 3] [1; 4; 3];;"
   ]
  },
  {
   "cell_type": "markdown",
   "metadata": {},
   "source": [
    "<div style='font-family: \"Times New Roman\" , Times, serif; font-size:20 px'>\n",
    "    <b><u>Analyse de complexité</u> :</b>\n",
    "    Comme vu au <b>I.D.2)</b><i>a)</i>,\n",
    "    un appel \n",
    "    <span style='font-family: \"Courier New\", Courier, monospace; font-size: 40 px;'>\n",
    "        appartient li1 h\n",
    "        </span>\n",
    "    effectue un nombre de comparaison égal à la position de $h$ dans la liste $li_1$\n",
    "    si $h\\in li_1$ et égal à la longueur de $li_1$ si $h\\notin li_1$.<br>\n",
    "    Ainsi, pour la fonction\n",
    "    <span style='font-family: \"Courier New\", Courier, monospace; font-size: 40 px;'>\n",
    "        contient li1 li2\n",
    "        </span>,\n",
    "    dans le pire cas, celui où la liste $li_2$ est composés d'éléments tous égaux au dernier élément de la liste $li_1$, le nombre de comparaisons est égal au produit des longueurs des deux listes, et dans le meilleur cas, où le premier élément de $li_2$ n'appartient pas à $li_1$, le nombre de comparaisons est égal au nombre d'éléments\n",
    "    de $li_1$.\n",
    "</div>"
   ]
  },
  {
   "cell_type": "markdown",
   "metadata": {},
   "source": [
    "<div style='font-family: \"Times New Roman\" , Times, serif; font-size:20 px'>\n",
    "    <b>Le premier point</b> qui consiste à examiner si la liste d'adjacence de $x_0$ contient tous les sommets\n",
    "    de la liste $\\left(x_1, \\dots, x_{r-1}\\right)$ <b> peut se vérifier avec une complexité moindre</b>\n",
    "    s'il est acquis que les listes $\\left(x_0, x_1, \\dots, x_{r-1}\\right)$ et les listes d'adjacence des sommets sont toutes triées par ordre croissant.<br>\n",
    "    On propose ci-dessous une implémentation pour une fonction\n",
    "    <span style='font-family: \"Courier New\", Courier, monospace; font-size: 40 px;'>\n",
    "        sous_liste_croissante</span>,\n",
    "    de signature\n",
    "    <span style='font-family: \"Courier New\", Courier, monospace; font-size: 40 px;'>\n",
    "        sous_liste_croissante : int list -> int list -> bool</span>,\n",
    "    telle que l'appel \n",
    "    <span style='font-family: \"Courier New\", Courier, monospace; font-size: 40 px;'>\n",
    "        sous_liste_croissante li1 li2</span>\n",
    "    renvoie <span style='font-family: \"Courier New\", Courier, monospace; font-size: 40 px;'>\n",
    "        true</span>\n",
    "    si les éléments de la liste <span style='font-family: \"Courier New\", Courier, monospace; font-size: 40 px;'>\n",
    "        li2</span>\n",
    "    sont tous éléments de la liste <span style='font-family: \"Courier New\", Courier, monospace; font-size: 40 px;'>\n",
    "        li1</span>,\n",
    "    et qui tire parti de cette particularité.<br>\n",
    "</div>"
   ]
  },
  {
   "cell_type": "code",
   "execution_count": 28,
   "metadata": {},
   "outputs": [
    {
     "data": {
      "text/plain": [
       "val sous_liste_croissante : 'a list -> 'a list -> bool = <fun>\n"
      ]
     },
     "execution_count": 28,
     "metadata": {},
     "output_type": "execute_result"
    },
    {
     "data": {
      "text/plain": [
       "- : bool = true\n"
      ]
     },
     "execution_count": 28,
     "metadata": {},
     "output_type": "execute_result"
    },
    {
     "data": {
      "text/plain": [
       "- : bool = false\n"
      ]
     },
     "execution_count": 28,
     "metadata": {},
     "output_type": "execute_result"
    },
    {
     "data": {
      "text/plain": [
       "- : bool = true\n"
      ]
     },
     "execution_count": 28,
     "metadata": {},
     "output_type": "execute_result"
    },
    {
     "data": {
      "text/plain": [
       "- : bool = false\n"
      ]
     },
     "execution_count": 28,
     "metadata": {},
     "output_type": "execute_result"
    }
   ],
   "source": [
    "let sous_liste_croissante li1 li2 =\n",
    "    match li1, li2 with\n",
    "        | _, [] -> true\n",
    "        | [], _ -> false\n",
    "        | h1::_, h2::_ when h1 > h2 -> false\n",
    "        | h1::t1, h2::t2 when h1 = h2 -> contient t1 t2\n",
    "        | h1::t1, h2::t2 -> contient t1 li2;;\n",
    "        \n",
    "(* tests *)\n",
    "sous_liste_croissante [1; 2; 3] [];;\n",
    "sous_liste_croissante [1; 3] [1; 2; 3];;\n",
    "sous_liste_croissante [1; 2; 3] [2; 3];;\n",
    "sous_liste_croissante [1; 2; 3] [1; 4; 3];;"
   ]
  },
  {
   "cell_type": "markdown",
   "metadata": {},
   "source": [
    "<div style='font-family: \"Times New Roman\" , Times, serif; font-size:20 px'>\n",
    "    <b><u>Analyse de complexité</u> :</b>\n",
    "    Dans le meilleur cas, celui où le premier élément de $li_1$ est strictement plus grand que le premier\n",
    "    élément de $li_2$, un appel \n",
    "    <span style='font-family: \"Courier New\", Courier, monospace; font-size: 40 px;'>\n",
    "        sous_liste_croissante li1 li2\n",
    "        </span>\n",
    "    termine après une comparaison.<br>\n",
    "    Dans le pire cas, celui où la liste $li_1$ a pour derniers éléments les éléments de $li_2$,\n",
    "    le nombre de tests est égal au nombre d'éléments de la liste $li_1$, en effet, chaque appel récursif, s'il a\n",
    "    lieu, a lieu systématiquement sur une liste comportant un élément de moins.<br/>\n",
    "    On en conclut que la complexité de la fonction dans le pire cas est en $O(n_1)$ où $n_1$ est le nombre d'éléments de la liste $li_1$.\n",
    "</div>"
   ]
  },
  {
   "cell_type": "markdown",
   "metadata": {},
   "source": [
    "<div style='font-family: \"Times New Roman\" , Times, serif; font-size:20 px'>\n",
    "    <b>Pour l'écriture de la fonction\n",
    "    <span style='font-family: \"Courier New Bold\", Courier, monospace; font-size: 40 px;'>\n",
    "        est_clique</span></b>, \n",
    "        une implémentation récursive convient, dans laquelle on parcourt récursivement la liste \n",
    "    <span style='font-family: \"Courier New\", Courier, monospace; font-size: 40 px;'>\n",
    "        xs</span>, en examinant à chaque appel récursif si la liste d'adjacence de la tête de liste\n",
    "    contient tous les éléments de la fin de liste, et si la fin de la liste \n",
    "    <span style='font-family: \"Courier New\", Courier, monospace; font-size: 40 px;'>\n",
    "        xs</span> est une clique.<br>\n",
    "</div>"
   ]
  },
  {
   "cell_type": "code",
   "execution_count": 29,
   "metadata": {
    "scrolled": true
   },
   "outputs": [
    {
     "data": {
      "text/plain": [
       "val est_clique : int list array -> int list -> bool = <fun>\n"
      ]
     },
     "execution_count": 29,
     "metadata": {},
     "output_type": "execute_result"
    },
    {
     "data": {
      "text/plain": [
       "val aretes_a : int list array =\n",
       "  [|[2; 1]; [2; 0]; [3; 1; 0]; [4; 2]; [5; 3]; [4]; []|]\n"
      ]
     },
     "execution_count": 29,
     "metadata": {},
     "output_type": "execute_result"
    },
    {
     "data": {
      "text/plain": [
       "- : bool = true\n"
      ]
     },
     "execution_count": 29,
     "metadata": {},
     "output_type": "execute_result"
    },
    {
     "data": {
      "text/plain": [
       "- : bool = false\n"
      ]
     },
     "execution_count": 29,
     "metadata": {},
     "output_type": "execute_result"
    }
   ],
   "source": [
    "let rec est_clique aretes xs =\n",
    "    match xs with\n",
    "        | [] -> true\n",
    "        | h::t -> let ladj = aretes.(h) in\n",
    "                  contient ladj t && est_clique aretes t;;\n",
    "\n",
    "(* tests *)\n",
    "let aretes_a = [|[2; 1]; [2; 0]; [3; 1; 0]; [4; 2]; [5; 3]; [4]; []|];;\n",
    "est_clique aretes_a [0; 1; 2];;\n",
    "est_clique aretes_a [1; 2; 3];;"
   ]
  },
  {
   "cell_type": "markdown",
   "metadata": {},
   "source": [
    "<div style='font-family: \"Times New Roman\" , Times, serif; font-size:20 px'>\n",
    "    <b><u>Analyse de complexité</u> :</b>\n",
    "    Un appel\n",
    "    <span style='font-family: \"Courier New\", Courier, monospace; font-size: 40 px;'>\n",
    "        contient ladj t\n",
    "        </span> a pour complexité dans le pire cas le produit des longueurs des deux listes soit la longueur de la liste à tester, $t$, fois la longueur de la liste d'adjacence du sommet considéré.<br>\n",
    "    Si on note $xs=\\left(x_0, x_1, \\dots x_{r-1}\\right)$ la liste de sommets à tester, et $d_i$ le nombre de voisins d'un sommet $x_i$ de cette liste (degré du sommet $x_i$), la complexité $T_{\\left(x_0, x_1, \\dots x_{r-1}\\right)}$ de l'appel \n",
    "    <span style='font-family: \"Courier New\", Courier, monospace; font-size: 40 px;'>\n",
    "        est_clique aretes xs\n",
    "        </span>\n",
    "    vérifie\n",
    "    $$T_{\\left(x_0, x_1, \\dots x_{r-1}\\right)} = O\\left(d_0\\times (r-1)\\right) +\n",
    "    T_{\\left(x_1, \\dots x_{r-1}\\right)} ,$$\n",
    "    et on a donc, par récurrence\n",
    "    $$T_{\\left(x_0, x_1, \\dots x_{r-1}\\right)} = \\sum_{i=0}^{r-1} O\\left(d_i\\times (r-1-i)\\right)\n",
    "    =\\sum_{i=0}^{r-1} O\\left(d_{r-1-i}\\times i\\right)\n",
    "    \\leqslant \\left(\\max_{0\\leqslant i\\leqslant r-1}\\left(d_i\\right)\\right)\\times \n",
    "     O\\left(\\sum_{i=0}^{r-1} i\\right) \\leqslant \\left(\\max_{0\\leqslant i\\leqslant r-1}\\left(d_i\\right)\\right)\\times \n",
    "     O\\left(r^2\\right).$$\n",
    "    On peut donc conclure que dans le pire cas, la complexité de la fonction\n",
    "    <span style='font-family: \"Courier New\", Courier, monospace; font-size: 40 px;'>\n",
    "        est_clique aretes xs\n",
    "        </span>\n",
    "    est $O\\left({\\bar d}_{xs} \\times r^2\\right)$ où ${\\bar d}_{xs}=\\max_{0\\leqslant i\\leqslant r-1}d_i$ est le degré maximum d'un sommet de la liste $xs$ et $r$ est la longueur de la liste $xs$.<br>\n",
    "    Si l'on utilise que la somme des degrés dans un graphe non orienté est égal au double du nombre d'arêtes $m$ dans le graphe, on peut donner $O\\left(mr^2\\right)$ comme majoration plus large de l'ordre de grandeur de la compléxité.\n",
    "    <br>\n",
    "    <i><u>Note</u> :</i> si l'on est assuré que la liste $xs$ est triée dans l'ordre croissant, de même que les listes d'adjacences des sommets, alors il est possible de remplacer les appels\n",
    "    <span style='font-family: \"Courier New\", Courier, monospace; font-size: 40 px;'>\n",
    "        contient ladj t\n",
    "    </span> par des appels\n",
    "    <span style='font-family: \"Courier New\", Courier, monospace; font-size: 40 px;'>\n",
    "        sous_liste_croissante ladj t\n",
    "    </span>\n",
    "    dont la complexité dans le pire cas est de l'ordre de la <u>somme</u> des longueurs des deux listes soit la longueur de la liste à tester, $t$, fois la longueur de la liste d'adjacence du sommet considéré.\n",
    "    <br>\n",
    "    La complexité $T_{\\left(x_0, x_1, \\dots x_{r-1}\\right)}$ de l'appel \n",
    "    <span style='font-family: \"Courier New\", Courier, monospace; font-size: 40 px;'>\n",
    "        est_clique aretes xs\n",
    "        </span>\n",
    "    vérifie\n",
    "    $$T_{\\left(x_0, x_1, \\dots x_{r-1}\\right)} = O\\left(d_0+ (r-1)\\right) +\n",
    "    T_{\\left(x_1, \\dots x_{r-1}\\right)} ,$$\n",
    "    et on a donc, par récurrence\n",
    "    $$T_{\\left(x_0, x_1, \\dots x_{r-1}\\right)} =\n",
    "    O\\left(\\sum_{i=0}^{r-1} d_i + (r-1-i)\\right) =\n",
    "    O\\left(\\sum_{i=0}^{r-1} d_i \\right) + O\\left(\\sum_{i=0}^{r-1} r-1-i\\right) =\n",
    "    O\\left(\\sum_{i=0}^{r-1} d_i \\right) + O\\left(\\sum_{i=0}^{r-1} i\\right) =\n",
    "    O\\left(\\sum_{i=0}^{r-1} d_i \\right) + O\\left(r^2\\right)\n",
    "    .$$\n",
    "    En utilisant que la somme des degrés des sommets du graphe est égal au double du nombre d'arêtes, $m$, du graphe, on peut majorer la somme $\\sum_{i=0}^{r-1} d_i$ par $2m$ donc conclure que dans le pire cas, la complexité de la fonction\n",
    "    <span style='font-family: \"Courier New\", Courier, monospace; font-size: 40 px;'>\n",
    "        est_clique aretes xs\n",
    "        </span>\n",
    "    est $O\\left( m + r^2\\right)$ où $m$ est le nombre d'arêtes du graphe et $r$ est la longueur de la liste $xs$.<br>\n",
    "</div>"
   ]
  },
  {
   "cell_type": "markdown",
   "metadata": {},
   "source": [
    "<div style='font-family: \"Times New Roman\" , Times, serif; font-size:20 px'>\n",
    "    <h2 style='text-align: left; font-size: 30 px;'> II Algorithme glouton pour la coloration</h2>\n",
    "    </div>"
   ]
  },
  {
   "cell_type": "markdown",
   "metadata": {},
   "source": [
    "<div style='font-family: \"Times New Roman\" , Times, serif; font-size:20 px'>\n",
    "    <h3 style='text-align: left; font-size: 15 px;'><i> II.A - L'algorithme sur un exemple</i></h3>\n",
    "</div>"
   ]
  },
  {
   "cell_type": "markdown",
   "metadata": {},
   "source": [
    "<div style='font-family: \"Times New Roman\" , Times, serif; font-size:20 px'>\n",
    "    Déterminer la coloration renvoyée par l’algorithme pour le problème b décrit sur la figure 1.\n",
    "</div>"
   ]
  },
  {
   "cell_type": "markdown",
   "metadata": {},
   "source": [
    "<div style='font-family: \"Times New Roman\" , Times, serif; font-size:20 px'>\n",
    "    $\\bullet$ <b>Correction</b><br>\n",
    "    On note tout d'abord que les intervalles du problème b sont bien numérotés dans l'ordre croissant de leurs extrémités gauches, ce qui autorise à appliquer directement l'algorithme.<ul><li>\n",
    "    $I_0$ est coloré avec la couleur $0$ ; </li><li>\n",
    "    $I_1$ a une intersection non vide avec $I_0$, donc $I_1$ prend la couleur $1$ ; </li><li>\n",
    "    $I_2$ a une intersection non vide avec $I_0$ et $I_1$, colorés avec les couleurs $0$ et $2$,\n",
    "    donc $I_2$ prend la couleur $2$, plus petite couleur non utilisée dans la coloration des intervalles\n",
    "    d'indices inférieurs à $2$ et ayant une intersection non vide avec $I_2$ ; </li><li>\n",
    "    $I_3$ a une intersection non vide avec $I_1$ et $I_2$, portant les couleurs $1$ et $2$, donc $I_3$\n",
    "    prend la couleur $0$, plus petite couleur non utilisée parmi les voisins de $I_3$ déjà colorés ; </li><li>\n",
    "    $I_4$, ayant une intersection non vide, parmi les intervalles déjà colorés,\n",
    "    seulement avec $I_3$ de couleur $0$, prend la couleur $1$ ; </li><li>\n",
    "    $I_5$, ayant une intersection non vide, parmi les intervalles déjà colorés,\n",
    "    seulement avec $I_4$ de couleur $1$, prend la couleur $0$ ; </li><li>\n",
    "    $I_6$, ayant une intersection non vide, parmi les intervalles déjà colorés,\n",
    "    seulement avec $I_4$ et $I_5$ de couleurs $1$ et $0$, prend la couleur $2$ ; </li><li>\n",
    "    $I_7$, ayant une intersection non vide, parmi les intervalles déjà colorés,\n",
    "    seulement avec $I_5$ et $I_6$ de couleurs $0$ et $2$, prend la couleur $1$ ; </li><li>\n",
    "    $I_8$, ayant une intersection non vide, parmi les intervalles déjà colorés,\n",
    "    seulement avec $I_6$ et $I_7$ de couleurs $2$ et $1$, prend la couleur $0$.</li></ul>\n",
    "</div>"
   ]
  },
  {
   "cell_type": "markdown",
   "metadata": {},
   "source": [
    "La coloration est donc :  $(0, 1, 2, 0, 1, 0, 2, 1, 0)$."
   ]
  },
  {
   "cell_type": "markdown",
   "metadata": {},
   "source": [
    "<div style='font-family: \"Times New Roman\" , Times, serif; font-size:20 px'>\n",
    "    <h3 style='text-align: left; font-size: 15 px;'><i> II.B - Coloration</i></h3>\n",
    "</div>"
   ]
  },
  {
   "cell_type": "markdown",
   "metadata": {},
   "source": [
    "<div style='font-family: \"Times New Roman\" , Times, serif; font-size:20 px'>\n",
    "    Écrire une fonction de signature\n",
    "<span style='font-family: \"Courier New\", Courier, monospace; font-size: 40 px;'>\n",
    "        coloration : (int * int) vect -> int list vect -> int vect</span>\n",
    "telle que l’appel <span style='font-family: \"Courier New\", Courier, monospace; font-size: 40 px;'>\n",
    "        coloration segments aretes</span>, où segments est un tableau contenant des segments triés par\n",
    "ordre croissant de leurs extrémités gauches et où\n",
    "    <span style='font-family: \"Courier New\", Courier, monospace; font-size: 40 px;'>\n",
    "        aretes</span>\n",
    "     représente les arêtes du graphe d’intervalles associé à\n",
    "ces segments, renvoie la coloration obtenue avec l’algorithme ci-dessus.\n",
    "</div>"
   ]
  },
  {
   "cell_type": "code",
   "execution_count": 30,
   "metadata": {},
   "outputs": [
    {
     "data": {
      "text/plain": [
       "val c : int = 0\n"
      ]
     },
     "execution_count": 30,
     "metadata": {},
     "output_type": "execute_result"
    }
   ],
   "source": [
    "let c = (0);;"
   ]
  },
  {
   "cell_type": "markdown",
   "metadata": {},
   "source": [
    "<div style='font-family: \"Times New Roman\" , Times, serif; font-size:20 px'>\n",
    "    $\\bullet$ <b>Correction</b><br>\n",
    "    La fonction <span style='font-family: \"Courier New\", Courier, monospace; font-size: 40 px;'>\n",
    "        coloration</span> parcourt le tableau des segments, ordonnés par ordre croissant de leurs extrémités gauches,\n",
    "    et les colore au fur et à mesure en mettant à jour un tableau\n",
    "    des couleurs initialisé à la valeur $-1$, auquel on se réfère pour examiner à chaque étape, la plus petite\n",
    "    couleur disponible parmi les voisins colorés du sommet à colorier.<br>\n",
    "    <i><u>Note</u> :</i> le tableau <span style='font-family: \"Courier New\", Courier, monospace; font-size: 40 px;'>\n",
    "        aretes</span> doit être construit de façon cohérente avec le contenu du tableau <span style='font-family: \"Courier New\", Courier, monospace; font-size: 40 px;'>\n",
    "        segments</span> ce qui justifierait que la fonction coloration ne prenne que pour seul argument le tableau\n",
    "    <span style='font-family: \"Courier New\", Courier, monospace; font-size: 40 px;'>\n",
    "        segments</span>.\n",
    "</div>"
   ]
  },
  {
   "cell_type": "code",
   "execution_count": 31,
   "metadata": {},
   "outputs": [
    {
     "data": {
      "text/plain": [
       "val coloration : 'a array -> int list array -> int array = <fun>\n"
      ]
     },
     "execution_count": 31,
     "metadata": {},
     "output_type": "execute_result"
    },
    {
     "data": {
      "text/plain": [
       "val tab_a : (int * int) array =\n",
       "  [|(0, 3); (1, 3); (2, 5); (4, 7); (6, 10); (8, 9); (11, 12)|]\n"
      ]
     },
     "execution_count": 31,
     "metadata": {},
     "output_type": "execute_result"
    },
    {
     "data": {
      "text/plain": [
       "val aretes_a : int list array =\n",
       "  [|[2; 1]; [2; 0]; [3; 1; 0]; [4; 2]; [5; 3]; [4]; []|]\n"
      ]
     },
     "execution_count": 31,
     "metadata": {},
     "output_type": "execute_result"
    },
    {
     "data": {
      "text/plain": [
       "- : int array = [|0; 1; 2; 0; 1; 0; 0|]\n"
      ]
     },
     "execution_count": 31,
     "metadata": {},
     "output_type": "execute_result"
    }
   ],
   "source": [
    "let coloration segments aretes =\n",
    "    let couleurs = Array.make (Array.length segments) (-1) in\n",
    "    for i = 0 to Array.length segments - 1 do\n",
    "        couleurs.(i) <- couleur_disponible aretes couleurs i\n",
    "    done;\n",
    "    couleurs;;\n",
    "\n",
    "(* tests *)\n",
    "let tab_a =[| (0, 3); (1, 3); (2, 5); (4, 7); (6, 10); (8, 9); (11, 12) |];;\n",
    "let aretes_a = [|[2; 1]; [2; 0]; [3; 1; 0]; [4; 2]; [5; 3]; [4]; []|];;\n",
    "coloration tab_a aretes_a;;"
   ]
  },
  {
   "cell_type": "code",
   "execution_count": 32,
   "metadata": {},
   "outputs": [
    {
     "data": {
      "text/plain": [
       "val tab_b : (int * int) array =\n",
       "  [|(0, 2); (1, 4); (1, 5); (3, 7); (6, 9); (8, 11); (8, 13); (10, 14);\n",
       "    (12, 15)|]\n"
      ]
     },
     "execution_count": 32,
     "metadata": {},
     "output_type": "execute_result"
    },
    {
     "data": {
      "text/plain": [
       "val aretes_b : int list array =\n",
       "  [|[2; 1]; [3; 2; 0]; [3; 1; 0]; [4; 2; 1]; [6; 5; 3]; [7; 6; 4];\n",
       "    [8; 7; 5; 4]; [8; 6; 5]; [7; 6]|]\n"
      ]
     },
     "execution_count": 32,
     "metadata": {},
     "output_type": "execute_result"
    },
    {
     "data": {
      "text/plain": [
       "- : int array = [|0; 1; 2; 0; 1; 0; 2; 1; 0|]\n"
      ]
     },
     "execution_count": 32,
     "metadata": {},
     "output_type": "execute_result"
    }
   ],
   "source": [
    "let tab_b = [| (0, 2); (1, 4); (1, 5); (3, 7); (6, 9); (8, 11); (8, 13); (10, 14); (12, 15) |];;\n",
    "let aretes_b = [|[2; 1]; [3; 2; 0]; [3; 1; 0]; [4; 2; 1]; [6; 5; 3];\n",
    "                 [7; 6; 4]; [8; 7; 5; 4]; [8; 6; 5]; [7; 6]|];;\n",
    "coloration tab_b aretes_b;;"
   ]
  },
  {
   "cell_type": "markdown",
   "metadata": {},
   "source": [
    "<div style='font-family: \"Times New Roman\" , Times, serif; font-size:20 px'>\n",
    "    <h3 style='text-align: left; font-size: 15 px;'><i> II.C - Preuve de l'algorithme</i></h3>\n",
    "</div>"
   ]
  },
  {
   "cell_type": "markdown",
   "metadata": {},
   "source": [
    "<div style='font-family: \"Times New Roman\" , Times, serif; font-size:20 px'>\n",
    "    On se propose maintenant de démontrer que l’algorithme ci-dessus fournit une coloration optimale de l’ensemble\n",
    "de segments. Soit $k$ un entier entre $0$ et $n-1$. On suppose qu’à la $k$-ième étape de l’algorithme, le segment\n",
    "    $I_k$\n",
    "reçoit la couleur $c$.\n",
    "</div>"
   ]
  },
  {
   "cell_type": "markdown",
   "metadata": {},
   "source": [
    "<div style='font-family: \"Times New Roman\" , Times, serif; font-size:20 px'>\n",
    "    <b>II.C.1)</b>\n",
    "    L’extrémité gauche du segment $I_k$ appartient à un certain nombre de segments parmi\n",
    "    $I_0, I_1, \\dots, I_{k-1}$.\n",
    "Combien au moins ?\n",
    "</div>"
   ]
  },
  {
   "cell_type": "markdown",
   "metadata": {},
   "source": [
    "<div style='font-family: \"Times New Roman\" , Times, serif; font-size:20 px'>\n",
    "    $\\bullet$ <b>Correction</b><br>\n",
    "    Dans l'absolu, l'extrémité gauche de l'intervalle $I_k$ peut n'appartenir à aucun des segments $I_0, I_1, \\dots, I_{k-1}$, mais en raison de l'hypothèse selon laquelle à la $k$-ième étape de l’algorithme, le segment\n",
    "    $I_k$\n",
    "a reçu la couleur $c$, de sorte que $c$ est la plus petite couleur non utilisée dans le coloriage des voisins de $I_k$.\n",
    "    Par conséquent, on a l'assurance que les couleurs $0$ à $c-1$ sont utilisées par des voisins de $I_k$. On peut\n",
    "    donc affirmer que le segment $I_k$ a une intersection non vide avec au moins $c$ intervalles parmi\n",
    "    les segments $I_0, I_1, \\dots, I_{k-1}$.\n",
    "</div>"
   ]
  },
  {
   "cell_type": "markdown",
   "metadata": {},
   "source": [
    "<div style='font-family: \"Times New Roman\" , Times, serif; font-size:20 px'>\n",
    "    <b>II.C.2)</b>\n",
    "    Prouver que l’ensemble constitué de $I_k$ et de ses voisins d’indice inférieur à $k$ constitue une clique de\n",
    "taille au moins $c+1$ dans le graphe d’intervalles associé.\n",
    "</div>"
   ]
  },
  {
   "cell_type": "markdown",
   "metadata": {},
   "source": [
    "<div style='font-family: \"Times New Roman\" , Times, serif; font-size:20 px'>\n",
    "    $\\bullet$ <b>Correction</b><br>\n",
    "    Considérons l'ensemble constitué de $I_k$ et de ses voisins d’indice inférieur à $k$. Cet ensemble a pour cardinal\n",
    "    au moins égal à $c+1$, car (<i>cf.</i> question précédente) $I_k$ a au moins $c$ voisins parmi eux ;\n",
    "    on peut noter $I_{i_0}, I_{i_1}, \\dots, I_{i_{c-1}}$ ces $c$ voisins dont l'existence est assurée.<br>\n",
    "    Le résultat demandé serait alors établi si l'on peut prouver que ces voisins sont tous connectés entre eux*.<br>\n",
    "    Le graphe étant un graphe d'intervalle,\n",
    "    dont les sommets sont numérotés de la façon décrite en introduction,\n",
    "    les voisins de $I_k$ d'indice inférieur strictement à $k$ sont des intervalles\n",
    "    dont l'extrémité gauche est inférieure ou\n",
    "    égale à $a_k$, on a,\n",
    "    si on note $\\left(a_i, b_i\\right)$ les extrémités du segment d'indice $i$ :\n",
    "    $$(1) \\quad \\forall j \\in [\\![0, c-1]\\!], \\quad a_{i_j}\\leqslant a_k.$$\n",
    "    En raison de $(1)$, le fait que $I_k=(a_k, b_k)$ a une intersection non vide avec chacun des segments de\n",
    "    $\\{I_{i_{j}}\\} _{0\\leqslant j\\leqslant c-1}$, qui se traduit usuellement par le fait que\n",
    "    $$\\forall j \\in [\\![0, c-1]\\!], \\quad \\left (I_k \\cap I_j \\neq \\emptyset\\right)\n",
    "    \\Leftrightarrow \\left( \\max \\left(a_{i_j}, a_k\\right) \\leqslant \\min \\left(b_{i_j}, b_k\\right) \\right),$$\n",
    "    s'écrit ici\n",
    "    $$(2)\\quad \\forall j \\in [\\![0, c-1]\\!], \\quad\n",
    "    a_{i_j}\\leqslant a_k\\leqslant \\min \\left(b_{i_j}, b_k\\right).$$\n",
    "    On déduit alors de $(2)$ que \n",
    "    $$\\forall j \\in [\\![0, c-1]\\!], \\quad\n",
    "    \\left[ a_k, \\min \\left(\\{b_{i_{j}}\\} _{0\\leqslant j\\leqslant c-1}\\right)\\right] \\subset I_{i_j}$$\n",
    "    soit encore\n",
    "    $$(3)\\quad \\{a_k\\}\\subset \\left[ a_k, \\min \\left(\\{b_{i_{j}}\\} _{0\\leqslant j\\leqslant c-1}\\right)\\right]\n",
    "    \\subset \\bigcap_{j=0}^{c-1} I_{i_j}.$$\n",
    "    En vertu de $(3)$, il apparaît que tous les segments de $\\{I_{i_{j}}\\} _{0\\leqslant j\\leqslant c-1}$\n",
    "    ont, deux à deux une intersection non vide, et donc sont, deux à deux des sommets adjacents du graphe.<br>\n",
    "    Ceci établit que les $c$ voisins, $\\{I_{i_{j}}\\} _{0\\leqslant j\\leqslant c-1}$, de $I_k$ sont tous connectés entre eux, et donc qu'ils forment, avec le segment $I_k$ une clique de taille $c+1$.<br>\n",
    "    Le résultat est ainsi démontré.<br>\n",
    "    <br>\n",
    "    * <i><u>Note</u> :</i>\n",
    "    Ce résultat est bien sûr faux si le graphe n'est pas un graphe d'intervalle, car aucune condition ne lie entre eux les voisins d'un sommet donné.\n",
    "    les segments $I_0, I_1, \\dots, I_{k-1}$.\n",
    "</div>"
   ]
  },
  {
   "cell_type": "markdown",
   "metadata": {},
   "source": [
    "<div style='font-family: \"Times New Roman\" , Times, serif; font-size:20 px'>\n",
    "    <b>II.C.3)</b>\n",
    "    En déduire que le nombre de couleurs nécessaires à une coloration de l’ensemble des segments est au\n",
    "moins égal à $c+1$.\n",
    "</div>"
   ]
  },
  {
   "cell_type": "markdown",
   "metadata": {},
   "source": [
    "<div style='font-family: \"Times New Roman\" , Times, serif; font-size:20 px'>\n",
    "    $\\bullet$ <b>Correction</b><br>\n",
    "    Le nombre chromatique d'un graphe est supérieur ou égal au cardinal de sa plus grande clique (<i>cf.</i>\n",
    "    <b>II.E.2)</b>), donc on déduit de la question précédente que le nombre chromatique du graphe est supérieur ou égal à $c+1$.\n",
    "</div>"
   ]
  },
  {
   "cell_type": "markdown",
   "metadata": {},
   "source": [
    "<div style='font-family: \"Times New Roman\" , Times, serif; font-size:20 px'>\n",
    "    <b>II.C.4)</b>\n",
    "    Conclure.\n",
    "</div>"
   ]
  },
  {
   "cell_type": "markdown",
   "metadata": {},
   "source": [
    "<div style='font-family: \"Times New Roman\" , Times, serif; font-size:20 px'>\n",
    "    $\\bullet$ <b>Correction</b><br>\n",
    "    Si, pour tout $k\\in[\\![0, n-1]\\!]$, on note $c_k$ la couleur reçue par le sommet $k$, on a, en vertu du résultat de la question précédente\n",
    "    $$\\forall \\, k\\in[\\![0, n-1]\\!], \\quad \\chi\\left(G\\right)\\gt c_k.$$\n",
    "    et donc\n",
    "    $$(4)\\quad \\max_{0\\leqslant k\\leqslant n-1}\\left(c_k\\right) \\lt \\chi\\left(G\\right).$$\n",
    "    Comme, par construction, les couleurs attribuées forment une suite d'entiers consécutifs de la forme $[\\![0, m]\\!]$, de cardinal $m+1$,\n",
    "    on a que $m=\\max_{0\\leqslant k\\leqslant n-1}\\left(c_k\\right)$, et, par $(4)$, $m\\lt \\chi\\left(G\\right)$, soit encore, s'agissant d'une inégalité stricte entre deux entiers, $m+1\\leqslant \\chi\\left(G\\right)$.<br>\n",
    "    Le nombre de couleurs dans la coloration $(c_0, \\dots, c_k)$ est donc $m+1$ tel que $m+1 \\leqslant\\chi\\left(G\\right)$.\n",
    "    <br>\n",
    "    Comme $\\chi\\left(G\\right)$ est le nombre minimal de couleurs pour une coloration du graphe $G$,\n",
    "    on en déduit que \n",
    "    $$m+1=\\chi\\left(G\\right),$$\n",
    "    <i>i.e.</i> que la coloration $(c_0, \\dots, c_k)$ est une coloration optimale du graphe $G$.\n",
    "</div>"
   ]
  },
  {
   "cell_type": "markdown",
   "metadata": {},
   "source": [
    "<div style='font-family: \"Times New Roman\" , Times, serif; font-size:20 px'>\n",
    "    <h3 style='text-align: left; font-size: 15 px;'><i> II.D - Complexité</i></h3>\n",
    "</div>"
   ]
  },
  {
   "cell_type": "markdown",
   "metadata": {},
   "source": [
    "<div style='font-family: \"Times New Roman\" , Times, serif; font-size:20 px'>\n",
    "    Déterminer la complexité de la fonction <span style='font-family: \"Courier New\", Courier, monospace; font-size: 40 px;'>\n",
    "        coloration</span> en fonction du nombre $m$ d’arêtes du graphe d’intervalles\n",
    "associé à la liste $\\bar I$.\n",
    "</div>"
   ]
  },
  {
   "cell_type": "markdown",
   "metadata": {},
   "source": [
    "<div style='font-family: \"Times New Roman\" , Times, serif; font-size:20 px'>\n",
    "    $\\bullet$ <b>Correction</b><br>\n",
    "    La fonction <span style='font-family: \"Courier New\", Courier, monospace; font-size: 40 px;'>\n",
    "        coloration</span> effectue $n$ appels à la fonction <span style='font-family: \"Courier New\", Courier, monospace; font-size: 40 px;'>\n",
    "        couleur_disponible</span>, un pour chaque sommet du graphe, cette fonction parcourt la liste d'adjacence\n",
    "        sommet d'indice $k$ $(0\\leqslant k\\leqslant n-1)$, de longueur $r_k$,\n",
    "        pour mettre à jour le tableau des couleurs (avec les opérations en temps constant),\n",
    "        ce qui se fait avec une complexité en $O\\left(r_k\\right)$, puis affecte la couleur <i>ad hoc</i> au sommet $k$, après appel à la fonction\n",
    "        <span style='font-family: \"Courier New\", Courier, monospace; font-size: 40 px;'>\n",
    "        plus_petit_absent</span> dont la complexité est, dans sa première implémentation, dans le pire cas, en $O\\left(r_k^2\\right)$, et dans sa meilleure implémentation en $O(r_k)$ (<i>cf.</i>\n",
    "    question <b>I.D.2)b)</b>).<br>\n",
    "    Ainsi la complexité de la fonction de coloration du graphe est a pour ordre de grandeur\n",
    "    la somme $\\sum_{k=0}^{n-1}r_k + r_k ^2$ avec la première implémentation de la fonction <span style='font-family: \"Courier New\", Courier, monospace; font-size: 40 px;'>\n",
    "        plus_petit_absent</span> et la somme $\\sum_{k=0}^{n-1}r_k + r_k$ avec la seconde implémentation.<br>\n",
    "    Dans le second cas, on a $\\sum_{k=0}^{n-1}r_k + r_k=2.\\sum_{k=0}^{n-1}r_k=2.m$, car la somme des degrés d'un graphe est égal au double de son nombre d'arêtes (propriété de cours). La complexité de la fonction de coloration est donc en $O(n\\cdot m)$.<br>\n",
    "    Dans le premier cas, les majorations suivantes, où l'on utilise aussi la relation entre nombre d'arêtes et somme des degrés (<i>i.e.</i> somme des longueurs des listes d'adjacences pour tous les sommets) :\n",
    "    $$\\sum_{k=0}^{n-1}r_k + r_k^2\\leqslant \\left(\\sum_{k=0}^{n-1}r_k\\right)+\\left(\\sum_{k=0}^{n-1}r_k^2\\right)\n",
    "    \\leqslant \\left(\\sum_{k=0}^{n-1}r_k\\right) +\\left(\\sum_{k=0}^{n-1}r_k\\right)^2\n",
    "    \\leqslant \\left(\\frac{m}{2}\\right) +\\left(\\frac{m}{2}\\right)^2,$$\n",
    "    ce qui permet de conclure à une complexité en $O\\left(m^2\\right)$ pour chaque itération de la boucle de la fonction `coloration`, donc une complexité en $O\\left(n\\cdot m^2\\right)$ pour la fonction `coloration`.\n",
    "</div>"
   ]
  },
  {
   "cell_type": "markdown",
   "metadata": {},
   "source": [
    "<div style='font-family: \"Times New Roman\" , Times, serif; font-size:20 px'>\n",
    "    <h2 style='text-align: left; font-size: 30 px;'> III Graphes munis d'un ordre d'élimination parfait</h2>\n",
    "    </div>"
   ]
  },
  {
   "cell_type": "markdown",
   "metadata": {},
   "source": [
    "<div style='font-family: \"Times New Roman\" , Times, serif; font-size:20 px'>\n",
    "    <h3 style='text-align: left; font-size: 15 px;'><i> III.A - Un exemple</i></h3>\n",
    "</div>"
   ]
  },
  {
   "cell_type": "markdown",
   "metadata": {},
   "source": [
    "<div style='font-family: \"Times New Roman\" , Times, serif; font-size:20 px'>\n",
    "    Déterminer un ordre d’élimination parfait pour le graphe 𝐺 donné par la représentation de la figure 4.\n",
    "</div>"
   ]
  },
  {
   "cell_type": "markdown",
   "metadata": {},
   "source": [
    "<div style='font-family: \"Times New Roman\" , Times, serif; font-size:20 px'>\n",
    "    $\\bullet$ <b>Correction</b><br>\n",
    "    Les listes d'adjacence pour chaque sommet du graphe en exemple sont données par le tableau d'arêtes suivant.\n",
    "</div>"
   ]
  },
  {
   "cell_type": "code",
   "execution_count": 33,
   "metadata": {},
   "outputs": [
    {
     "data": {
      "text/plain": [
       "val aretes_c : int list array =\n",
       "  [|[1; 4]; [0; 2; 4; 5]; [1; 3; 4; 5; 6]; [2; 6]; [0; 1; 2; 5; 7];\n",
       "    [1; 2; 4; 6; 7]; [2; 3; 5]; [4; 5]|]\n"
      ]
     },
     "execution_count": 33,
     "metadata": {},
     "output_type": "execute_result"
    }
   ],
   "source": [
    "let aretes_c = [|\n",
    "                [1; 4];\n",
    "                [0; 2; 4; 5];\n",
    "                [1; 3; 4; 5; 6];\n",
    "                [2; 6];\n",
    "                [0; 1; 2; 5; 7];\n",
    "                [1; 2; 4; 6; 7];\n",
    "                [2; 3; 5];\n",
    "                [4; 5]\n",
    "                |];;"
   ]
  },
  {
   "cell_type": "markdown",
   "metadata": {},
   "source": [
    "<div style='font-family: \"Times New Roman\" , Times, serif; font-size:20 px'>\n",
    "    Considérons les sommets un par un, afin d'examiner l'ordre dans lequel chacun peut-être situé par rapport à ses voisins dans une énumération qui soit un ordre d'élimination parfait.<br>\n",
    "    <ul><li>\n",
    "        Tout d'abord, on peut constater que les voisins du sommet $x_0$, $x_1$ et $x_4$, forment une clique, car ils sont reliés entre eux. De ce fait, on peut placer $x_0$ en fin d'énumération, car il vérifiera la condition pour que l'énumération soit un ordre d'élimination parfait.<br>\n",
    "        Il en est de même pour les sommets $x_3$ et $x_7$ (qui n'ont que deux voisins, reliés entre eux). On peut donc placer ces trois sommets en fin d'énumération, dans un ordre quelconque.<br/>\n",
    "        Il reste à ce stade à ordonner les sommets $x_1, x_2, x_4, x_5$ et $x_6$.</li>\n",
    "        <li> Si l'on considère les voisins de ces cinq sommets, en excluant $x_0, x_3$ et $x_7$, déjà placés, \n",
    "            ces listes de voisins sont, pour $x_1, x_2, x_4, x_5$ et $x_6$, respectivement \n",
    "            $[2; 4; 5]$, $[1; 4; 5; 6]$, $[1; 2; 5]$, $[1; 2; 4; 6]$ et $[2; 5]$.<br>\n",
    "            Les sommets des listes $[2; 4; 5]$, $[1; 2; 5]$ et $[2; 5]$ forment trois cliques, donc les sommets\n",
    "            correspondants, $x_1$, $x_4$ et $x_6$, peuvent être situés après leurs voisins, listés ci-dessus, dans un ordre quelconque (leurs voisins d'indice inférieur formeront une clique (sous-clique de leurs ensembles de voisins).<br/>\n",
    "            On peut donc proposer, à ce stade, que l'énumération se termine par la suite\n",
    "            $x_1, x_4, x_6, x_0, x_3, x_7$.<br>\n",
    "        Les sommets restant à placer sont alors $x_2$ et $x_5$.</li>\n",
    "        <li> Pour ces deux sommets, voisins l'un de l'autre, l'ordre est indifférent, car dans tous les cas, l'un ou l'autre de ces deux sommets sera précédé par un seul de ses voisins, formant à lui seul une clique de cardinal 1.\n",
    "        </li>\n",
    "    </ul>\n",
    "        En conclusion, l'énumération $(x_2, x_5, x_1, x_4, x_6, x_0, x_3, x_7)$ forme pour le graphe $G$ un ordre d'élimination parfait.\n",
    "</div>"
   ]
  },
  {
   "cell_type": "markdown",
   "metadata": {},
   "source": [
    "<div style='font-family: \"Times New Roman\" , Times, serif; font-size:20 px'>\n",
    "    <h3 style='text-align: left; font-size: 15 px;'><i> III.B - Vérification</i></h3>\n",
    "</div>"
   ]
  },
  {
   "cell_type": "markdown",
   "metadata": {},
   "source": [
    "<div style='font-family: \"Times New Roman\" , Times, serif; font-size:20 px'>\n",
    "    <b>III.B.1)</b>\n",
    "    Écrire une fonction de signature<br>\n",
    "    <span style='font-family: \"Courier New\", Courier, monospace; font-size: 40 px;'>\n",
    "        voisins_inferieurs : int list vect -> int -> int list</span><br>\n",
    "telle que <span style='font-family: \"Courier New\", Courier, monospace; font-size: 40 px;'>voisins_inferieurs aretes x </span> renvoie la liste des voisins du sommet d’indice $x$ dont l’indice est\n",
    "strictement inférieur à $x$.\n",
    "</div>"
   ]
  },
  {
   "cell_type": "markdown",
   "metadata": {},
   "source": [
    "<div style='font-family: \"Times New Roman\" , Times, serif; font-size:20 px'>\n",
    "    $\\bullet$ <b>Correction</b><br>\n",
    "    La fonction parcourt la liste d'adjacence du sommet d'indice $x$,\n",
    "    et accumule dans une liste, ses voisins d'indice strictement inférieur à $x$.\n",
    "</div>"
   ]
  },
  {
   "cell_type": "code",
   "execution_count": 34,
   "metadata": {},
   "outputs": [
    {
     "data": {
      "text/plain": [
       "val voisins_inferieurs : int list array -> int -> int list = <fun>\n"
      ]
     },
     "execution_count": 34,
     "metadata": {},
     "output_type": "execute_result"
    },
    {
     "data": {
      "text/plain": [
       "val aretes_c : int list array =\n",
       "  [|[1; 4]; [0; 2; 4; 5]; [1; 3; 4; 5; 6]; [2; 6]; [0; 1; 2; 5; 7];\n",
       "    [1; 2; 4; 6; 7]; [2; 3; 5]; [4; 5]|]\n"
      ]
     },
     "execution_count": 34,
     "metadata": {},
     "output_type": "execute_result"
    },
    {
     "data": {
      "text/plain": [
       "- : int list = [1]\n"
      ]
     },
     "execution_count": 34,
     "metadata": {},
     "output_type": "execute_result"
    },
    {
     "data": {
      "text/plain": [
       "- : int list = [4; 2; 1]\n"
      ]
     },
     "execution_count": 34,
     "metadata": {},
     "output_type": "execute_result"
    }
   ],
   "source": [
    "let voisins_inferieurs aretes x = \n",
    "    let ladj = aretes.(x) in\n",
    "    let rec aux li acc = match li with\n",
    "                         | [] -> acc\n",
    "                         | h::t -> if h < x then aux t (h::acc)\n",
    "                                   else aux t acc\n",
    "    in\n",
    "    aux ladj [];;\n",
    "\n",
    "(* tests *)\n",
    "let aretes_c =\n",
    "    [| [1; 4]; [0; 2; 4; 5]; [1; 3; 4; 5; 6]; [2; 6]; [0; 1; 2; 5; 7]; [1; 2; 4; 6; 7]; [2; 3; 5]; [4; 5] |];;\n",
    "voisins_inferieurs aretes_c 2;;\n",
    "voisins_inferieurs aretes_c 5;;"
   ]
  },
  {
   "cell_type": "markdown",
   "metadata": {},
   "source": [
    "<div style='font-family: \"Times New Roman\" , Times, serif; font-size:20 px'>\n",
    "    <b>III.B.2)</b>\n",
    "    Écrire une fonction de signature<br>\n",
    "    <span style='font-family: \"Courier New\", Courier, monospace; font-size: 40 px;'>\n",
    "        est_ordre_parfait : int list vect -> bool</span><br>\n",
    "telle que <span style='font-family: \"Courier New\", Courier, monospace; font-size: 40 px;'>est_ordre_parfait aretes </span> renvoie renvoie\n",
    "    <span style='font-family: \"Courier New\", Courier, monospace; font-size: 40 px;'>true</span> si et seulement si l’énumération associée au graphe représenté\n",
    "par\n",
    "    <span style='font-family: \"Courier New\", Courier, monospace; font-size: 40 px;'>aretes</span>\n",
    "    est un ordre d’élimination parfait.\n",
    "</div>"
   ]
  },
  {
   "cell_type": "markdown",
   "metadata": {},
   "source": [
    "<div style='font-family: \"Times New Roman\" , Times, serif; font-size:20 px'>\n",
    "    $\\bullet$ <b>Correction</b><br>\n",
    "    La fonction parcourt une par une les listes d'adjacence des sommets du graphe,\n",
    "    et pour chacune d'elle, construit la liste réduite aux voisins d'indice inférieur strictement à l'indice du\n",
    "    sommet, et vérifie que cette liste forme une clique.<br>\n",
    "    Pour que la fonction termine dès qu'une liste réduite de voisins n'est pas une clique, on utilise une boucle\n",
    "    <span style='font-family: \"Courier New\", Courier, monospace; font-size: 40 px;'>\n",
    "        while</span> pour parcourir le tableau <span style='font-family: \"Courier New\", Courier, monospace; font-size: 40 px;'>\n",
    "        aretes</span>.\n",
    "</div>"
   ]
  },
  {
   "cell_type": "code",
   "execution_count": 35,
   "metadata": {},
   "outputs": [
    {
     "data": {
      "text/plain": [
       "val est_ordre_parfait : int list array -> bool = <fun>\n"
      ]
     },
     "execution_count": 35,
     "metadata": {},
     "output_type": "execute_result"
    },
    {
     "data": {
      "text/plain": [
       "- : bool = false\n"
      ]
     },
     "execution_count": 35,
     "metadata": {},
     "output_type": "execute_result"
    }
   ],
   "source": [
    "let est_ordre_parfait aretes =\n",
    "    let n = Array.length aretes\n",
    "    and i = ref 0 in\n",
    "    while !i < n && est_clique aretes (voisins_inferieurs aretes !i) do\n",
    "        incr i\n",
    "    done;\n",
    "    !i = n(*, !i*);;\n",
    "    \n",
    "(* test *)\n",
    "est_ordre_parfait aretes_c;;"
   ]
  },
  {
   "cell_type": "markdown",
   "metadata": {},
   "source": [
    "<div style='font-family: \"Times New Roman\" , Times, serif; font-size:20 px'>\n",
    "    Avec la liste d'arêtes pour le graphe $G$ en utilisant l'énumération trouvée en question\n",
    "    <i>III.A</i> et notée\n",
    "    <span style='font-family: \"Courier New\", Courier, monospace; font-size: 40 px;'>\n",
    "        aretes_c'</span> :\n",
    "</div>"
   ]
  },
  {
   "cell_type": "code",
   "execution_count": 36,
   "metadata": {},
   "outputs": [
    {
     "data": {
      "text/plain": [
       "val aretes_c' : int list array =\n",
       "  [|[1; 2; 3; 4; 6]; [0; 2; 3; 4; 7]; [0; 1; 3; 5]; [0; 1; 2; 5; 7];\n",
       "    [0; 1; 6]; [2; 3]; [0; 4]; [1; 3]|]\n"
      ]
     },
     "execution_count": 36,
     "metadata": {},
     "output_type": "execute_result"
    },
    {
     "data": {
      "text/plain": [
       "- : bool = true\n"
      ]
     },
     "execution_count": 36,
     "metadata": {},
     "output_type": "execute_result"
    }
   ],
   "source": [
    "let aretes_c' =\n",
    "    [| [1; 2; 3; 4; 6]; [0; 2; 3; 4; 7]; [0; 1; 3; 5]; [0; 1; 2; 5; 7];\n",
    "       [0; 1; 6]; [2; 3]; [0; 4]; [1; 3]\n",
    "    |];;\n",
    "\n",
    "est_ordre_parfait aretes_c';;"
   ]
  },
  {
   "cell_type": "markdown",
   "metadata": {},
   "source": [
    "<div style='font-family: \"Times New Roman\" , Times, serif; font-size:20 px'>\n",
    "    <h3 style='text-align: left; font-size: 15 px;'><i> III.C - Ordre d’élimination parfait pour un graphe d’intervalles</i></h3>\n",
    "</div>"
   ]
  },
  {
   "cell_type": "markdown",
   "metadata": {},
   "source": [
    "<div style='font-family: \"Times New Roman\" , Times, serif; font-size:20 px'>\n",
    "    Montrer que l’énumération des segments $\\left(I_0, \\dots, I_{n-1}\\right)$ obtenue en les triant par leurs extrémités gauches en ordre\n",
    "croissant est un ordre d’élimination parfait de leur graphe d’intervalles.\n",
    "</div>"
   ]
  },
  {
   "cell_type": "markdown",
   "metadata": {},
   "source": [
    "<div style='font-family: \"Times New Roman\" , Times, serif; font-size:20 px'>\n",
    "    $\\bullet$ <b>Correction</b><br>\n",
    "    Le résultat a déjà été prouvé à la question <b>II.C.2)</b> où il a été établi\n",
    "    que, dans une énumération d'intervalles dans laquelle les intervalles sont triés par leurs extrémités gauches,\n",
    "    les voisins du sommet d'indice $k$ dont l'indice est inférieur strictement à $k$ forment une clique.<br>\n",
    "    Ce qui établit que l'énumération est un ordre d'élimination parfait.\n",
    "</div>"
   ]
  },
  {
   "cell_type": "markdown",
   "metadata": {},
   "source": [
    "<div style='font-family: \"Times New Roman\" , Times, serif; font-size:20 px'>\n",
    "    <h3 style='text-align: left; font-size: 15 px;'><i> III.D - Coloration</i></h3>\n",
    "</div>"
   ]
  },
  {
   "cell_type": "markdown",
   "metadata": {},
   "source": [
    "<div style='font-family: \"Times New Roman\" , Times, serif; font-size:20 px'>\n",
    "    On considère un graphe dont $\\left(x_0, \\dots, x_{n-1}\\right)$ est une énumération des sommets.<br>\n",
    "    On colore ce graphe à l’aide l’algorithme suivant :<br>\n",
    "    <ul style=\"list-style-type:none\"><li>\n",
    "pour $i$ allant de $0$ à $n-1$, on colore $x_i$ avec la plus petite couleur qui ne soit pas utilisée\n",
    "        par un de ses voisins déjà colorés.</li></ul>\n",
    "</div>"
   ]
  },
  {
   "cell_type": "markdown",
   "metadata": {},
   "source": [
    "<div style='font-family: \"Times New Roman\" , Times, serif; font-size:20 px'>\n",
    "    <b>III.D.1)</b>\n",
    "    Appliquer cet algorithme de coloration au graphe 𝐺 de la figure 4 muni\n",
    "</div>"
   ]
  },
  {
   "cell_type": "markdown",
   "metadata": {},
   "source": [
    "<div style='font-family: \"Times New Roman\" , Times, serif; font-size:20 px'>\n",
    "    <i>a)</i>\n",
    "    de l’ordre $\\left(x_0, \\dots, x_7\\right)$ ;\n",
    "</div>"
   ]
  },
  {
   "cell_type": "markdown",
   "metadata": {},
   "source": [
    "<div style='font-family: \"Times New Roman\" , Times, serif; font-size:20 px'>\n",
    "    $\\bullet$ <b>Correction</b><br>\n",
    "    On indique ci-dessous, au fur et à mesure, pour chaque sommet, la liste de ses voisins d'indice inférieur strictement, ainsi que la liste de leurs couleurs déjà attribuée, ainsi que la couleur attribuée au sommet.\n",
    "    <ul><li>\n",
    "        $x_0$ n'a aucun voisin d'indice inférieur, donc $x_0$ prend la couleur $0$.</li>\n",
    "        <li>\n",
    "            $x_1$ a pour liste de voisins d'indice inférieur, $[x_0]$,\n",
    "            de couleurs $[0]$,\n",
    "            $x_1$ prend donc la couleur\n",
    "            $1$ ; </li>\n",
    "        <li>\n",
    "            $x_2$ a pour liste de voisins d'indice inférieur, $[x_1]$,\n",
    "            de couleurs $[1]$,\n",
    "            $x_2$ prend donc la couleur\n",
    "            $0$ ; </li>\n",
    "        <li>\n",
    "            $x_3$ a pour liste de voisins d'indice inférieur, $[x_2]$,\n",
    "            de couleurs $[0]$,\n",
    "            $x_3$ prend donc la couleur\n",
    "            $1$ ; </li>\n",
    "        <li>\n",
    "            $x_4$ a pour liste de voisins d'indice inférieur, $[x_0, x_1, x_2]$,\n",
    "            de couleurs $[0, 1, 0]$,\n",
    "            $x_4$ prend donc la couleur\n",
    "            $2$ ; </li>\n",
    "        <li>\n",
    "            $x_5$ a pour liste de voisins d'indice inférieur, $[x_1, x_2, x_4]$,\n",
    "            de couleurs $[1, 0, 2]$,\n",
    "            $x_5$ prend donc la couleur\n",
    "            $3$ ; </li>\n",
    "        <li>\n",
    "            $x_6$ a pour liste de voisins d'indice inférieur, $[x_2, x_3, x_5]$,\n",
    "            de couleurs $[0, 1, 3]$,\n",
    "            $x_6$ prend donc la couleur\n",
    "            $2$ ; </li>\n",
    "        <li>\n",
    "            $x_7$ a pour liste de voisins d'indice inférieur, $[x_4, x_5]$,\n",
    "            de couleurs $[2, 3]$,\n",
    "            $x_7$ prend donc la couleur\n",
    "            $0$ ; </li>\n",
    "    </ul>\n",
    "    La coloration du graphe issu de l'algorithme pour l'énumération $\\left(x_0, \\dots, x_{7}\\right)$\n",
    "    est donc $\\left(0, 1, 0, 1, 2, 3, 2, 0\\right)$.\n",
    "</div>"
   ]
  },
  {
   "cell_type": "markdown",
   "metadata": {},
   "source": [
    "<div style='font-family: \"Times New Roman\" , Times, serif; font-size:20 px'>\n",
    "    <i>b)</i>\n",
    "    d’un ordre d’élimination parfait.\n",
    "</div>"
   ]
  },
  {
   "cell_type": "markdown",
   "metadata": {},
   "source": [
    "<div style='font-family: \"Times New Roman\" , Times, serif; font-size:20 px'>\n",
    "    $\\bullet$ <b>Correction</b><br>\n",
    "    On reprend l'ordre d'élimination parfait donné en question <i>III.A</i>, à savoir\n",
    "    $(x_2, x_5, x_1, x_4, x_6, x_0, x_3, x_7)$.<br>\n",
    "    On reprend l'algorithme comme précédemment.\n",
    "    <ul><li>\n",
    "        $x_2$ n'a aucun voisin d'indice inférieur, donc $x_2$ prend la couleur $0$ ;</li>\n",
    "        <li>\n",
    "            $x_5$ a pour liste de voisins d'indice inférieur, $[x_2]$,\n",
    "            de couleurs $[0]$,\n",
    "            $x_1$ prend donc la couleur\n",
    "            $1$ ; </li>\n",
    "        <li>\n",
    "            $x_1$ a pour liste de voisins d'indice inférieur, $[x_2, x_5]$,\n",
    "            de couleurs $[0, 1]$,\n",
    "            $x_1$ prend donc la couleur\n",
    "            $2$ ; </li>\n",
    "        <li>\n",
    "            $x_4$ a pour liste de voisins d'indice inférieur, $[x_2, x_5, x_1]$,\n",
    "            de couleurs $[0, 1, 2]$,\n",
    "            $x_4$ prend donc la couleur\n",
    "            $3$ ; </li>\n",
    "        <li>\n",
    "            $x_6$ a pour liste de voisins d'indice inférieur, $[x_2, x_5]$,\n",
    "            de couleurs $[0, 1]$,\n",
    "            $x_6$ prend donc la couleur\n",
    "            $2$ ; </li>\n",
    "        <li>\n",
    "            $x_0$ a pour liste de voisins d'indice inférieur, $[x_1, x_4]$,\n",
    "            de couleurs $[1, 2]$,\n",
    "            $x_0$ prend donc la couleur\n",
    "            $0$ ; </li>\n",
    "        <li>\n",
    "            $x_3$ a pour liste de voisins d'indice inférieur, $[x_2, x_6]$,\n",
    "            de couleurs $[0, 2]$,\n",
    "            $x_3$ prend donc la couleur\n",
    "            $1$ ; </li>\n",
    "        <li>\n",
    "            $x_7$ a pour liste de voisins d'indice inférieur, $[x_5, x_4]$,\n",
    "            de couleurs $[1, 3]$,\n",
    "            $x_7$ prend donc la couleur\n",
    "            $0$.</li>\n",
    "    </ul>\n",
    "    La coloration du graphe issu de l'algorithme pour l'énumération $\\left(x_2, x_5, x_1, x_4, x_6, x_0, x_3, x_7\n",
    "    \\right)$\n",
    "    est donc $\\left(0, 1, 2, 3, 2, 0, 1, 0\\right)$.\n",
    "</div>"
   ]
  },
  {
   "cell_type": "markdown",
   "metadata": {},
   "source": [
    "<div style='font-family: \"Times New Roman\" , Times, serif; font-size:20 px'>\n",
    "    <b>III.D.2)</b>\n",
    "    Écrire une fonction de signature<br>\n",
    "    <span style='font-family: \"Courier New\", Courier, monospace; font-size: 40 px;'>\n",
    "        colore : int list vect -> int vect</span><br>\n",
    "telle que l'appel <span style='font-family: \"Courier New\", Courier, monospace; font-size: 40 px;'>colore aretes</span> renvoie selon cet algorithme un tableau\n",
    "    <span style='font-family: \"Courier New\", Courier, monospace; font-size: 40 px;'>c</span>\n",
    "    représentant une coloration valide\n",
    "du graphe décrit par\n",
    "    <span style='font-family: \"Courier New\", Courier, monospace; font-size: 40 px;'>aretes</span>\n",
    "    où la couleur du $i$-ème sommet est donnée par\n",
    "    <span style='font-family: \"Courier New\", Courier, monospace; font-size: 40 px;'>c.(i)</span>.\n",
    "</div>"
   ]
  },
  {
   "cell_type": "markdown",
   "metadata": {},
   "source": [
    "<div style='font-family: \"Times New Roman\" , Times, serif; font-size:20 px'>\n",
    "    $\\bullet$ <b>Correction</b><br>\n",
    "    La fonction proposée reprend l'algorithme tel qu'il a été appliqué dans les exemples.<br>\n",
    "    On construit d'abord un tableau des couleurs, initialisé à la valeur $-1$, de même longueur que le\n",
    "    tableau des arêtes.<br>\n",
    "    Puis, on parcourt le tableau des arêtes en construisant pour chaque sommet\n",
    "    la liste des couleurs de ses voisins d'indice inférieur, déjà colorés (on sait qu'ils le sont, par construction). On cherche alors la plus petite couleur\n",
    "    non présente dans cette liste.<br>\n",
    "</div>"
   ]
  },
  {
   "cell_type": "code",
   "execution_count": 37,
   "metadata": {},
   "outputs": [
    {
     "data": {
      "text/plain": [
       "val colore : int list array -> int array = <fun>\n"
      ]
     },
     "execution_count": 37,
     "metadata": {},
     "output_type": "execute_result"
    },
    {
     "data": {
      "text/plain": [
       "val aretes_c : int list array =\n",
       "  [|[1; 4]; [0; 2; 4; 5]; [1; 3; 4; 5; 6]; [2; 6]; [0; 1; 2; 5; 7];\n",
       "    [1; 2; 4; 6; 7]; [2; 3; 5]; [4; 5]|]\n"
      ]
     },
     "execution_count": 37,
     "metadata": {},
     "output_type": "execute_result"
    },
    {
     "data": {
      "text/plain": [
       "- : int array = [|0; 1; 0; 1; 2; 3; 2; 0|]\n"
      ]
     },
     "execution_count": 37,
     "metadata": {},
     "output_type": "execute_result"
    },
    {
     "data": {
      "text/plain": [
       "val aretes_c' : int list array =\n",
       "  [|[1; 2; 3; 4; 6]; [0; 2; 3; 4; 7]; [0; 1; 3; 5]; [0; 1; 2; 5; 7];\n",
       "    [0; 1; 6]; [2; 3]; [0; 4]; [1; 3]|]\n"
      ]
     },
     "execution_count": 37,
     "metadata": {},
     "output_type": "execute_result"
    },
    {
     "data": {
      "text/plain": [
       "- : int array = [|0; 1; 2; 3; 2; 0; 1; 0|]\n"
      ]
     },
     "execution_count": 37,
     "metadata": {},
     "output_type": "execute_result"
    }
   ],
   "source": [
    "let colore aretes =\n",
    "    let couleurs = Array.make (Array.length aretes) (-1) in\n",
    "    for i = 0 to Array.length aretes - 1 do\n",
    "        let voisins_inf = voisins_inferieurs aretes i(* on dresse la liste des voisins du sommet i\n",
    "                                                                                                d'indice <i *)\n",
    "        in\n",
    "        let rec aux voisins = match voisins with (* la fonction aux renvoie la liste des couleurs\n",
    "                                                                                            de ces voisins *)\n",
    "            | [] -> []\n",
    "            | v::t -> couleurs.(v)::(aux t)\n",
    "        in\n",
    "        couleurs.(i) <- plus_petit_absent (aux voisins_inf)\n",
    "    done;\n",
    "    couleurs;;\n",
    "(* tests *)\n",
    "(* avec l'énumération initiale pour le graphe de la figure 4 *)\n",
    "let aretes_c =\n",
    "    [| [1; 4]; [0; 2; 4; 5]; [1; 3; 4; 5; 6]; [2; 6]; [0; 1; 2; 5; 7]; [1; 2; 4; 6; 7]; [2; 3; 5]; [4; 5] |];;\n",
    "colore aretes_c;; (* attendu, cf. III.D.1)a) : (0,1,0,1,2,3,2,0) *)\n",
    "\n",
    "(* avec l'énumération de l'ordre d'élimination parfait donnée en III.A pour le graphe de la figure 4 *)\n",
    "let aretes_c' =\n",
    "    [| [1; 2; 3; 4; 6]; [0; 2; 3; 4; 7]; [0; 1; 3; 5]; [0; 1; 2; 5; 7];\n",
    "       [0; 1; 6]; [2; 3]; [0; 4]; [1; 3]\n",
    "    |];;\n",
    "colore aretes_c';; (* attendu, cf. III.D.1)b) : (0, 1, 2, 3, 2, 0, 1, 0) *)"
   ]
  },
  {
   "cell_type": "markdown",
   "metadata": {},
   "source": [
    "<div style='font-family: \"Times New Roman\" , Times, serif; font-size:20 px'>\n",
    "    <b>III.D.3)</b>\n",
    "    Soit $\\left(c_0, \\dots, c_{n-1}\\right)$ la coloration obtenue par cet algorithme pour un graphe $G$ dont l’énumération des\n",
    "sommets est un ordre d’élimination parfait.\n",
    "</div>"
   ]
  },
  {
   "cell_type": "markdown",
   "metadata": {},
   "source": [
    "<div style='font-family: \"Times New Roman\" , Times, serif; font-size:20 px'>\n",
    "    <i>a)</i>\n",
    "    Montrer que pour tout $i\\in \\{0, \\dots, n-1\\}$ on a $\\chi(G)\\geqslant 1+c_i$.\n",
    "</div>"
   ]
  },
  {
   "cell_type": "markdown",
   "metadata": {},
   "source": [
    "<div style='font-family: \"Times New Roman\" , Times, serif; font-size:20 px'>\n",
    "    $\\bullet$ <b>Correction</b><br>\n",
    "    On reprend là encore ce qui a été fait au <i>II.C.</i>.<br>\n",
    "    Si l'énumération des sommets de $G$ est un\n",
    "    ordre d'élimination parfait et que l'on considère un $i$ entier entre $0$ et $n-1$, et que l'on note $c_i$\n",
    "    la couleur reçue par le sommet d'indice $i$,\n",
    "    alors la coloration des voisins du sommet d'indice $i$, d'indice strictement inférieur à $i$ comprend\n",
    "    au moins les couleurs distinctes $[\\![0, c_i-1]\\!]$ (car $c_i$ est la plus petite couleur non utilisées dans la coloration de ces voisins), donc le sommet d'indice $i$, a au moins $c_i$ voisins parmi ses voisins d'indice inférieur qui forment une clique, car l'énumération considérée est un ordre d'élimination parfait.<br>\n",
    "    En ajoutant le sommet d'indice $i$ à cet ensemble de voisins d'indices inférieur, formant une clique,\n",
    "    on obtient encore une clique, qui est maintenant de cardinal $1+c_i$.<br>\n",
    "    Ce nombre $1+c_i$ est un minorant de $\\omega(G)$, lui-même minorant de $\\chi(G)$ (<i>cf.</i> <b>I.E.2)</b>), et l'on a donc $1+c_i\\leqslant \\chi(G)$.\n",
    "</div>"
   ]
  },
  {
   "cell_type": "markdown",
   "metadata": {},
   "source": [
    "<div style='font-family: \"Times New Roman\" , Times, serif; font-size:20 px'>\n",
    "    <i>b)</i>\n",
    "    En déduire que l’algorithme de coloration renvoie une coloration optimale.\n",
    "</div>"
   ]
  },
  {
   "cell_type": "markdown",
   "metadata": {},
   "source": [
    "<div style='font-family: \"Times New Roman\" , Times, serif; font-size:20 px'>\n",
    "    $\\bullet$ <b>Correction</b><br>\n",
    "    On reprend là encore ce qui a été fait au <i>II.C.</i>.<br>\n",
    "    Si l'énumération des sommets de $G$ est un\n",
    "    ordre d'élimination parfait, puisque l'on a alors (<i>cf.</i> question précédente)\n",
    "    $$\\forall\\, i\\in [\\![0, n-1]\\!], \\quad 1+c_i\\leqslant \\chi(G),$$\n",
    "    il vient que $(5) 1+\\max_{0\\leqslant i\\leqslant n-1}\\left(c_i\\right)\\leqslant \\chi(G)$, et comme l'ensemble\n",
    "    des couleurs utilisées à l'issue de l'application de l'algorithme de coloration est de la forme\n",
    "    $[\\![0, m-1]\\!]$, avec $m$ le nombre de couleurs utilisées, on a aussi\n",
    "    $\\max_{0\\leqslant i\\leqslant n-1}\\left(c_i\\right)=m-1$, et, par conséquent $(5)$ s'écrit $m\\leqslant \\chi(G)$.<br>\n",
    "    $\\chi(G)$ étant le nombre minimal de couleurs pour une coloration de $G$, on en conclut que $m=\\chi(G)$ et que donc la coloration est optimale.\n",
    "</div>"
   ]
  },
  {
   "cell_type": "markdown",
   "metadata": {},
   "source": [
    "<div style='font-family: \"Times New Roman\" , Times, serif; font-size:20 px'>\n",
    "    <h2 style='text-align: left; font-size: 30 px;'> IV Ordre d’élimination parfait pour un graphe cordal</h2>\n",
    "    </div>"
   ]
  },
  {
   "cell_type": "markdown",
   "metadata": {},
   "source": [
    "<div style='font-family: \"Times New Roman\" , Times, serif; font-size:20 px'>\n",
    "    <i>On s’intéresse ici à une nouvelle condition suffisante pour qu’un graphe admette un ordre d’élimination parfait,\n",
    "qui s’exprime en considérant les cycles de longueur au moins égale à 4 du graphe considéré.</i><br>\n",
    "Un graphe $G$ est dit cordal lorsque pour tout cycle\n",
    "$C=\\left(v_0, v_1, \\dots, v_{n-1}, v_0\\right)$ de $G$ de longueur $n\\geqslant 4$, \n",
    "il existe\n",
    "$i$, $j$ distincts entre $0$ et $n-1$ tels que les sommets $v_i$ et $v_j$ soient reliés dans le graphe $G$ mais non successifs\n",
    "dans le cycle.\n",
    "Une telle arête $\\{v_i, v_j\\}$ est appelée une <i>corde</i> du cycle $C$.\n",
    "Autrement dit, le graphe $G$ est cordal\n",
    "lorsque tout cycle de $G$ de longueur supérieure ou égale à 4 possède une corde.\n",
    "    </div>"
   ]
  },
  {
   "cell_type": "markdown",
   "metadata": {},
   "source": [
    "<div style='font-family: \"Times New Roman\" , Times, serif; font-size:20 px'>\n",
    "    <h3 style='text-align: left; font-size: 15 px;'><i> IV.A - Cycles de longueur 4 dans un graphe d’intervalles</i></h3>\n",
    "</div>"
   ]
  },
  {
   "cell_type": "markdown",
   "metadata": {},
   "source": [
    "<div style='font-family: \"Times New Roman\" , Times, serif; font-size:20 px'>\n",
    "    Soit $G$ un graphe d’intervalles. Dans cette question, on se propose de démontrer par l’absurde que tout cycle\n",
    "de longueur 4 de $G$ possède une corde.\n",
    "    On suppose à cet effet que $G$ contient un 4-cycle sans corde.\n",
    "On dispose donc de 4 segments $I_0, I_1, I_2, I_3$ tels que\n",
    "    $I_0\\cap I_1\\neq \\emptyset, I_1\\cap I_2\\neq \\emptyset,\n",
    "    I_2\\cap I_3\\neq \\emptyset, I_3\\cap I_0\\neq \\emptyset$,\n",
    "    et \n",
    "    $I_0\\cap I_2= \\emptyset, I_1\\cap I_3= \\emptyset$.\n",
    "    On supposera pour simplifier que les extrémités des segments sont toutes distinctes.\n",
    "</div>"
   ]
  },
  {
   "cell_type": "markdown",
   "metadata": {},
   "source": [
    "<div style='font-family: \"Times New Roman\" , Times, serif; font-size:20 px'>\n",
    "    <b>IV.A.1)</b>\n",
    "    Montrer qu’aucun des segments $I_k$, $k=0, 1, 2, 3$ n’est inclus dans un autre de ces segments.\n",
    "</div>"
   ]
  },
  {
   "cell_type": "markdown",
   "metadata": {},
   "source": [
    "<div style='font-family: \"Times New Roman\" , Times, serif; font-size:20 px'>\n",
    "    $\\bullet$ <b>Correction</b><br>\n",
    "    Supposons que $I_0$ soit inclus dans un autre des segments - ce qui ne restreint pas la généralité car\n",
    "    les conditions posées sont invariante par toute permutation circulaire des indices des segments.<br>\n",
    "    Comme $I_0\\cap I_2= \\emptyset$, $I_0$ ne peut être inclus que dans $I_1$ ou $I_3$.<br>\n",
    "    Si $I_0\\subset I_1$, alors, comme $I_1\\cap I_3= \\emptyset$, on a $I_3\\cap I_0= \\emptyset$ ce qui contredit l'une des hypothèses.<br>\n",
    "    De même si $I_0\\subset I_3$, alors l'hypothèse $I_0\\cap I_1\\neq \\emptyset$ ne peut être vérifiée.<br>\n",
    "    On a ainsi montré qu'aucun aucun des segments $I_k$, $k=0, 1, 2, 3$ n’est inclus dans un autre de ces segments.\n",
    "</div>"
   ]
  },
  {
   "cell_type": "markdown",
   "metadata": {},
   "source": [
    "<div style='font-family: \"Times New Roman\" , Times, serif; font-size:20 px'>\n",
    "    <b>IV.A.2)</b>\n",
    "    On a donc par exemple $\\min I_0 \\lt \\min I_1 \\lt \\max I_0 \\lt \\max I_1$.\n",
    "    Montrer que $\\min I_1 \\lt \\min I_2 \\lt \\max I_1 \\lt \\max I_2$ et de même pour $I_2$ et $I_3$.\n",
    "</div>"
   ]
  },
  {
   "cell_type": "markdown",
   "metadata": {},
   "source": [
    "<div style='font-family: \"Times New Roman\" , Times, serif; font-size:20 px'>\n",
    "    $\\bullet$ <b>Correction</b><br>\n",
    "    Les segments $I_0$ et $I_1$ ne sont pas disjoints, comme l'impose la condition $I_0\\cap I_1\\neq \\emptyset$.\n",
    "    Or, comme il a été utilisé dans la question <b>I.A.1)</b>, deux segments, \n",
    "    $I_0=[a_0, b_0]$ et $I_1=[a_1, b_1]$, sont disjoints si et seulement si\n",
    "    $\\min \\left(b_0, b_1\\right) \\lt \\max \\left(a_0, a_1\\right)$ (<i>i.e.</i> l'extremité droite du segment le plus à droite est supérieure strictement à l'extrémité droite du segment le plus à gauche).\n",
    "    <i>A contrario</i>, puisque les extrémités des segments sont supposées distinctes, deux segments $I_0=[a_0, b_0]$ et $I_1=[a_1, b_1]$ ont une intersection non vide si et seulement si\n",
    "    $$(6)\\quad \\max \\left(a_0, a_1\\right) \\lt \\min \\left(b_0, b_1\\right).$$\n",
    "    On peut supposer, quitte à échanger les noms $I_0$ et $I_1$, que $a_0 \\lt a_1$, auquel cas $(6)$ s'écrit $a_0\\lt a_1 \\lt \\min \\left(b_0, b_1\\right)$, qui, suivant la position relative de $b_0$ et $b_1$ s'écrit\n",
    "    $$a_0\\lt a_1 \\lt b_0 \\lt b_1 \\quad {\\rm ou}\\quad  a_0\\lt a_1 \\lt b_1 \\lt b_0,$$\n",
    "    mais la seconde possibilité est exclue car dans ce cas on aurait $I_1\\subset I_0$.<br>\n",
    "    Ainsi, on a, quitte à échanger les noms de $I_0$ et $I_1$, $a_0\\lt a_1 \\lt b_0 \\lt b_1$, ce qui avec les notations de l'énoncé s'écrit $(7) \\quad \\min I_0\\lt \\min I_1 \\lt \\max I_0 \\lt \\max I_1$.<br>\n",
    "    <br>\n",
    "    Comme $I_0\\cap I_2=\\emptyset$, on a, soit $b_2<a_0$, mais ceci est exclu car alors $I_2$ et $I_1$ seraient disjoints, soit $b_0\\lt a_2$ qui est donc la seule possibilité à retenir.<br>\n",
    "    La condition $I_1 \\cap I_2 \\neq \\emptyset$, se traduit de même que précédemment par\n",
    "    $$(7)\\quad \\max \\left(a_1, a_2\\right) \\lt \\min \\left(b_1, b_2\\right),$$\n",
    "    et plus précisément, parce qu'on ne peut avoir $I_1\\subset I_2$ ou $I_2\\subset I_1$, par\n",
    "    $$(7')\\quad a_1\\lt a_2\\lt b_1 \\lt b_2\\quad {\\rm ou}\\quad a_2\\lt a_1\\lt b_2\\lt b_1.$$\n",
    "    Comme $a_1\\lt b_0$ et $b_0\\lt a_2$, seule la première de ces deux suites d'inégalités est à retenir, ce qui correspond bien au résultat demandé :\n",
    "    $$(8)\\quad \\min I_1 \\lt \\min I_2 \\lt \\max I_1 \\lt \\max I_2.$$\n",
    "    <br>\n",
    "    On obtient alors le dernier résultat demandé\n",
    "    $$(9)\\quad \\min I_2 \\lt \\min I_3 \\lt \\max I_2 \\lt \\max I_3$$\n",
    "    à partir du résultat $(8)$, en remplaçant 0 par 1, 1 par 2 et 2 par 3 dans la démonstration de $(8)$\n",
    "    à partir de $(7)$, ce qui utilise les hypothèses $I_1\\cap I_3 =\\emptyset$ et $I_2\\cap I_3\\neq\\emptyset$.\n",
    "</div>"
   ]
  },
  {
   "cell_type": "markdown",
   "metadata": {},
   "source": [
    "<div style='font-family: \"Times New Roman\" , Times, serif; font-size:20 px'>\n",
    "    <b>IV.A.3)</b>\n",
    "    Conclure à une contradiction.\n",
    "</div>"
   ]
  },
  {
   "cell_type": "markdown",
   "metadata": {},
   "source": [
    "<div style='font-family: \"Times New Roman\" , Times, serif; font-size:20 px'>\n",
    "    $\\bullet$ <b>Correction</b><br>\n",
    "    La seule hypothèse non utilisée à la question précédente, est l'hypothèse\n",
    "    $I_3\\cap I_0\\neq\\emptyset$.\n",
    "    Puisqu'il est il est déjà acquis que $a_0\\lt a_1\\lt a_2\\lt a_3$, et donc en particulier $a_0\\lt a_3$, cette dernière impose\n",
    "    $$(10)\\quad a_0\\lt a_3\\lt b_0\\lt b_3.$$\n",
    "    Mais alors, comme on déduit de $(7)$, $(8)$ et $(9)$, d'une part que $a_0\\lt a_1\\lt a_2\\lt a_3$, et d'autre part que $b_0\\lt b_1\\lt b_2\\lt b_3$, le fait que $a_3\\lt b_0$ impose\n",
    "    $$a_0\\lt a_1\\lt a_2\\lt a_3\\lt b_0\\lt b_1\\lt b_2\\lt b_3,$$\n",
    "    qui établit, par exemple que $a_2\\in I_0$, ce qui contredit l'hypothèse $I_0\\cap I_2=\\emptyset$.<br>\n",
    "    On a ainsi démontré par l'absurde que les hypothèses faites ne peuvent toutes être satisfaites, et donc qu'un graphe d'intervalles ne peut contenir de 4-cycle sans corde.\n",
    "</div>"
   ]
  },
  {
   "cell_type": "markdown",
   "metadata": {},
   "source": [
    "<div style='font-family: \"Times New Roman\" , Times, serif; font-size:20 px'>\n",
    "    <h3 style='text-align: left; font-size: 15 px;'><i> IV.B - Cordalité des graphes d’intervalles</i></h3>\n",
    "</div>"
   ]
  },
  {
   "cell_type": "markdown",
   "metadata": {},
   "source": [
    "<div style='font-family: \"Times New Roman\" , Times, serif; font-size:20 px'>\n",
    "    Montrer plus généralement que tout graphe d’intervalles est cordal.\n",
    "</div>"
   ]
  },
  {
   "cell_type": "markdown",
   "metadata": {},
   "source": [
    "<div style='font-family: \"Times New Roman\" , Times, serif; font-size:20 px'>\n",
    "    $\\bullet$ <b>Correction</b><br>\n",
    "    Considérons un graphe d'intervalle $G$, présentant un cycle de longueur $r$, au moins égale à 4, sans corde.<br>\n",
    "    On peut noter $\\left(I_0, I_1, \\dots, I_{r-1}, I_0\\right)$, les segments de ce cycle.<br>\n",
    "    Le fait que la suite forme un cycle se traduit par le fait que \n",
    "    $$(11)\\quad\\forall\\; j\\in[\\![ 0, r-2]\\!], \\quad I_j\\cap I_{j+1}\\neq \\emptyset,\\; {\\rm et } \\; I_{r-1}\\cap I_0\\neq \\emptyset.$$\n",
    "    Le fait que le cycle ne comporte pas de corde se traduit par le fait que\n",
    "    $${\\rm pour \\ tout \\ couple} \\ (i, j),\\ {\\rm tel\\ que}\\ 0\\leqslant i\\lt j-1\\lt j\\leqslant r-1\\\n",
    "    {\\rm ou\\ tel\\ que}\\ i=r-1\\ {\\rm et}\\ 1\\leqslant j\\lt r-2, \\ {\\rm on\\ a}\\ I_i\\cap I_j = \\emptyset.$$\n",
    "    On supposera encore, pour simplifier, que les extrémités des segments sont toutes distinctes.<br>\n",
    "    De même que précédemment, si l'un des segments du cycle est inclus dans un autre, il ne peut s'agir que de deux segments consécutifs dans le cycle, car le cycle est sans corde, et, quitte à opérer une permutation circulaire sur les noms des segments, on peut supposer qu'il s'agit des segments $I_0$ et $I_1$, et quitte à numéroter le cycle dans le sens inverse, on peut supposer que $I_0$ et$I_1$ sont rangés dans l'ordre de leurs extrémités gauches.<br>\n",
    "    Avec cette dernière hypothèse, seule l'inclusion de $I_1$ dans $I_0$ est possible, mais alors $I_0$ étant disjoint de $I_2$ (il n'y a pas de corde dans le cycle), on a nécessairement $I_1$ disjoint de $I_2$ (car les extrémités des segments sont supposées toutes distinctes), ce qui contredit\n",
    "    que le fait que $\\left(I_0, I_1, \\dots, I_{r-1}, I_0\\right)$ est un cycle.<br>\n",
    "    On en conclut qu'aucun des segments du cycle ne peut être inclus dans un autre.<br>\n",
    "    Dans ces conditions et avec les hypothèses non restrictives faites sur la numérotation des intervalles du cycle,\n",
    "    on a, comme au <b>IV.A.1)</b> \n",
    "    $$\\min I_0 \\lt \\min I_1 \\lt \\max I_0 \\lt \\max I_1.$$\n",
    "    Il est alors possible de montrer, par récurrence sur $i$, que \n",
    "    $$(12)\\quad\\forall\\; j\\in [\\![0, r-2]\\!], \\quad\n",
    "    \\min I_j \\lt \\min I_{j+1} \\lt \\max I_j \\lt \\max I_{j+1}.$$\n",
    "    L'initialisation a déjà été prouvée, et la démonstration de l'hérédité se fait sur le modèle de la démonstration\n",
    "    du <b>IV.A.1)</b> :\n",
    "    <ul style=\"list-style-type: none;\"><li>\n",
    "        si pour un indice $j\\in [\\![0, r-3]\\!]$, $\\min I_j \\lt \\min I_{j+1} \\lt \\max I_j \\lt \\max I_{j+1}$, alors, pour $j+1$, le fait que $I_{j}\\cap I_{j+2} =\\emptyset$ impose que\n",
    "        $$\\max I_j\\lt \\min I_{j+2} {\\rm\\ ou\\ que} \\; \\max I_{j+2}\\lt \\min I_j,$$\n",
    "        mais $\\max I_{j+2}\\lt \\min I_j$ est exclu car alors, puisque\n",
    "        $\\min I_j \\lt \\min I_{j+1}$ on aurait $I_{j+1}\\cap I_{j+2} =\\emptyset$ ce qui contredit le fait que \n",
    "        $\\left(I_0, I_1, \\dots, I_{r-1}, I_0\\right)$ est un cycle.<br>\n",
    "        On a donc que $\\max I_j\\lt \\min I_{j+2}$, et par suite,\n",
    "        puisque $\\min I_{j+1} \\lt \\max I_j$ : $\\quad\\min I_{j+1}\\lt \\min I_{j+2}$. <br>\n",
    "        Enfin, puisque $\\min I_{j+1}\\lt \\min I_{j+2}$, $I_{j+1}\\cap I_{j+2}\\neq \\emptyset$ avec \n",
    "        $I_{j+2}$ non inclu dans $I_{j+1}$, ne peut que se traduire\n",
    "        par\n",
    "        $$\\min I_{j+1}\\lt \\min I_{j+2}\\lt \\max I_{j+1}\\lt \\max I_{j+2},$$\n",
    "        ce qui achève la démonstration de l'hérédité.\n",
    "        </li></ul>\n",
    "       On déduit alors de $(12)$ les deux suites d'inégalités suivantes :\n",
    "    $$(13)\\quad\\forall\\; j\\in [\\![0, r-2]\\!], \\quad\n",
    "    \\min I_j \\lt \\min I_{j+1} \\lt \\dots \\lt \\min I_{r-1} ;$$\n",
    "    et\n",
    "    $$(14)\\quad\\forall\\; j\\in [\\![0, r-2]\\!], \\quad\n",
    "    \\max I_j \\lt \\max I_{j+1} \\lt \\dots \\lt \\max I_{r-1} ;$$.\n",
    "    La contradiction vient alors de la prise en compte de la contrainte d'intersection entre $I_{r-1}$\n",
    "    et $I_0$.<br>\n",
    "    Comme pour la prise en compte de $I_0 \\cap I_1\\neq \\emptyset$, puisque\n",
    "    $\\min I_0 \\lt \\min I_{r-1}$ par $(13)$, $I_0 \\cap I_{r-1}\\neq \\emptyset$ implique que\n",
    "    $$\\min I_0 \\lt \\min I_{r-1}\\lt \\max I_0 \\lt \\max I_{r-1},$$\n",
    "        et spécifiquement, $\\min I_{r-1}\\lt \\max I_0$, implique avec $(13)$ et $(14)$, que \n",
    "    $$\\min I_0 \\lt \\min I_1 \\lt \\dots \\ \\min I_{r-1}\\lt \\max I_0 \\lt I_1\\lt \\dots\\lt \\max I_{r-1}.$$\n",
    "    On en déduit, par exemple, comme au <b>IV.A.3)</b>, que, $\\min I_2\\in I_0$, ce qui contredit l'hypothèse $I_0\\cap I_2=\\emptyset$.<br>\n",
    "    On a ainsi démontré par l'absurde que les hypothèses faites ne peuvent toutes être satisfaites, et donc qu'un graphe d'intervalles ne peut contenir de cycle,  longueur supérieure ou égale à 4, sans corde.<br>\n",
    "    En conclusion\n",
    "    $$\\rm tout \\ graphe \\ d'intervalles \\ est\\ donc \\ cordal.$$\n",
    "</div>"
   ]
  },
  {
   "cell_type": "markdown",
   "metadata": {},
   "source": [
    "<div style='font-family: \"Times New Roman\" , Times, serif; font-size:20 px'>\n",
    "    <h3 style='text-align: left; font-size: 15 px;'><i> IV.C - Une enquête policière</i></h3>\n",
    "</div>"
   ]
  },
  {
   "cell_type": "markdown",
   "metadata": {},
   "source": [
    "<div style='font-family: \"Times New Roman\" , Times, serif; font-size:20 px'>\n",
    "    Six personnes sont entrées dans la bibliothèque le jour où un livre rare y a été volé. Chacune d’entre elles est\n",
    "entrée une seule fois dans la bibliothèque, y est restée un certain temps, puis elle en est sortie. Si deux personnes\n",
    "étaient ensemble dans la bibliothèque à un instant donné, alors au moins l’une des deux a vu l’autre. À l’issue\n",
    "de l’enquête, les témoignages recueillis sont les suivants : Albert dit qu’il a vu Bernard et Édouard dans la\n",
    "bibliothèque. Bernard a vu Albert et Isabelle. Charlotte affirme avoir vu Didier et Isabelle. Didier dit qu’il a vu\n",
    "Albert et Isabelle. Édouard certifie avoir vu Bernard et Charlotte. Isabelle dit avoir vu Charlotte et Édouard.\n",
    "Seul le coupable a menti. Qui est-il ?\n",
    "</div>"
   ]
  },
  {
   "cell_type": "markdown",
   "metadata": {},
   "source": [
    "<div style='font-family: \"Times New Roman\" , Times, serif; font-size:20 px'>\n",
    "    $\\bullet$ <b>Correction</b><br>\n",
    "    Notons $A, B, C, D, E$ et $I$ les segments de temps correspondants à la présence dans la bibilothèque, respectivement, d'Albert, Bernard, Charlotte, Didier, Édouard et Isabelle.<br>\n",
    "    Lorsqu'une personne en a vu une autre, leurs intervalles de présence ont une intersection non vide.<br>\n",
    "    Comme lorsque deux personnes sont ensemble dans la bibliothèque, l'une des deux au moins a vu l'autre, on a l'assurance que toutes les arêtes du graphe d'intervalle sont citées au moins une fois dans les témoignages, sauf éventuellement celles correspondant à la présence du menteur.<br>\n",
    "    Les arêtes citées deux fois sont à coup sûr des données avérées car il n'y a qu'un menteur parmi les six personnes.<br>\n",
    "    Le graphe étant un graphe d'intervalles, il ne doit pas présenter de cycles de longueur supérieure ou égale à 4, sans corde.<br>\n",
    "    <br>\n",
    "    Comme il y a un et un seul menteur, on doit rechercher une personne dont la prise en compte du témoignage\n",
    "    rend le graphe non cordal.<br>\n",
    "    <br>\n",
    "    Si l'on prend en compte tous les témoignages, le graphe d'intervalles figurant les allées et venues dans la bibliothèque comprend les arêtes suivantes :\n",
    "    <ul><li>$(A, B), (A, E)$, suivant les dires de $A$ ;</li>\n",
    "        <li>$(B, A), (B, I)$, suivant les dires de $B$ ;</li>\n",
    "        <li>$(C, D), (C, I)$, suivant les dires de $C$ ;</li>\n",
    "        <li>$(D, A), (D, I)$, suivant les dires de $D$ ;</li>\n",
    "        <li>$(E, B), (E, C)$, suivant les dires de $E$ ;</li>\n",
    "        <li>$(I, C), (I, E)$, suivant les dires de $I$.</li>\n",
    "    </ul>\n",
    "    Les arêtes dont l'existence est assurée car citées deux fois, sont $(A, B)$ et $(C, I)$.<br>\n",
    "    Si l'on prend en compte tous les témoignages, présente au moins deux cycles de longueur 4 sans corde :\n",
    "    <ul><li>$(A, B, I, D, A)$, de par les témoignages de $A, B$ et $D$ ;</li>\n",
    "        <li>$(A, D, I, E, A)$, de par les témoignages de $D, I$ et $A$.</li>\n",
    "    </ul>\n",
    "    Comme de tels cycles ne peuvent exister, le menteur est nécessairement présent parmi les personnes dont les témoignagnes atteste l'existence de chacun de ces cycles. Comme le témoignage de $A$ est superflu pour attester du premier de ces deux cycles (car la présence de l'arête $(A, B)$ est attestée par $A$ mais aussi par $B$, l'unique témoignagne dont la non prise en compte élimine les deux cycles sans corde est celui de $D$.<br>\n",
    "    Le menteur (on a fait l'hypothèse qu'il n'y en avait qu'un), est donc nécessairement Didier.\n",
    "</div>"
   ]
  },
  {
   "cell_type": "markdown",
   "metadata": {},
   "source": [
    "<div style='font-family: \"Times New Roman\" , Times, serif; font-size:20 px'>\n",
    "    <h3 style='text-align: left; font-size: 15 px;'><i> IV.D - Ordre d’élimination parfait</i></h3>\n",
    "</div>"
   ]
  },
  {
   "cell_type": "markdown",
   "metadata": {},
   "source": [
    "<div style='font-family: \"Times New Roman\" , Times, serif; font-size:20 px'>\n",
    "    Un sommet $v$ d’un graphe $G$ est dit <i>simplicial</i> lorsque l’ensemble des voisins de $v$ dans $G$\n",
    "    est une clique.<br>\n",
    "Étant donnés un graphe $G=(S, A)$ et $S'\\subset S$ un ensemble de sommets de $G$,\n",
    "    le <i>sous-graphe</i> de $G$ induit par $S'$\n",
    "est le graphe $H=(S', A')$ où $A'\\subset A$ est l’ensemble des arêtes de $G$ dont les extrémités appartiennent à $S'$.<br>\n",
    "On représente en Caml un sous-graphe induit d’un graphe\n",
    "    <span style='font-family: \"Courier New\", Courier, monospace; font-size: 40 px;'>G</span>\n",
    "    possédant $n$ sommets par le couple\n",
    "    <span style='font-family: \"Courier New\", Courier, monospace; font-size: 40 px;'>(aretes, sg)</span>\n",
    "de type\n",
    "    <span style='font-family: \"Courier New\", Courier, monospace; font-size: 40 px;'>int list vect * bool vect</span>\n",
    "     où\n",
    "    <span style='font-family: \"Courier New\", Courier, monospace; font-size: 40 px;'>aretes</span>\n",
    "     est une description du graphe $G$ et\n",
    "    <span style='font-family: \"Courier New\", Courier, monospace; font-size: 40 px;'>sg</span>\n",
    "    est un tableau de taille\n",
    "$n$ tel que\n",
    "    <span style='font-family: \"Courier New\", Courier, monospace; font-size: 40 px;'>sg.(i)</span> vaut\n",
    "    <span style='font-family: \"Courier New\", Courier, monospace; font-size: 40 px;'>true</span>\n",
    "    si le sommet d’indice $i$ est un sommet du sous-graphe induit et\n",
    "    <span style='font-family: \"Courier New\", Courier, monospace; font-size: 40 px;'>false</span> sinon.\n",
    "</div>"
   ]
  },
  {
   "cell_type": "markdown",
   "metadata": {},
   "source": [
    "<div style='font-family: \"Times New Roman\" , Times, serif; font-size:20 px'>\n",
    "    <b>III.D.1)</b>\n",
    "    Écrire une fonction de signature<br>\n",
    "    <span style='font-family: \"Courier New\", Courier, monospace; font-size: 40 px;'>\n",
    "        simplicial : (int list vect * bool vect) -> int -> bool</span><br>\n",
    "telle que l'appel <span style='font-family: \"Courier New\", Courier, monospace; font-size: 40 px;'>simplicial (aretes, sg) k</span>,\n",
    "     où le sommet d’indice $k$ est supposé appartenir au sous-graphe\n",
    "induit $H$ décrit par <span style='font-family: \"Courier New\", Courier, monospace; font-size: 40 px;'>(aretes, sg)</span>, renvoie <span style='font-family: \"Courier New\", Courier, monospace; font-size: 40 px;'>true</span> si le sommet d’indice $k$ est simplicial dans $H$ et <span style='font-family: \"Courier New\", Courier, monospace; font-size: 40 px;'>false</span> sinon. Déterminer la complexité de la fonction <span style='font-family: \"Courier New\", Courier, monospace; font-size: 40 px;'>\n",
    "    simplicial</span>.\n",
    "</div>"
   ]
  },
  {
   "cell_type": "markdown",
   "metadata": {},
   "source": [
    "<div style='font-family: \"Times New Roman\" , Times, serif; font-size:20 px'>\n",
    "    $\\bullet$ <b>Correction</b><br>\n",
    "    Un sommet d'indice $k$ appartenant à $H$, est <i>simplicial</i> dans $H$\n",
    "    si ses voisins dans $H$ forment une clique.<br>\n",
    "    Il s'agit donc ici, pour la fonction\n",
    "    <span style='font-family: \"Courier New\", Courier, monospace; font-size: 40 px;'>simplicial</span>\n",
    "    d'extraire la liste des voisins du sommet $k$ appartenant à $H$ et de vérifier que cette liste est une liste\n",
    "    de sommets formant une clique.\n",
    "</div>"
   ]
  },
  {
   "cell_type": "code",
   "execution_count": 38,
   "metadata": {},
   "outputs": [
    {
     "data": {
      "text/plain": [
       "val simplicial : int list array * bool array -> 'a -> bool = <fun>\n"
      ]
     },
     "execution_count": 38,
     "metadata": {},
     "output_type": "execute_result"
    }
   ],
   "source": [
    "let simplicial (aretes, sg) k =\n",
    "    (* on extrait la liste d'adjacence du sommet k au sein du graphe G *)\n",
    "    let ladj = aretes.(i) in\n",
    "    (* on construit dans une liste acc,\n",
    "    la liste d'adjacence du sommet k, ladj_sg, réduite aux sommets qui sont dans le sous-graphe sg *)\n",
    "    let rec aux li acc = match li with\n",
    "                             | [] -> acc\n",
    "                             | h::t -> if sg.(h) then aux t (h::acc) else aux t acc\n",
    "    in\n",
    "    let ladj_sg = aux ladj []\n",
    "    in\n",
    "    (* on vérifie que les voisins de k dans sg forment une clique *)\n",
    "    est_clique aretes ladj_sg;;"
   ]
  },
  {
   "cell_type": "markdown",
   "metadata": {},
   "source": [
    "<div style='font-family: \"Times New Roman\" , Times, serif; font-size:20 px'>\n",
    "    La complexité d'un appel <span style='font-family: \"Courier New\", Courier, monospace; font-size: 40 px;'>est_clique aretes xs</span>\n",
    "    (<i>cf.</i> <b>I.E.3)</b>)\n",
    "    est en $O\\left( {\\bar d}_{xs} \\times r^2\\right)$ où ${\\bar d}_{xs}$ est le maximum des degrés des sommets de la liste $xs$ et $r$ le nombre d'éléments de la liste de sommets, ou, plus largement, en\n",
    "    $O(mr^2)$, où $m$ est le nombre d'arêtes du graphe.<br>\n",
    "    Lors d'un appel\n",
    "    <span style='font-family: \"Courier New\", Courier, monospace; font-size: 40 px;'>simplicial (aretes, sg) k</span>,\n",
    "    l'extraction de la liste des voisins du sommet $k$ dans $H$ est en $O(d_k)$ où $d_k$ est le degré du sommet d'indice $k$, tandis que l'appel \n",
    "    <span style='font-family: \"Courier New\", Courier, monospace; font-size: 40 px;'>est_clique aretes ladj_sg</span>\n",
    "    est en\n",
    "    $O\\left(d_k + {\\bar d}_{k} d_{H,k}^2\\right)$\n",
    "    où ${\\bar d}_{k}$ est le maximum des degrés des voisins du sommet $k$ dans $H$\n",
    "    et $d_{H,k}$ est le degré du sommet $k$ dans $H$.<br>\n",
    "    On peut donc donner, comme majorant de la complexité de la fonction\n",
    "    <span style='font-family: \"Courier New\", Courier, monospace; font-size: 40 px;'>simplicial</span>,\n",
    "    $O(m+m|H|^2)=O(m|H|^2)$ où $m$ est le nombre d'arêtes du graphe $G$ et $|H|$ l'ordre du sous-graphe $H$.\n",
    "</div>"
   ]
  },
  {
   "cell_type": "markdown",
   "metadata": {},
   "source": [
    "<div style='font-family: \"Times New Roman\" , Times, serif; font-size:20 px'>\n",
    "    <b>III.D.2)</b>\n",
    "    Écrire une fonction de signature<br>\n",
    "    <span style='font-family: \"Courier New\", Courier, monospace; font-size: 40 px;'>\n",
    "        trouver_simplicial : (int list vect * bool vect) -> int</span><br>\n",
    "telle que l'appel <span style='font-family: \"Courier New\", Courier, monospace; font-size: 40 px;'>trouver_simplicial (aretes, sg)</span>,\n",
    "    renvoie, s'il en existe, un sommet simplicial du sous-graphe induit décrit par <span style='font-family: \"Courier New\", Courier, monospace; font-size: 40 px;'>(aretes, sg)</span>.\n",
    "    Déterminer la complexité de la fonction <span style='font-family: \"Courier New\", Courier, monospace; font-size: 40 px;'>trouver_simplicial</span>.\n",
    "</div>"
   ]
  },
  {
   "cell_type": "markdown",
   "metadata": {},
   "source": [
    "<div style='font-family: \"Times New Roman\" , Times, serif; font-size:20 px'>\n",
    "    $\\bullet$ <b>Correction</b><br>\n",
    "    La fonction proposée teste tous les sommets de $H$, un par un, jusqu'à trouver un sommet simplicial. Sa complexité dans le pire cas (où le sommet simplicial est le dernier testé) est donc en $O\\left(m|H|^3\\right)$, produit de la complexité de la fonction <span style='font-family: \"Courier New\", Courier, monospace; font-size: 40 px;'>simplicial</span> par l'ordre de $H$.\n",
    "</div>"
   ]
  },
  {
   "cell_type": "code",
   "execution_count": 43,
   "metadata": {},
   "outputs": [
    {
     "data": {
      "text/plain": [
       "val trouver_simplicial : int list array * bool array -> int = <fun>\n"
      ]
     },
     "execution_count": 43,
     "metadata": {},
     "output_type": "execute_result"
    }
   ],
   "source": [
    "let trouver_simplicial (aretes, sg) =\n",
    "    let i, n = ref 0, Array.length sg in\n",
    "    while !i < n && sg.(!i) && not (simplicial (aretes, sg) !i) do\n",
    "        incr i\n",
    "    done;\n",
    "    if !i = n then failwith \"pas de sommet simplicial\"\n",
    "    else !i;;"
   ]
  },
  {
   "cell_type": "markdown",
   "metadata": {},
   "source": [
    "<div style='font-family: \"Times New Roman\" , Times, serif; font-size:20 px'>\n",
    "    <b>III.D.3)</b>\n",
    "    Écrire une fonction de signature<br>\n",
    "    <span style='font-family: \"Courier New\", Courier, monospace; font-size: 40 px;'>\n",
    "        ordre_parfait : int list vect -> int list</span><br>\n",
    "telle que l'appel <span style='font-family: \"Courier New\", Courier, monospace; font-size: 40 px;'>ordre_parfait aretes</span>,\n",
    "     renvoie un ordre d'élimination parfait du graphe décrit par <span style='font-family: \"Courier New\", Courier, monospace; font-size: 40 px;'>aretes</span>, s'il en existe un.\n",
    "    Déterminer la complexité de la fonction <span style='font-family: \"Courier New\", Courier, monospace; font-size: 40 px;'>ordre_parfait</span>.\n",
    "</div>"
   ]
  },
  {
   "cell_type": "markdown",
   "metadata": {},
   "source": [
    "<div style='font-family: \"Times New Roman\" , Times, serif; font-size:20 px'>\n",
    "    $\\bullet$ <b>Correction</b><br>\n",
    "    On reprend la méthode appliquée sur l'exemple au <b><i>III.A</i></b>.<br>\n",
    "    On recherche une énumération des sommets de $G$ qui soit un ordre d'élimination parfait. Pour cela,\n",
    "    on recherche un sommet de $G$ qui soit simplicial, et on le place en fin d'énumération, puis on itère le procédé sur le sous-graphe de $G$ constitué des sommets non encore inscrits dans l'énumération en cours de construction.<br>\n",
    "    Dans l'implémentation proposée, <span style='font-family: \"Courier New\", Courier, monospace; font-size: 40 px;'>\n",
    "        enum</span> est un accumulateur dans lequel on construit l'énumération des sommets de $G$ et qui formera un ordre d'élimination parfait, et le tableau <span style='font-family: \"Courier New\", Courier, monospace; font-size: 40 px;'>\n",
    "        sg</span>, initialisé à <span style='font-family: \"Courier New\", Courier, monospace; font-size: 40 px;'>\n",
    "        true</span>, est actualisé au fur et à mesure de la construction de la liste <span style='font-family: \"Courier New\", Courier, monospace; font-size: 40 px;'>\n",
    "        enum</span> en passant à <span style='font-family: \"Courier New\", Courier, monospace; font-size: 40 px;'>\n",
    "        false</span> la valeur de <span style='font-family: \"Courier New\", Courier, monospace; font-size: 40 px;'>\n",
    "        sg.(i)</span> lorsque le sommet d'indice $i$ est ajouté à la liste <span style='font-family: \"Courier New\", Courier, monospace; font-size: 40 px;'>\n",
    "        enum</span>\n",
    "</div>"
   ]
  },
  {
   "cell_type": "code",
   "execution_count": 40,
   "metadata": {},
   "outputs": [
    {
     "ename": "error",
     "evalue": "compile_error",
     "output_type": "error",
     "traceback": [
      "\u001b[32mFile \"[40]\", line 7, characters 16-34:\n\u001b[31mError: Unbound value trouver_simplicial\n\u001b[36m   6: \u001b[30m    for k = 0 to n - 1 do\n\u001b[36m   7: \u001b[30m        let i = \u001b[4mtrouver_simplicial\u001b[0m\u001b[30m (aretes, sg) in\n\u001b[36m   8: \u001b[30m        sg.(i) <- false;\u001b[0m\n"
     ]
    }
   ],
   "source": [
    "let ordre_parfait aretes =\n",
    "    let n = Array.length aretes in\n",
    "    let sg = Array.make n true\n",
    "    and enum = ref []\n",
    "    in\n",
    "    for k = 0 to n - 1 do\n",
    "        let i = trouver_simplicial (aretes, sg) in\n",
    "        sg.(i) <- false;\n",
    "        enum := i::!enum\n",
    "    done;\n",
    "    !enum;;"
   ]
  },
  {
   "cell_type": "markdown",
   "metadata": {},
   "source": [
    "<div style='font-family: \"Times New Roman\" , Times, serif; font-size:20 px'>\n",
    "    Un appel <span style='font-family: \"Courier New\", Courier, monospace; font-size: 40 px;'>ordre_parfait aretes</span>\n",
    "    consiste ainsi en $n$ appels à la fonction \n",
    "    <span style='font-family: \"Courier New\", Courier, monospace; font-size: 40 px;'>trouver_simplicial</span>,\n",
    "    chacun ayant lieu sur un sous-graphe d'ordre $k$, pour $k$ variant  de $n$ à $1$, chacun de ses appels ayant une complexité en $O(mk^3)$, donc la complexité de la fonction\n",
    "    <span style='font-family: \"Courier New\", Courier, monospace; font-size: 40 px;'>ordre_parfait</span>\n",
    "    est en $O\\left(\\sum_{k=0}^{n-1}mk^3\\right)=O\\left(mn^4\\right)$, où $m$ est le nombre d'arêtes du graphe $G$\n",
    "    et $n$ son ordre.\n",
    "</div>"
   ]
  },
  {
   "cell_type": "code",
   "execution_count": null,
   "metadata": {},
   "outputs": [],
   "source": []
  }
 ],
 "metadata": {
  "kernelspec": {
   "display_name": "OCaml 4.05.0",
   "language": "OCaml",
   "name": "ocaml-jupyter"
  },
  "language_info": {
   "codemirror_mode": "text/x-ocaml",
   "file_extension": ".ml",
   "mimetype": "text/x-ocaml",
   "name": "OCaml",
   "nbconverter_exporter": null,
   "pygments_lexer": "OCaml",
   "version": "4.05.0"
  },
  "latex_envs": {
   "LaTeX_envs_menu_present": true,
   "autoclose": false,
   "autocomplete": true,
   "bibliofile": "biblio.bib",
   "cite_by": "apalike",
   "current_citInitial": 1,
   "eqLabelWithNumbers": true,
   "eqNumInitial": 1,
   "hotkeys": {
    "equation": "Ctrl-E",
    "itemize": "Ctrl-I"
   },
   "labels_anchors": false,
   "latex_user_defs": false,
   "report_style_numbering": false,
   "user_envs_cfg": false
  }
 },
 "nbformat": 4,
 "nbformat_minor": 4
}
