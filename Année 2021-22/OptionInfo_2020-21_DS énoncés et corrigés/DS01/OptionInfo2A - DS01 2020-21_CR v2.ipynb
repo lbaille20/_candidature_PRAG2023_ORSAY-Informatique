{
 "cells": [
  {
   "cell_type": "markdown",
   "metadata": {},
   "source": [
    "## MP Option informatique - DS01 - 03/10/2020\n",
    "### Corrigé v1"
   ]
  },
  {
   "cell_type": "markdown",
   "metadata": {},
   "source": [
    "## Exercice 1"
   ]
  },
  {
   "cell_type": "code",
   "execution_count": 1,
   "metadata": {},
   "outputs": [
    {
     "data": {
      "text/plain": [
       "val a : int = 4\n"
      ]
     },
     "execution_count": 1,
     "metadata": {},
     "output_type": "execute_result"
    }
   ],
   "source": [
    "let a =\n",
    "    let a = 3 and b = 2 in\n",
    "        let a = a + b and b = a - b in\n",
    "            a - b;;"
   ]
  },
  {
   "cell_type": "markdown",
   "metadata": {},
   "source": [
    "Une instruction let non suivie de in définit une (ou des) variable(s) dans l'espace de nom du programme (\"top level\").  \n",
    "Les variables ainsi définies sont des variables globales.  \n",
    "Chaque instruction let ... in ... définit des variables locales dont la portée est limitée à l'évaluation de l'expression suivant le in.  \n",
    "Ci-dessous, on a explicité par des parenthèses les expressions dont l'évaluation fixe la valeur de la variable globale a."
   ]
  },
  {
   "cell_type": "code",
   "execution_count": 2,
   "metadata": {},
   "outputs": [
    {
     "data": {
      "text/plain": [
       "val a : int = 4\n"
      ]
     },
     "execution_count": 2,
     "metadata": {},
     "output_type": "execute_result"
    }
   ],
   "source": [
    "let a =\n",
    "    (let a = 3 and b = 2 in\n",
    "        (let a = a + b and b = a - b in\n",
    "            (\n",
    "            a - b\n",
    "            )\n",
    "        )\n",
    "    )\n",
    ";;"
   ]
  },
  {
   "cell_type": "markdown",
   "metadata": {},
   "source": [
    "Ci-dessous on a distingué par des numéros les différentes variables locales dont les noms sont, dans l'énoncé, identiques, ce qui n'est pas ambigü pour l'interpréteur car il s'agit de noms locaux dont la portée ne dépasse pas l'évaluation de l'expression parenthésée ci-dessus, suivant le \"in\"."
   ]
  },
  {
   "cell_type": "code",
   "execution_count": 3,
   "metadata": {},
   "outputs": [
    {
     "data": {
      "text/plain": [
       "val a : int = 4\n"
      ]
     },
     "execution_count": 3,
     "metadata": {},
     "output_type": "execute_result"
    }
   ],
   "source": [
    "let a =\n",
    "    let a1 = 3 and b1 = 2 in\n",
    "        let a2 = a1 + b1 and b2 = a1 - b1 in\n",
    "            a2 - b2;;"
   ]
  },
  {
   "cell_type": "markdown",
   "metadata": {},
   "source": [
    "La valeur calculée et affectée à la variable globale a est ainsi :  \n",
    "$$(3+2)-(3-2)=3+2-3+2=4.$$"
   ]
  },
  {
   "cell_type": "markdown",
   "metadata": {},
   "source": [
    "La seconde instruction calcule une valeur entière par l'évaluation d'une expression \"a - b * b\" faisant intervenir la valeur de la variable globale a (de valeur 6) et d'une variable locale b (nouvellement définie), de valeur 2.  \n",
    "La valeur obtenue est ainsi $4-2\\times 2=0$."
   ]
  },
  {
   "cell_type": "code",
   "execution_count": 4,
   "metadata": {},
   "outputs": [
    {
     "data": {
      "text/plain": [
       "- : int = 0\n"
      ]
     },
     "execution_count": 4,
     "metadata": {},
     "output_type": "execute_result"
    }
   ],
   "source": [
    "let b = 2 in a - b * b;;"
   ]
  },
  {
   "cell_type": "markdown",
   "metadata": {},
   "source": [
    "## Exercice 2"
   ]
  },
  {
   "cell_type": "code",
   "execution_count": 5,
   "metadata": {},
   "outputs": [
    {
     "data": {
      "text/plain": [
       "val f : int -> int -> int = <fun>\n"
      ]
     },
     "execution_count": 5,
     "metadata": {},
     "output_type": "execute_result"
    }
   ],
   "source": [
    "let rec f p q =\n",
    "    match p with\n",
    "        | 0 -> q\n",
    "        | _ -> f (p - 1) q + 1;;"
   ]
  },
  {
   "cell_type": "markdown",
   "metadata": {},
   "source": [
    "Au vu des résultats suivants :"
   ]
  },
  {
   "cell_type": "code",
   "execution_count": 6,
   "metadata": {},
   "outputs": [
    {
     "data": {
      "text/plain": [
       "- : int array array =\n",
       "[|[|0; 1; 2; 3; 4; 5|]; [|1; 2; 3; 4; 5; 6|]; [|2; 3; 4; 5; 6; 7|];\n",
       "  [|3; 4; 5; 6; 7; 8|]; [|4; 5; 6; 7; 8; 9|]; [|5; 6; 7; 8; 9; 10|]|]\n"
      ]
     },
     "execution_count": 6,
     "metadata": {},
     "output_type": "execute_result"
    }
   ],
   "source": [
    "let n = 5 in\n",
    "let mat_f = Array.make_matrix (n+1) (n+1) 0 in\n",
    "for p = 0 to n do\n",
    "    for q = 0 to n do\n",
    "        mat_f.(p).(q) <- f p q\n",
    "    done\n",
    "done;\n",
    "mat_f;;"
   ]
  },
  {
   "cell_type": "markdown",
   "metadata": {},
   "source": [
    "on peut conjecturer que :\n",
    "$$\\forall \\ (p,q)\\in\\mathbb N \\times \\mathbb N, \\ f(p, q)=p+q$$"
   ]
  },
  {
   "cell_type": "markdown",
   "metadata": {},
   "source": [
    "#### Démonstration"
   ]
  },
  {
   "cell_type": "markdown",
   "metadata": {},
   "source": [
    "Posons, pour tout $q\\geqslant 0$, $\\left( u_p^{q} \\right)_{p\\geqslant 0}=\\left( f(p, q) \\right)_{p\\geqslant 0}$.  \n",
    "Pour tout $q\\in\\mathbb N$, puisque $u^q_0=q$ et $\\forall p \\geqslant 0, \\ u^q_{p+1}=f(p+1,q)=f(p,q)+1=u^q_p+1$, la suite $u^{q}$, de terme général $u_p^{q}$ est une suite arithmétique de premier terme $u_0^{q}= q$ et de raison $1$, donc\n",
    "$$\\forall \\ p\\geqslant 0, \\ u^q_p = q + p.$$  \n",
    "Ce qui établit, pour tout couple $(p,q)\\in\\mathbb N \\times \\mathbb N$, que $f(p, q)=p+q$."
   ]
  },
  {
   "cell_type": "code",
   "execution_count": 7,
   "metadata": {},
   "outputs": [
    {
     "data": {
      "text/plain": [
       "val g : int -> int -> int = <fun>\n"
      ]
     },
     "execution_count": 7,
     "metadata": {},
     "output_type": "execute_result"
    }
   ],
   "source": [
    "let rec g p q =\n",
    "    match p with\n",
    "        | 0 -> q\n",
    "        | _ -> f (p - 1) (q + 1);;"
   ]
  },
  {
   "cell_type": "code",
   "execution_count": 16,
   "metadata": {},
   "outputs": [
    {
     "ename": "error",
     "evalue": "compile_error",
     "output_type": "error",
     "traceback": [
      "\u001b[32mFile \"[16]\", line 1, characters 6-9:\n\u001b[31mError: Syntax error\n\u001b[36m   1: \u001b[30mAu vu \u001b[4mdes\u001b[0m\u001b[30m résultats suivants :\u001b[0m\n"
     ]
    }
   ],
   "source": [
    "Au vu des résultats suivants :"
   ]
  },
  {
   "cell_type": "code",
   "execution_count": 14,
   "metadata": {},
   "outputs": [
    {
     "data": {
      "text/plain": [
       "- : int array array =\n",
       "[|[|0; 1; 2; 3; 4; 5|]; [|1; 2; 3; 4; 5; 6|]; [|2; 3; 4; 5; 6; 7|];\n",
       "  [|3; 4; 5; 6; 7; 8|]; [|4; 5; 6; 7; 8; 9|]; [|5; 6; 7; 8; 9; 10|]|]\n"
      ]
     },
     "execution_count": 14,
     "metadata": {},
     "output_type": "execute_result"
    }
   ],
   "source": [
    "let n = 5 in\n",
    "let mat_g = Array.make_matrix (n+1) (n+1) 0 in\n",
    "for p = 0 to n do\n",
    "    for q = 0 to n do\n",
    "        mat_g.(p).(q) <- g p q\n",
    "    done\n",
    "done;\n",
    "mat_g;;"
   ]
  },
  {
   "cell_type": "markdown",
   "metadata": {},
   "source": [
    "on peut conjecturer de même que :\n",
    "$$\\forall \\ (p,q)\\in\\mathbb N \\times \\mathbb N, \\ g(p, q)=p+q$$"
   ]
  },
  {
   "cell_type": "markdown",
   "metadata": {},
   "source": [
    "#### Démonstration"
   ]
  },
  {
   "cell_type": "markdown",
   "metadata": {},
   "source": [
    "Posons $\\left( v_q^{p} \\right)_{p\\geqslant 0}=\\left( g(p, q) \\right)_{p\\geqslant 0}$.    \n",
    "On se propose de montrer par récurrence sur $p$, que, pour tout $p\\geqslant 0$ :  \n",
    "$$\\left( v_p^{q} \\right)_{p\\geqslant 0}=\\left( g(p, q) \\right)_{p\\geqslant 0}$$\n",
    "Puisque $u^q_0=q$ et $\\forall p \\geqslant 0, \\ u^q_{p+1}=f(p+1,q)=f(p,q)+1=u^q_p+1$, la suite $u^{q}$, de terme général $u_p^{q}$ est une suite arithmétique de premier terme $u_0^{q}= q$ et de raison $1$, donc\n",
    "$$\\forall \\ p\\geqslant 0, \\ u^q_p = q + p.$$  "
   ]
  },
  {
   "cell_type": "markdown",
   "metadata": {},
   "source": [
    "Posons, pour tout $p\\geqslant 0$, $\\left( u_q^{p} \\right)_{q\\geqslant 0}=\\left( g(p, q) \\right)_{q\\geqslant 0}$.  \n",
    "On se propose de montrer par récurrence sur $p$, que, pour tout $p\\geqslant 0$ :  \n",
    "$$\\left( v_q^{p} \\right)_{q\\geqslant 0}=\\left( p+q \\right)_{q\\geqslant 0}$$\n",
    "à savoir que la suite $v^p=\\left( v_q^{p} \\right)_{q\\geqslant 0}$ est une suite arithmétique de premier terme $v_0^p=p$ et de raison $1$.  "
   ]
  },
  {
   "cell_type": "markdown",
   "metadata": {},
   "source": [
    "* **initialisation**  \n",
    "Pour $p=0$, comme pour tout $q\\in\\mathbb N, \\ g p q = q$, on a aussi, par définition : $\\forall q, \\ v^0_q"
   ]
  },
  {
   "cell_type": "markdown",
   "metadata": {},
   "source": [
    "Posons $\\left( v_q^{p} \\right)_{p\\geqslant 0}=\\left( g(p, q) \\right)_{p\\geqslant 0}$.    \n",
    "On se propose de montrer par récurrence sur $p$, que, pour tout $p\\geqslant 0$ :  \n",
    "$$\\left( v_p^{q} \\right)_{p\\geqslant 0}=\\left( g(p, q) \\right)_{p\\geqslant 0}$$\n",
    "Puisque $u^q_0=q$ et $\\forall p \\geqslant 0, \\ u^q_{p+1}=f(p+1,q)=f(p,q)+1=u^q_p+1$, la suite $u^{q}$, de terme général $u_p^{q}$ est une suite arithmétique de premier terme $u_0^{q}= q$ et de raison $1$, donc\n",
    "$$\\forall \\ p\\geqslant 0, \\ u^q_p = q + p.$$  "
   ]
  },
  {
   "cell_type": "code",
   "execution_count": null,
   "metadata": {},
   "outputs": [],
   "source": [
    "let n = 15 in\n",
    "let mat_f = Array.make_matrix (n+1) (n+1) 0 in\n",
    "for p = 0 to n do\n",
    "    for q = 0 to n do\n",
    "        mat_f.(p).(q) <- f p q\n",
    "    done\n",
    "done;\n",
    "mat_f;;"
   ]
  },
  {
   "cell_type": "code",
   "execution_count": null,
   "metadata": {},
   "outputs": [],
   "source": [
    "let n = 15 in\n",
    "let mat_g = Array.make_matrix (n+1) (n+1) 0 in\n",
    "for p = 0 to n do\n",
    "    for q = 0 to n do\n",
    "        mat_g.(p).(q) <- g p q\n",
    "    done\n",
    "done;\n",
    "mat_g;;"
   ]
  },
  {
   "cell_type": "code",
   "execution_count": null,
   "metadata": {},
   "outputs": [],
   "source": []
  },
  {
   "cell_type": "markdown",
   "metadata": {},
   "source": [
    "## Exercice 3"
   ]
  },
  {
   "cell_type": "code",
   "execution_count": null,
   "metadata": {},
   "outputs": [],
   "source": []
  },
  {
   "cell_type": "markdown",
   "metadata": {},
   "source": [
    "$$\n",
    "p \\times q =\n",
    "\\left\\{\n",
    "    \\begin{array}{ll}\n",
    "        \\left(\\frac{p}{2}\\right) \\times \\left(2q\\right)& \\mbox{si } p \\mbox{ est pair} \\\\\n",
    "        \\left(\\frac{p-1}{2}\\right) \\times \\left(2q\\right) + q & \\mbox{si } p \\mbox{ est impair}\n",
    "    \\end{array}\n",
    "\\right.\n",
    "$$"
   ]
  },
  {
   "cell_type": "code",
   "execution_count": null,
   "metadata": {},
   "outputs": [],
   "source": [
    "let rec mult p q = match p with\n",
    "    | 0 -> 0\n",
    "    | _ -> match p mod 2 with\n",
    "               | 0 -> mult (p / 2) (2 * q)\n",
    "               | _ -> mult ((p - 1)/ 2) (2 * q) + q;;"
   ]
  },
  {
   "cell_type": "code",
   "execution_count": null,
   "metadata": {},
   "outputs": [],
   "source": [
    "mult 12 7, 12 * 7;;"
   ]
  },
  {
   "cell_type": "markdown",
   "metadata": {},
   "source": [
    "$$\n",
    "q ^ p =\n",
    "\\left\\{\n",
    "    \\begin{array}{ll}\n",
    "        \\left(q ^ 2 \\right)^{\\frac{p}{2}}& \\mbox{si } p \\mbox{ est pair} \\\\\n",
    "        \\left(q ^ 2 \\right)^{\\frac{p-1}{2}} \\times q & \\mbox{si } p \\mbox{ est impair}\n",
    "    \\end{array}\n",
    "\\right.\n",
    "$$"
   ]
  },
  {
   "cell_type": "code",
   "execution_count": null,
   "metadata": {},
   "outputs": [],
   "source": [
    "let rec pow q p = match p with\n",
    "    | 0 -> 1\n",
    "    | _ -> match p mod 2 with\n",
    "               | 0 -> pow (q * q) (p / 2)\n",
    "               | _ -> pow (q * q) (p / 2) * q;;"
   ]
  },
  {
   "cell_type": "code",
   "execution_count": null,
   "metadata": {},
   "outputs": [],
   "source": [
    "pow 12 7, 12 * 12 * 12 * 12 * 12 * 12 * 12;;"
   ]
  },
  {
   "cell_type": "markdown",
   "metadata": {},
   "source": [
    "## Exercice 4"
   ]
  },
  {
   "cell_type": "code",
   "execution_count": null,
   "metadata": {},
   "outputs": [],
   "source": [
    "let intersection ens ens' = \n",
    "    let rec appartient elt ens =\n",
    "        match ens with\n",
    "            | []   -> false\n",
    "            | h::t -> if elt = h then true else appartient elt t\n",
    "    in\n",
    "    let rec aux ens1 ens2 =\n",
    "        match ens1 with\n",
    "            | []   -> []\n",
    "            | h::t -> if appartient h ens2 then h::(aux t ens2) else (aux t ens2)\n",
    "    in\n",
    "    aux ens ens';;\n",
    "\n",
    "(* tests *)\n",
    "intersection [2; 4; 6] [];;\n",
    "intersection [2; 4; 6] [1; 5; 2; 3; 4];;"
   ]
  },
  {
   "cell_type": "code",
   "execution_count": null,
   "metadata": {},
   "outputs": [],
   "source": [
    "let union ens ens' = \n",
    "    let rec appartient elt ens =\n",
    "        match ens with\n",
    "            | []   -> false\n",
    "            | h::t -> if elt = h then true else appartient elt t\n",
    "    in\n",
    "    let rec aux ens1 ens2 =\n",
    "        match ens1 with\n",
    "            | []   -> ens2\n",
    "            | h::t -> if not (appartient h ens2) then h::(aux t ens2) else (aux t ens2)\n",
    "    in\n",
    "    aux ens ens';;\n",
    "\n",
    "(* tests *)\n",
    "union [2; 4; 6] [];;\n",
    "union [2; 4; 6] [1; 5; 2; 3; 4];;"
   ]
  },
  {
   "cell_type": "code",
   "execution_count": null,
   "metadata": {},
   "outputs": [],
   "source": [
    "let diffsym ens ens' = \n",
    "    let union_ens = union ens ens'\n",
    "    and inter_ens = intersection ens ens'\n",
    "    in\n",
    "    let rec appartient elt ens =\n",
    "        match ens with\n",
    "            | []   -> false\n",
    "            | h::t -> if elt = h then true else appartient elt t\n",
    "    in\n",
    "    let rec soustraction ens1 ens2 acc =\n",
    "        match ens2 with\n",
    "            | []   -> acc\n",
    "            | h::t -> if appartient h ens1 then soustraction ens1 t acc else soustraction ens1 t (h::acc)\n",
    "    in\n",
    "    (* inter_ens, union_ens, *) soustraction inter_ens union_ens [];;\n",
    "\n",
    "(* tests *)\n",
    "diffsym [2; 4; 6] [];;\n",
    "diffsym [2; 4; 6] [1; 5; 2; 3; 4];;"
   ]
  },
  {
   "cell_type": "code",
   "execution_count": null,
   "metadata": {},
   "outputs": [],
   "source": []
  },
  {
   "cell_type": "code",
   "execution_count": null,
   "metadata": {},
   "outputs": [],
   "source": [
    "let rec appartient elt ens =\n",
    "        match ens with\n",
    "            | []   -> false\n",
    "            | h::t -> if elt = h then true else appartient elt t;;\n",
    "\n",
    "let rec soustraction ens1 ens2 acc =\n",
    "        match ens2 with\n",
    "            | []   -> acc\n",
    "            | h::t -> if appartient h ens1 then soustraction ens1 t acc else soustraction ens1 t (h::acc);;\n",
    "\n",
    "(* tests *)\n",
    "soustraction [4] [2; 4; 6] [];;"
   ]
  },
  {
   "cell_type": "markdown",
   "metadata": {},
   "source": [
    "## Exercice 5"
   ]
  },
  {
   "cell_type": "code",
   "execution_count": null,
   "metadata": {},
   "outputs": [],
   "source": [
    "let swap a b =\n",
    "    let tmp = !a in\n",
    "    a := !b;\n",
    "    b := tmp;;\n",
    "\n",
    "(* tests *)\n",
    "let a, b = ref 0, ref 1;;\n",
    "swap a b;;\n",
    "a, b;;"
   ]
  },
  {
   "cell_type": "code",
   "execution_count": null,
   "metadata": {},
   "outputs": [],
   "source": [
    "let f x y = \n",
    "    x := !x + !y;\n",
    "    y := !x - !y;\n",
    "    x := !x - !y;;"
   ]
  },
  {
   "cell_type": "markdown",
   "metadata": {},
   "source": [
    "On a :  \n",
    "* $y' = (x+y)-y = x$  \n",
    "* $x' = (x+y)-x=y$"
   ]
  },
  {
   "cell_type": "markdown",
   "metadata": {},
   "source": [
    "## Exercice 6"
   ]
  },
  {
   "cell_type": "markdown",
   "metadata": {},
   "source": [
    "L'implémentation de la première fonction récursive repose sur la relation de récurrence suivante :  \n",
    "$$\\forall n \\geqslant 0, \\ x^n = x \\times x^{n-1}.$$"
   ]
  },
  {
   "cell_type": "markdown",
   "metadata": {},
   "source": [
    "Et plus précisément, si on note $\\left( u_n  \\right)_{n\\geqslant 0}\n",
    "                                 =\\left( x^n  \\right)_{n\\geqslant 0}$, sur les relations  :  \n",
    "$$\n",
    "\\left\\{\n",
    "    \\begin{array}{ll}\n",
    "        u_0 = x^0 =1 \\\\\n",
    "        \\forall n \\geqslant 1, \\ u_n = x^n = x \\times u_{n-1}.\n",
    "    \\end{array}\n",
    "\\right.\n",
    "$$"
   ]
  },
  {
   "cell_type": "code",
   "execution_count": null,
   "metadata": {},
   "outputs": [],
   "source": [
    "let rec powerrec x n = \n",
    "    match n with\n",
    "        | 0 -> 1\n",
    "        | _ -> x * powerrec x (n - 1);;\n",
    "        \n",
    "(* test *)\n",
    "powerrec 2 0, powerrec 2 10;;"
   ]
  },
  {
   "cell_type": "markdown",
   "metadata": {},
   "source": [
    "La première implémentation impérative repose sur l'écriture suivante de $x^n$ :\n",
    "$$\\forall n \\geqslant 0, \\ x^n = \\prod_{k=0}^n x.$$\n",
    "On implémente donc une boucle bornée calculant un produit."
   ]
  },
  {
   "cell_type": "code",
   "execution_count": null,
   "metadata": {},
   "outputs": [],
   "source": [
    "let rec powerimp x n = \n",
    "    let res = ref 1\n",
    "    in\n",
    "    for k = 1 to n do\n",
    "        res := x * !res\n",
    "    done;\n",
    "    !res;;\n",
    "    \n",
    "(* test *)\n",
    "powerimp 2 0, powerimp 2 10;;"
   ]
  },
  {
   "cell_type": "markdown",
   "metadata": {},
   "source": [
    "L'implémentation de la fonction seconde fonction récursive repose sur la relation de récurrence suivante :  \n",
    "$$\\forall n \\geqslant 0, \\ x^n = x \\times x^{n-1}.$$"
   ]
  },
  {
   "cell_type": "code",
   "execution_count": null,
   "metadata": {},
   "outputs": [],
   "source": [
    "let rec power2rec x n = \n",
    "    match n with\n",
    "        | 0 -> 1\n",
    "        | _ -> match n mod 2 with\n",
    "                   | 0 -> power2rec (x * x) (n / 2)\n",
    "                   | _ -> x * power2rec (x * x) (n / 2);;\n",
    "        \n",
    "(* test *)\n",
    "power2rec 2 0, power2rec 2 10;;"
   ]
  },
  {
   "cell_type": "code",
   "execution_count": null,
   "metadata": {},
   "outputs": [],
   "source": [
    "let rec power2imp x n = \n",
    "    let res, p = ref 1, ref n\n",
    "    in\n",
    "    while p > 0 do\n",
    "        if p mod 2 = 0 then\n",
    "            res := \n",
    "        res := x * !res\n",
    "    done;\n",
    "    !res;;\n",
    "    \n",
    "(* test *)\n",
    "power2imp 2 0, power2imp 2 10;;"
   ]
  }
 ],
 "metadata": {
  "kernelspec": {
   "display_name": "OCaml 4.05.0",
   "language": "OCaml",
   "name": "ocaml-jupyter"
  },
  "language_info": {
   "codemirror_mode": "text/x-ocaml",
   "file_extension": ".ml",
   "mimetype": "text/x-ocaml",
   "name": "OCaml",
   "nbconverter_exporter": null,
   "pygments_lexer": "OCaml",
   "version": "4.05.0"
  }
 },
 "nbformat": 4,
 "nbformat_minor": 4
}
